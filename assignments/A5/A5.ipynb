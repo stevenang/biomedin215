{
 "cells": [
  {
   "attachments": {},
   "cell_type": "markdown",
   "metadata": {},
   "source": [
    "# A5 Statistical Analyses of Clinical Datasets\n",
    "\n",
    "#### Welcome to A5! Please enter answers to the questions in the specified Markdown cells below, and complete the code snippets in the associated Python files as specified. When you are done with the assignment, follow the instructions at the end of this assignment to submit."
   ]
  },
  {
   "attachments": {},
   "cell_type": "markdown",
   "metadata": {},
   "source": [
    "### Learning Objective 🌱\n",
    "In this assignment, you will work with a dataset that we have prepared for you using a process similar to what you did in A3 and A4. The dataset describes patients from the [MIMIC III database](https://mimic.physionet.org/mimictables/patients/) who were put on mechanical ventilation and were stable for 12 hours. Some of these patients then experienced a sudden and sustained drop in oxygenation, while others did not. You will practice using common time-saving tools in the **Pandas 🐼** library, the **NumPy 🔢** library, the **sklearn 🔬** library, and **Python 🐍** programming language that are ideally suited to these tasks."
   ]
  },
  {
   "attachments": {},
   "cell_type": "markdown",
   "metadata": {},
   "source": [
    "### Resources 📖\n",
    "- Pandas Cheat Sheet 🐼: [https://pandas.pydata.org/Pandas_Cheat_Sheet.pdf](https://pandas.pydata.org/Pandas_Cheat_Sheet.pdf)\n",
    "\n"
   ]
  },
  {
   "attachments": {},
   "cell_type": "markdown",
   "metadata": {},
   "source": [
    "### Environment Set-Up 🐍\n",
    "To begin, we will need to set up an virtual environment with the necessary packages. A virtual environment is a self-contained directory that contains a Python interpreter (aka Python installation) and any additional packages/modules that are required for a specific project. It allows you to isolate your project's dependencies from other projects that may have different versions or requirements of the same packages.\n",
    "\n",
    "In this course, we require that you utilize [Miniconda](https://docs.conda.io/en/latest/miniconda.html) to manage your virtual environments. Miniconda is a lightweight version of [Anaconda](https://www.anaconda.com/), a popular Python distribution that comes with many of the packages that are commonly used in data science."
   ]
  },
  {
   "attachments": {},
   "cell_type": "markdown",
   "metadata": {},
   "source": [
    "#### Instructions for setting up your environment using Miniconda:\n",
    "1. If you do not already have Miniconda installed, download and install the latest version for your opperating system from the following link: [https://docs.conda.io/en/latest/miniconda.html#latest-miniconda-installer-links](https://docs.conda.io/en/latest/miniconda.html#latest-miniconda-installer-links)\n",
    "\n",
    "2. Create a new virtual environment for this assignment by running the following command in your terminal:\n",
    "\n",
    "   ```bash\n",
    "   conda env create -f environment.yml\n",
    "   ```\n",
    "\n",
    "   This will create a new virtual environment called `biomedin215`\n",
    "\n",
    "3. Activate your new virtual environment by running the following command in your terminal:\n",
    "\n",
    "   ```bash\n",
    "   conda activate biomedin215\n",
    "   ```\n",
    "\n",
    "   This will activate the virtual environment you created in the previous step.\n",
    "\n",
    "4. Finally, ensure that your `ipynb` (this notebook)'s kernel is set to utilize\n",
    "the `biomedin215` virtual environment you created in the previous steps. Depending on\n",
    "which IDE you are using to run this notebook, the steps to do this may vary.\n"
   ]
  },
  {
   "cell_type": "code",
   "metadata": {
    "ExecuteTime": {
     "end_time": "2024-11-12T23:07:25.160300Z",
     "start_time": "2024-11-12T23:07:25.136678Z"
    }
   },
   "source": [
    "# Run this cell: \n",
    "# The lines below will instruct jupyter to reload imported modules before \n",
    "# executing code cells. This enables you to quickly iterate and test revisions\n",
    "# to your code without having to restart the kernel and reload all of your \n",
    "# modules each time you make a code change in a separate python file.\n",
    "\n",
    "%load_ext autoreload\n",
    "%autoreload 2"
   ],
   "outputs": [],
   "execution_count": 1
  },
  {
   "cell_type": "code",
   "metadata": {
    "ExecuteTime": {
     "end_time": "2024-11-12T23:07:25.191524Z",
     "start_time": "2024-11-12T23:07:25.173738Z"
    }
   },
   "source": [
    "# Run this cell to ensure the environment is setup properly\n",
    "import pandas as pd\n",
    "import numpy as np\n",
    "import os\n",
    "import warnings\n",
    "\n",
    "print(\"Sanity check: Success\")"
   ],
   "outputs": [
    {
     "name": "stdout",
     "output_type": "stream",
     "text": [
      "Sanity check: Success\n"
     ]
    }
   ],
   "execution_count": 2
  },
  {
   "cell_type": "markdown",
   "metadata": {},
   "source": [
    "### *Note to Students:* 📚\n",
    "\n",
    ">Throughout the assignment, we have provided `sanity checks`: small warnings that will alert you when your implementation is different from the solution. Our goal in providing these numbers is to help you find bugs or errors in your code that may otherwise have gone unnoticed. Please note: the sanity checks are just tools we provided to be helpful, and should not be treated as a target to hit. We manually grade each assignment based on the code you submit, and not based on whether you get the exact same numbers as the sanity checks.\n",
    "\n",
    "If you are failing the sanity checks (even by a lot) and your implementation is correct with minor errors, you will still receive the majority of the points (if not all the points)."
   ]
  },
  {
   "cell_type": "code",
   "metadata": {
    "ExecuteTime": {
     "end_time": "2024-11-12T23:07:25.325422Z",
     "start_time": "2024-11-12T23:07:25.307986Z"
    }
   },
   "source": [
    "# Run this cell to set up sanity checks warnings\n",
    "# Note: You do not need to change anything in this cell\n",
    "\n",
    "# Creates a custom warning class for sanity checks\n",
    "class SanityCheck(Warning):\n",
    "    pass\n",
    "\n",
    "# Sets up a cosutom warning formatter\n",
    "def custom_format_warning(message, category, filename, lineno, line=None):\n",
    "    if category == SanityCheck:\n",
    "        # Creates a custom warning with orange text\n",
    "        return f'\\033[38;5;208mSanity Check - Difference Flagged:\\n{message}\\033[0m\\n'\n",
    "    \n",
    "    return '{}:{}: {}: {}\\n'.format(filename, lineno, category.__name__, message)\n",
    "\n",
    "# Sets the warning formatter for the entire notebook\n",
    "warnings.formatwarning = custom_format_warning"
   ],
   "outputs": [],
   "execution_count": 3
  },
  {
   "attachments": {},
   "cell_type": "markdown",
   "metadata": {},
   "source": [
    "---"
   ]
  },
  {
   "attachments": {},
   "cell_type": "markdown",
   "metadata": {},
   "source": [
    "### Data Description 📂\n",
    "\n",
    "We will be utilizing the same subset of the [MIMIC III database](https://mimic.mit.edu/docs/iii/about/) we utilized starting in A2: the 1,000 subject development cohort you created previously. You will start with a dataset very similar to what you may have generated at the end of the prior assignment.\n",
    "\n",
    "You will analyze the available data to identify a cohort of patients that underwent septic shock during their admission to the ICU. **All of the data you need for this assignment is available on Canvas.** \n",
    "\n",
    "Once you have downloaded and unzipped the data, you should see the following `3` csv files:\n",
    "- `patient_feature_matrix.csv`\n",
    "\n",
    "- `cohort.csv`\n",
    "\n",
    "- `feature_descriptions.csv`\n",
    "\n",
    "**Specify the location of the folder containing the data in the following cells:**"
   ]
  },
  {
   "cell_type": "code",
   "metadata": {
    "ExecuteTime": {
     "end_time": "2024-11-12T23:07:25.427715Z",
     "start_time": "2024-11-12T23:07:25.409870Z"
    }
   },
   "source": [
    "# Specify the path to the folder containing the data files\n",
    "data_dir = \"/Users/stevenang/Documents/stanford/biomedin215/assignments/A5/data\" # <-- TODO: You will need to change this path"
   ],
   "outputs": [],
   "execution_count": 4
  },
  {
   "cell_type": "code",
   "metadata": {
    "ExecuteTime": {
     "end_time": "2024-11-12T23:07:25.465400Z",
     "start_time": "2024-11-12T23:07:25.448089Z"
    }
   },
   "source": [
    "# Run this cell to make sure all of the files are in the specified folder\n",
    "expected_file_list = [\"patient_feature_matrix.csv\", \"cohort.csv\", \"feature_descriptions.csv\"]\n",
    "\n",
    "for file in expected_file_list:\n",
    "    assert os.path.exists(os.path.join(data_dir, file)), \"Can't find file {}\".format(file)\n",
    "\n",
    "print(\"All files found!\")"
   ],
   "outputs": [
    {
     "name": "stdout",
     "output_type": "stream",
     "text": [
      "All files found!\n"
     ]
    }
   ],
   "execution_count": 5
  },
  {
   "cell_type": "code",
   "metadata": {
    "ExecuteTime": {
     "end_time": "2024-11-12T23:07:26.139510Z",
     "start_time": "2024-11-12T23:07:25.509357Z"
    }
   },
   "source": [
    "# Run this cell to load the data from the CSV files into Pandas DataFrames\n",
    "patient_feature_matrix = pd.read_csv(os.path.join(data_dir, \"patient_feature_matrix.csv\"))\n",
    "cohort = pd.read_csv(os.path.join(data_dir, \"cohort.csv\"))\n",
    "feature_descriptions = pd.read_csv(os.path.join(data_dir, \"feature_descriptions.csv\"))"
   ],
   "outputs": [],
   "execution_count": 6
  },
  {
   "cell_type": "markdown",
   "metadata": {},
   "source": [
    "##### `Important note to students:`\n",
    "You may notice that some of the various features appear to have multiple versions (ex. `icd9_AORTIC_DISSECTION_A` and `icd9_AORTIC_DISSECTION_B`). For the purposes of this assignment, we have done some simplification in preprocessing the data to make it easier for you to work with. In the future, it is important to keep in mind that healthcare datasets are notoriusly messy and often require a lot of preprocessing before they are ready to be used for analysis."
   ]
  },
  {
   "cell_type": "code",
   "metadata": {
    "ExecuteTime": {
     "end_time": "2024-11-12T23:07:26.187858Z",
     "start_time": "2024-11-12T23:07:26.160117Z"
    }
   },
   "source": [
    "# Run this cell to see the first three rows of the patient feature matrix\n",
    "print(\"Patient Feature Matrix\")\n",
    "display(patient_feature_matrix.head(3))"
   ],
   "outputs": [
    {
     "name": "stdout",
     "output_type": "stream",
     "text": [
      "Patient Feature Matrix\n"
     ]
    },
    {
     "data": {
      "text/plain": [
       "   subject_id death_in_stay  oxy_drop gender   age_in_days  \\\n",
       "0          91          died    stable      F  29809.000000   \n",
       "1         106          died  oxy_drop      M  10358.333333   \n",
       "2         111      survived  oxy_drop      F  24388.979167   \n",
       "\n",
       "   icd9_ADENOID_CYSTIC_CARCINOMA_SDA  icd9_INTRACTABLE_EPILEPSY_SDA  \\\n",
       "0                                  0                              0   \n",
       "1                                  0                              0   \n",
       "2                                  0                              0   \n",
       "\n",
       "   icd9_AORTIC_DISSECTION  icd9_TIA_IV_HEPARIN  icd9_ETT_CATH  ...  \\\n",
       "0                       0                    0              0  ...   \n",
       "1                       0                    0              0  ...   \n",
       "2                       0                    0              0  ...   \n",
       "\n",
       "   chartvalue_815  chartvalue_821  chartvalue_824  chartvalue_825  \\\n",
       "0         1.50000        1.700000       14.800000       42.400000   \n",
       "1         1.40027        2.600000       14.755973       35.507768   \n",
       "2         1.40027        2.012763       12.200000       53.500000   \n",
       "\n",
       "   chartvalue_828  chartvalue_829  chartvalue_833  chartvalue_837  \\\n",
       "0       77.000000        3.900000        3.040000      144.000000   \n",
       "1      226.000000        3.700000        5.600000      136.000000   \n",
       "2      208.493109        4.101856        3.535677      139.220795   \n",
       "\n",
       "   chartvalue_861  chartvalue_87  \n",
       "0         6.50000           15.0  \n",
       "1        26.00000           11.0  \n",
       "2        12.65352           13.0  \n",
       "\n",
       "[3 rows x 2440 columns]"
      ],
      "text/html": [
       "<div>\n",
       "<style scoped>\n",
       "    .dataframe tbody tr th:only-of-type {\n",
       "        vertical-align: middle;\n",
       "    }\n",
       "\n",
       "    .dataframe tbody tr th {\n",
       "        vertical-align: top;\n",
       "    }\n",
       "\n",
       "    .dataframe thead th {\n",
       "        text-align: right;\n",
       "    }\n",
       "</style>\n",
       "<table border=\"1\" class=\"dataframe\">\n",
       "  <thead>\n",
       "    <tr style=\"text-align: right;\">\n",
       "      <th></th>\n",
       "      <th>subject_id</th>\n",
       "      <th>death_in_stay</th>\n",
       "      <th>oxy_drop</th>\n",
       "      <th>gender</th>\n",
       "      <th>age_in_days</th>\n",
       "      <th>icd9_ADENOID_CYSTIC_CARCINOMA_SDA</th>\n",
       "      <th>icd9_INTRACTABLE_EPILEPSY_SDA</th>\n",
       "      <th>icd9_AORTIC_DISSECTION</th>\n",
       "      <th>icd9_TIA_IV_HEPARIN</th>\n",
       "      <th>icd9_ETT_CATH</th>\n",
       "      <th>...</th>\n",
       "      <th>chartvalue_815</th>\n",
       "      <th>chartvalue_821</th>\n",
       "      <th>chartvalue_824</th>\n",
       "      <th>chartvalue_825</th>\n",
       "      <th>chartvalue_828</th>\n",
       "      <th>chartvalue_829</th>\n",
       "      <th>chartvalue_833</th>\n",
       "      <th>chartvalue_837</th>\n",
       "      <th>chartvalue_861</th>\n",
       "      <th>chartvalue_87</th>\n",
       "    </tr>\n",
       "  </thead>\n",
       "  <tbody>\n",
       "    <tr>\n",
       "      <th>0</th>\n",
       "      <td>91</td>\n",
       "      <td>died</td>\n",
       "      <td>stable</td>\n",
       "      <td>F</td>\n",
       "      <td>29809.000000</td>\n",
       "      <td>0</td>\n",
       "      <td>0</td>\n",
       "      <td>0</td>\n",
       "      <td>0</td>\n",
       "      <td>0</td>\n",
       "      <td>...</td>\n",
       "      <td>1.50000</td>\n",
       "      <td>1.700000</td>\n",
       "      <td>14.800000</td>\n",
       "      <td>42.400000</td>\n",
       "      <td>77.000000</td>\n",
       "      <td>3.900000</td>\n",
       "      <td>3.040000</td>\n",
       "      <td>144.000000</td>\n",
       "      <td>6.50000</td>\n",
       "      <td>15.0</td>\n",
       "    </tr>\n",
       "    <tr>\n",
       "      <th>1</th>\n",
       "      <td>106</td>\n",
       "      <td>died</td>\n",
       "      <td>oxy_drop</td>\n",
       "      <td>M</td>\n",
       "      <td>10358.333333</td>\n",
       "      <td>0</td>\n",
       "      <td>0</td>\n",
       "      <td>0</td>\n",
       "      <td>0</td>\n",
       "      <td>0</td>\n",
       "      <td>...</td>\n",
       "      <td>1.40027</td>\n",
       "      <td>2.600000</td>\n",
       "      <td>14.755973</td>\n",
       "      <td>35.507768</td>\n",
       "      <td>226.000000</td>\n",
       "      <td>3.700000</td>\n",
       "      <td>5.600000</td>\n",
       "      <td>136.000000</td>\n",
       "      <td>26.00000</td>\n",
       "      <td>11.0</td>\n",
       "    </tr>\n",
       "    <tr>\n",
       "      <th>2</th>\n",
       "      <td>111</td>\n",
       "      <td>survived</td>\n",
       "      <td>oxy_drop</td>\n",
       "      <td>F</td>\n",
       "      <td>24388.979167</td>\n",
       "      <td>0</td>\n",
       "      <td>0</td>\n",
       "      <td>0</td>\n",
       "      <td>0</td>\n",
       "      <td>0</td>\n",
       "      <td>...</td>\n",
       "      <td>1.40027</td>\n",
       "      <td>2.012763</td>\n",
       "      <td>12.200000</td>\n",
       "      <td>53.500000</td>\n",
       "      <td>208.493109</td>\n",
       "      <td>4.101856</td>\n",
       "      <td>3.535677</td>\n",
       "      <td>139.220795</td>\n",
       "      <td>12.65352</td>\n",
       "      <td>13.0</td>\n",
       "    </tr>\n",
       "  </tbody>\n",
       "</table>\n",
       "<p>3 rows × 2440 columns</p>\n",
       "</div>"
      ]
     },
     "metadata": {},
     "output_type": "display_data"
    }
   ],
   "execution_count": 7
  },
  {
   "cell_type": "code",
   "metadata": {
    "ExecuteTime": {
     "end_time": "2024-11-12T23:07:26.344542Z",
     "start_time": "2024-11-12T23:07:26.321520Z"
    }
   },
   "source": [
    "# Run this cell to see the first three rows of the cohort DataFrame\n",
    "print(\"Cohort\")\n",
    "display(cohort.head(3))"
   ],
   "outputs": [
    {
     "name": "stdout",
     "output_type": "stream",
     "text": [
      "Cohort\n"
     ]
    },
    {
     "data": {
      "text/plain": [
       "   subject_id  icustay_id death_in_stay            deathtime  \\\n",
       "0          91      256972          died  2177-05-10 15:16:00   \n",
       "1         106      252051          died  2192-08-15 21:15:00   \n",
       "2         111      254245      survived                  NaN   \n",
       "\n",
       "           censor_time           index_time        exposure_time  oxy_drop  \n",
       "0  2177-05-10 15:16:00  2177-05-08 00:00:00                  NaN    stable  \n",
       "1  2192-08-15 21:15:00  2192-08-10 08:00:00  2192-08-14 16:33:00  oxy_drop  \n",
       "2  2142-05-05 11:45:00  2142-04-24 23:30:00  2142-04-25 18:32:00  oxy_drop  "
      ],
      "text/html": [
       "<div>\n",
       "<style scoped>\n",
       "    .dataframe tbody tr th:only-of-type {\n",
       "        vertical-align: middle;\n",
       "    }\n",
       "\n",
       "    .dataframe tbody tr th {\n",
       "        vertical-align: top;\n",
       "    }\n",
       "\n",
       "    .dataframe thead th {\n",
       "        text-align: right;\n",
       "    }\n",
       "</style>\n",
       "<table border=\"1\" class=\"dataframe\">\n",
       "  <thead>\n",
       "    <tr style=\"text-align: right;\">\n",
       "      <th></th>\n",
       "      <th>subject_id</th>\n",
       "      <th>icustay_id</th>\n",
       "      <th>death_in_stay</th>\n",
       "      <th>deathtime</th>\n",
       "      <th>censor_time</th>\n",
       "      <th>index_time</th>\n",
       "      <th>exposure_time</th>\n",
       "      <th>oxy_drop</th>\n",
       "    </tr>\n",
       "  </thead>\n",
       "  <tbody>\n",
       "    <tr>\n",
       "      <th>0</th>\n",
       "      <td>91</td>\n",
       "      <td>256972</td>\n",
       "      <td>died</td>\n",
       "      <td>2177-05-10 15:16:00</td>\n",
       "      <td>2177-05-10 15:16:00</td>\n",
       "      <td>2177-05-08 00:00:00</td>\n",
       "      <td>NaN</td>\n",
       "      <td>stable</td>\n",
       "    </tr>\n",
       "    <tr>\n",
       "      <th>1</th>\n",
       "      <td>106</td>\n",
       "      <td>252051</td>\n",
       "      <td>died</td>\n",
       "      <td>2192-08-15 21:15:00</td>\n",
       "      <td>2192-08-15 21:15:00</td>\n",
       "      <td>2192-08-10 08:00:00</td>\n",
       "      <td>2192-08-14 16:33:00</td>\n",
       "      <td>oxy_drop</td>\n",
       "    </tr>\n",
       "    <tr>\n",
       "      <th>2</th>\n",
       "      <td>111</td>\n",
       "      <td>254245</td>\n",
       "      <td>survived</td>\n",
       "      <td>NaN</td>\n",
       "      <td>2142-05-05 11:45:00</td>\n",
       "      <td>2142-04-24 23:30:00</td>\n",
       "      <td>2142-04-25 18:32:00</td>\n",
       "      <td>oxy_drop</td>\n",
       "    </tr>\n",
       "  </tbody>\n",
       "</table>\n",
       "</div>"
      ]
     },
     "metadata": {},
     "output_type": "display_data"
    }
   ],
   "execution_count": 8
  },
  {
   "cell_type": "code",
   "metadata": {
    "ExecuteTime": {
     "end_time": "2024-11-12T23:07:26.667941Z",
     "start_time": "2024-11-12T23:07:26.647530Z"
    }
   },
   "source": [
    "# Run this cell to see the first three rows of the feature descriptions DataFrame\n",
    "print(\"Feature Descriptions\")\n",
    "display(feature_descriptions.head(3))"
   ],
   "outputs": [
    {
     "name": "stdout",
     "output_type": "stream",
     "text": [
      "Feature Descriptions\n"
     ]
    },
    {
     "data": {
      "text/plain": [
       "       feature feature_type code  \\\n",
       "0     oxy_drop   engineered  NaN   \n",
       "1       gender  demographic  NaN   \n",
       "2  age_in_days  demographic  NaN   \n",
       "\n",
       "                                         description  \n",
       "0  sustained drop in oxygenation after stable ven...  \n",
       "1                                             gender  \n",
       "2                                        age in days  "
      ],
      "text/html": [
       "<div>\n",
       "<style scoped>\n",
       "    .dataframe tbody tr th:only-of-type {\n",
       "        vertical-align: middle;\n",
       "    }\n",
       "\n",
       "    .dataframe tbody tr th {\n",
       "        vertical-align: top;\n",
       "    }\n",
       "\n",
       "    .dataframe thead th {\n",
       "        text-align: right;\n",
       "    }\n",
       "</style>\n",
       "<table border=\"1\" class=\"dataframe\">\n",
       "  <thead>\n",
       "    <tr style=\"text-align: right;\">\n",
       "      <th></th>\n",
       "      <th>feature</th>\n",
       "      <th>feature_type</th>\n",
       "      <th>code</th>\n",
       "      <th>description</th>\n",
       "    </tr>\n",
       "  </thead>\n",
       "  <tbody>\n",
       "    <tr>\n",
       "      <th>0</th>\n",
       "      <td>oxy_drop</td>\n",
       "      <td>engineered</td>\n",
       "      <td>NaN</td>\n",
       "      <td>sustained drop in oxygenation after stable ven...</td>\n",
       "    </tr>\n",
       "    <tr>\n",
       "      <th>1</th>\n",
       "      <td>gender</td>\n",
       "      <td>demographic</td>\n",
       "      <td>NaN</td>\n",
       "      <td>gender</td>\n",
       "    </tr>\n",
       "    <tr>\n",
       "      <th>2</th>\n",
       "      <td>age_in_days</td>\n",
       "      <td>demographic</td>\n",
       "      <td>NaN</td>\n",
       "      <td>age in days</td>\n",
       "    </tr>\n",
       "  </tbody>\n",
       "</table>\n",
       "</div>"
      ]
     },
     "metadata": {},
     "output_type": "display_data"
    }
   ],
   "execution_count": 9
  },
  {
   "cell_type": "code",
   "metadata": {
    "ExecuteTime": {
     "end_time": "2024-11-12T23:07:27.050066Z",
     "start_time": "2024-11-12T23:07:27.027716Z"
    }
   },
   "source": [
    "# (OPTIONAL TODO:) It is always a good idea to filter out columns that you don't need from DataFrames.\n",
    "# As always, feel free to add code to your notebooks to do this. This is not required for the assignment.\n",
    "# You may want to come back to this later when you are more familiar with the data and know which columns you need."
   ],
   "outputs": [],
   "execution_count": 10
  },
  {
   "attachments": {},
   "cell_type": "markdown",
   "metadata": {},
   "source": [
    "# `1` (`5 points`) Preprocessing"
   ]
  },
  {
   "attachments": {},
   "cell_type": "markdown",
   "metadata": {},
   "source": [
    "## `1.1`: (`1 points`) Create the Feature Matrix and Outcome Vector"
   ]
  },
  {
   "cell_type": "markdown",
   "metadata": {},
   "source": [
    "As you may have noticed above, the `death_in_stay` labels and features are all included together inside of the `patient_feature_matrix.csv` file. Let's split the patient_feature_matrix up into two numpy arrays.\n",
    "\n",
    "Implement the `split_labels_and_features` function in `preprocessing.py`. When you are finished, run the following cell."
   ]
  },
  {
   "cell_type": "code",
   "metadata": {
    "ExecuteTime": {
     "end_time": "2024-11-12T23:07:27.305868Z",
     "start_time": "2024-11-12T23:07:27.221368Z"
    }
   },
   "source": [
    "from src.preprocessing import split_labels_and_features\n",
    "\n",
    "# Run this cell to split the labels from the features\n",
    "features, labels = split_labels_and_features(patient_feature_matrix,\n",
    "                                             {\"oxy_drop\": {\"stable\": 0, \"oxy_drop\":1},\n",
    "                                              \"death_in_stay\": {\"survived\": 0, \"died\": 1},\n",
    "                                              \"gender\": {\"M\":0, \"F\": 1}})\n",
    "\n",
    "# Sanity Check shapes\n",
    "if features.shape[0] != labels.shape[0]:\n",
    "    warnings.warn(\"Number of rows in features and labels don't match\", SanityCheck)\n",
    "\n",
    "if features.shape[1] != patient_feature_matrix.shape[1] - 2:\n",
    "    warnings.warn(\"Number of columns in features is incorrect\", SanityCheck)\n",
    "\n",
    "if labels.shape[1] != 1:\n",
    "    warnings.warn(\"Number of columns in labels is incorrect\", SanityCheck)\n",
    "\n",
    "# Sanity Check indices\n",
    "if not features.index.name == \"subject_id\":\n",
    "    warnings.warn(\"Index name is incorrect\", SanityCheck)\n",
    "\n",
    "if not labels.index.name == \"subject_id\":\n",
    "    warnings.warn(\"Index name is incorrect\", SanityCheck)"
   ],
   "outputs": [],
   "execution_count": 11
  },
  {
   "cell_type": "markdown",
   "metadata": {},
   "source": [
    "##### `Important note to students:`\n",
    "\n",
    "It's worth noting that the definition of `gender` in the `MIMIC-III` database and many other clinical databases is a simplified representation of gender that does not account for a range of gender identities and expressions, and most often isn't distinguished from biological sex which may or may not reflect an individual's self-identified gender identity (SIGI). Increasingly, EHR schemas are updated/designed to capture SIGI in addition to biological sex to improve care for transgender and gender nonconforming (TGNC) patients.\n",
    "\n",
    "As you continue your journey in medical data science, remember that it is critically important to always review the schema of the dataset you are working with to ensure that you know how different data fields are defined, so that you can fully understand the assumptions and limitations of your downstream analysis."
   ]
  },
  {
   "cell_type": "markdown",
   "metadata": {},
   "source": [
    "## `1.2` (`4 points`) Removing Uninformative Features\n",
    "\n",
    "Before we do any modeling, let's cut down on our feature space by removing `low-variance features` that probably aren't useful enough to measure association with or use in a predictive model. \n",
    "\n",
    "Implement the function `feature_variance_threshold` in `preprocessing.py`. When you are finished, run the following cell."
   ]
  },
  {
   "cell_type": "code",
   "metadata": {
    "ExecuteTime": {
     "end_time": "2024-11-12T23:07:28.839716Z",
     "start_time": "2024-11-12T23:07:27.311362Z"
    }
   },
   "source": [
    "from src.preprocessing import feature_variance_threshold\n",
    "\n",
    "# Run this cell to remove features with low variance\n",
    "filtered_features = feature_variance_threshold(features, freq_cut=95/5, unique_cut=0.1)"
   ],
   "outputs": [],
   "execution_count": 12
  },
  {
   "cell_type": "markdown",
   "metadata": {},
   "source": [
    "**Report how many of each different kind of feature are left after filtering out the near-zero variance features. As a sanity check, look at the kinds of features that are over-represented or under-represented in this set relative to the full set of features. Provide a brief plausible explanation of what you observe.**"
   ]
  },
  {
   "cell_type": "code",
   "metadata": {
    "ExecuteTime": {
     "end_time": "2024-11-12T23:07:28.888778Z",
     "start_time": "2024-11-12T23:07:28.868546Z"
    }
   },
   "source": [
    "# TODO: Use this cell to implement any code needed to answer this writen question\n",
    "# HINT: It may be helpful to create a dataframe that contains the feature_type\n",
    "# of the features in the features and filtered_features DataFrames by merging with\n",
    "# the feature_descriptions DataFrame.\n",
    "# This will allow you to easily compare which type of features were removed.\n",
    "feature_description_copy = feature_descriptions.copy()\n",
    "feature_description_copy['selected'] = feature_description_copy['feature'].isin(filtered_features.columns)\n",
    "print(\"Removed features: \\n\", feature_description_copy[~feature_description_copy['selected']]['feature_type'].value_counts())\n",
    "print()\n",
    "print(\"Selected features: \\n\", feature_description_copy[feature_description_copy['selected']]['feature_type'].value_counts())"
   ],
   "outputs": [
    {
     "name": "stdout",
     "output_type": "stream",
     "text": [
      "Removed features: \n",
      " feature_type\n",
      "chartindicator    1010\n",
      "icd9               489\n",
      "note CUI           428\n",
      "chartvalue           3\n",
      "Name: count, dtype: int64\n",
      "\n",
      "Selected features: \n",
      " feature_type\n",
      "chartindicator    335\n",
      "note CUI          122\n",
      "chartvalue         48\n",
      "demographic         2\n",
      "engineered          1\n",
      "Name: count, dtype: int64\n"
     ]
    }
   ],
   "execution_count": 13
  },
  {
   "cell_type": "markdown",
   "metadata": {},
   "source": [
    "<span style=\"color:blue;\">Overall, the largest subset of removed features are of chartindicator type, where 1010/1345 features are removed. All ICD9 features are removed, as we can see that it is not found in the kept feature_types. Following these 2 types, note CUI type features also have more removed than kept features. Very few chartvalue features are filtered out (3/51) and all demographic and engineered features are kept, hence they are the 3 most overrepresented features, while the chartindicator, note CUI and icd9 features are under-represented relative to the full set of original features.<br/><br/>\n",
    "The chartindicator, icd9 and note CUI features are one-hot encoded features where they each represents occurrence/frequency/average of 1 kind of chartevent/diagnoses/note keyword. Many chartevent/diagnoses/note keyword only occurs in 1 or very few patients, hence create very low variance and do not pass the frequency/unique value cutoffs (few outliers and most patient have same values for those features that are not very informative for predictive models).</span>"
   ]
  },
  {
   "cell_type": "markdown",
   "metadata": {},
   "source": [
    "# `2` (`55 points`) Associative Analyses"
   ]
  },
  {
   "cell_type": "markdown",
   "metadata": {},
   "source": [
    "Associative analysis revolves around the concept of finding associations or patterns between features and outcomes. In biomedical data science, this approach can uncover hidden relationships between different medical conditions, drugs, genetic variations, or other biomedical entities, which can prove invaluable in research and clinical decision-making.\n",
    "\n",
    "It's important to keep in mind that data science can help us find patterns, but we must always approach our results critically, as considering the broader clinical and biological context is essential to understanding the significance of our findings. Let's try to find some interesting associations in our dataset!"
   ]
  },
  {
   "cell_type": "markdown",
   "metadata": {},
   "source": [
    "## `2.1` (`12 points`) Hypothesis Testing"
   ]
  },
  {
   "cell_type": "markdown",
   "metadata": {},
   "source": [
    "Hypothesis testing is a cornerstone of statistical inference, allowing researchers to determine if there's enough evidence in a sample of data to infer that a particular condition holds for a larger population. In biomedical data science, this method is essential for validating the significance of findings, be it in clinical trials, genomic studies, or other investigations. If you are unfamiliar with hypothesis testing, we recommend that you review the following video: [StatsQuest - Hypothesis Testing](https://youtu.be/0oc49DyA3hU)"
   ]
  },
  {
   "cell_type": "markdown",
   "metadata": {},
   "source": [
    "### Types of Hypothesis Tests\n",
    "#### Tests for one random variable\n",
    "- Continuous\n",
    "    **One-sample t-test:**: If you want to test if the mean of a single sample is different from a specified value (usually a known mean).\n",
    "- Discrete\n",
    "    **Chi-squared ($\\chi^2$) test:** Tests if the proportion of categorical outcomes is equal to a specified value.\n",
    "\n",
    "#### Tests for two random variables\n",
    "- One continuous variable vs one discrete variable with 2 levels $^*$\n",
    "\n",
    "    - **For independent samples: Two-sample t-test:** *aka independent t-test*, used to determine whether there is a statistically significant difference between the means of two independent groups.\n",
    "\n",
    "    - **For independent but small samples: Wilcoxon-Mann-Whitney test:** used to determine whether two independent samples come from the same distribution. (non-parametric alternative to the two-sample t-test)\n",
    "\n",
    "    - **For paired samples: Paired t-test:** *aka dependent t-test*, used to determine if there is a statistically significant mean difference between two sets of paired or related observations.\n",
    "\n",
    "    - **For paired but small samples: Wilcoxon signed-rank test:** used to determine whether two dependent samples come from the same distribution. (non-parametric alternative to the paired t-test)\n",
    "\n",
    "    \n",
    "- One continuous variable vs one discrete variable with > 2 levels $^*$\n",
    "    - **One-way ANOVA**: used to determine whether there are any statistically significant differences between the means of three or more independent (unrelated) groups.\n",
    "    \n",
    "    <br>\n",
    "\n",
    "- One discrete variable vs one discrete variable\n",
    "    - **For r-level vs c-level: r x c contingency table Chi-squared test for independence:** used to determine if there's an association or relationship between two categorical variables where one variable has r levels and the other has c levels.\n",
    "\n",
    "    - **For 2-level vs 2-level but small counts: Fisher's exact test:** similar to the Chi-squared test for a 2x2 contingency table, but used when the sample sizes are small (usually when the expected count/frequency in any cell of the table is less than 5)\n",
    "    \n",
    "    - **For paired samples - McNemar's test:** used for 2x2 contingency tables with paired or matched data. A classic example is when patients are observed before and after a treatment, and the response is dichotomous (e.g., \"improved\" or \"not improved\").\n",
    "\n",
    "- One continuous variable vs one continuous variable:\n",
    "    - **Correlation/simple linear regression:** used to determine if there is a relationship between two continuous variables.\n",
    "\n",
    "#### Tests for more than two random variables\n",
    "- One discrete vs one discrete vs one continuous:\n",
    "    - **Two-way ANOVA:** used to determine whether there are any statistically significant differences between the means of three or more independent (unrelated) groups that have been split on two factors (i.e., independent variables).\n",
    "    \n",
    "    <br>\n",
    "\n",
    "- One continuous vs many - **multiple linear regression**\n",
    "\n",
    "- One discrete vs many - **logistic regression**\n",
    "\n",
    "\n",
    "\n",
    "$^*$ Note: In statistics, the term `level` when referring to a discrete variable typically means a distinct value or category that the variable can assume.\n",
    "\n",
    "\n",
    "> Credit: The above write up was adapted for this assignment from Lexin Li's 2016 Big Data course at the University of California Berkeley."
   ]
  },
  {
   "cell_type": "markdown",
   "metadata": {},
   "source": [
    "### `2.1.1` (`10 points`) Statistical Tests of Differences Between Two Groups"
   ]
  },
  {
   "cell_type": "markdown",
   "metadata": {},
   "source": [
    "**For the each of the following features, use a `t-test`, `rank-sum test`, `Fisher exact test`, or a `Chi-squared test` (whichever is appropriate) to determine if there is a statistically significant association between the feature and the `death_in_stay` outcome. Write your reasoning for determining which kind of test to use. If multiple tests are applicable to a comparison, choose one and explain why you chose it.**"
   ]
  },
  {
   "cell_type": "markdown",
   "metadata": {},
   "source": [
    "> NOTE: Make sure you read the documentation for the test functions. Statistical testing functions can be counter intuitive to use, and may produce and incorrect result if used incorrectly.\n",
    "\n",
    "> Hint: It may be helpful to first create two new dataframes, one of patients who died in the ICU and one of patients who did not die in the ICU. Remember that you can add additional code cells to this notebook if needed."
   ]
  },
  {
   "cell_type": "code",
   "metadata": {
    "ExecuteTime": {
     "end_time": "2024-11-12T23:07:28.947138Z",
     "start_time": "2024-11-12T23:07:28.930633Z"
    }
   },
   "source": [
    "# Run this cell to import the test functions.\n",
    "# Utilize one of the following imported functions in your answers below:\n",
    "from scipy.stats import ttest_ind, fisher_exact, chi2_contingency, mannwhitneyu\n",
    "\n",
    "# NOTE: for Rank Sum Tests use mannwhitneyu\n",
    "\n",
    "# NOTE: For some of the functions above, you can pass series of labels and features. Others\n",
    "# require you to pass the tables of counts. You may find the function pd.crosstab() useful for\n",
    "# certain functions."
   ],
   "outputs": [],
   "execution_count": 14
  },
  {
   "metadata": {
    "ExecuteTime": {
     "end_time": "2024-11-12T23:07:29.025919Z",
     "start_time": "2024-11-12T23:07:29.009191Z"
    }
   },
   "cell_type": "code",
   "source": [
    "import matplotlib.pyplot as plt\n",
    "import seaborn as sns\n",
    "from scipy import stats"
   ],
   "outputs": [],
   "execution_count": 15
  },
  {
   "metadata": {
    "ExecuteTime": {
     "end_time": "2024-11-12T23:07:29.081305Z",
     "start_time": "2024-11-12T23:07:29.041002Z"
    }
   },
   "cell_type": "code",
   "source": [
    "filtered_features_copy = filtered_features.copy().reset_index()\n",
    "labels_copy = labels.copy().reset_index()\n",
    "\n",
    "# Merge the dataframes\n",
    "merged_df = pd.merge(\n",
    "    filtered_features_copy,\n",
    "    labels_copy,\n",
    "    on='subject_id',\n",
    "    how='inner'\n",
    ")\n",
    "\n",
    "# Split the data into two groups\n",
    "survived_df = merged_df[merged_df['death_in_stay'] == 0]\n",
    "deceased_df = merged_df[merged_df['death_in_stay'] == 1]\n"
   ],
   "outputs": [],
   "execution_count": 16
  },
  {
   "metadata": {
    "ExecuteTime": {
     "end_time": "2024-11-12T23:07:29.149377Z",
     "start_time": "2024-11-12T23:07:29.130742Z"
    }
   },
   "cell_type": "code",
   "source": [
    "def extract_stat_data(feature_name):\n",
    "\n",
    "    # Get the feature values for each group\n",
    "    survived_values = survived_df[feature_name]\n",
    "    deceased_values = deceased_df[feature_name]\n",
    "    #display(survived_values)\n",
    "    #display(deceased_values)\n",
    "\n",
    "    # Check normality\n",
    "    survived_statistic, survived_norm_p = stats.shapiro(survived_values)\n",
    "    deceased_statistic, deceased_norm_p = stats.shapiro(deceased_values)\n",
    "\n",
    "    # Perform statistical tests\n",
    "    # If p > 0.05: Data is normally distributed\n",
    "    # If p < 0.05: Data is not normally distributed\n",
    "    print(\"stats.shapiro results:\")\n",
    "    print(f\"\\tsurvived statistic: {survived_statistic}. p-value: {survived_norm_p}\")\n",
    "    print(f\"\\tdeceased statistic: {deceased_statistic}. p-value: {deceased_norm_p}\")\n",
    "\n",
    "    # Create subplots\n",
    "    fig, (ax1, ax2) = plt.subplots(1, 2, figsize=(12, 5))\n",
    "    \n",
    "    # Plot distribution for survived group\n",
    "    sns.histplot(survived_values, ax=ax1, label='Survived')\n",
    "    ax1.set_title(f'Survived Distribution\\nNormality p={survived_norm_p:.4f}')\n",
    "    ax1.legend()\n",
    "    \n",
    "    # Plot distribution for deceased group\n",
    "    sns.histplot(deceased_values, ax=ax2, label='Deceased')\n",
    "    ax2.set_title(f'Deceased Distribution\\nNormality p={deceased_norm_p:.4f}')\n",
    "    ax2.legend()\n",
    "    \n",
    "    plt.tight_layout()\n",
    "    plt.show()\n",
    "\n",
    "    \n",
    "    return survived_values, deceased_values"
   ],
   "outputs": [],
   "execution_count": 17
  },
  {
   "cell_type": "markdown",
   "metadata": {},
   "source": [
    "#### `alarms` (chartindicator_1622)"
   ]
  },
  {
   "cell_type": "code",
   "metadata": {
    "ExecuteTime": {
     "end_time": "2024-11-12T23:07:30.119508Z",
     "start_time": "2024-11-12T23:07:29.201485Z"
    }
   },
   "source": [
    "# TODO: Implement the test here. Display both the test statistic and p-value\n",
    "survived_values, deceased_values = extract_stat_data('chartindicator_1622')\n",
    "mannwhitneyu(x=deceased_values, y=survived_values)"
   ],
   "outputs": [
    {
     "name": "stdout",
     "output_type": "stream",
     "text": [
      "stats.shapiro results:\n",
      "\tsurvived statistic: 0.6029064059257507. p-value: 0.0\n",
      "\tdeceased statistic: 0.33513927459716797. p-value: 1.0677894298155106e-42\n"
     ]
    },
    {
     "data": {
      "text/plain": [
       "<Figure size 1200x500 with 2 Axes>"
      ],
      "image/png": "[encoded data removed]"
     },
     "metadata": {},
     "output_type": "display_data"
    },
    {
     "data": {
      "text/plain": [
       "MannwhitneyuResult(statistic=849865.5, pvalue=0.07161093078060332)"
      ]
     },
     "execution_count": 18,
     "metadata": {},
     "output_type": "execute_result"
    }
   ],
   "execution_count": 18
  },
  {
   "cell_type": "markdown",
   "metadata": {},
   "source": [
    "**Which test did you utilize for the `alarms` feature? Why?**"
   ]
  },
  {
   "cell_type": "markdown",
   "metadata": {},
   "source": "<span style=\"color:blue;\">Rank Sum Test (Mann-Whitney U test) was selected because we're comparing a continuous variable (chartindicator_1622) between two independent groups (survived vs deceased), and our data significantly deviates from normal distribution as confirmed by both Shapiro-Wilk tests (p<0.001) and visual inspection of the heavily right-skewed histograms, making non-parametric testing more appropriate than parametric alternatives like t-test.</span>"
  },
  {
   "cell_type": "markdown",
   "metadata": {},
   "source": [
    "#### `activity` (chartindicator_31)"
   ]
  },
  {
   "cell_type": "code",
   "metadata": {
    "ExecuteTime": {
     "end_time": "2024-11-12T23:07:31.342331Z",
     "start_time": "2024-11-12T23:07:30.170638Z"
    }
   },
   "source": [
    "# TODO: Implement the test here. Display both the test statistic (or the odds ratio) and p-value\n",
    "survived_values, deceased_values = extract_stat_data('chartindicator_31')"
   ],
   "outputs": [
    {
     "name": "stdout",
     "output_type": "stream",
     "text": [
      "stats.shapiro results:\n",
      "\tsurvived statistic: 0.37224990129470825. p-value: 0.0\n",
      "\tdeceased statistic: 0.3496014475822449. p-value: 2.2196567674905102e-42\n"
     ]
    },
    {
     "data": {
      "text/plain": [
       "<Figure size 1200x500 with 2 Axes>"
      ],
      "image/png": "[encoded data removed]"
     },
     "metadata": {},
     "output_type": "display_data"
    }
   ],
   "execution_count": 19
  },
  {
   "metadata": {
    "ExecuteTime": {
     "end_time": "2024-11-12T23:07:31.414864Z",
     "start_time": "2024-11-12T23:07:31.394557Z"
    }
   },
   "cell_type": "code",
   "source": "mannwhitneyu(x=deceased_values, y=survived_values)",
   "outputs": [
    {
     "data": {
      "text/plain": [
       "MannwhitneyuResult(statistic=860330.5, pvalue=0.18540150143304024)"
      ]
     },
     "execution_count": 20,
     "metadata": {},
     "output_type": "execute_result"
    }
   ],
   "execution_count": 20
  },
  {
   "cell_type": "markdown",
   "metadata": {},
   "source": [
    "**Which test did you utilize for the `activity` feature? Why?**"
   ]
  },
  {
   "cell_type": "markdown",
   "metadata": {},
   "source": "<span style=\"color:blue;\">Similar to the `alarm` feature, the Mann-Whitney U test is appropriate here as we're comparing a continuous variable (chartindicator_31) between survived and deceased groups, where both distributions show significant non-normality as evidenced by the Shapiro-Wilk test results (p<0.001) and the clearly right-skewed histograms for both groups.</span>"
  },
  {
   "cell_type": "markdown",
   "metadata": {},
   "source": [
    "#### `respiratory rate` (chartvalue_618)"
   ]
  },
  {
   "cell_type": "code",
   "metadata": {
    "ExecuteTime": {
     "end_time": "2024-11-12T23:07:32.121933Z",
     "start_time": "2024-11-12T23:07:31.498587Z"
    }
   },
   "source": [
    "# TODO: Implement the test here. Display both the test statistic and p-value\n",
    "survived_values, deceased_values = extract_stat_data('chartvalue_618')"
   ],
   "outputs": [
    {
     "name": "stdout",
     "output_type": "stream",
     "text": [
      "stats.shapiro results:\n",
      "\tsurvived statistic: 0.8651629090309143. p-value: 4.484155085839415e-44\n",
      "\tdeceased statistic: 0.9662714600563049. p-value: 7.484158431880772e-11\n"
     ]
    },
    {
     "data": {
      "text/plain": [
       "<Figure size 1200x500 with 2 Axes>"
      ],
      "image/png": "[encoded data removed]"
     },
     "metadata": {},
     "output_type": "display_data"
    }
   ],
   "execution_count": 21
  },
  {
   "metadata": {
    "ExecuteTime": {
     "end_time": "2024-11-12T23:07:32.192498Z",
     "start_time": "2024-11-12T23:07:32.173597Z"
    }
   },
   "cell_type": "code",
   "source": "ttest_ind(a=deceased_values, b=survived_values)",
   "outputs": [
    {
     "data": {
      "text/plain": [
       "TtestResult(statistic=6.628245272392856, pvalue=3.92641339585251e-11, df=3453.0)"
      ]
     },
     "execution_count": 22,
     "metadata": {},
     "output_type": "execute_result"
    }
   ],
   "execution_count": 22
  },
  {
   "cell_type": "markdown",
   "metadata": {},
   "source": [
    "**Which test did you utilize for the `respiratory rate` feature? Why?**\n"
   ]
  },
  {
   "cell_type": "markdown",
   "metadata": {},
   "source": "<span style=\"color:blue;\">Looking at the histograms, while Shapiro-Wilk tests show non-normality (p<0.001), the distributions are relatively bell-shaped and symmetric (unlike the previous highly right-skewed cases), suggesting the t-test could be reasonable here. Additionally, the large sample size (df=3463) makes the t-test fairly robust to violations of normality due to the Central Limit Theorem, making it a valid choice for comparing these two groups' means.</span>"
  },
  {
   "cell_type": "markdown",
   "metadata": {},
   "source": [
    "#### `Arterial PaCO2` (chartvalue_778)"
   ]
  },
  {
   "cell_type": "code",
   "metadata": {
    "ExecuteTime": {
     "end_time": "2024-11-12T23:07:32.845306Z",
     "start_time": "2024-11-12T23:07:32.248088Z"
    }
   },
   "source": [
    "# TODO: Implement the test here. Display both the test statistic and p-value\n",
    "survived_values, deceased_values = extract_stat_data('chartvalue_778')"
   ],
   "outputs": [
    {
     "name": "stdout",
     "output_type": "stream",
     "text": [
      "stats.shapiro results:\n",
      "\tsurvived statistic: 0.9350120425224304. p-value: 1.872214995342442e-33\n",
      "\tdeceased statistic: 0.9353970289230347. p-value: 7.078965095416712e-16\n"
     ]
    },
    {
     "data": {
      "text/plain": [
       "<Figure size 1200x500 with 2 Axes>"
      ],
      "image/png": "[encoded data removed]"
     },
     "metadata": {},
     "output_type": "display_data"
    }
   ],
   "execution_count": 23
  },
  {
   "metadata": {
    "ExecuteTime": {
     "end_time": "2024-11-12T23:07:32.921284Z",
     "start_time": "2024-11-12T23:07:32.900898Z"
    }
   },
   "cell_type": "code",
   "source": "ttest_ind(a=deceased_values, b=survived_values)",
   "outputs": [
    {
     "data": {
      "text/plain": [
       "TtestResult(statistic=-9.16092951126894, pvalue=8.600444123363662e-20, df=3453.0)"
      ]
     },
     "execution_count": 24,
     "metadata": {},
     "output_type": "execute_result"
    }
   ],
   "execution_count": 24
  },
  {
   "cell_type": "markdown",
   "metadata": {},
   "source": [
    "**Which test did you utilize for the `arterial PaCO2` feature? Why?**\n"
   ]
  },
  {
   "cell_type": "markdown",
   "metadata": {},
   "source": "<span style=\"color:blue;\">Similar to `respiratory` feature, Shapiro-Wilk tests show non-normality (p<0.001), the histograms for both survived and deceased groups display approximately bell-shaped, symmetric distributions with similar shapes but different means.  Also the large sample size (df=3463) makes the t-test robust to slight departures from normality due to the Central Limit Theorem </span>"
  },
  {
   "cell_type": "markdown",
   "metadata": {},
   "source": [
    "#### `Oxygen Desaturation` (oxy_drop)"
   ]
  },
  {
   "cell_type": "code",
   "metadata": {
    "ExecuteTime": {
     "end_time": "2024-11-12T23:07:32.990141Z",
     "start_time": "2024-11-12T23:07:32.972840Z"
    }
   },
   "source": [
    "# TODO: Implement the test here. Display both the test statistic and p-value\n",
    "feature_name = 'oxy_drop'\n",
    "sample_death_in_stay = labels['death_in_stay'].to_numpy()\n",
    "sample_feature = filtered_features[feature_name].to_numpy()\n",
    "print(np.var(sample_death_in_stay), np.var(sample_feature))"
   ],
   "outputs": [
    {
     "name": "stdout",
     "output_type": "stream",
     "text": [
      "0.14909493780904368 0.20218404501959236\n"
     ]
    }
   ],
   "execution_count": 25
  },
  {
   "metadata": {
    "ExecuteTime": {
     "end_time": "2024-11-12T23:07:33.119355Z",
     "start_time": "2024-11-12T23:07:33.100871Z"
    }
   },
   "cell_type": "code",
   "source": "filtered_features[feature_name].value_counts()",
   "outputs": [
    {
     "data": {
      "text/plain": [
       "oxy_drop\n",
       "0    2483\n",
       "1     972\n",
       "Name: count, dtype: int64"
      ]
     },
     "execution_count": 26,
     "metadata": {},
     "output_type": "execute_result"
    }
   ],
   "execution_count": 26
  },
  {
   "metadata": {
    "ExecuteTime": {
     "end_time": "2024-11-12T23:07:33.182492Z",
     "start_time": "2024-11-12T23:07:33.163797Z"
    }
   },
   "cell_type": "code",
   "source": "labels['death_in_stay'].value_counts()",
   "outputs": [
    {
     "data": {
      "text/plain": [
       "death_in_stay\n",
       "0    2825\n",
       "1     630\n",
       "Name: count, dtype: int64"
      ]
     },
     "execution_count": 27,
     "metadata": {},
     "output_type": "execute_result"
    }
   ],
   "execution_count": 27
  },
  {
   "metadata": {
    "ExecuteTime": {
     "end_time": "2024-11-12T23:07:33.321024Z",
     "start_time": "2024-11-12T23:07:33.297843Z"
    }
   },
   "cell_type": "code",
   "source": "data_crosstab = pd.crosstab(labels['death_in_stay'], filtered_features[feature_name], margins = False)",
   "outputs": [],
   "execution_count": 28
  },
  {
   "metadata": {
    "ExecuteTime": {
     "end_time": "2024-11-12T23:07:33.514149Z",
     "start_time": "2024-11-12T23:07:33.492936Z"
    }
   },
   "cell_type": "code",
   "source": "data_crosstab",
   "outputs": [
    {
     "data": {
      "text/plain": [
       "oxy_drop          0    1\n",
       "death_in_stay           \n",
       "0              2092  733\n",
       "1               391  239"
      ],
      "text/html": [
       "<div>\n",
       "<style scoped>\n",
       "    .dataframe tbody tr th:only-of-type {\n",
       "        vertical-align: middle;\n",
       "    }\n",
       "\n",
       "    .dataframe tbody tr th {\n",
       "        vertical-align: top;\n",
       "    }\n",
       "\n",
       "    .dataframe thead th {\n",
       "        text-align: right;\n",
       "    }\n",
       "</style>\n",
       "<table border=\"1\" class=\"dataframe\">\n",
       "  <thead>\n",
       "    <tr style=\"text-align: right;\">\n",
       "      <th>oxy_drop</th>\n",
       "      <th>0</th>\n",
       "      <th>1</th>\n",
       "    </tr>\n",
       "    <tr>\n",
       "      <th>death_in_stay</th>\n",
       "      <th></th>\n",
       "      <th></th>\n",
       "    </tr>\n",
       "  </thead>\n",
       "  <tbody>\n",
       "    <tr>\n",
       "      <th>0</th>\n",
       "      <td>2092</td>\n",
       "      <td>733</td>\n",
       "    </tr>\n",
       "    <tr>\n",
       "      <th>1</th>\n",
       "      <td>391</td>\n",
       "      <td>239</td>\n",
       "    </tr>\n",
       "  </tbody>\n",
       "</table>\n",
       "</div>"
      ]
     },
     "execution_count": 29,
     "metadata": {},
     "output_type": "execute_result"
    }
   ],
   "execution_count": 29
  },
  {
   "metadata": {
    "ExecuteTime": {
     "end_time": "2024-11-12T23:07:33.741958Z",
     "start_time": "2024-11-12T23:07:33.721618Z"
    }
   },
   "cell_type": "code",
   "source": "fisher_exact(data_crosstab, alternative='two-sided')",
   "outputs": [
    {
     "data": {
      "text/plain": [
       "SignificanceResult(statistic=1.7445316343513502, pvalue=3.570818717565323e-09)"
      ]
     },
     "execution_count": 30,
     "metadata": {},
     "output_type": "execute_result"
    }
   ],
   "execution_count": 30
  },
  {
   "cell_type": "markdown",
   "metadata": {},
   "source": [
    "**Which test did you utilize for the `oxy_drop` feature? Why?**\n",
    "**Was the association statistically significant?**"
   ]
  },
  {
   "cell_type": "markdown",
   "metadata": {},
   "source": "<span style=\"color:blue;\">oxy_drop data is categorical (0 or 1), hence one of fisher exact test or Chi-squared test should be used. Chi-squared is more appropriate when contingency matrix is bigger than 2x2, while fisher exact test is usually used for when we have a 2x2 contingency matrix. As both death_in_stay and oxy_drop are categorical variables with 2 categories (0 or 1), we pick fisher exact test.<br/><br/>By setting alpha = 0.05, the p-value is way smaller than alpha hence the null hypothesis should be rejected, and that the 2 variables have statistical significant association. The null hypthesis in fisher's exact test asserts that there is no association or no difference between the two categorical variables being studied.</span>"
  },
  {
   "cell_type": "markdown",
   "metadata": {},
   "source": [
    "#### `snomed ct concept C2720507` (C2720507)"
   ]
  },
  {
   "cell_type": "code",
   "metadata": {
    "ExecuteTime": {
     "end_time": "2024-11-12T23:07:33.911643Z",
     "start_time": "2024-11-12T23:07:33.891370Z"
    }
   },
   "source": [
    "# TODO: Implement the test here. Display both the test statistic and p-value\n",
    "feature_name = 'C2720507'\n",
    "sample_death_in_stay = labels['death_in_stay'].to_numpy()\n",
    "sample_feature = filtered_features[feature_name].to_numpy()\n",
    "print(np.var(sample_death_in_stay), np.var(sample_feature))"
   ],
   "outputs": [
    {
     "name": "stdout",
     "output_type": "stream",
     "text": [
      "0.14909493780904368 0.04886527422033548\n"
     ]
    }
   ],
   "execution_count": 31
  },
  {
   "metadata": {
    "ExecuteTime": {
     "end_time": "2024-11-12T23:07:34.131941Z",
     "start_time": "2024-11-12T23:07:34.112724Z"
    }
   },
   "cell_type": "code",
   "source": "filtered_features[feature_name].value_counts()",
   "outputs": [
    {
     "data": {
      "text/plain": [
       "C2720507\n",
       "1    3277\n",
       "0     178\n",
       "Name: count, dtype: int64"
      ]
     },
     "execution_count": 32,
     "metadata": {},
     "output_type": "execute_result"
    }
   ],
   "execution_count": 32
  },
  {
   "metadata": {
    "ExecuteTime": {
     "end_time": "2024-11-12T23:07:34.252601Z",
     "start_time": "2024-11-12T23:07:34.228792Z"
    }
   },
   "cell_type": "code",
   "source": [
    "data_crosstab = pd.crosstab(filtered_features[feature_name],\n",
    "                            labels['death_in_stay'], margins = False)"
   ],
   "outputs": [],
   "execution_count": 33
  },
  {
   "metadata": {
    "ExecuteTime": {
     "end_time": "2024-11-12T23:07:34.477090Z",
     "start_time": "2024-11-12T23:07:34.456447Z"
    }
   },
   "cell_type": "code",
   "source": "data_crosstab",
   "outputs": [
    {
     "data": {
      "text/plain": [
       "death_in_stay     0    1\n",
       "C2720507                \n",
       "0               147   31\n",
       "1              2678  599"
      ],
      "text/html": [
       "<div>\n",
       "<style scoped>\n",
       "    .dataframe tbody tr th:only-of-type {\n",
       "        vertical-align: middle;\n",
       "    }\n",
       "\n",
       "    .dataframe tbody tr th {\n",
       "        vertical-align: top;\n",
       "    }\n",
       "\n",
       "    .dataframe thead th {\n",
       "        text-align: right;\n",
       "    }\n",
       "</style>\n",
       "<table border=\"1\" class=\"dataframe\">\n",
       "  <thead>\n",
       "    <tr style=\"text-align: right;\">\n",
       "      <th>death_in_stay</th>\n",
       "      <th>0</th>\n",
       "      <th>1</th>\n",
       "    </tr>\n",
       "    <tr>\n",
       "      <th>C2720507</th>\n",
       "      <th></th>\n",
       "      <th></th>\n",
       "    </tr>\n",
       "  </thead>\n",
       "  <tbody>\n",
       "    <tr>\n",
       "      <th>0</th>\n",
       "      <td>147</td>\n",
       "      <td>31</td>\n",
       "    </tr>\n",
       "    <tr>\n",
       "      <th>1</th>\n",
       "      <td>2678</td>\n",
       "      <td>599</td>\n",
       "    </tr>\n",
       "  </tbody>\n",
       "</table>\n",
       "</div>"
      ]
     },
     "execution_count": 34,
     "metadata": {},
     "output_type": "execute_result"
    }
   ],
   "execution_count": 34
  },
  {
   "metadata": {
    "ExecuteTime": {
     "end_time": "2024-11-12T23:07:34.577713Z",
     "start_time": "2024-11-12T23:07:34.557605Z"
    }
   },
   "cell_type": "code",
   "source": "fisher_exact(data_crosstab, alternative='two-sided')",
   "outputs": [
    {
     "data": {
      "text/plain": [
       "SignificanceResult(statistic=1.0606494976992942, pvalue=0.8422468738873531)"
      ]
     },
     "execution_count": 35,
     "metadata": {},
     "output_type": "execute_result"
    }
   ],
   "execution_count": 35
  },
  {
   "cell_type": "markdown",
   "metadata": {},
   "source": [
    "**Which test did you utilize for the `C2720507` feature? Why?**\n"
   ]
  },
  {
   "cell_type": "markdown",
   "metadata": {},
   "source": "<span style=\"color:blue;\">Similar to oxy_drop data, C2720507 feature is categorical (0 or 1) and 2-level and contingency matrix is 2x2 between this feature and death_in_stay, where fisher exact test is used.<br/><br/>By setting alpha = 0.05, the p-value of 0.84 is larger than alpha hence the null hypothesis should not be rejected. The null hypthesis in fisher's exact test asserts that there is no association or no difference between the two categorical variables being studied, which suggests that feature C2720507 does not show sufficient evidence that it is associated with death_in_stay label.</span>"
  },
  {
   "cell_type": "markdown",
   "metadata": {},
   "source": [
    "### `2.1.2` (`2 points`) Hypothesis Testing with the Bonferroni Correction\n",
    "\n",
    "Generally, when we perform hypothesis tests, we are attempting to determine if a particular effect or difference is statistically significant. We usually use a significance level, often denoted as α (alpha), to make this determination. A common choice for α is 0.05, meaning that there is a 5% chance of incorrectly rejecting the null hypothesis (a Type I error) when it is actually true.\n",
    "\n",
    "However, when we conduct multiple hypothesis tests simultaneously – for example, when we are testing multiple variables or conditions at once – the likelihood of encountering at least one Type I error (i.e., finding at least one \"significant\" result when there actually is none) increases with the number of tests. This phenomenon is due to the accumulated risk from each individual test.\n",
    "\n",
    "To address this problem, the Bonferroni correction is often employed. The Bonferroni correction is a simple method to control the familywise error rate (FWER), which is the probability of making one or more Type I errors in a set of comparisons.\n",
    "\n",
    "To apply the correction, simply divide the desired α level by the number of tests being performed. For example, if we are performing 20 tests and want to maintain an overall α level (significance threshold) of 0.05, we would use an adjusted α level of 0.05/20 = 0.0025 for each individual test.\n",
    "\n",
    "$\\alpha_{adjusted} = \\frac{\\alpha_{desired}}{n_{tests}}$\n",
    "\n",
    "We should note that the Bonferroni correction is a very conservative method, meaning that it is likely to produce false negatives (i.e., not catching real associations because we fail to reject the null hypothesis when it is actually false). However, it is a simple and effective way to control the familywise error rate (FWER), and is often used as a baseline for comparison with other methods."
   ]
  },
  {
   "cell_type": "markdown",
   "metadata": {},
   "source": [
    "Implement the function `calc_bonferroni` and `multi_ttest` in `associative_analysis.py`. When you are finished, run the following cell."
   ]
  },
  {
   "cell_type": "code",
   "metadata": {
    "ExecuteTime": {
     "end_time": "2024-11-12T23:07:35.019089Z",
     "start_time": "2024-11-12T23:07:34.722825Z"
    }
   },
   "source": [
    "from src.hypothesis import multi_ttest\n",
    "\n",
    "multi_test_results, sig_columns = multi_ttest(filtered_features, labels, column_substring=\"chartvalue\", alpha=0.05)"
   ],
   "outputs": [],
   "execution_count": 36
  },
  {
   "cell_type": "markdown",
   "metadata": {},
   "source": [
    "**How many of the chartvalue features are statistically significant after applying the Bonferroni correction?**"
   ]
  },
  {
   "cell_type": "code",
   "metadata": {
    "ExecuteTime": {
     "end_time": "2024-11-12T23:07:35.084823Z",
     "start_time": "2024-11-12T23:07:35.065243Z"
    }
   },
   "source": [
    "# TODO: Use this cell the answer the written question above\n",
    "len(sig_columns), len([column_name for column_name in filtered_features.columns if \"chartvalue\" in column_name])"
   ],
   "outputs": [
    {
     "data": {
      "text/plain": [
       "(25, 48)"
      ]
     },
     "execution_count": 37,
     "metadata": {},
     "output_type": "execute_result"
    }
   ],
   "execution_count": 37
  },
  {
   "cell_type": "markdown",
   "metadata": {},
   "source": "<span style=\"color:blue;\"> After applying Bonferroni Correction, we found all 25 features with string `chartvalue` are found to have statistically significant difference  </span>"
  },
  {
   "cell_type": "markdown",
   "metadata": {},
   "source": [
    "## `2.2` (`20 points`) Regression Analysis\n",
    "\n",
    "Regression analyses model the relationship between a dependent variable (often denoted as Y) and an independent variable (often denoted as X). In biomedical data science, regression analyses are often used to predict a patient's risk of developing a particular condition or experiencing a particular outcome based on their clinical data. Let's take a look at some of the simpliest forms of regression analysis: linear regression.\n",
    "\n",
    "Simple Linear Regression: Involves one dependent and one independent variable. The relationship is modeled as a linear equation, where the estimated dependent variable (Y) is a linear combination of the independent variable (X) and a constant known as the intercept.\n",
    "\n",
    "$Y = \\beta_0 + \\beta_1 X + \\epsilon$\n",
    "\n",
    "Here, $\\beta_0$ is the intercept, $\\beta_1$ is the coefficient for X, and $\\epsilon$ is the error term. The error term accounts for the variability in Y that cannot be explained by the linear relationship with X. The goal of linear regression is to find the values of $\\beta_0$ and $\\beta_1$ that minimize the error term. Finding the values of $\\beta_0$ and $\\beta_1$ that minimize the error term is called \"fitting the model\" or \"training the model\". Once we have a fit model, we can use it to make predictions for Y given new (or unseen) values of X. The estimated value of Y (denoted as $\\hat{Y}$) for any given value of X can be calculated using the following equation:\n",
    "\n",
    "$\\hat{Y} = \\beta_0 + \\beta_1 X$"
   ]
  },
  {
   "cell_type": "markdown",
   "metadata": {},
   "source": [
    "You can also have multiple independent variables in a linear regression model. This is known as multiple linear regression. The equation for multiple linear regression is:\n",
    "\n",
    "$Y = \\beta_0 + \\beta_1 X_1 + \\beta_2 X_2 + ... + \\beta_n X_n + \\epsilon$\n",
    "\n",
    "Where $\\beta_0$ is the intercept, $\\beta_1$ to $\\beta_n$ are the coefficients for the independent variables $X_1$ to $X_n$, and $\\epsilon$ is the error term.\n",
    "\n"
   ]
  },
  {
   "cell_type": "markdown",
   "metadata": {},
   "source": [
    "Another type of regression is called `Logistic Regression`. Logistic regression is generally utilized when the dependent variable (the one we are trying to predict) is a binary outcome (e.g., \"yes\" or \"no\", \"died\" or \"survived\"). Logistic regression is similar to linear regression, but instead of predicting a continuous value, it predicts a value that falls between 0 and 1, which can be interpreted as a *predicted* probability of the dependent variable taking on the value 1 (or \"yes\", or \"died\", etc.). The equation for logistic regression is:\n",
    "\n",
    "$Y = \\frac{1}{1 + e^{-(\\beta_0 + \\beta_1 X_1 + \\beta_2 X_2 + ... + \\beta_n X_n + \\epsilon)}}$\n",
    "\n",
    "Where $\\beta_0$ is the intercept, $\\beta_1$ to $\\beta_n$ are the coefficients for the independent variables $X_1$ to $X_n$, and $\\epsilon$ is the error term."
   ]
  },
  {
   "cell_type": "markdown",
   "metadata": {},
   "source": [
    "**Main takeaway:**\n",
    "- **Linear regression**: used to predict a **continuous** value (think: problems where you want to predict a value)\n",
    "\n",
    "- **Logistic Regression**: used to predict a **binary** value (think: binary classification problems)\n",
    "\n",
    "\n",
    "**In this part of the assignment you will build and compare several regression models to predict the binary outcome of `death_in_stay`, utilizing various features.**"
   ]
  },
  {
   "cell_type": "markdown",
   "metadata": {},
   "source": "### `2.2.1` (`6 points`) Regression models for association"
  },
  {
   "cell_type": "markdown",
   "metadata": {},
   "source": [
    "Implement the `run_logistic_regression_model` function in `regression.py` following the implementation instructions in the docstring. When you are finished, run the following cell.\n"
   ]
  },
  {
   "cell_type": "code",
   "metadata": {
    "ExecuteTime": {
     "end_time": "2024-11-12T23:07:35.461532Z",
     "start_time": "2024-11-12T23:07:35.143727Z"
    }
   },
   "source": [
    "from src.regression import run_logistic_regression\n",
    "\n",
    "# glm_1: A logistic regression that only utilizes the \"oxy_drop\" and \"age_in_days\" features\n",
    "model_1_features = [\"oxy_drop\", \"age_in_days\"]\n",
    "glm_1 = run_logistic_regression(filtered_features, labels, model_1_features)\n",
    "\n",
    "\n",
    "# glm_2: A logistic regression that utilizes the \"oxy_drop\", \"age_in_days\", and \"gender\" features\n",
    "model_2_features = [\"oxy_drop\", \"age_in_days\", \"gender\"]\n",
    "glm_2 = run_logistic_regression(filtered_features, labels, model_2_features)\n",
    "\n",
    "# glm_3: A logistic regression that utilizes `age_in_days`, `gender`, `oxy_drop`, \n",
    "# and all of the chart value features that were found to have statistically significant\n",
    "# associations with the outcome in the previous section.\n",
    "model_3_features = [\"oxy_drop\", \"age_in_days\", \"gender\"]\n",
    "model_3_features.extend(sig_columns)\n",
    "glm_3 = run_logistic_regression(filtered_features, labels, model_3_features)"
   ],
   "outputs": [
    {
     "name": "stdout",
     "output_type": "stream",
     "text": [
      "<statsmodels.genmod.generalized_linear_model.GLMResultsWrapper object at 0x14093e790>\n",
      "<statsmodels.genmod.generalized_linear_model.GLMResultsWrapper object at 0x1416e9490>\n",
      "<statsmodels.genmod.generalized_linear_model.GLMResultsWrapper object at 0x141707dd0>\n"
     ]
    }
   ],
   "execution_count": 38
  },
  {
   "cell_type": "markdown",
   "metadata": {},
   "source": [
    "### `2.2.2` (`6 points`) Comparing regression models\n",
    "\n",
    "Now that we have fit the models, let's compare them! \n"
   ]
  },
  {
   "cell_type": "markdown",
   "metadata": {},
   "source": [
    "**What is the point estimate and confidence interval for the `oxy_drop` coefficient in each model?**\n",
    "\n",
    "**Why do you think the point estimate of the coefficient changes as we add more features to the model?**\n",
    "\n",
    "> HINT: Use the result summaries from above to answer this question.\n"
   ]
  },
  {
   "cell_type": "markdown",
   "metadata": {},
   "source": [
    "<span style=\"color:blue;\">\n",
    "- Model 1: The point coefficient estimate for oxy_drop is 0.5747, while 95% confidence level for it is [0.391, 0.759]<br/>\n",
    "- Model 2: The point coefficient estimate for oxy_drop is 0.5778, while 95% confidence level for it is [0.394, 0.762]<br/>\n",
    "- Model 3: The point coefficient estimate for oxy_drop is 0.3260, while 95% confidence level for it is [0.112, 0.540]<br/><br/>\n",
    "\n",
    "As more features are added to the model, the regression fit where it tries to correlate the features and outcome will be adjusted to the additional features. When the additional features have a correlation with the outcome, the estimates for previous features are changed.\n",
    "</span>"
   ]
  },
  {
   "metadata": {
    "ExecuteTime": {
     "end_time": "2024-11-12T23:07:35.564807Z",
     "start_time": "2024-11-12T23:07:35.532065Z"
    }
   },
   "cell_type": "code",
   "source": [
    "# TODO: Use this cell to answer the written question above\n",
    "glm_1.summary()"
   ],
   "outputs": [
    {
     "data": {
      "text/plain": [
       "<class 'statsmodels.iolib.summary.Summary'>\n",
       "\"\"\"\n",
       "                 Generalized Linear Model Regression Results                  \n",
       "==============================================================================\n",
       "Dep. Variable:          death_in_stay   No. Observations:                 3455\n",
       "Model:                            GLM   Df Residuals:                     3452\n",
       "Model Family:                Binomial   Df Model:                            2\n",
       "Link Function:                  Logit   Scale:                          1.0000\n",
       "Method:                          IRLS   Log-Likelihood:                -1590.0\n",
       "Date:                Tue, 12 Nov 2024   Deviance:                       3180.1\n",
       "Time:                        18:07:35   Pearson chi2:                 3.41e+03\n",
       "No. Iterations:                     4   Pseudo R-squ. (CS):            0.02901\n",
       "Covariance Type:            nonrobust                                         \n",
       "===============================================================================\n",
       "                  coef    std err          z      P>|z|      [0.025      0.975]\n",
       "-------------------------------------------------------------------------------\n",
       "Intercept      -2.1467      0.081    -26.523      0.000      -2.305      -1.988\n",
       "oxy_drop        0.5747      0.094      6.123      0.000       0.391       0.759\n",
       "age_in_days  1.667e-05   1.96e-06      8.497      0.000    1.28e-05    2.05e-05\n",
       "===============================================================================\n",
       "\"\"\""
      ],
      "text/html": [
       "<table class=\"simpletable\">\n",
       "<caption>Generalized Linear Model Regression Results</caption>\n",
       "<tr>\n",
       "  <th>Dep. Variable:</th>     <td>death_in_stay</td>  <th>  No. Observations:  </th>  <td>  3455</td> \n",
       "</tr>\n",
       "<tr>\n",
       "  <th>Model:</th>                  <td>GLM</td>       <th>  Df Residuals:      </th>  <td>  3452</td> \n",
       "</tr>\n",
       "<tr>\n",
       "  <th>Model Family:</th>        <td>Binomial</td>     <th>  Df Model:          </th>  <td>     2</td> \n",
       "</tr>\n",
       "<tr>\n",
       "  <th>Link Function:</th>         <td>Logit</td>      <th>  Scale:             </th> <td>  1.0000</td>\n",
       "</tr>\n",
       "<tr>\n",
       "  <th>Method:</th>                <td>IRLS</td>       <th>  Log-Likelihood:    </th> <td> -1590.0</td>\n",
       "</tr>\n",
       "<tr>\n",
       "  <th>Date:</th>            <td>Tue, 12 Nov 2024</td> <th>  Deviance:          </th> <td>  3180.1</td>\n",
       "</tr>\n",
       "<tr>\n",
       "  <th>Time:</th>                <td>18:07:35</td>     <th>  Pearson chi2:      </th> <td>3.41e+03</td>\n",
       "</tr>\n",
       "<tr>\n",
       "  <th>No. Iterations:</th>          <td>4</td>        <th>  Pseudo R-squ. (CS):</th>  <td>0.02901</td>\n",
       "</tr>\n",
       "<tr>\n",
       "  <th>Covariance Type:</th>     <td>nonrobust</td>    <th>                     </th>     <td> </td>   \n",
       "</tr>\n",
       "</table>\n",
       "<table class=\"simpletable\">\n",
       "<tr>\n",
       "       <td></td>          <th>coef</th>     <th>std err</th>      <th>z</th>      <th>P>|z|</th>  <th>[0.025</th>    <th>0.975]</th>  \n",
       "</tr>\n",
       "<tr>\n",
       "  <th>Intercept</th>   <td>   -2.1467</td> <td>    0.081</td> <td>  -26.523</td> <td> 0.000</td> <td>   -2.305</td> <td>   -1.988</td>\n",
       "</tr>\n",
       "<tr>\n",
       "  <th>oxy_drop</th>    <td>    0.5747</td> <td>    0.094</td> <td>    6.123</td> <td> 0.000</td> <td>    0.391</td> <td>    0.759</td>\n",
       "</tr>\n",
       "<tr>\n",
       "  <th>age_in_days</th> <td> 1.667e-05</td> <td> 1.96e-06</td> <td>    8.497</td> <td> 0.000</td> <td> 1.28e-05</td> <td> 2.05e-05</td>\n",
       "</tr>\n",
       "</table>"
      ],
      "text/latex": "\\begin{center}\n\\begin{tabular}{lclc}\n\\toprule\n\\textbf{Dep. Variable:}   & death\\_in\\_stay  & \\textbf{  No. Observations:  } &     3455    \\\\\n\\textbf{Model:}           &       GLM        & \\textbf{  Df Residuals:      } &     3452    \\\\\n\\textbf{Model Family:}    &     Binomial     & \\textbf{  Df Model:          } &        2    \\\\\n\\textbf{Link Function:}   &      Logit       & \\textbf{  Scale:             } &    1.0000   \\\\\n\\textbf{Method:}          &       IRLS       & \\textbf{  Log-Likelihood:    } &   -1590.0   \\\\\n\\textbf{Date:}            & Tue, 12 Nov 2024 & \\textbf{  Deviance:          } &    3180.1   \\\\\n\\textbf{Time:}            &     18:07:35     & \\textbf{  Pearson chi2:      } &  3.41e+03   \\\\\n\\textbf{No. Iterations:}  &        4         & \\textbf{  Pseudo R-squ. (CS):} &  0.02901    \\\\\n\\textbf{Covariance Type:} &    nonrobust     & \\textbf{                     } &             \\\\\n\\bottomrule\n\\end{tabular}\n\\begin{tabular}{lcccccc}\n                       & \\textbf{coef} & \\textbf{std err} & \\textbf{z} & \\textbf{P$> |$z$|$} & \\textbf{[0.025} & \\textbf{0.975]}  \\\\\n\\midrule\n\\textbf{Intercept}     &      -2.1467  &        0.081     &   -26.523  &         0.000        &       -2.305    &       -1.988     \\\\\n\\textbf{oxy\\_drop}     &       0.5747  &        0.094     &     6.123  &         0.000        &        0.391    &        0.759     \\\\\n\\textbf{age\\_in\\_days} &    1.667e-05  &     1.96e-06     &     8.497  &         0.000        &     1.28e-05    &     2.05e-05     \\\\\n\\bottomrule\n\\end{tabular}\n%\\caption{Generalized Linear Model Regression Results}\n\\end{center}"
     },
     "execution_count": 39,
     "metadata": {},
     "output_type": "execute_result"
    }
   ],
   "execution_count": 39
  },
  {
   "metadata": {
    "ExecuteTime": {
     "end_time": "2024-11-12T23:07:35.678142Z",
     "start_time": "2024-11-12T23:07:35.642049Z"
    }
   },
   "cell_type": "code",
   "source": "glm_2.summary()",
   "outputs": [
    {
     "data": {
      "text/plain": [
       "<class 'statsmodels.iolib.summary.Summary'>\n",
       "\"\"\"\n",
       "                 Generalized Linear Model Regression Results                  \n",
       "==============================================================================\n",
       "Dep. Variable:          death_in_stay   No. Observations:                 3455\n",
       "Model:                            GLM   Df Residuals:                     3451\n",
       "Model Family:                Binomial   Df Model:                            3\n",
       "Link Function:                  Logit   Scale:                          1.0000\n",
       "Method:                          IRLS   Log-Likelihood:                -1589.8\n",
       "Date:                Tue, 12 Nov 2024   Deviance:                       3179.6\n",
       "Time:                        18:07:35   Pearson chi2:                 3.41e+03\n",
       "No. Iterations:                     4   Pseudo R-squ. (CS):            0.02913\n",
       "Covariance Type:            nonrobust                                         \n",
       "===============================================================================\n",
       "                  coef    std err          z      P>|z|      [0.025      0.975]\n",
       "-------------------------------------------------------------------------------\n",
       "Intercept      -2.1707      0.089    -24.465      0.000      -2.345      -1.997\n",
       "oxy_drop        0.5778      0.094      6.147      0.000       0.394       0.762\n",
       "age_in_days  1.648e-05   1.98e-06      8.301      0.000    1.26e-05    2.04e-05\n",
       "gender          0.0611      0.091      0.673      0.501      -0.117       0.239\n",
       "===============================================================================\n",
       "\"\"\""
      ],
      "text/html": [
       "<table class=\"simpletable\">\n",
       "<caption>Generalized Linear Model Regression Results</caption>\n",
       "<tr>\n",
       "  <th>Dep. Variable:</th>     <td>death_in_stay</td>  <th>  No. Observations:  </th>  <td>  3455</td> \n",
       "</tr>\n",
       "<tr>\n",
       "  <th>Model:</th>                  <td>GLM</td>       <th>  Df Residuals:      </th>  <td>  3451</td> \n",
       "</tr>\n",
       "<tr>\n",
       "  <th>Model Family:</th>        <td>Binomial</td>     <th>  Df Model:          </th>  <td>     3</td> \n",
       "</tr>\n",
       "<tr>\n",
       "  <th>Link Function:</th>         <td>Logit</td>      <th>  Scale:             </th> <td>  1.0000</td>\n",
       "</tr>\n",
       "<tr>\n",
       "  <th>Method:</th>                <td>IRLS</td>       <th>  Log-Likelihood:    </th> <td> -1589.8</td>\n",
       "</tr>\n",
       "<tr>\n",
       "  <th>Date:</th>            <td>Tue, 12 Nov 2024</td> <th>  Deviance:          </th> <td>  3179.6</td>\n",
       "</tr>\n",
       "<tr>\n",
       "  <th>Time:</th>                <td>18:07:35</td>     <th>  Pearson chi2:      </th> <td>3.41e+03</td>\n",
       "</tr>\n",
       "<tr>\n",
       "  <th>No. Iterations:</th>          <td>4</td>        <th>  Pseudo R-squ. (CS):</th>  <td>0.02913</td>\n",
       "</tr>\n",
       "<tr>\n",
       "  <th>Covariance Type:</th>     <td>nonrobust</td>    <th>                     </th>     <td> </td>   \n",
       "</tr>\n",
       "</table>\n",
       "<table class=\"simpletable\">\n",
       "<tr>\n",
       "       <td></td>          <th>coef</th>     <th>std err</th>      <th>z</th>      <th>P>|z|</th>  <th>[0.025</th>    <th>0.975]</th>  \n",
       "</tr>\n",
       "<tr>\n",
       "  <th>Intercept</th>   <td>   -2.1707</td> <td>    0.089</td> <td>  -24.465</td> <td> 0.000</td> <td>   -2.345</td> <td>   -1.997</td>\n",
       "</tr>\n",
       "<tr>\n",
       "  <th>oxy_drop</th>    <td>    0.5778</td> <td>    0.094</td> <td>    6.147</td> <td> 0.000</td> <td>    0.394</td> <td>    0.762</td>\n",
       "</tr>\n",
       "<tr>\n",
       "  <th>age_in_days</th> <td> 1.648e-05</td> <td> 1.98e-06</td> <td>    8.301</td> <td> 0.000</td> <td> 1.26e-05</td> <td> 2.04e-05</td>\n",
       "</tr>\n",
       "<tr>\n",
       "  <th>gender</th>      <td>    0.0611</td> <td>    0.091</td> <td>    0.673</td> <td> 0.501</td> <td>   -0.117</td> <td>    0.239</td>\n",
       "</tr>\n",
       "</table>"
      ],
      "text/latex": "\\begin{center}\n\\begin{tabular}{lclc}\n\\toprule\n\\textbf{Dep. Variable:}   & death\\_in\\_stay  & \\textbf{  No. Observations:  } &     3455    \\\\\n\\textbf{Model:}           &       GLM        & \\textbf{  Df Residuals:      } &     3451    \\\\\n\\textbf{Model Family:}    &     Binomial     & \\textbf{  Df Model:          } &        3    \\\\\n\\textbf{Link Function:}   &      Logit       & \\textbf{  Scale:             } &    1.0000   \\\\\n\\textbf{Method:}          &       IRLS       & \\textbf{  Log-Likelihood:    } &   -1589.8   \\\\\n\\textbf{Date:}            & Tue, 12 Nov 2024 & \\textbf{  Deviance:          } &    3179.6   \\\\\n\\textbf{Time:}            &     18:07:35     & \\textbf{  Pearson chi2:      } &  3.41e+03   \\\\\n\\textbf{No. Iterations:}  &        4         & \\textbf{  Pseudo R-squ. (CS):} &  0.02913    \\\\\n\\textbf{Covariance Type:} &    nonrobust     & \\textbf{                     } &             \\\\\n\\bottomrule\n\\end{tabular}\n\\begin{tabular}{lcccccc}\n                       & \\textbf{coef} & \\textbf{std err} & \\textbf{z} & \\textbf{P$> |$z$|$} & \\textbf{[0.025} & \\textbf{0.975]}  \\\\\n\\midrule\n\\textbf{Intercept}     &      -2.1707  &        0.089     &   -24.465  &         0.000        &       -2.345    &       -1.997     \\\\\n\\textbf{oxy\\_drop}     &       0.5778  &        0.094     &     6.147  &         0.000        &        0.394    &        0.762     \\\\\n\\textbf{age\\_in\\_days} &    1.648e-05  &     1.98e-06     &     8.301  &         0.000        &     1.26e-05    &     2.04e-05     \\\\\n\\textbf{gender}        &       0.0611  &        0.091     &     0.673  &         0.501        &       -0.117    &        0.239     \\\\\n\\bottomrule\n\\end{tabular}\n%\\caption{Generalized Linear Model Regression Results}\n\\end{center}"
     },
     "execution_count": 40,
     "metadata": {},
     "output_type": "execute_result"
    }
   ],
   "execution_count": 40
  },
  {
   "metadata": {
    "ExecuteTime": {
     "end_time": "2024-11-12T23:07:35.870764Z",
     "start_time": "2024-11-12T23:07:35.802396Z"
    }
   },
   "cell_type": "code",
   "source": "glm_3.summary()",
   "outputs": [
    {
     "data": {
      "text/plain": [
       "<class 'statsmodels.iolib.summary.Summary'>\n",
       "\"\"\"\n",
       "                 Generalized Linear Model Regression Results                  \n",
       "==============================================================================\n",
       "Dep. Variable:          death_in_stay   No. Observations:                 3455\n",
       "Model:                            GLM   Df Residuals:                     3426\n",
       "Model Family:                Binomial   Df Model:                           28\n",
       "Link Function:                  Logit   Scale:                          1.0000\n",
       "Method:                          IRLS   Log-Likelihood:                -1366.5\n",
       "Date:                Tue, 12 Nov 2024   Deviance:                       2732.9\n",
       "Time:                        18:07:35   Pearson chi2:                 3.31e+03\n",
       "No. Iterations:                     5   Pseudo R-squ. (CS):             0.1469\n",
       "Covariance Type:            nonrobust                                         \n",
       "===================================================================================\n",
       "                      coef    std err          z      P>|z|      [0.025      0.975]\n",
       "-----------------------------------------------------------------------------------\n",
       "Intercept          -4.7954      1.721     -2.786      0.005      -8.169      -1.422\n",
       "oxy_drop            0.3037      0.105      2.888      0.004       0.098       0.510\n",
       "age_in_days      1.706e-05   2.25e-06      7.576      0.000    1.26e-05    2.15e-05\n",
       "gender              0.0361      0.113      0.320      0.749      -0.185       0.257\n",
       "chartvalue_1127    -0.0542      0.033     -1.656      0.098      -0.118       0.010\n",
       "chartvalue_184     -0.2131      0.097     -2.204      0.027      -0.402      -0.024\n",
       "chartvalue_190      0.9692      0.599      1.617      0.106      -0.205       2.144\n",
       "chartvalue_198      0.0302      0.072      0.418      0.676      -0.111       0.172\n",
       "chartvalue_450      0.1242      0.029      4.259      0.000       0.067       0.181\n",
       "chartvalue_454     -0.1869      0.080     -2.324      0.020      -0.345      -0.029\n",
       "chartvalue_615     -0.0330      0.016     -2.037      0.042      -0.065      -0.001\n",
       "chartvalue_618      0.0265      0.010      2.686      0.007       0.007       0.046\n",
       "chartvalue_619      0.0156      0.012      1.322      0.186      -0.008       0.039\n",
       "chartvalue_682     -0.0012      0.001     -1.556      0.120      -0.003       0.000\n",
       "chartvalue_683     -0.0022      0.001     -3.276      0.001      -0.003      -0.001\n",
       "chartvalue_776      0.0188      0.033      0.566      0.571      -0.046       0.084\n",
       "chartvalue_777      0.0014      0.038      0.036      0.971      -0.074       0.077\n",
       "chartvalue_778     -0.0269      0.013     -2.107      0.035      -0.052      -0.002\n",
       "chartvalue_779      0.0022      0.001      2.894      0.004       0.001       0.004\n",
       "chartvalue_781      0.0107      0.003      3.831      0.000       0.005       0.016\n",
       "chartvalue_787     -0.0048      0.022     -0.214      0.830      -0.049       0.039\n",
       "chartvalue_791      0.0050      0.041      0.123      0.902      -0.075       0.085\n",
       "chartvalue_811      0.0038      0.001      4.420      0.000       0.002       0.005\n",
       "chartvalue_815      0.3864      0.187      2.066      0.039       0.020       0.753\n",
       "chartvalue_824     -0.0366      0.031     -1.197      0.231      -0.096       0.023\n",
       "chartvalue_825      0.0036      0.003      1.355      0.175      -0.002       0.009\n",
       "chartvalue_837      0.0383      0.010      3.783      0.000       0.018       0.058\n",
       "chartvalue_861      0.0698      0.032      2.181      0.029       0.007       0.132\n",
       "chartvalue_87      -0.1448      0.030     -4.881      0.000      -0.203      -0.087\n",
       "===================================================================================\n",
       "\"\"\""
      ],
      "text/html": [
       "<table class=\"simpletable\">\n",
       "<caption>Generalized Linear Model Regression Results</caption>\n",
       "<tr>\n",
       "  <th>Dep. Variable:</th>     <td>death_in_stay</td>  <th>  No. Observations:  </th>  <td>  3455</td> \n",
       "</tr>\n",
       "<tr>\n",
       "  <th>Model:</th>                  <td>GLM</td>       <th>  Df Residuals:      </th>  <td>  3426</td> \n",
       "</tr>\n",
       "<tr>\n",
       "  <th>Model Family:</th>        <td>Binomial</td>     <th>  Df Model:          </th>  <td>    28</td> \n",
       "</tr>\n",
       "<tr>\n",
       "  <th>Link Function:</th>         <td>Logit</td>      <th>  Scale:             </th> <td>  1.0000</td>\n",
       "</tr>\n",
       "<tr>\n",
       "  <th>Method:</th>                <td>IRLS</td>       <th>  Log-Likelihood:    </th> <td> -1366.5</td>\n",
       "</tr>\n",
       "<tr>\n",
       "  <th>Date:</th>            <td>Tue, 12 Nov 2024</td> <th>  Deviance:          </th> <td>  2732.9</td>\n",
       "</tr>\n",
       "<tr>\n",
       "  <th>Time:</th>                <td>18:07:35</td>     <th>  Pearson chi2:      </th> <td>3.31e+03</td>\n",
       "</tr>\n",
       "<tr>\n",
       "  <th>No. Iterations:</th>          <td>5</td>        <th>  Pseudo R-squ. (CS):</th>  <td>0.1469</td> \n",
       "</tr>\n",
       "<tr>\n",
       "  <th>Covariance Type:</th>     <td>nonrobust</td>    <th>                     </th>     <td> </td>   \n",
       "</tr>\n",
       "</table>\n",
       "<table class=\"simpletable\">\n",
       "<tr>\n",
       "         <td></td>            <th>coef</th>     <th>std err</th>      <th>z</th>      <th>P>|z|</th>  <th>[0.025</th>    <th>0.975]</th>  \n",
       "</tr>\n",
       "<tr>\n",
       "  <th>Intercept</th>       <td>   -4.7954</td> <td>    1.721</td> <td>   -2.786</td> <td> 0.005</td> <td>   -8.169</td> <td>   -1.422</td>\n",
       "</tr>\n",
       "<tr>\n",
       "  <th>oxy_drop</th>        <td>    0.3037</td> <td>    0.105</td> <td>    2.888</td> <td> 0.004</td> <td>    0.098</td> <td>    0.510</td>\n",
       "</tr>\n",
       "<tr>\n",
       "  <th>age_in_days</th>     <td> 1.706e-05</td> <td> 2.25e-06</td> <td>    7.576</td> <td> 0.000</td> <td> 1.26e-05</td> <td> 2.15e-05</td>\n",
       "</tr>\n",
       "<tr>\n",
       "  <th>gender</th>          <td>    0.0361</td> <td>    0.113</td> <td>    0.320</td> <td> 0.749</td> <td>   -0.185</td> <td>    0.257</td>\n",
       "</tr>\n",
       "<tr>\n",
       "  <th>chartvalue_1127</th> <td>   -0.0542</td> <td>    0.033</td> <td>   -1.656</td> <td> 0.098</td> <td>   -0.118</td> <td>    0.010</td>\n",
       "</tr>\n",
       "<tr>\n",
       "  <th>chartvalue_184</th>  <td>   -0.2131</td> <td>    0.097</td> <td>   -2.204</td> <td> 0.027</td> <td>   -0.402</td> <td>   -0.024</td>\n",
       "</tr>\n",
       "<tr>\n",
       "  <th>chartvalue_190</th>  <td>    0.9692</td> <td>    0.599</td> <td>    1.617</td> <td> 0.106</td> <td>   -0.205</td> <td>    2.144</td>\n",
       "</tr>\n",
       "<tr>\n",
       "  <th>chartvalue_198</th>  <td>    0.0302</td> <td>    0.072</td> <td>    0.418</td> <td> 0.676</td> <td>   -0.111</td> <td>    0.172</td>\n",
       "</tr>\n",
       "<tr>\n",
       "  <th>chartvalue_450</th>  <td>    0.1242</td> <td>    0.029</td> <td>    4.259</td> <td> 0.000</td> <td>    0.067</td> <td>    0.181</td>\n",
       "</tr>\n",
       "<tr>\n",
       "  <th>chartvalue_454</th>  <td>   -0.1869</td> <td>    0.080</td> <td>   -2.324</td> <td> 0.020</td> <td>   -0.345</td> <td>   -0.029</td>\n",
       "</tr>\n",
       "<tr>\n",
       "  <th>chartvalue_615</th>  <td>   -0.0330</td> <td>    0.016</td> <td>   -2.037</td> <td> 0.042</td> <td>   -0.065</td> <td>   -0.001</td>\n",
       "</tr>\n",
       "<tr>\n",
       "  <th>chartvalue_618</th>  <td>    0.0265</td> <td>    0.010</td> <td>    2.686</td> <td> 0.007</td> <td>    0.007</td> <td>    0.046</td>\n",
       "</tr>\n",
       "<tr>\n",
       "  <th>chartvalue_619</th>  <td>    0.0156</td> <td>    0.012</td> <td>    1.322</td> <td> 0.186</td> <td>   -0.008</td> <td>    0.039</td>\n",
       "</tr>\n",
       "<tr>\n",
       "  <th>chartvalue_682</th>  <td>   -0.0012</td> <td>    0.001</td> <td>   -1.556</td> <td> 0.120</td> <td>   -0.003</td> <td>    0.000</td>\n",
       "</tr>\n",
       "<tr>\n",
       "  <th>chartvalue_683</th>  <td>   -0.0022</td> <td>    0.001</td> <td>   -3.276</td> <td> 0.001</td> <td>   -0.003</td> <td>   -0.001</td>\n",
       "</tr>\n",
       "<tr>\n",
       "  <th>chartvalue_776</th>  <td>    0.0188</td> <td>    0.033</td> <td>    0.566</td> <td> 0.571</td> <td>   -0.046</td> <td>    0.084</td>\n",
       "</tr>\n",
       "<tr>\n",
       "  <th>chartvalue_777</th>  <td>    0.0014</td> <td>    0.038</td> <td>    0.036</td> <td> 0.971</td> <td>   -0.074</td> <td>    0.077</td>\n",
       "</tr>\n",
       "<tr>\n",
       "  <th>chartvalue_778</th>  <td>   -0.0269</td> <td>    0.013</td> <td>   -2.107</td> <td> 0.035</td> <td>   -0.052</td> <td>   -0.002</td>\n",
       "</tr>\n",
       "<tr>\n",
       "  <th>chartvalue_779</th>  <td>    0.0022</td> <td>    0.001</td> <td>    2.894</td> <td> 0.004</td> <td>    0.001</td> <td>    0.004</td>\n",
       "</tr>\n",
       "<tr>\n",
       "  <th>chartvalue_781</th>  <td>    0.0107</td> <td>    0.003</td> <td>    3.831</td> <td> 0.000</td> <td>    0.005</td> <td>    0.016</td>\n",
       "</tr>\n",
       "<tr>\n",
       "  <th>chartvalue_787</th>  <td>   -0.0048</td> <td>    0.022</td> <td>   -0.214</td> <td> 0.830</td> <td>   -0.049</td> <td>    0.039</td>\n",
       "</tr>\n",
       "<tr>\n",
       "  <th>chartvalue_791</th>  <td>    0.0050</td> <td>    0.041</td> <td>    0.123</td> <td> 0.902</td> <td>   -0.075</td> <td>    0.085</td>\n",
       "</tr>\n",
       "<tr>\n",
       "  <th>chartvalue_811</th>  <td>    0.0038</td> <td>    0.001</td> <td>    4.420</td> <td> 0.000</td> <td>    0.002</td> <td>    0.005</td>\n",
       "</tr>\n",
       "<tr>\n",
       "  <th>chartvalue_815</th>  <td>    0.3864</td> <td>    0.187</td> <td>    2.066</td> <td> 0.039</td> <td>    0.020</td> <td>    0.753</td>\n",
       "</tr>\n",
       "<tr>\n",
       "  <th>chartvalue_824</th>  <td>   -0.0366</td> <td>    0.031</td> <td>   -1.197</td> <td> 0.231</td> <td>   -0.096</td> <td>    0.023</td>\n",
       "</tr>\n",
       "<tr>\n",
       "  <th>chartvalue_825</th>  <td>    0.0036</td> <td>    0.003</td> <td>    1.355</td> <td> 0.175</td> <td>   -0.002</td> <td>    0.009</td>\n",
       "</tr>\n",
       "<tr>\n",
       "  <th>chartvalue_837</th>  <td>    0.0383</td> <td>    0.010</td> <td>    3.783</td> <td> 0.000</td> <td>    0.018</td> <td>    0.058</td>\n",
       "</tr>\n",
       "<tr>\n",
       "  <th>chartvalue_861</th>  <td>    0.0698</td> <td>    0.032</td> <td>    2.181</td> <td> 0.029</td> <td>    0.007</td> <td>    0.132</td>\n",
       "</tr>\n",
       "<tr>\n",
       "  <th>chartvalue_87</th>   <td>   -0.1448</td> <td>    0.030</td> <td>   -4.881</td> <td> 0.000</td> <td>   -0.203</td> <td>   -0.087</td>\n",
       "</tr>\n",
       "</table>"
      ],
      "text/latex": "\\begin{center}\n\\begin{tabular}{lclc}\n\\toprule\n\\textbf{Dep. Variable:}   & death\\_in\\_stay  & \\textbf{  No. Observations:  } &     3455    \\\\\n\\textbf{Model:}           &       GLM        & \\textbf{  Df Residuals:      } &     3426    \\\\\n\\textbf{Model Family:}    &     Binomial     & \\textbf{  Df Model:          } &       28    \\\\\n\\textbf{Link Function:}   &      Logit       & \\textbf{  Scale:             } &    1.0000   \\\\\n\\textbf{Method:}          &       IRLS       & \\textbf{  Log-Likelihood:    } &   -1366.5   \\\\\n\\textbf{Date:}            & Tue, 12 Nov 2024 & \\textbf{  Deviance:          } &    2732.9   \\\\\n\\textbf{Time:}            &     18:07:35     & \\textbf{  Pearson chi2:      } &  3.31e+03   \\\\\n\\textbf{No. Iterations:}  &        5         & \\textbf{  Pseudo R-squ. (CS):} &   0.1469    \\\\\n\\textbf{Covariance Type:} &    nonrobust     & \\textbf{                     } &             \\\\\n\\bottomrule\n\\end{tabular}\n\\begin{tabular}{lcccccc}\n                          & \\textbf{coef} & \\textbf{std err} & \\textbf{z} & \\textbf{P$> |$z$|$} & \\textbf{[0.025} & \\textbf{0.975]}  \\\\\n\\midrule\n\\textbf{Intercept}        &      -4.7954  &        1.721     &    -2.786  &         0.005        &       -8.169    &       -1.422     \\\\\n\\textbf{oxy\\_drop}        &       0.3037  &        0.105     &     2.888  &         0.004        &        0.098    &        0.510     \\\\\n\\textbf{age\\_in\\_days}    &    1.706e-05  &     2.25e-06     &     7.576  &         0.000        &     1.26e-05    &     2.15e-05     \\\\\n\\textbf{gender}           &       0.0361  &        0.113     &     0.320  &         0.749        &       -0.185    &        0.257     \\\\\n\\textbf{chartvalue\\_1127} &      -0.0542  &        0.033     &    -1.656  &         0.098        &       -0.118    &        0.010     \\\\\n\\textbf{chartvalue\\_184}  &      -0.2131  &        0.097     &    -2.204  &         0.027        &       -0.402    &       -0.024     \\\\\n\\textbf{chartvalue\\_190}  &       0.9692  &        0.599     &     1.617  &         0.106        &       -0.205    &        2.144     \\\\\n\\textbf{chartvalue\\_198}  &       0.0302  &        0.072     &     0.418  &         0.676        &       -0.111    &        0.172     \\\\\n\\textbf{chartvalue\\_450}  &       0.1242  &        0.029     &     4.259  &         0.000        &        0.067    &        0.181     \\\\\n\\textbf{chartvalue\\_454}  &      -0.1869  &        0.080     &    -2.324  &         0.020        &       -0.345    &       -0.029     \\\\\n\\textbf{chartvalue\\_615}  &      -0.0330  &        0.016     &    -2.037  &         0.042        &       -0.065    &       -0.001     \\\\\n\\textbf{chartvalue\\_618}  &       0.0265  &        0.010     &     2.686  &         0.007        &        0.007    &        0.046     \\\\\n\\textbf{chartvalue\\_619}  &       0.0156  &        0.012     &     1.322  &         0.186        &       -0.008    &        0.039     \\\\\n\\textbf{chartvalue\\_682}  &      -0.0012  &        0.001     &    -1.556  &         0.120        &       -0.003    &        0.000     \\\\\n\\textbf{chartvalue\\_683}  &      -0.0022  &        0.001     &    -3.276  &         0.001        &       -0.003    &       -0.001     \\\\\n\\textbf{chartvalue\\_776}  &       0.0188  &        0.033     &     0.566  &         0.571        &       -0.046    &        0.084     \\\\\n\\textbf{chartvalue\\_777}  &       0.0014  &        0.038     &     0.036  &         0.971        &       -0.074    &        0.077     \\\\\n\\textbf{chartvalue\\_778}  &      -0.0269  &        0.013     &    -2.107  &         0.035        &       -0.052    &       -0.002     \\\\\n\\textbf{chartvalue\\_779}  &       0.0022  &        0.001     &     2.894  &         0.004        &        0.001    &        0.004     \\\\\n\\textbf{chartvalue\\_781}  &       0.0107  &        0.003     &     3.831  &         0.000        &        0.005    &        0.016     \\\\\n\\textbf{chartvalue\\_787}  &      -0.0048  &        0.022     &    -0.214  &         0.830        &       -0.049    &        0.039     \\\\\n\\textbf{chartvalue\\_791}  &       0.0050  &        0.041     &     0.123  &         0.902        &       -0.075    &        0.085     \\\\\n\\textbf{chartvalue\\_811}  &       0.0038  &        0.001     &     4.420  &         0.000        &        0.002    &        0.005     \\\\\n\\textbf{chartvalue\\_815}  &       0.3864  &        0.187     &     2.066  &         0.039        &        0.020    &        0.753     \\\\\n\\textbf{chartvalue\\_824}  &      -0.0366  &        0.031     &    -1.197  &         0.231        &       -0.096    &        0.023     \\\\\n\\textbf{chartvalue\\_825}  &       0.0036  &        0.003     &     1.355  &         0.175        &       -0.002    &        0.009     \\\\\n\\textbf{chartvalue\\_837}  &       0.0383  &        0.010     &     3.783  &         0.000        &        0.018    &        0.058     \\\\\n\\textbf{chartvalue\\_861}  &       0.0698  &        0.032     &     2.181  &         0.029        &        0.007    &        0.132     \\\\\n\\textbf{chartvalue\\_87}   &      -0.1448  &        0.030     &    -4.881  &         0.000        &       -0.203    &       -0.087     \\\\\n\\bottomrule\n\\end{tabular}\n%\\caption{Generalized Linear Model Regression Results}\n\\end{center}"
     },
     "execution_count": 41,
     "metadata": {},
     "output_type": "execute_result"
    }
   ],
   "execution_count": 41
  },
  {
   "cell_type": "markdown",
   "metadata": {},
   "source": [
    "**Assuming you had a model of $Y$ regressed on $X_1$ and you added the variable $X_2$, under what conditions would the coefficient for $X_1$ _not_ change?**"
   ]
  },
  {
   "cell_type": "markdown",
   "metadata": {},
   "source": "<span style=\"color:blue;\">When the new variable $X_2$ does not have any correlation with either the outcome $Y$ or the previous variable $X_1$ the coefficient will not change.</span>"
  },
  {
   "cell_type": "markdown",
   "metadata": {},
   "source": [
    "**If you had a model to estimate $Y$ regressed on $X_1$, and you added the variable $X_2$, what would likely happen to the coefficient of $X_1$ if both $X_1$ and $X_2$ were positively correlated with the outcome?**"
   ]
  },
  {
   "cell_type": "markdown",
   "metadata": {},
   "source": "<span style=\"color:blue;\">Both variables should have a positive coefficient estimate, and when the new variable $X_2$ is added, the coefficient of $X_1$ should be smaller but still positive.</span>"
  },
  {
   "cell_type": "markdown",
   "metadata": {},
   "source": [
    "### `2.2.3` (`8 points`) Mean-Squared-Error (MSE)"
   ]
  },
  {
   "cell_type": "markdown",
   "metadata": {},
   "source": [
    "Another way to compare models is to compare metrics such as the Mean Squared Error (MSE) and R-squared. These metrics are often used to evaluate the performance of regression models.\n",
    "\n",
    "MSE is the average of the squared errors (the difference between the predicted value of Y and the actual value of Y). It is calculated as follows:\n",
    "\n",
    "$MSE = \\frac{1}{n} \\sum_{i=1}^{n} (Y_i - \\hat{Y_i})^2$\n",
    "\n",
    "\n",
    "R-squared (also known as the coefficient of determination) represents the proportion of variance in the dependent variable that is explained by the independent variables in the model."
   ]
  },
  {
   "cell_type": "code",
   "metadata": {
    "ExecuteTime": {
     "end_time": "2024-11-12T23:07:36.046647Z",
     "start_time": "2024-11-12T23:07:36.019810Z"
    }
   },
   "source": [
    "model_1_probs = glm_1.predict(filtered_features[model_1_features])"
   ],
   "outputs": [],
   "execution_count": 42
  },
  {
   "cell_type": "code",
   "metadata": {
    "ExecuteTime": {
     "end_time": "2024-11-12T23:07:36.106087Z",
     "start_time": "2024-11-12T23:07:36.070268Z"
    }
   },
   "source": [
    "model_1_probs"
   ],
   "outputs": [
    {
     "data": {
      "text/plain": [
       "subject_id\n",
       "91       0.161155\n",
       "106      0.197938\n",
       "111      0.237709\n",
       "117      0.219587\n",
       "3        0.248640\n",
       "           ...   \n",
       "31983    0.257758\n",
       "32506    0.148017\n",
       "32513    0.158879\n",
       "32408    0.139875\n",
       "32417    0.140377\n",
       "Length: 3455, dtype: float64"
      ]
     },
     "execution_count": 43,
     "metadata": {},
     "output_type": "execute_result"
    }
   ],
   "execution_count": 43
  },
  {
   "cell_type": "code",
   "metadata": {
    "ExecuteTime": {
     "end_time": "2024-11-12T23:07:36.440317Z",
     "start_time": "2024-11-12T23:07:36.287419Z"
    }
   },
   "source": [
    "# Run this cell to get the R^2 and MSE values for each model\n",
    "from sklearn.metrics import r2_score, mean_squared_error\n",
    "\n",
    "# Let's compare these values for the different models\n",
    "# First, let's get the predicted probabilities for each model\n",
    "model_1_probs = glm_1.predict(filtered_features[model_1_features]).values\n",
    "model_2_probs = glm_2.predict(filtered_features[model_2_features]).values\n",
    "model_3_probs = glm_3.predict(filtered_features[model_3_features]).values\n",
    "\n",
    "# Now, let's calculate the R^2 and MSE for each model\n",
    "model_1_r2 = r2_score(labels, model_1_probs)\n",
    "model_1_mse = mean_squared_error(labels, model_1_probs)\n",
    "model_2_r2 = r2_score(labels, model_2_probs)\n",
    "model_2_mse = mean_squared_error(labels, model_2_probs)\n",
    "model_3_r2 = r2_score(labels, model_3_probs)\n",
    "model_3_mse = mean_squared_error(labels, model_3_probs)\n",
    "\n",
    "# Let's print these out\n",
    "print(f\"Model 1: R^2 = {model_1_r2}, MSE = {model_1_mse}\")\n",
    "print(f\"Model 2: R^2 = {model_2_r2}, MSE = {model_2_mse}\")\n",
    "print(f\"Model 3: R^2 = {model_3_r2}, MSE = {model_3_mse}\")"
   ],
   "outputs": [
    {
     "name": "stdout",
     "output_type": "stream",
     "text": [
      "Model 1: R^2 = 0.02934898022639365, MSE = 0.14471915342743066\n",
      "Model 2: R^2 = 0.02930825823802452, MSE = 0.14472522486975403\n",
      "Model 3: R^2 = 0.1683906531607331, MSE = 0.12398874384841994\n"
     ]
    }
   ],
   "execution_count": 44
  },
  {
   "cell_type": "markdown",
   "metadata": {},
   "source": [
    "**Which of the three models do you think has the best fit to the data we utilized? Explain your reasoning.**"
   ]
  },
  {
   "cell_type": "markdown",
   "metadata": {},
   "source": "<span style=\"color:blue;\">Model 3 best fit to the data, as it has the highest $R^2$ and lowest MSE. High $R^2$ means that a larger proportion of the variability in the dependent variable has been accounted for by the independent variables in the model, i.e., model is capturing the pattern of association between indepedent variables and outcome. The lower MSE is preferred as it means that the difference between model prediction to actual ground truth is smaller.</span>"
  },
  {
   "cell_type": "markdown",
   "metadata": {},
   "source": [
    "**If we were to use these models to predict outcomes for a group of new patients (patients the models had not seen before from a different dataset), would the same model perform the best on the new dataset as well? Explain your reasoning**"
   ]
  },
  {
   "cell_type": "markdown",
   "metadata": {},
   "source": "<span style=\"color:blue;\">The same model may not perform the best on new dataset, as a high $R^2$ value and low MSE here only indicates how well it fits to the trained data. Overfitting could occur where model is fitted too closely to the training data and small fluctuations/noise are also captured, making it less generalizable to test data.</span>"
  },
  {
   "cell_type": "markdown",
   "metadata": {},
   "source": [
    "## `2.3` (`23 points`) Survival Analysis\n",
    "\n",
    "Survival analysis, also known as time-to-event analysis, is a branch of statistics that deals with analyzing the expected duration of time until one or more events happen. In the context of biomedical data science, these events often represent the occurrence of a particular health-related outcome, such as the onset of a disease, death, or recovery. Survival analysis is a powerful tool that can be used to answer a wide range of application areas, such as in clinical trials (to compare distributions of various treatment groups), epidemilogical studies (to identify risk factors that may influence the time to event prediction), and even patient monitoring (to predict the time to a equipment failure or a patient's discharge).\n",
    "\n",
    "In this part of the assignment, you will perform some survival analysis on the cohort's data."
   ]
  },
  {
   "cell_type": "markdown",
   "metadata": {},
   "source": [
    "### `2.3.1` (`3 points`) Creating Survival Data\n",
    "\n",
    "The first step of doing a survival analysis is to get our data into the appropriate format. To start, let's calculate the `survival time` for each patient. The `survival time` is the number of days between the patient's admission and the time of a particular event.\n",
    "\n",
    "Implement the function `calc_survival_time` in `survival.py`. When you are finished, run the following cell."
   ]
  },
  {
   "cell_type": "code",
   "metadata": {
    "ExecuteTime": {
     "end_time": "2024-11-12T23:07:36.514147Z",
     "start_time": "2024-11-12T23:07:36.470592Z"
    }
   },
   "source": [
    "from src.survival import calc_survival_time\n",
    "\n",
    "# Run this cell to calculate the survival time for each patient\n",
    "survival_df = calc_survival_time(cohort)\n",
    "\n",
    "\n",
    "# Sanity Check\n",
    "if max(survival_df[\"survival_time_days\"]) != 172:\n",
    "    warnings.warn(\"Max survival time is incorrect\", SanityCheck)"
   ],
   "outputs": [],
   "execution_count": 45
  },
  {
   "cell_type": "markdown",
   "metadata": {},
   "source": [
    "### `2.3.2` (`13 points`) Kaplan-Meier Curves\n",
    "\n",
    "In survival analysis, an extremely commonly utilized tool is the `Kaplan-Meier (KM) estimator`, and the associated visualization method, the `Kaplan-Meier curve`. The `Kaplan-Meier (KM) estimator` is a non-parametric* method used to estimate the `survival function` from time-to-event data, which is the probability that a particular event has not occurred yet at a given time point. The `Kaplan-Meier curve` is a graphical representation of the `survival function` over time, and is often used to compare the survival distributions of different groups.\n",
    "\n",
    "In this part of the assignment, you will set up a function to generate a `Kaplan-Meier curve` for the cohort's data. You will then use the `Kaplan-Meier curve` to compare the survival distributions of patients who experienced a sudden drop in oxygenation (oxy_drop) to those who did not. Before we get started, let's learn a bit more about how the `Kaplan-Meier estimator` works.\n",
    "\n",
    "The `Kaplan-Meier estimator` is a product-limit estimator, meaning that it is calculated as the product of the conditional probabilities of surviving each time interval. At each time point in our data, we need to know the following:\n",
    "\n",
    "- $n_i$ = The number of patients who are at risk of experiencing the event at time $t_i$\n",
    "- $d_i$ = The number of patients who experienced the event at time $t_i$\n",
    "\n",
    "The `Kaplan-Meier estimator` for the survival function at time $t_i$ is calculated as the product of the probabilities for all observed time points up to and including $t_i$:\n",
    "\n",
    "$\\hat{S}(t_i) = \\prod_{j: t_j \\leq t_i} \\frac{n_j - d_j}{n_j} = \\prod_{j: t_j \\leq t_i} P(T > t_j | T > t_{j-1})$\n",
    "\n",
    "The `Kaplan-Meier curve` is a graphical representation of the `Kaplan-Meier estimator` over time. The `Kaplan-Meier curve` is a step function, where the value of the curve at each time point is equal to the value of the `Kaplan-Meier estimator` at that time point (with time on the x-axis and the `Kaplan-Meier estimator` on the y-axis).\n",
    "\n",
    "> \\* A \"non-parameteric\" method in statistics refers to a type of method that makes few (if any) assumptions about data. This contrasts with \"parametric\" methods which assume some sort of distributional form for the data. The Kaplan-Meier curve is a non-parametric method because it does not assume any particular distribution for the survival times, and **utilizes only the observed data to estimate the survival function.**"
   ]
  },
  {
   "cell_type": "markdown",
   "metadata": {},
   "source": [
    "Implement the function `display_kaplan_meier_curve` in `survival.py`. When you are finished, run the following cell."
   ]
  },
  {
   "cell_type": "code",
   "metadata": {
    "ExecuteTime": {
     "end_time": "2024-11-12T23:07:36.984496Z",
     "start_time": "2024-11-12T23:07:36.617571Z"
    }
   },
   "source": [
    "from src.survival import display_kaplan_meier_curve\n",
    "\n",
    "oxy_group_1, oxy_group2 = display_kaplan_meier_curve(survival_df, \"kaplan_meier_curve.png\")"
   ],
   "outputs": [
    {
     "data": {
      "text/plain": [
       "<Figure size 1000x600 with 1 Axes>"
      ],
      "image/png": "[encoded data removed]"
     },
     "metadata": {},
     "output_type": "display_data"
    }
   ],
   "execution_count": 46
  },
  {
   "cell_type": "markdown",
   "metadata": {},
   "source": [
    "### `2.3.3` (`7 points`) Cox Proportional Hazards Model\n",
    "\n",
    "Another fundamental tool of survival analysis is the `Cox Proportional Hazards Model`. The `Cox Proportional Hazards Model` is a semi-parametric* method used to model the `hazard function` from time-to-event data. The `hazard function` is the probability that a particular event occurs at a given time point, given that the event has not occurred yet. (Contrast the hazard function with the survival function we talked about above!)\n",
    "\n",
    "The `Cox Proportional Hazards Model` is a popular tool for survival analysis because it is relatively simple to implement, and it allows us to estimate the effect of multiple variables on the `hazard function` simultaneously.\n",
    "\n",
    "> \\* A semi-parametric method is a method that includes both parametric and non-parametric components.\n",
    "\n",
    "Here we will implement a Cox Proportional Hazards Model utilizing the `lifelines` library."
   ]
  },
  {
   "cell_type": "code",
   "metadata": {
    "ExecuteTime": {
     "end_time": "2024-11-12T23:07:37.128456Z",
     "start_time": "2024-11-12T23:07:37.030789Z"
    }
   },
   "source": [
    "# Run this cell to import the CoxPHFitter class from the lifelines package.\n",
    "# Use this class to fit a Cox Proportional Hazards model to the survival data.\n",
    "from lifelines import CoxPHFitter"
   ],
   "outputs": [],
   "execution_count": 47
  },
  {
   "cell_type": "code",
   "metadata": {
    "ExecuteTime": {
     "end_time": "2024-11-12T23:07:37.224110Z",
     "start_time": "2024-11-12T23:07:37.191393Z"
    }
   },
   "source": [
    "# Run this cell (no edits needed) to prepare the data for the cox model\n",
    "\n",
    "# Create a survival dataframe that contains the survival time and feature columns\n",
    "surv_features = filtered_features.merge(survival_df.drop(columns=[\"oxy_drop\"]), on=\"subject_id\").drop(columns=[\"subject_id\"])\n",
    "\n",
    "# Create a binary column for death event\n",
    "surv_features[\"death_event\"] = (surv_features['death_in_stay'] == 'died').astype(int)\n",
    "\n",
    "# Remove the \"death_in_stay\" column\n",
    "surv_features.drop(columns=[\"death_in_stay\"], inplace=True)"
   ],
   "outputs": [],
   "execution_count": 48
  },
  {
   "cell_type": "markdown",
   "metadata": {},
   "source": [
    "Fit a Cox Proportional Hazards model using the cell below. You will need to use the `CoxPHFitter` class from the `lifelines` library. You can find the documentation for the `CoxPHFitter` class here: [https://lifelines.readthedocs.io/en/latest/fitters/regression/CoxPHFitter.html](https://lifelines.readthedocs.io/en/latest/fitters/regression/CoxPHFitter.html)\n",
    "\n",
    "\n",
    "\n",
    "In your implementation, use `oxy_drop` as the only predictor(formula), `death_event` as the event, and `survival_time_days` as the duration."
   ]
  },
  {
   "cell_type": "code",
   "metadata": {
    "ExecuteTime": {
     "end_time": "2024-11-12T23:07:38.045760Z",
     "start_time": "2024-11-12T23:07:37.296136Z"
    }
   },
   "source": [
    "# TODO: Fit a Cox Proportional Hazards model to the survival data\n",
    "cph = CoxPHFitter()\n",
    "#cph.fit(surv_features, 'survival_time_days', 'death_event', formula='oxy_drop')\n",
    "cph.fit(surv_features, formula='oxy_drop', event_col='death_event', duration_col='survival_time_days')\n",
    "cph.print_summary()"
   ],
   "outputs": [
    {
     "data": {
      "text/plain": [
       "<lifelines.CoxPHFitter: fitted with 3455 total observations, 2825 right-censored observations>\n",
       "             duration col = 'survival_time_days'\n",
       "                event col = 'death_event'\n",
       "      baseline estimation = breslow\n",
       "   number of observations = 3455\n",
       "number of events observed = 630\n",
       "   partial log-likelihood = -4726.58\n",
       "         time fit was run = 2024-11-12 23:07:37 UTC\n",
       "\n",
       "---\n",
       "            coef  exp(coef)   se(coef)   coef lower 95%   coef upper 95%  exp(coef) lower 95%  exp(coef) upper 95%\n",
       "covariate                                                                                                         \n",
       "oxy_drop    0.08       1.08       0.08            -0.09             0.24                 0.92                 1.27\n",
       "\n",
       "            cmp to    z    p   -log2(p)\n",
       "covariate                              \n",
       "oxy_drop      0.00 0.91 0.36       1.47\n",
       "---\n",
       "Concordance = 0.50\n",
       "Partial AIC = 9455.17\n",
       "log-likelihood ratio test = 0.83 on 1 df\n",
       "-log2(p) of ll-ratio test = 1.46"
      ],
      "text/html": [
       "<div>\n",
       "<style scoped>\n",
       "    .dataframe tbody tr th:only-of-type {\n",
       "        vertical-align: middle;\n",
       "    }\n",
       "\n",
       "    .dataframe tbody tr th {\n",
       "        vertical-align: top;\n",
       "    }\n",
       "\n",
       "    .dataframe thead th {\n",
       "        text-align: right;\n",
       "    }\n",
       "</style>\n",
       "<table border=\"1\" class=\"dataframe\">\n",
       "  <tbody>\n",
       "    <tr>\n",
       "      <th>model</th>\n",
       "      <td>lifelines.CoxPHFitter</td>\n",
       "    </tr>\n",
       "    <tr>\n",
       "      <th>duration col</th>\n",
       "      <td>'survival_time_days'</td>\n",
       "    </tr>\n",
       "    <tr>\n",
       "      <th>event col</th>\n",
       "      <td>'death_event'</td>\n",
       "    </tr>\n",
       "    <tr>\n",
       "      <th>baseline estimation</th>\n",
       "      <td>breslow</td>\n",
       "    </tr>\n",
       "    <tr>\n",
       "      <th>number of observations</th>\n",
       "      <td>3455</td>\n",
       "    </tr>\n",
       "    <tr>\n",
       "      <th>number of events observed</th>\n",
       "      <td>630</td>\n",
       "    </tr>\n",
       "    <tr>\n",
       "      <th>partial log-likelihood</th>\n",
       "      <td>-4726.58</td>\n",
       "    </tr>\n",
       "    <tr>\n",
       "      <th>time fit was run</th>\n",
       "      <td>2024-11-12 23:07:37 UTC</td>\n",
       "    </tr>\n",
       "  </tbody>\n",
       "</table>\n",
       "</div><table border=\"1\" class=\"dataframe\">\n",
       "  <thead>\n",
       "    <tr style=\"text-align: right;\">\n",
       "      <th style=\"min-width: 12px;\"></th>\n",
       "      <th style=\"min-width: 12px;\">coef</th>\n",
       "      <th style=\"min-width: 12px;\">exp(coef)</th>\n",
       "      <th style=\"min-width: 12px;\">se(coef)</th>\n",
       "      <th style=\"min-width: 12px;\">coef lower 95%</th>\n",
       "      <th style=\"min-width: 12px;\">coef upper 95%</th>\n",
       "      <th style=\"min-width: 12px;\">exp(coef) lower 95%</th>\n",
       "      <th style=\"min-width: 12px;\">exp(coef) upper 95%</th>\n",
       "      <th style=\"min-width: 12px;\">cmp to</th>\n",
       "      <th style=\"min-width: 12px;\">z</th>\n",
       "      <th style=\"min-width: 12px;\">p</th>\n",
       "      <th style=\"min-width: 12px;\">-log2(p)</th>\n",
       "    </tr>\n",
       "  </thead>\n",
       "  <tbody>\n",
       "    <tr>\n",
       "      <th>oxy_drop</th>\n",
       "      <td>0.08</td>\n",
       "      <td>1.08</td>\n",
       "      <td>0.08</td>\n",
       "      <td>-0.09</td>\n",
       "      <td>0.24</td>\n",
       "      <td>0.92</td>\n",
       "      <td>1.27</td>\n",
       "      <td>0.00</td>\n",
       "      <td>0.91</td>\n",
       "      <td>0.36</td>\n",
       "      <td>1.47</td>\n",
       "    </tr>\n",
       "  </tbody>\n",
       "</table><br><div>\n",
       "<style scoped>\n",
       "    .dataframe tbody tr th:only-of-type {\n",
       "        vertical-align: middle;\n",
       "    }\n",
       "\n",
       "    .dataframe tbody tr th {\n",
       "        vertical-align: top;\n",
       "    }\n",
       "\n",
       "    .dataframe thead th {\n",
       "        text-align: right;\n",
       "    }\n",
       "</style>\n",
       "<table border=\"1\" class=\"dataframe\">\n",
       "  <tbody>\n",
       "    <tr>\n",
       "      <th>Concordance</th>\n",
       "      <td>0.50</td>\n",
       "    </tr>\n",
       "    <tr>\n",
       "      <th>Partial AIC</th>\n",
       "      <td>9455.17</td>\n",
       "    </tr>\n",
       "    <tr>\n",
       "      <th>log-likelihood ratio test</th>\n",
       "      <td>0.83 on 1 df</td>\n",
       "    </tr>\n",
       "    <tr>\n",
       "      <th>-log2(p) of ll-ratio test</th>\n",
       "      <td>1.46</td>\n",
       "    </tr>\n",
       "  </tbody>\n",
       "</table>\n",
       "</div>"
      ],
      "text/latex": "\\begin{tabular}{lrrrrrrrrrrr}\n & coef & exp(coef) & se(coef) & coef lower 95% & coef upper 95% & exp(coef) lower 95% & exp(coef) upper 95% & cmp to & z & p & -log2(p) \\\\\ncovariate &  &  &  &  &  &  &  &  &  &  &  \\\\\noxy_drop & 0.08 & 1.08 & 0.08 & -0.09 & 0.24 & 0.92 & 1.27 & 0.00 & 0.91 & 0.36 & 1.47 \\\\\n\\end{tabular}\n"
     },
     "metadata": {},
     "output_type": "display_data"
    }
   ],
   "execution_count": 49
  },
  {
   "cell_type": "markdown",
   "metadata": {},
   "source": [
    "**What is the point estimate and 95% confidence interval of the coefficient for `oxy_drop`?**\n",
    "\n"
   ]
  },
  {
   "cell_type": "markdown",
   "metadata": {},
   "source": "<span style=\"color:blue;\">The point estimate is 0.10, and the 95% confidence interval for coefficient of oxy_drop is [-0.07, 0.26].</span>"
  },
  {
   "cell_type": "markdown",
   "metadata": {},
   "source": [
    "In addition, let's run another version of the model adjusted for all of the `sig_columns` (the columns known to have significant associations in `filtered_features`) AND the `oxy_drop` column. Use the same event and duration as above, and utilize the `sig_columns` and `oxy_drop` as the predictors (formula).\n",
    "\n"
   ]
  },
  {
   "cell_type": "code",
   "metadata": {
    "ExecuteTime": {
     "end_time": "2024-11-12T23:07:38.775492Z",
     "start_time": "2024-11-12T23:07:38.121695Z"
    }
   },
   "source": [
    "# TODO: Implement the model here\n",
    "cph = CoxPHFitter()\n",
    "formula_cols = sig_columns\n",
    "formula_cols.append('oxy_drop')\n",
    "cph.fit(surv_features, duration_col='survival_time_days', event_col='death_event', formula=formula_cols)\n",
    "cph.print_summary()\n"
   ],
   "outputs": [
    {
     "data": {
      "text/plain": [
       "<lifelines.CoxPHFitter: fitted with 3455 total observations, 2825 right-censored observations>\n",
       "             duration col = 'survival_time_days'\n",
       "                event col = 'death_event'\n",
       "      baseline estimation = breslow\n",
       "   number of observations = 3455\n",
       "number of events observed = 630\n",
       "   partial log-likelihood = -4521.73\n",
       "         time fit was run = 2024-11-12 23:07:38 UTC\n",
       "\n",
       "---\n",
       "                  coef  exp(coef)   se(coef)   coef lower 95%   coef upper 95%  exp(coef) lower 95%  exp(coef) upper 95%\n",
       "covariate                                                                                                               \n",
       "chartvalue_1127  -0.05       0.96       0.03            -0.10             0.00                 0.91                 1.00\n",
       "chartvalue_184   -0.15       0.86       0.08            -0.32             0.01                 0.73                 1.01\n",
       "chartvalue_190    0.93       2.52       0.45             0.04             1.81                 1.04                 6.12\n",
       "chartvalue_198    0.01       1.01       0.06            -0.12             0.13                 0.89                 1.14\n",
       "chartvalue_450    0.06       1.06       0.02             0.02             0.10                 1.02                 1.10\n",
       "chartvalue_454   -0.15       0.86       0.07            -0.28            -0.01                 0.75                 0.99\n",
       "chartvalue_615   -0.01       0.99       0.01            -0.04             0.01                 0.96                 1.01\n",
       "chartvalue_618    0.02       1.02       0.01             0.01             0.04                 1.01                 1.04\n",
       "chartvalue_619    0.01       1.01       0.01            -0.01             0.03                 0.99                 1.03\n",
       "chartvalue_682   -0.00       1.00       0.00            -0.00             0.00                 1.00                 1.00\n",
       "chartvalue_683   -0.00       1.00       0.00            -0.00            -0.00                 1.00                 1.00\n",
       "chartvalue_776    0.00       1.00       0.03            -0.06             0.07                 0.94                 1.07\n",
       "chartvalue_777    0.01       1.01       0.04            -0.07             0.08                 0.93                 1.09\n",
       "chartvalue_778   -0.03       0.97       0.01            -0.06            -0.01                 0.95                 0.99\n",
       "chartvalue_779    0.00       1.00       0.00             0.00             0.00                 1.00                 1.00\n",
       "chartvalue_781    0.01       1.01       0.00             0.00             0.01                 1.00                 1.01\n",
       "chartvalue_787    0.01       1.01       0.02            -0.03             0.04                 0.97                 1.04\n",
       "chartvalue_791    0.00       1.00       0.03            -0.06             0.07                 0.94                 1.07\n",
       "chartvalue_811    0.00       1.00       0.00             0.00             0.00                 1.00                 1.00\n",
       "chartvalue_815    0.22       1.25       0.11             0.02             0.43                 1.02                 1.54\n",
       "chartvalue_824   -0.02       0.98       0.02            -0.06             0.02                 0.94                 1.02\n",
       "chartvalue_825    0.00       1.00       0.00             0.00             0.01                 1.00                 1.01\n",
       "chartvalue_837    0.04       1.04       0.01             0.02             0.05                 1.02                 1.06\n",
       "chartvalue_861    0.06       1.06       0.02             0.01             0.11                 1.01                 1.11\n",
       "chartvalue_87    -0.12       0.89       0.02            -0.16            -0.07                 0.85                 0.93\n",
       "oxy_drop         -0.22       0.80       0.09            -0.39            -0.05                 0.68                 0.95\n",
       "\n",
       "                  cmp to     z      p   -log2(p)\n",
       "covariate                                       \n",
       "chartvalue_1127     0.00 -1.83   0.07       3.88\n",
       "chartvalue_184      0.00 -1.85   0.06       3.95\n",
       "chartvalue_190      0.00  2.04   0.04       4.61\n",
       "chartvalue_198      0.00  0.14   0.89       0.17\n",
       "chartvalue_450      0.00  3.05 <0.005       8.75\n",
       "chartvalue_454      0.00 -2.13   0.03       4.92\n",
       "chartvalue_615      0.00 -1.15   0.25       2.00\n",
       "chartvalue_618      0.00  2.76   0.01       7.42\n",
       "chartvalue_619      0.00  0.83   0.41       1.29\n",
       "chartvalue_682      0.00 -1.86   0.06       4.00\n",
       "chartvalue_683      0.00 -3.54 <0.005      11.31\n",
       "chartvalue_776      0.00  0.12   0.90       0.14\n",
       "chartvalue_777      0.00  0.13   0.89       0.16\n",
       "chartvalue_778      0.00 -2.61   0.01       6.80\n",
       "chartvalue_779      0.00  2.16   0.03       5.01\n",
       "chartvalue_781      0.00  2.88 <0.005       7.95\n",
       "chartvalue_787      0.00  0.41   0.68       0.56\n",
       "chartvalue_791      0.00  0.12   0.90       0.15\n",
       "chartvalue_811      0.00  4.56 <0.005      17.55\n",
       "chartvalue_815      0.00  2.13   0.03       4.91\n",
       "chartvalue_824      0.00 -1.00   0.32       1.66\n",
       "chartvalue_825      0.00  2.14   0.03       4.94\n",
       "chartvalue_837      0.00  4.79 <0.005      19.21\n",
       "chartvalue_861      0.00  2.35   0.02       5.75\n",
       "chartvalue_87       0.00 -4.85 <0.005      19.62\n",
       "oxy_drop            0.00 -2.52   0.01       6.42\n",
       "---\n",
       "Concordance = 0.75\n",
       "Partial AIC = 9095.46\n",
       "log-likelihood ratio test = 410.54 on 26 df\n",
       "-log2(p) of ll-ratio test = 232.71"
      ],
      "text/html": [
       "<div>\n",
       "<style scoped>\n",
       "    .dataframe tbody tr th:only-of-type {\n",
       "        vertical-align: middle;\n",
       "    }\n",
       "\n",
       "    .dataframe tbody tr th {\n",
       "        vertical-align: top;\n",
       "    }\n",
       "\n",
       "    .dataframe thead th {\n",
       "        text-align: right;\n",
       "    }\n",
       "</style>\n",
       "<table border=\"1\" class=\"dataframe\">\n",
       "  <tbody>\n",
       "    <tr>\n",
       "      <th>model</th>\n",
       "      <td>lifelines.CoxPHFitter</td>\n",
       "    </tr>\n",
       "    <tr>\n",
       "      <th>duration col</th>\n",
       "      <td>'survival_time_days'</td>\n",
       "    </tr>\n",
       "    <tr>\n",
       "      <th>event col</th>\n",
       "      <td>'death_event'</td>\n",
       "    </tr>\n",
       "    <tr>\n",
       "      <th>baseline estimation</th>\n",
       "      <td>breslow</td>\n",
       "    </tr>\n",
       "    <tr>\n",
       "      <th>number of observations</th>\n",
       "      <td>3455</td>\n",
       "    </tr>\n",
       "    <tr>\n",
       "      <th>number of events observed</th>\n",
       "      <td>630</td>\n",
       "    </tr>\n",
       "    <tr>\n",
       "      <th>partial log-likelihood</th>\n",
       "      <td>-4521.73</td>\n",
       "    </tr>\n",
       "    <tr>\n",
       "      <th>time fit was run</th>\n",
       "      <td>2024-11-12 23:07:38 UTC</td>\n",
       "    </tr>\n",
       "  </tbody>\n",
       "</table>\n",
       "</div><table border=\"1\" class=\"dataframe\">\n",
       "  <thead>\n",
       "    <tr style=\"text-align: right;\">\n",
       "      <th style=\"min-width: 12px;\"></th>\n",
       "      <th style=\"min-width: 12px;\">coef</th>\n",
       "      <th style=\"min-width: 12px;\">exp(coef)</th>\n",
       "      <th style=\"min-width: 12px;\">se(coef)</th>\n",
       "      <th style=\"min-width: 12px;\">coef lower 95%</th>\n",
       "      <th style=\"min-width: 12px;\">coef upper 95%</th>\n",
       "      <th style=\"min-width: 12px;\">exp(coef) lower 95%</th>\n",
       "      <th style=\"min-width: 12px;\">exp(coef) upper 95%</th>\n",
       "      <th style=\"min-width: 12px;\">cmp to</th>\n",
       "      <th style=\"min-width: 12px;\">z</th>\n",
       "      <th style=\"min-width: 12px;\">p</th>\n",
       "      <th style=\"min-width: 12px;\">-log2(p)</th>\n",
       "    </tr>\n",
       "  </thead>\n",
       "  <tbody>\n",
       "    <tr>\n",
       "      <th>chartvalue_1127</th>\n",
       "      <td>-0.05</td>\n",
       "      <td>0.96</td>\n",
       "      <td>0.03</td>\n",
       "      <td>-0.10</td>\n",
       "      <td>0.00</td>\n",
       "      <td>0.91</td>\n",
       "      <td>1.00</td>\n",
       "      <td>0.00</td>\n",
       "      <td>-1.83</td>\n",
       "      <td>0.07</td>\n",
       "      <td>3.88</td>\n",
       "    </tr>\n",
       "    <tr>\n",
       "      <th>chartvalue_184</th>\n",
       "      <td>-0.15</td>\n",
       "      <td>0.86</td>\n",
       "      <td>0.08</td>\n",
       "      <td>-0.32</td>\n",
       "      <td>0.01</td>\n",
       "      <td>0.73</td>\n",
       "      <td>1.01</td>\n",
       "      <td>0.00</td>\n",
       "      <td>-1.85</td>\n",
       "      <td>0.06</td>\n",
       "      <td>3.95</td>\n",
       "    </tr>\n",
       "    <tr>\n",
       "      <th>chartvalue_190</th>\n",
       "      <td>0.93</td>\n",
       "      <td>2.52</td>\n",
       "      <td>0.45</td>\n",
       "      <td>0.04</td>\n",
       "      <td>1.81</td>\n",
       "      <td>1.04</td>\n",
       "      <td>6.12</td>\n",
       "      <td>0.00</td>\n",
       "      <td>2.04</td>\n",
       "      <td>0.04</td>\n",
       "      <td>4.61</td>\n",
       "    </tr>\n",
       "    <tr>\n",
       "      <th>chartvalue_198</th>\n",
       "      <td>0.01</td>\n",
       "      <td>1.01</td>\n",
       "      <td>0.06</td>\n",
       "      <td>-0.12</td>\n",
       "      <td>0.13</td>\n",
       "      <td>0.89</td>\n",
       "      <td>1.14</td>\n",
       "      <td>0.00</td>\n",
       "      <td>0.14</td>\n",
       "      <td>0.89</td>\n",
       "      <td>0.17</td>\n",
       "    </tr>\n",
       "    <tr>\n",
       "      <th>chartvalue_450</th>\n",
       "      <td>0.06</td>\n",
       "      <td>1.06</td>\n",
       "      <td>0.02</td>\n",
       "      <td>0.02</td>\n",
       "      <td>0.10</td>\n",
       "      <td>1.02</td>\n",
       "      <td>1.10</td>\n",
       "      <td>0.00</td>\n",
       "      <td>3.05</td>\n",
       "      <td>&lt;0.005</td>\n",
       "      <td>8.75</td>\n",
       "    </tr>\n",
       "    <tr>\n",
       "      <th>chartvalue_454</th>\n",
       "      <td>-0.15</td>\n",
       "      <td>0.86</td>\n",
       "      <td>0.07</td>\n",
       "      <td>-0.28</td>\n",
       "      <td>-0.01</td>\n",
       "      <td>0.75</td>\n",
       "      <td>0.99</td>\n",
       "      <td>0.00</td>\n",
       "      <td>-2.13</td>\n",
       "      <td>0.03</td>\n",
       "      <td>4.92</td>\n",
       "    </tr>\n",
       "    <tr>\n",
       "      <th>chartvalue_615</th>\n",
       "      <td>-0.01</td>\n",
       "      <td>0.99</td>\n",
       "      <td>0.01</td>\n",
       "      <td>-0.04</td>\n",
       "      <td>0.01</td>\n",
       "      <td>0.96</td>\n",
       "      <td>1.01</td>\n",
       "      <td>0.00</td>\n",
       "      <td>-1.15</td>\n",
       "      <td>0.25</td>\n",
       "      <td>2.00</td>\n",
       "    </tr>\n",
       "    <tr>\n",
       "      <th>chartvalue_618</th>\n",
       "      <td>0.02</td>\n",
       "      <td>1.02</td>\n",
       "      <td>0.01</td>\n",
       "      <td>0.01</td>\n",
       "      <td>0.04</td>\n",
       "      <td>1.01</td>\n",
       "      <td>1.04</td>\n",
       "      <td>0.00</td>\n",
       "      <td>2.76</td>\n",
       "      <td>0.01</td>\n",
       "      <td>7.42</td>\n",
       "    </tr>\n",
       "    <tr>\n",
       "      <th>chartvalue_619</th>\n",
       "      <td>0.01</td>\n",
       "      <td>1.01</td>\n",
       "      <td>0.01</td>\n",
       "      <td>-0.01</td>\n",
       "      <td>0.03</td>\n",
       "      <td>0.99</td>\n",
       "      <td>1.03</td>\n",
       "      <td>0.00</td>\n",
       "      <td>0.83</td>\n",
       "      <td>0.41</td>\n",
       "      <td>1.29</td>\n",
       "    </tr>\n",
       "    <tr>\n",
       "      <th>chartvalue_682</th>\n",
       "      <td>-0.00</td>\n",
       "      <td>1.00</td>\n",
       "      <td>0.00</td>\n",
       "      <td>-0.00</td>\n",
       "      <td>0.00</td>\n",
       "      <td>1.00</td>\n",
       "      <td>1.00</td>\n",
       "      <td>0.00</td>\n",
       "      <td>-1.86</td>\n",
       "      <td>0.06</td>\n",
       "      <td>4.00</td>\n",
       "    </tr>\n",
       "    <tr>\n",
       "      <th>chartvalue_683</th>\n",
       "      <td>-0.00</td>\n",
       "      <td>1.00</td>\n",
       "      <td>0.00</td>\n",
       "      <td>-0.00</td>\n",
       "      <td>-0.00</td>\n",
       "      <td>1.00</td>\n",
       "      <td>1.00</td>\n",
       "      <td>0.00</td>\n",
       "      <td>-3.54</td>\n",
       "      <td>&lt;0.005</td>\n",
       "      <td>11.31</td>\n",
       "    </tr>\n",
       "    <tr>\n",
       "      <th>chartvalue_776</th>\n",
       "      <td>0.00</td>\n",
       "      <td>1.00</td>\n",
       "      <td>0.03</td>\n",
       "      <td>-0.06</td>\n",
       "      <td>0.07</td>\n",
       "      <td>0.94</td>\n",
       "      <td>1.07</td>\n",
       "      <td>0.00</td>\n",
       "      <td>0.12</td>\n",
       "      <td>0.90</td>\n",
       "      <td>0.14</td>\n",
       "    </tr>\n",
       "    <tr>\n",
       "      <th>chartvalue_777</th>\n",
       "      <td>0.01</td>\n",
       "      <td>1.01</td>\n",
       "      <td>0.04</td>\n",
       "      <td>-0.07</td>\n",
       "      <td>0.08</td>\n",
       "      <td>0.93</td>\n",
       "      <td>1.09</td>\n",
       "      <td>0.00</td>\n",
       "      <td>0.13</td>\n",
       "      <td>0.89</td>\n",
       "      <td>0.16</td>\n",
       "    </tr>\n",
       "    <tr>\n",
       "      <th>chartvalue_778</th>\n",
       "      <td>-0.03</td>\n",
       "      <td>0.97</td>\n",
       "      <td>0.01</td>\n",
       "      <td>-0.06</td>\n",
       "      <td>-0.01</td>\n",
       "      <td>0.95</td>\n",
       "      <td>0.99</td>\n",
       "      <td>0.00</td>\n",
       "      <td>-2.61</td>\n",
       "      <td>0.01</td>\n",
       "      <td>6.80</td>\n",
       "    </tr>\n",
       "    <tr>\n",
       "      <th>chartvalue_779</th>\n",
       "      <td>0.00</td>\n",
       "      <td>1.00</td>\n",
       "      <td>0.00</td>\n",
       "      <td>0.00</td>\n",
       "      <td>0.00</td>\n",
       "      <td>1.00</td>\n",
       "      <td>1.00</td>\n",
       "      <td>0.00</td>\n",
       "      <td>2.16</td>\n",
       "      <td>0.03</td>\n",
       "      <td>5.01</td>\n",
       "    </tr>\n",
       "    <tr>\n",
       "      <th>chartvalue_781</th>\n",
       "      <td>0.01</td>\n",
       "      <td>1.01</td>\n",
       "      <td>0.00</td>\n",
       "      <td>0.00</td>\n",
       "      <td>0.01</td>\n",
       "      <td>1.00</td>\n",
       "      <td>1.01</td>\n",
       "      <td>0.00</td>\n",
       "      <td>2.88</td>\n",
       "      <td>&lt;0.005</td>\n",
       "      <td>7.95</td>\n",
       "    </tr>\n",
       "    <tr>\n",
       "      <th>chartvalue_787</th>\n",
       "      <td>0.01</td>\n",
       "      <td>1.01</td>\n",
       "      <td>0.02</td>\n",
       "      <td>-0.03</td>\n",
       "      <td>0.04</td>\n",
       "      <td>0.97</td>\n",
       "      <td>1.04</td>\n",
       "      <td>0.00</td>\n",
       "      <td>0.41</td>\n",
       "      <td>0.68</td>\n",
       "      <td>0.56</td>\n",
       "    </tr>\n",
       "    <tr>\n",
       "      <th>chartvalue_791</th>\n",
       "      <td>0.00</td>\n",
       "      <td>1.00</td>\n",
       "      <td>0.03</td>\n",
       "      <td>-0.06</td>\n",
       "      <td>0.07</td>\n",
       "      <td>0.94</td>\n",
       "      <td>1.07</td>\n",
       "      <td>0.00</td>\n",
       "      <td>0.12</td>\n",
       "      <td>0.90</td>\n",
       "      <td>0.15</td>\n",
       "    </tr>\n",
       "    <tr>\n",
       "      <th>chartvalue_811</th>\n",
       "      <td>0.00</td>\n",
       "      <td>1.00</td>\n",
       "      <td>0.00</td>\n",
       "      <td>0.00</td>\n",
       "      <td>0.00</td>\n",
       "      <td>1.00</td>\n",
       "      <td>1.00</td>\n",
       "      <td>0.00</td>\n",
       "      <td>4.56</td>\n",
       "      <td>&lt;0.005</td>\n",
       "      <td>17.55</td>\n",
       "    </tr>\n",
       "    <tr>\n",
       "      <th>chartvalue_815</th>\n",
       "      <td>0.22</td>\n",
       "      <td>1.25</td>\n",
       "      <td>0.11</td>\n",
       "      <td>0.02</td>\n",
       "      <td>0.43</td>\n",
       "      <td>1.02</td>\n",
       "      <td>1.54</td>\n",
       "      <td>0.00</td>\n",
       "      <td>2.13</td>\n",
       "      <td>0.03</td>\n",
       "      <td>4.91</td>\n",
       "    </tr>\n",
       "    <tr>\n",
       "      <th>chartvalue_824</th>\n",
       "      <td>-0.02</td>\n",
       "      <td>0.98</td>\n",
       "      <td>0.02</td>\n",
       "      <td>-0.06</td>\n",
       "      <td>0.02</td>\n",
       "      <td>0.94</td>\n",
       "      <td>1.02</td>\n",
       "      <td>0.00</td>\n",
       "      <td>-1.00</td>\n",
       "      <td>0.32</td>\n",
       "      <td>1.66</td>\n",
       "    </tr>\n",
       "    <tr>\n",
       "      <th>chartvalue_825</th>\n",
       "      <td>0.00</td>\n",
       "      <td>1.00</td>\n",
       "      <td>0.00</td>\n",
       "      <td>0.00</td>\n",
       "      <td>0.01</td>\n",
       "      <td>1.00</td>\n",
       "      <td>1.01</td>\n",
       "      <td>0.00</td>\n",
       "      <td>2.14</td>\n",
       "      <td>0.03</td>\n",
       "      <td>4.94</td>\n",
       "    </tr>\n",
       "    <tr>\n",
       "      <th>chartvalue_837</th>\n",
       "      <td>0.04</td>\n",
       "      <td>1.04</td>\n",
       "      <td>0.01</td>\n",
       "      <td>0.02</td>\n",
       "      <td>0.05</td>\n",
       "      <td>1.02</td>\n",
       "      <td>1.06</td>\n",
       "      <td>0.00</td>\n",
       "      <td>4.79</td>\n",
       "      <td>&lt;0.005</td>\n",
       "      <td>19.21</td>\n",
       "    </tr>\n",
       "    <tr>\n",
       "      <th>chartvalue_861</th>\n",
       "      <td>0.06</td>\n",
       "      <td>1.06</td>\n",
       "      <td>0.02</td>\n",
       "      <td>0.01</td>\n",
       "      <td>0.11</td>\n",
       "      <td>1.01</td>\n",
       "      <td>1.11</td>\n",
       "      <td>0.00</td>\n",
       "      <td>2.35</td>\n",
       "      <td>0.02</td>\n",
       "      <td>5.75</td>\n",
       "    </tr>\n",
       "    <tr>\n",
       "      <th>chartvalue_87</th>\n",
       "      <td>-0.12</td>\n",
       "      <td>0.89</td>\n",
       "      <td>0.02</td>\n",
       "      <td>-0.16</td>\n",
       "      <td>-0.07</td>\n",
       "      <td>0.85</td>\n",
       "      <td>0.93</td>\n",
       "      <td>0.00</td>\n",
       "      <td>-4.85</td>\n",
       "      <td>&lt;0.005</td>\n",
       "      <td>19.62</td>\n",
       "    </tr>\n",
       "    <tr>\n",
       "      <th>oxy_drop</th>\n",
       "      <td>-0.22</td>\n",
       "      <td>0.80</td>\n",
       "      <td>0.09</td>\n",
       "      <td>-0.39</td>\n",
       "      <td>-0.05</td>\n",
       "      <td>0.68</td>\n",
       "      <td>0.95</td>\n",
       "      <td>0.00</td>\n",
       "      <td>-2.52</td>\n",
       "      <td>0.01</td>\n",
       "      <td>6.42</td>\n",
       "    </tr>\n",
       "  </tbody>\n",
       "</table><br><div>\n",
       "<style scoped>\n",
       "    .dataframe tbody tr th:only-of-type {\n",
       "        vertical-align: middle;\n",
       "    }\n",
       "\n",
       "    .dataframe tbody tr th {\n",
       "        vertical-align: top;\n",
       "    }\n",
       "\n",
       "    .dataframe thead th {\n",
       "        text-align: right;\n",
       "    }\n",
       "</style>\n",
       "<table border=\"1\" class=\"dataframe\">\n",
       "  <tbody>\n",
       "    <tr>\n",
       "      <th>Concordance</th>\n",
       "      <td>0.75</td>\n",
       "    </tr>\n",
       "    <tr>\n",
       "      <th>Partial AIC</th>\n",
       "      <td>9095.46</td>\n",
       "    </tr>\n",
       "    <tr>\n",
       "      <th>log-likelihood ratio test</th>\n",
       "      <td>410.54 on 26 df</td>\n",
       "    </tr>\n",
       "    <tr>\n",
       "      <th>-log2(p) of ll-ratio test</th>\n",
       "      <td>232.71</td>\n",
       "    </tr>\n",
       "  </tbody>\n",
       "</table>\n",
       "</div>"
      ],
      "text/latex": "\\begin{tabular}{lrrrrrrrrrrr}\n & coef & exp(coef) & se(coef) & coef lower 95% & coef upper 95% & exp(coef) lower 95% & exp(coef) upper 95% & cmp to & z & p & -log2(p) \\\\\ncovariate &  &  &  &  &  &  &  &  &  &  &  \\\\\nchartvalue_1127 & -0.05 & 0.96 & 0.03 & -0.10 & 0.00 & 0.91 & 1.00 & 0.00 & -1.83 & 0.07 & 3.88 \\\\\nchartvalue_184 & -0.15 & 0.86 & 0.08 & -0.32 & 0.01 & 0.73 & 1.01 & 0.00 & -1.85 & 0.06 & 3.95 \\\\\nchartvalue_190 & 0.93 & 2.52 & 0.45 & 0.04 & 1.81 & 1.04 & 6.12 & 0.00 & 2.04 & 0.04 & 4.61 \\\\\nchartvalue_198 & 0.01 & 1.01 & 0.06 & -0.12 & 0.13 & 0.89 & 1.14 & 0.00 & 0.14 & 0.89 & 0.17 \\\\\nchartvalue_450 & 0.06 & 1.06 & 0.02 & 0.02 & 0.10 & 1.02 & 1.10 & 0.00 & 3.05 & 0.00 & 8.75 \\\\\nchartvalue_454 & -0.15 & 0.86 & 0.07 & -0.28 & -0.01 & 0.75 & 0.99 & 0.00 & -2.13 & 0.03 & 4.92 \\\\\nchartvalue_615 & -0.01 & 0.99 & 0.01 & -0.04 & 0.01 & 0.96 & 1.01 & 0.00 & -1.15 & 0.25 & 2.00 \\\\\nchartvalue_618 & 0.02 & 1.02 & 0.01 & 0.01 & 0.04 & 1.01 & 1.04 & 0.00 & 2.76 & 0.01 & 7.42 \\\\\nchartvalue_619 & 0.01 & 1.01 & 0.01 & -0.01 & 0.03 & 0.99 & 1.03 & 0.00 & 0.83 & 0.41 & 1.29 \\\\\nchartvalue_682 & -0.00 & 1.00 & 0.00 & -0.00 & 0.00 & 1.00 & 1.00 & 0.00 & -1.86 & 0.06 & 4.00 \\\\\nchartvalue_683 & -0.00 & 1.00 & 0.00 & -0.00 & -0.00 & 1.00 & 1.00 & 0.00 & -3.54 & 0.00 & 11.31 \\\\\nchartvalue_776 & 0.00 & 1.00 & 0.03 & -0.06 & 0.07 & 0.94 & 1.07 & 0.00 & 0.12 & 0.90 & 0.14 \\\\\nchartvalue_777 & 0.01 & 1.01 & 0.04 & -0.07 & 0.08 & 0.93 & 1.09 & 0.00 & 0.13 & 0.89 & 0.16 \\\\\nchartvalue_778 & -0.03 & 0.97 & 0.01 & -0.06 & -0.01 & 0.95 & 0.99 & 0.00 & -2.61 & 0.01 & 6.80 \\\\\nchartvalue_779 & 0.00 & 1.00 & 0.00 & 0.00 & 0.00 & 1.00 & 1.00 & 0.00 & 2.16 & 0.03 & 5.01 \\\\\nchartvalue_781 & 0.01 & 1.01 & 0.00 & 0.00 & 0.01 & 1.00 & 1.01 & 0.00 & 2.88 & 0.00 & 7.95 \\\\\nchartvalue_787 & 0.01 & 1.01 & 0.02 & -0.03 & 0.04 & 0.97 & 1.04 & 0.00 & 0.41 & 0.68 & 0.56 \\\\\nchartvalue_791 & 0.00 & 1.00 & 0.03 & -0.06 & 0.07 & 0.94 & 1.07 & 0.00 & 0.12 & 0.90 & 0.15 \\\\\nchartvalue_811 & 0.00 & 1.00 & 0.00 & 0.00 & 0.00 & 1.00 & 1.00 & 0.00 & 4.56 & 0.00 & 17.55 \\\\\nchartvalue_815 & 0.22 & 1.25 & 0.11 & 0.02 & 0.43 & 1.02 & 1.54 & 0.00 & 2.13 & 0.03 & 4.91 \\\\\nchartvalue_824 & -0.02 & 0.98 & 0.02 & -0.06 & 0.02 & 0.94 & 1.02 & 0.00 & -1.00 & 0.32 & 1.66 \\\\\nchartvalue_825 & 0.00 & 1.00 & 0.00 & 0.00 & 0.01 & 1.00 & 1.01 & 0.00 & 2.14 & 0.03 & 4.94 \\\\\nchartvalue_837 & 0.04 & 1.04 & 0.01 & 0.02 & 0.05 & 1.02 & 1.06 & 0.00 & 4.79 & 0.00 & 19.21 \\\\\nchartvalue_861 & 0.06 & 1.06 & 0.02 & 0.01 & 0.11 & 1.01 & 1.11 & 0.00 & 2.35 & 0.02 & 5.75 \\\\\nchartvalue_87 & -0.12 & 0.89 & 0.02 & -0.16 & -0.07 & 0.85 & 0.93 & 0.00 & -4.85 & 0.00 & 19.62 \\\\\noxy_drop & -0.22 & 0.80 & 0.09 & -0.39 & -0.05 & 0.68 & 0.95 & 0.00 & -2.52 & 0.01 & 6.42 \\\\\n\\end{tabular}\n"
     },
     "metadata": {},
     "output_type": "display_data"
    }
   ],
   "execution_count": 50
  },
  {
   "cell_type": "markdown",
   "metadata": {},
   "source": [
    "**What is the point estimate and 95% confidence interval of the coefficient for `oxy_drop` in the adjusted model?**"
   ]
  },
  {
   "cell_type": "markdown",
   "metadata": {},
   "source": "<span style=\"color:blue;\">The point estimate is -0.20, and the 95% confidence interval for coefficient of oxy_drop is [-0.38, -0.03].</span>"
  },
  {
   "cell_type": "markdown",
   "metadata": {},
   "source": [
    "# `3` (`40 points`) Causal Analyses\n",
    "\n",
    "In our associative analyses, we saw that we could do a reasonable job of predicting mortality, but there are many cases where having a prediction isn't as useful as understanding the underlying causal mechanisms. To improve standards of care, clinicians need to know which factors have causal relationships with mortality, so they can intervene correctly. This line of inquiry is known as **causal inference**, and it is a very active area of research in biomedical data science.\n",
    "\n",
    "In this part of the assignment, we will explore some of the methods that can be used to infer causality from observational data. We will investigate to what extent having a sudden and sustained drop in oxygenation during ventilation (which we will refer to as the \"exposure\") is *causally* related to death later in the hospitalization (which we will refer to as the \"outcome\")."
   ]
  },
  {
   "cell_type": "markdown",
   "metadata": {},
   "source": [
    "## `3.1` (`10 points`) Analyses without \"Matching\"\n",
    "\n",
    "When someone refers to analyses without 'matching' in the context of causal inference, they are discussing a method of analysis where units (e.g., individuals in a study) are *not* paired or grouped based on similar characteristics or treatment propensities before estimating treatment effects. \n",
    "\n",
    "For this first part, let's see what kind of analysis we can do **without** matching.\n"
   ]
  },
  {
   "cell_type": "markdown",
   "metadata": {},
   "source": [
    "### `3.1.1` (`3 points`) Univariate analysis\n",
    "\n",
    "Univariate analysis, in a general statistical context, refers to the examination of a single variable's properties, distribution, and characteristics. However, in the context of causal inference, \"univariate analysis\" can be somewhat of a misnomer, given that causal inference inherently involves understanding the relationship between two or more variables: a treatment and an outcome, at minimum. \n",
    "\n",
    "When people refer to \"univariate analysis\" in the context of causal inference, they often mean examining the causal effect of one treatment on an outcome, without adjusting for potential confounders or covariates. In other words, it's a simple analysis that doesn't account for other variables that might influence the relationship between treatment and the outcome. \n",
    "\n",
    "Researchers often start with a univariate analysis to get a basic understanding of the relationship between variables, then proceed to multivariate analysis where they adjust for confounders and possibly investigate interactions between variables. For our univariate analysis in this context, let's run a statistical test to see if a drop in oxygenation is related to mortality."
   ]
  },
  {
   "cell_type": "markdown",
   "metadata": {},
   "source": [
    "**Run an appropriate statistical test to see if a drop in oxygenation is related to mortality. Treat both variables as binary.**\n"
   ]
  },
  {
   "cell_type": "code",
   "metadata": {
    "ExecuteTime": {
     "end_time": "2024-11-12T23:07:38.949028Z",
     "start_time": "2024-11-12T23:07:38.918208Z"
    }
   },
   "source": [
    "# TODO: Implement the appropriate test of the options here in this cell\n",
    "# HINT: You may have implemented a very similar test above\n",
    "from scipy.stats import ttest_ind, fisher_exact, chi2_contingency, mannwhitneyu\n",
    "\n",
    "\n",
    "feature_name = 'oxy_drop'\n",
    "sample_death_in_stay = surv_features['death_event'].to_numpy()\n",
    "sample_feature = surv_features[feature_name].to_numpy()\n",
    "\n",
    "data_crosstab = pd.crosstab(filtered_features[feature_name],\n",
    "                            labels['death_in_stay'], margins = False)\n",
    "\n",
    "data_crosstab"
   ],
   "outputs": [
    {
     "data": {
      "text/plain": [
       "death_in_stay     0    1\n",
       "oxy_drop                \n",
       "0              2092  391\n",
       "1               733  239"
      ],
      "text/html": [
       "<div>\n",
       "<style scoped>\n",
       "    .dataframe tbody tr th:only-of-type {\n",
       "        vertical-align: middle;\n",
       "    }\n",
       "\n",
       "    .dataframe tbody tr th {\n",
       "        vertical-align: top;\n",
       "    }\n",
       "\n",
       "    .dataframe thead th {\n",
       "        text-align: right;\n",
       "    }\n",
       "</style>\n",
       "<table border=\"1\" class=\"dataframe\">\n",
       "  <thead>\n",
       "    <tr style=\"text-align: right;\">\n",
       "      <th>death_in_stay</th>\n",
       "      <th>0</th>\n",
       "      <th>1</th>\n",
       "    </tr>\n",
       "    <tr>\n",
       "      <th>oxy_drop</th>\n",
       "      <th></th>\n",
       "      <th></th>\n",
       "    </tr>\n",
       "  </thead>\n",
       "  <tbody>\n",
       "    <tr>\n",
       "      <th>0</th>\n",
       "      <td>2092</td>\n",
       "      <td>391</td>\n",
       "    </tr>\n",
       "    <tr>\n",
       "      <th>1</th>\n",
       "      <td>733</td>\n",
       "      <td>239</td>\n",
       "    </tr>\n",
       "  </tbody>\n",
       "</table>\n",
       "</div>"
      ]
     },
     "execution_count": 51,
     "metadata": {},
     "output_type": "execute_result"
    }
   ],
   "execution_count": 51
  },
  {
   "metadata": {
    "ExecuteTime": {
     "end_time": "2024-11-12T23:07:39.077396Z",
     "start_time": "2024-11-12T23:07:39.043632Z"
    }
   },
   "cell_type": "code",
   "source": "fisher_exact(data_crosstab, alternative='two-sided')",
   "outputs": [
    {
     "data": {
      "text/plain": [
       "SignificanceResult(statistic=1.7445316343513502, pvalue=3.570818717565323e-09)"
      ]
     },
     "execution_count": 52,
     "metadata": {},
     "output_type": "execute_result"
    }
   ],
   "execution_count": 52
  },
  {
   "cell_type": "markdown",
   "metadata": {},
   "source": [
    "**What is the odds ratio?**\n",
    "\n",
    "<span style=\"color:blue;\">Odds ratio is 1.7445.</span>"
   ]
  },
  {
   "cell_type": "markdown",
   "metadata": {},
   "source": [
    "**Does a drop in oxygenation appear to significantly decrease or increase the risk of death? Does this establish causality between a drop in oxygenation and mortality? Why or why not? (If you think it does not, how else would you explain the result?)**\n",
    "\n",
    "<span style=\"color:blue;\"> With an odds ratio of 1.7445, patients experiencing oxygenation drops show 74.45% higher odds of mortality. This demonstrates a significant association between oxygenation drops and death risk in our sample, though it doesn't prove causation. The odds ratio measures the strength of this relationship without implying that one directly causes the other.</span>"
   ]
  },
  {
   "cell_type": "markdown",
   "metadata": {},
   "source": [
    "### `3.1.2` (`5 points`) Multivariate analysis\n",
    "\n",
    "Let's see if we still observe an effect after adjusting for other features."
   ]
  },
  {
   "cell_type": "markdown",
   "metadata": {},
   "source": [
    "In the previous section, we implemented a logisitic regression on different sets of features. Run the following cell to reuse your code from the previous section to fit a logistic regression model of mortality on the features that were found to have non-zero variance.\n"
   ]
  },
  {
   "cell_type": "code",
   "metadata": {
    "ExecuteTime": {
     "end_time": "2024-11-12T23:07:41.462332Z",
     "start_time": "2024-11-12T23:07:39.193074Z"
    }
   },
   "source": [
    "# Run this cell (No changes necessary)\n",
    "from src.regression import run_logistic_regression\n",
    "\n",
    "glm_nzv = run_logistic_regression(filtered_features, labels, selected_features=None)"
   ],
   "outputs": [
    {
     "name": "stdout",
     "output_type": "stream",
     "text": [
      "<statsmodels.genmod.generalized_linear_model.GLMResultsWrapper object at 0x13fc384d0>\n"
     ]
    }
   ],
   "execution_count": 53
  },
  {
   "cell_type": "markdown",
   "metadata": {},
   "source": [
    "**Is the coefficient of the feature encoding a drop in oxygenation statistically significant in the model?**"
   ]
  },
  {
   "cell_type": "code",
   "metadata": {
    "ExecuteTime": {
     "end_time": "2024-11-12T23:07:41.580434Z",
     "start_time": "2024-11-12T23:07:41.541422Z"
    }
   },
   "source": [
    "# TODO: Use this cell to answer the written question above (if needed)\n",
    "glm_nzv.summary().tables[0]"
   ],
   "outputs": [
    {
     "data": {
      "text/plain": [
       "<class 'statsmodels.iolib.table.SimpleTable'>"
      ],
      "text/html": [
       "<table class=\"simpletable\">\n",
       "<caption>Generalized Linear Model Regression Results</caption>\n",
       "<tr>\n",
       "  <th>Dep. Variable:</th>     <td>death_in_stay</td>  <th>  No. Observations:  </th>  <td>  3455</td> \n",
       "</tr>\n",
       "<tr>\n",
       "  <th>Model:</th>                  <td>GLM</td>       <th>  Df Residuals:      </th>  <td>  3035</td> \n",
       "</tr>\n",
       "<tr>\n",
       "  <th>Model Family:</th>        <td>Binomial</td>     <th>  Df Model:          </th>  <td>   419</td> \n",
       "</tr>\n",
       "<tr>\n",
       "  <th>Link Function:</th>         <td>Logit</td>      <th>  Scale:             </th> <td>  1.0000</td>\n",
       "</tr>\n",
       "<tr>\n",
       "  <th>Method:</th>                <td>IRLS</td>       <th>  Log-Likelihood:    </th> <td> -1035.6</td>\n",
       "</tr>\n",
       "<tr>\n",
       "  <th>Date:</th>            <td>Tue, 12 Nov 2024</td> <th>  Deviance:          </th> <td>  2071.3</td>\n",
       "</tr>\n",
       "<tr>\n",
       "  <th>Time:</th>                <td>18:07:41</td>     <th>  Pearson chi2:      </th> <td>4.27e+03</td>\n",
       "</tr>\n",
       "<tr>\n",
       "  <th>No. Iterations:</th>         <td>22</td>        <th>  Pseudo R-squ. (CS):</th>  <td>0.2956</td> \n",
       "</tr>\n",
       "<tr>\n",
       "  <th>Covariance Type:</th>     <td>nonrobust</td>    <th>                     </th>     <td> </td>   \n",
       "</tr>\n",
       "</table>"
      ],
      "text/latex": "\\begin{center}\n\\begin{tabular}{lclc}\n\\toprule\n\\textbf{Dep. Variable:}   & death\\_in\\_stay  & \\textbf{  No. Observations:  } &    3455   \\\\\n\\textbf{Model:}           &       GLM        & \\textbf{  Df Residuals:      } &    3035   \\\\\n\\textbf{Model Family:}    &     Binomial     & \\textbf{  Df Model:          } &     419   \\\\\n\\textbf{Link Function:}   &      Logit       & \\textbf{  Scale:             } &   1.0000  \\\\\n\\textbf{Method:}          &       IRLS       & \\textbf{  Log-Likelihood:    } &  -1035.6  \\\\\n\\textbf{Date:}            & Tue, 12 Nov 2024 & \\textbf{  Deviance:          } &   2071.3  \\\\\n\\textbf{Time:}            &     18:07:41     & \\textbf{  Pearson chi2:      } & 4.27e+03  \\\\\n\\textbf{No. Iterations:}  &        22        & \\textbf{  Pseudo R-squ. (CS):} &  0.2956   \\\\\n\\textbf{Covariance Type:} &    nonrobust     & \\textbf{                     } &           \\\\\n\\bottomrule\n\\end{tabular}\n%\\caption{Generalized Linear Model Regression Results}\n\\end{center}"
     },
     "execution_count": 54,
     "metadata": {},
     "output_type": "execute_result"
    }
   ],
   "execution_count": 54
  },
  {
   "metadata": {
    "ExecuteTime": {
     "end_time": "2024-11-12T23:07:41.878633Z",
     "start_time": "2024-11-12T23:07:41.660416Z"
    }
   },
   "cell_type": "code",
   "source": [
    "res_coeffs = glm_nzv.summary().tables[1].as_html()\n",
    "pd.read_html(res_coeffs, header=0, index_col=0)[0]"
   ],
   "outputs": [
    {
     "data": {
      "text/plain": [
       "                     coef    std err      z  P>|z|      [0.025     0.975]\n",
       "Intercept      -20.869500  44.036000 -0.474  0.636 -107.179000  65.440000\n",
       "oxy_drop         0.414900   0.139000  2.993  0.003    0.143000   0.687000\n",
       "gender          -0.201800   0.152000 -1.324  0.185   -0.500000   0.097000\n",
       "age_in_days      0.000019   0.000003  6.479  0.000    0.000013   0.000025\n",
       "C0004144         0.298500   0.304000  0.983  0.326   -0.297000   0.894000\n",
       "...                   ...        ...    ...    ...         ...        ...\n",
       "chartvalue_829   0.262600   0.120000  2.193  0.028    0.028000   0.497000\n",
       "chartvalue_833  -0.396800   0.240000 -1.654  0.098   -0.867000   0.073000\n",
       "chartvalue_837   0.161000   0.027000  6.047  0.000    0.109000   0.213000\n",
       "chartvalue_861   0.087100   0.043000  2.025  0.043    0.003000   0.171000\n",
       "chartvalue_87   -0.142800   0.040000 -3.596  0.000   -0.221000  -0.065000\n",
       "\n",
       "[509 rows x 6 columns]"
      ],
      "text/html": [
       "<div>\n",
       "<style scoped>\n",
       "    .dataframe tbody tr th:only-of-type {\n",
       "        vertical-align: middle;\n",
       "    }\n",
       "\n",
       "    .dataframe tbody tr th {\n",
       "        vertical-align: top;\n",
       "    }\n",
       "\n",
       "    .dataframe thead th {\n",
       "        text-align: right;\n",
       "    }\n",
       "</style>\n",
       "<table border=\"1\" class=\"dataframe\">\n",
       "  <thead>\n",
       "    <tr style=\"text-align: right;\">\n",
       "      <th></th>\n",
       "      <th>coef</th>\n",
       "      <th>std err</th>\n",
       "      <th>z</th>\n",
       "      <th>P&gt;|z|</th>\n",
       "      <th>[0.025</th>\n",
       "      <th>0.975]</th>\n",
       "    </tr>\n",
       "  </thead>\n",
       "  <tbody>\n",
       "    <tr>\n",
       "      <th>Intercept</th>\n",
       "      <td>-20.869500</td>\n",
       "      <td>44.036000</td>\n",
       "      <td>-0.474</td>\n",
       "      <td>0.636</td>\n",
       "      <td>-107.179000</td>\n",
       "      <td>65.440000</td>\n",
       "    </tr>\n",
       "    <tr>\n",
       "      <th>oxy_drop</th>\n",
       "      <td>0.414900</td>\n",
       "      <td>0.139000</td>\n",
       "      <td>2.993</td>\n",
       "      <td>0.003</td>\n",
       "      <td>0.143000</td>\n",
       "      <td>0.687000</td>\n",
       "    </tr>\n",
       "    <tr>\n",
       "      <th>gender</th>\n",
       "      <td>-0.201800</td>\n",
       "      <td>0.152000</td>\n",
       "      <td>-1.324</td>\n",
       "      <td>0.185</td>\n",
       "      <td>-0.500000</td>\n",
       "      <td>0.097000</td>\n",
       "    </tr>\n",
       "    <tr>\n",
       "      <th>age_in_days</th>\n",
       "      <td>0.000019</td>\n",
       "      <td>0.000003</td>\n",
       "      <td>6.479</td>\n",
       "      <td>0.000</td>\n",
       "      <td>0.000013</td>\n",
       "      <td>0.000025</td>\n",
       "    </tr>\n",
       "    <tr>\n",
       "      <th>C0004144</th>\n",
       "      <td>0.298500</td>\n",
       "      <td>0.304000</td>\n",
       "      <td>0.983</td>\n",
       "      <td>0.326</td>\n",
       "      <td>-0.297000</td>\n",
       "      <td>0.894000</td>\n",
       "    </tr>\n",
       "    <tr>\n",
       "      <th>...</th>\n",
       "      <td>...</td>\n",
       "      <td>...</td>\n",
       "      <td>...</td>\n",
       "      <td>...</td>\n",
       "      <td>...</td>\n",
       "      <td>...</td>\n",
       "    </tr>\n",
       "    <tr>\n",
       "      <th>chartvalue_829</th>\n",
       "      <td>0.262600</td>\n",
       "      <td>0.120000</td>\n",
       "      <td>2.193</td>\n",
       "      <td>0.028</td>\n",
       "      <td>0.028000</td>\n",
       "      <td>0.497000</td>\n",
       "    </tr>\n",
       "    <tr>\n",
       "      <th>chartvalue_833</th>\n",
       "      <td>-0.396800</td>\n",
       "      <td>0.240000</td>\n",
       "      <td>-1.654</td>\n",
       "      <td>0.098</td>\n",
       "      <td>-0.867000</td>\n",
       "      <td>0.073000</td>\n",
       "    </tr>\n",
       "    <tr>\n",
       "      <th>chartvalue_837</th>\n",
       "      <td>0.161000</td>\n",
       "      <td>0.027000</td>\n",
       "      <td>6.047</td>\n",
       "      <td>0.000</td>\n",
       "      <td>0.109000</td>\n",
       "      <td>0.213000</td>\n",
       "    </tr>\n",
       "    <tr>\n",
       "      <th>chartvalue_861</th>\n",
       "      <td>0.087100</td>\n",
       "      <td>0.043000</td>\n",
       "      <td>2.025</td>\n",
       "      <td>0.043</td>\n",
       "      <td>0.003000</td>\n",
       "      <td>0.171000</td>\n",
       "    </tr>\n",
       "    <tr>\n",
       "      <th>chartvalue_87</th>\n",
       "      <td>-0.142800</td>\n",
       "      <td>0.040000</td>\n",
       "      <td>-3.596</td>\n",
       "      <td>0.000</td>\n",
       "      <td>-0.221000</td>\n",
       "      <td>-0.065000</td>\n",
       "    </tr>\n",
       "  </tbody>\n",
       "</table>\n",
       "<p>509 rows × 6 columns</p>\n",
       "</div>"
      ]
     },
     "execution_count": 55,
     "metadata": {},
     "output_type": "execute_result"
    }
   ],
   "execution_count": 55
  },
  {
   "cell_type": "markdown",
   "metadata": {},
   "source": "<span style=\"color:blue;\">The p-value for oxy_drop coefficient is 0.003 (<0.05), hence it is statistically significant in the model.</span>"
  },
  {
   "cell_type": "markdown",
   "metadata": {},
   "source": [
    "**What is the equivalent odds ratio?**"
   ]
  },
  {
   "cell_type": "code",
   "metadata": {
    "ExecuteTime": {
     "end_time": "2024-11-12T23:07:41.996897Z",
     "start_time": "2024-11-12T23:07:41.973868Z"
    }
   },
   "source": [
    "# Use this cell to answer the written question above (if needed)\n",
    "np.exp(0.414900)"
   ],
   "outputs": [
    {
     "data": {
      "text/plain": [
       "1.5142193111895803"
      ]
     },
     "execution_count": 56,
     "metadata": {},
     "output_type": "execute_result"
    }
   ],
   "execution_count": 56
  },
  {
   "cell_type": "markdown",
   "metadata": {},
   "source": "<span style=\"color:blue;\">The equivalent odds ratio can be found by finding $e^{coef}$ which is 1.514 for oxygenation drop.</span>"
  },
  {
   "cell_type": "markdown",
   "metadata": {},
   "source": [
    "**Does this establish causality between a drop in oxygenation and mortality? Why or why not? If you think it does not, how else would you explain the result?**"
   ]
  },
  {
   "cell_type": "markdown",
   "metadata": {},
   "source": "<span style=\"color:blue;\">The odds ratio is 1.514 after adjusting for other variables, which is lower than what we found earlier in univariate analysis. Again, this does not establish the causality between the drop and mortality, as it should still be interpreted as a measure for how strong the association between the variables are. The lowered odds ratio means that the other variables included in multivariate analysis also have different degrees of association with the death outcome, hence influencing the degree of association for the single variable drop in oxygenation. In other words, the included additional variables could include confounding variables.</span>"
  },
  {
   "cell_type": "markdown",
   "metadata": {},
   "source": [
    "### `3.1.3` (`2 points`) Can we do an experiment?\n",
    "\n",
    "Usually questions related to causality are best answered through highly controlled expirements, such as Randomized Control Trials (RCTs). However, in many contexts in medicine and healthcare, it is either not possible or ethical to conduct an RCT.\n",
    "\n",
    "Let's take our example: \"To what extent is having a sudden and sustained drop in oxygenation during ventilation *causally* related to death later in the hospitalization\"\n",
    "- **Is there an experiment you could run that \"in theory\" would let you determine the causal effect of a sudden oxygenation drop on mortality using only these inferential analyses?** \n",
    "\n",
    "- **What might be some practical or ethical problems with your experiment?**"
   ]
  },
  {
   "cell_type": "markdown",
   "metadata": {},
   "source": "<span style=\"color:blue;\">Randomized control trial (RCT) would be the most appropriate test if we want to establish causation, since it allows researchers to form the control and affected groups. However it is not ethical for our case to study causality between oxygenation and death, since mortality is involved and intentionally manipulating oxygenation drop put patients at risk.<br/><br/>Other experiments such as propensity score matching and more rigorous statistical controls to account for potential confounding variables such as covariate adjustment, stratification (analyze and compute causal effects only within strata) and sensitivity analyses can help when doing causal inference analyses. There are less ethical problems associated with these statistical methods as they are analysis methods applied on observational data. </span>"
  },
  {
   "cell_type": "markdown",
   "metadata": {},
   "source": [
    "## `3.2` (`30 points`) Matching Analysis with Propensity Scores\n",
    "\n",
    "Let's see if we can more conclusively determine a causal effect of a sudden oxygenation drop on mortality using *matching* in our analysis. \n",
    "\n",
    "**Matching** is a technique used to control for confounding variables in observational data by grouping units (e.g. individuals in a study) based on similar characteristics or propensities before estimating treatment effects. Matching is a popular technique in causal inference because it allows us to estimate the causal effect of a treatment on an outcome by comparing units that are similar in all aspects except for the treatment. \n",
    "\n",
    "> Note that sometimes \"matching\" is described as mechanism to \"mimic\" or \"emulate\" the randomization of a RCT. This interpretation is incorrect: matching is just a tool you can use to adjust for confounders in a non-randomized study, but does not introduce randomization.\n",
    "\n",
    "In this assignment, we will utilize `propensity scores` to perform a matching analysis. \n",
    "\n",
    "Let's start with the definition: A `propensity score` is the probability that a unit (e.g. an individual in a study) was exposed to a particular **`treatment or exposure`** given their observed characteristics. So in our example, the propensity score of an individual patient is the probability that they had a sudden oxygenation drop (`oxy_drop` is 1) given their other features.\n",
    "\n",
    "A propensity score matching analysis involves the following steps:\n",
    "\n",
    "1. Calculate the propensity scores for each unit in the dataset:\n",
    "    The first step in our process is to determine propensity scores for each unit in the dataset. In our example, we want to calculate the probability that a patient had a sudden oxygenation drop (`oxy_drop` is 1) given their other features. We can do this by fitting a logistic regression model of `oxy_drop` on the other features in the dataset (you do not including the outcome: `death_in_stay`). The predicted probabilities from this model are the propensity scores for each patient.\n",
    "\n",
    "2. Match units based on their propensity scores:\n",
    "    There are multiple strategies to do this, but the idea is that patients who have similar propensity scores are likely to have similar characteristics, and therefore are likely to be comparable in terms of their potential outcomes. In our example, we will use a method called \"Caliper Matching\". We will discribe caliper matching in more detail in the sections below, and utilize it to match patients in the exposure group to patients in the control group (note that not all patients will be matched).\n",
    "\n",
    "3. Run an analysis only utilizing patients that were matched in the previous step.\n",
    "\n",
    "Patients who have similar propensities are more \"twin-like\" and therefore more comparable in terms of their potential outcomes. If two patients have similar propensity scores and one of them was \"exposed\" while the other was not, we can be more confident that any difference in their outcomes is due to the exposure, rather than due to differences in their characteristics."
   ]
  },
  {
   "cell_type": "markdown",
   "metadata": {},
   "source": [
    "### `3.2.1` (`5 points`) Propensity Modeling\n",
    "\n",
    "Let's start our propensity analysis by calculating the propensity scores for each patient in the dataset. Utilizing the same code from before, lets fit a logisitic regression model to predict `oxy_drop` using the other features in the dataset.\n",
    "\n"
   ]
  },
  {
   "cell_type": "code",
   "metadata": {
    "ExecuteTime": {
     "end_time": "2024-11-12T23:07:44.270112Z",
     "start_time": "2024-11-12T23:07:42.105641Z"
    }
   },
   "source": [
    "from src.regression import run_logistic_regression\n",
    "\n",
    "# Pull the list of features from the filtered_features dataframe\n",
    "feature_list = filtered_features.columns.tolist()\n",
    "\n",
    "# Remove the oxy_drop feature from the list\n",
    "feature_list.remove(\"oxy_drop\")\n",
    "\n",
    "# Run the logistic regression\n",
    "glm_propensity = run_logistic_regression(filtered_features, filtered_features[[\"oxy_drop\"]], selected_features=feature_list)"
   ],
   "outputs": [
    {
     "name": "stdout",
     "output_type": "stream",
     "text": [
      "<statsmodels.genmod.generalized_linear_model.GLMResultsWrapper object at 0x13f31c650>\n"
     ]
    }
   ],
   "execution_count": 57
  },
  {
   "cell_type": "code",
   "metadata": {
    "ExecuteTime": {
     "end_time": "2024-11-12T23:07:44.768785Z",
     "start_time": "2024-11-12T23:07:44.347723Z"
    }
   },
   "source": [
    "# (No modifications needed in this cell)\n",
    "# Run this cell to use the model to calculate propensity scores\n",
    "propensity_scores = glm_propensity.predict(filtered_features[feature_list])\n",
    "\n",
    "# Name the series \"propensity_score\"\n",
    "propensity_scores.name = \"propensity_score\"\n",
    "\n",
    "# Merge with oxy drop\n",
    "propensity_scores = pd.concat([propensity_scores, filtered_features[\"oxy_drop\"]], axis=1)\n",
    "\n",
    "# Display the first 5 rows of the propensity_scores series\n",
    "propensity_scores.head()"
   ],
   "outputs": [
    {
     "data": {
      "text/plain": [
       "            propensity_score  oxy_drop\n",
       "subject_id                            \n",
       "91                  0.217897         0\n",
       "106                 0.246065         1\n",
       "111                 0.114306         1\n",
       "117                 0.924567         1\n",
       "3                   0.901581         1"
      ],
      "text/html": [
       "<div>\n",
       "<style scoped>\n",
       "    .dataframe tbody tr th:only-of-type {\n",
       "        vertical-align: middle;\n",
       "    }\n",
       "\n",
       "    .dataframe tbody tr th {\n",
       "        vertical-align: top;\n",
       "    }\n",
       "\n",
       "    .dataframe thead th {\n",
       "        text-align: right;\n",
       "    }\n",
       "</style>\n",
       "<table border=\"1\" class=\"dataframe\">\n",
       "  <thead>\n",
       "    <tr style=\"text-align: right;\">\n",
       "      <th></th>\n",
       "      <th>propensity_score</th>\n",
       "      <th>oxy_drop</th>\n",
       "    </tr>\n",
       "    <tr>\n",
       "      <th>subject_id</th>\n",
       "      <th></th>\n",
       "      <th></th>\n",
       "    </tr>\n",
       "  </thead>\n",
       "  <tbody>\n",
       "    <tr>\n",
       "      <th>91</th>\n",
       "      <td>0.217897</td>\n",
       "      <td>0</td>\n",
       "    </tr>\n",
       "    <tr>\n",
       "      <th>106</th>\n",
       "      <td>0.246065</td>\n",
       "      <td>1</td>\n",
       "    </tr>\n",
       "    <tr>\n",
       "      <th>111</th>\n",
       "      <td>0.114306</td>\n",
       "      <td>1</td>\n",
       "    </tr>\n",
       "    <tr>\n",
       "      <th>117</th>\n",
       "      <td>0.924567</td>\n",
       "      <td>1</td>\n",
       "    </tr>\n",
       "    <tr>\n",
       "      <th>3</th>\n",
       "      <td>0.901581</td>\n",
       "      <td>1</td>\n",
       "    </tr>\n",
       "  </tbody>\n",
       "</table>\n",
       "</div>"
      ]
     },
     "execution_count": 58,
     "metadata": {},
     "output_type": "execute_result"
    }
   ],
   "execution_count": 58
  },
  {
   "cell_type": "markdown",
   "metadata": {},
   "source": [
    "### `3.2.2` (`2 points`) Propensity Estimation\n",
    "\n",
    "Now that we have fit our propensity model and have calculated our propensity scores, let's take a look at the distribution of propensity scores in our dataset. Rather than plotting the distribution of propensity scores themselves, we will plot the distirubtions of the logits of the propensity scores.\n",
    "\n",
    "The **logit** of a probability is defined as the natural logarithm of the odds of the probability. The logit of a probability $p$ is calculated as follows:\n",
    "\n",
    "$logit(p) = ln(\\frac{p}{1-p})$\n",
    "\n",
    "**Why are visualizing the logit transformation of the propensity scores, rather than the scores themselves?**\n",
    "Transformations (like the logit transformation) are often applied to sets of data to \"change the scale\", which can be really helpful for visualizing or interpreting distributions. In this case, we are using the logit transformation to \"re-scale\" the propensity scores (which are bounded between 0 and 1) to a range that is unbounded. Propensity scores close to 0 suggest a low probability of exposure, while scores close to 1 suggest a high probability of exposure. In some datasets, many scores can cluster near these boundaries, making it hard to visually assess overlap in the distributions. After applying the logit transformation, a propensity score of 0.5 is centered at 0, giving a much more normalized distribution. By transforming to logits, the scores that were clustered near 0 and 1 are spread out more evenly, making it easier to see the distribution of both groups and assess the overlap.\n",
    "\n",
    "The primary goal of propensity score methods in observational studies is to reduce confounding by making the treated and untreated groups comparable in terms of the observed covariates. If there's significant overlap in the logit-transformed scores, it indicates that there's a good chance of finding comparable treated and untreated observations for causal inference analysis."
   ]
  },
  {
   "cell_type": "markdown",
   "metadata": {},
   "source": [
    "Implement the function `plot_logit_scores` in `matching.py` and run the following cell to test your implementation."
   ]
  },
  {
   "cell_type": "code",
   "metadata": {
    "ExecuteTime": {
     "end_time": "2024-11-12T23:07:45.276130Z",
     "start_time": "2024-11-12T23:07:44.871883Z"
    }
   },
   "source": [
    "from src.matching import plot_logit_scores\n",
    "\n",
    "# Run this cell to plot the logits of the propensity scores\n",
    "plot_logit_scores(propensity_scores, \"logit_score_plot.png\")"
   ],
   "outputs": [
    {
     "data": {
      "text/plain": [
       "<Figure size 1000x600 with 1 Axes>"
      ],
      "image/png": "[encoded data removed]"
     },
     "metadata": {},
     "output_type": "display_data"
    }
   ],
   "execution_count": 59
  },
  {
   "cell_type": "markdown",
   "metadata": {},
   "source": [
    "**What does the amount of overlap between these two distributions say about how good your propensity score model is predicting the exposure?** \n",
    "\n",
    "**Is it bad if your model has poor performance? (hint: if the exposure happened totally at random, would that help you or hurt you in determining a causal effect?)**"
   ]
  },
  {
   "cell_type": "markdown",
   "metadata": {},
   "source": "<span style=\"color:blue;\">There is a significant amount of overlap between the 2 distributions, suggesting that there are a group of similar subjects based on the other features excluding oxygenation drop having different outcomes. The propensity score model itself is not performing that well in distinguishing oxygenation drop and stable groups based on the features/covariates.<br/><br/>The model for propensity score having bad performance in distinguishing groups of oxygenation drop would not necessarily hurt in determining a causal effect between oxygenation drop and mortality, as it could suggests that there is a large group of similar subjects in terms of the covariates (less effect from confounding variables) but different oxygenation drop. As long as the model effectively balances the observed covariates, it will help in determining causal effect later on between oxygenation drop and mortality.</span>"
  },
  {
   "cell_type": "markdown",
   "metadata": {},
   "source": [
    "### `3.2.3` (`3 points`) Caliper Matching\n",
    "\n",
    "The next step of our propensity score analysis is to match patients based on their propensities using Caliper Matching. Caliper Matching involves matching units (patients in this case) within a specified distance (caliper) of each other. The caliper is a threshold that defines the maximum distance between two units' propensity scores for them to be considered a match.\n",
    "\n",
    "\n",
    "Implement the function `caliper_match` in `matching.py` using the instructions in the docstring. When you are finished, run the following cell."
   ]
  },
  {
   "metadata": {
    "ExecuteTime": {
     "end_time": "2024-11-12T23:07:45.324581Z",
     "start_time": "2024-11-12T23:07:45.301458Z"
    }
   },
   "cell_type": "code",
   "source": [
    "# Added this code so the warning message will not be printed\n",
    "import warnings\n",
    "warnings.filterwarnings('ignore')"
   ],
   "outputs": [],
   "execution_count": 60
  },
  {
   "cell_type": "code",
   "metadata": {
    "ExecuteTime": {
     "end_time": "2024-11-12T23:07:46.559203Z",
     "start_time": "2024-11-12T23:07:45.379441Z"
    }
   },
   "source": [
    "from src.matching import caliper_match\n",
    "\n",
    "# Run this cell to perform the matching\n",
    "match_list = caliper_match(propensity_scores, caliper = 0.25)\n",
    "\n",
    "# Sanity Check\n",
    "all_matched_subject_ids = [subject_id for match_pair in match_list for subject_id in match_pair]\n",
    "\n",
    "if len(all_matched_subject_ids) != len(set(all_matched_subject_ids)):\n",
    "    warnings.warn(\"Duplicate subject_id found in all_matched_subject_ids\", SanityCheck)"
   ],
   "outputs": [
    {
     "name": "stdout",
     "output_type": "stream",
     "text": [
      "caliper_thres: 0.34981414060252086\n"
     ]
    }
   ],
   "execution_count": 61
  },
  {
   "metadata": {
    "ExecuteTime": {
     "end_time": "2024-11-12T23:07:46.653194Z",
     "start_time": "2024-11-12T23:07:46.629703Z"
    }
   },
   "cell_type": "code",
   "source": "len(all_matched_subject_ids), len(propensity_scores.index.unique())",
   "outputs": [
    {
     "data": {
      "text/plain": [
       "(1556, 3455)"
      ]
     },
     "execution_count": 62,
     "metadata": {},
     "output_type": "execute_result"
    }
   ],
   "execution_count": 62
  },
  {
   "metadata": {
    "ExecuteTime": {
     "end_time": "2024-11-12T23:07:46.754283Z",
     "start_time": "2024-11-12T23:07:46.730572Z"
    }
   },
   "cell_type": "code",
   "source": "1556/3455",
   "outputs": [
    {
     "data": {
      "text/plain": [
       "0.4503617945007236"
      ]
     },
     "execution_count": 63,
     "metadata": {},
     "output_type": "execute_result"
    }
   ],
   "execution_count": 63
  },
  {
   "cell_type": "markdown",
   "metadata": {},
   "source": [
    "**How many patients are in the matched set? How does this number compare to the original number of patients in the dataset?**\n"
   ]
  },
  {
   "cell_type": "markdown",
   "metadata": {},
   "source": "<span style=\"color:blue;\">There are 1556 patients in the matched set in comparison to the original 3455 patients suggesting that 45% of the original patients in dataset have matched covariates.</span>"
  },
  {
   "cell_type": "code",
   "metadata": {
    "ExecuteTime": {
     "end_time": "2024-11-12T23:07:46.851167Z",
     "start_time": "2024-11-12T23:07:46.828821Z"
    }
   },
   "source": "# TODO: Use this cell to answer the written question above (if needed)",
   "outputs": [],
   "execution_count": 64
  },
  {
   "cell_type": "markdown",
   "metadata": {},
   "source": [
    "### `3.2.4` (`5 points`) Matched Outcomes Analysis"
   ]
  },
  {
   "cell_type": "markdown",
   "metadata": {},
   "source": [
    "Now let's repeat our univariate analysis, but this time only use data from the matched patients."
   ]
  },
  {
   "cell_type": "code",
   "metadata": {
    "ExecuteTime": {
     "end_time": "2024-11-12T23:07:46.968541Z",
     "start_time": "2024-11-12T23:07:46.929075Z"
    }
   },
   "source": [
    "# TODO: Implement the appropriate test of the options here in this cell\n",
    "# HINT: You may have implemented a very similar test above\n",
    "from scipy.stats import ttest_ind, fisher_exact, chi2_contingency, mannwhitneyu\n",
    "\n",
    "feature_name = 'oxy_drop'\n",
    "sample_death_in_stay = labels[labels.index.isin(all_matched_subject_ids)]['death_in_stay'].to_numpy()\n",
    "sample_feature = filtered_features[filtered_features.index.isin(all_matched_subject_ids)][feature_name].to_numpy()\n",
    "\n",
    "data_crosstab = pd.crosstab(filtered_features[filtered_features.index.isin(all_matched_subject_ids)][feature_name],\n",
    "                            labels[labels.index.isin(all_matched_subject_ids)]['death_in_stay'], margins = False)\n",
    "\n",
    "data_crosstab"
   ],
   "outputs": [
    {
     "data": {
      "text/plain": [
       "death_in_stay    0    1\n",
       "oxy_drop               \n",
       "0              636  142\n",
       "1              598  180"
      ],
      "text/html": [
       "<div>\n",
       "<style scoped>\n",
       "    .dataframe tbody tr th:only-of-type {\n",
       "        vertical-align: middle;\n",
       "    }\n",
       "\n",
       "    .dataframe tbody tr th {\n",
       "        vertical-align: top;\n",
       "    }\n",
       "\n",
       "    .dataframe thead th {\n",
       "        text-align: right;\n",
       "    }\n",
       "</style>\n",
       "<table border=\"1\" class=\"dataframe\">\n",
       "  <thead>\n",
       "    <tr style=\"text-align: right;\">\n",
       "      <th>death_in_stay</th>\n",
       "      <th>0</th>\n",
       "      <th>1</th>\n",
       "    </tr>\n",
       "    <tr>\n",
       "      <th>oxy_drop</th>\n",
       "      <th></th>\n",
       "      <th></th>\n",
       "    </tr>\n",
       "  </thead>\n",
       "  <tbody>\n",
       "    <tr>\n",
       "      <th>0</th>\n",
       "      <td>636</td>\n",
       "      <td>142</td>\n",
       "    </tr>\n",
       "    <tr>\n",
       "      <th>1</th>\n",
       "      <td>598</td>\n",
       "      <td>180</td>\n",
       "    </tr>\n",
       "  </tbody>\n",
       "</table>\n",
       "</div>"
      ]
     },
     "execution_count": 65,
     "metadata": {},
     "output_type": "execute_result"
    }
   ],
   "execution_count": 65
  },
  {
   "metadata": {
    "ExecuteTime": {
     "end_time": "2024-11-12T23:07:47.099505Z",
     "start_time": "2024-11-12T23:07:47.072296Z"
    }
   },
   "cell_type": "code",
   "source": "fisher_exact(data_crosstab)",
   "outputs": [
    {
     "data": {
      "text/plain": [
       "SignificanceResult(statistic=1.3481558245795846, pvalue=0.020500895885245243)"
      ]
     },
     "execution_count": 66,
     "metadata": {},
     "output_type": "execute_result"
    }
   ],
   "execution_count": 66
  },
  {
   "cell_type": "markdown",
   "metadata": {},
   "source": [
    "**What is the p-value?**\n",
    "\n",
    "**What is the test statistic OR odds ratio?**"
   ]
  },
  {
   "cell_type": "markdown",
   "metadata": {},
   "source": "<span style=\"color:blue;\">The p-value is 0.0205 and odds ratio is 1.348.</span>"
  },
  {
   "cell_type": "markdown",
   "metadata": {},
   "source": [
    "### `3.2.5` (`5 points`) Effect of Caliper Width\n",
    "\n",
    "\"Bias\" and \"Variance\" are concepts that are integral to both machine learning and causal inference, though their implications can be somewhat different depending on the context. (NOTE: Both \"Bias\" and \"Variance\" are very overloaded terms! The definitions change depending on the context.)\n",
    "\n",
    "In the context of discussing a \"bias\" vs \"variance\" tradeoff:\n",
    "\n",
    "- **Bias** refers to the difference between the average prediction of our model and the correct value we are trying to predict. A model is said to have high bias if the model oversimplifies the \"true\" relationship between the predictors and outcome, generally referred to as \"being underfit\". Models with high bias often have systematic errors in predictions (errors largely occuring in the same direction with similar magnitude) as the estimates are \"biased\" away from the true values.\n",
    "\n",
    "- **Variance** refers to the variability of our model's predictions. A model is said to have high variance if small changes to the training data result in large changes in the predictions. Models with high variance are often **overfit** to the training data, and do not generalize well to new data.\n",
    "\n",
    "\n",
    "\n",
    "You may find this article from \"Towards Data Science\" helpful for exploring this concept further: [Understanding the Bias-Variance Tradeoff](https://towardsdatascience.com/understanding-the-bias-variance-tradeoff-165e6942b229)\n",
    "\n",
    "In our propensity analysis, we could have had a stricter caliper and enforced that patients had to be more similar to be matched. \n",
    "\n",
    "**What would have been the tradeoff in terms of the **bias** and **variance** of utilizing a smaller caliper on our models predictions?**"
   ]
  },
  {
   "cell_type": "markdown",
   "metadata": {},
   "source": "<span style=\"color:blue;\">A stricter caliper will result in higher bias/lower variance on model predictions, as there are smaller difference in the convariate variables in each matched pair and the models are now learnt to associate the outcome with these variables having small differences. The model will be more sensitive to the small changes in these variables for a smaller amount of matched pairs of patient group.</span>"
  },
  {
   "cell_type": "markdown",
   "metadata": {},
   "source": [
    "### `3.2.6` (`5 points`) Including Post-Exposure Data in Propensity Models\n",
    "\n",
    "Think back to the previous assignment where we produced the dataset we are working with now. All of the information we have for each patient is from before the **index_time**, which by definition is before the **exposure_time**. \n",
    "\n",
    "Heres a hypothetical:\n",
    "Your friend Marc wants to include the \"total cost of the patient's hospitalization\" as an additional feature in our dataset, and utilize it to fit our propensity model. After looking into his idea, you realize that the \"total cost\" feature is generated **after** the exposure_time for each patient. \n",
    "\n",
    "**What would be the problem with including this feature in our propensity model? Would our inference still be causally valid? Why or why not?**\n",
    "\n"
   ]
  },
  {
   "cell_type": "markdown",
   "metadata": {},
   "source": "<span style=\"color:blue;\">It is hardly possible to keep the causal inference valid. First, propensity model is generally used to reduce effects of covariate confounding variables that occur at the same time or before exposure, so that we can try our best to isolate a exposure-only to outcome causal analysis. By including a variable after exposure, we then would risk the post-exposure variable being associated with the exposure, and hence the association between exposure-outcome may be reduced/amplified based on post-exposure's association with exposure. Generally speaking, for causal inference we try to isolate the effect of exposure to outcome only, and hence time ordering of the variables is sensitive.</span>"
  },
  {
   "cell_type": "markdown",
   "metadata": {},
   "source": [
    "### `3.2.7` (`5 points`) Lingering Biases\n",
    "\n",
    "\n",
    "What are some sources of **bias** (still taking about bias in the sense of \"bias\" vs \"variance\" tradeoff) that our propensity score analysis cannot correct for?"
   ]
  },
  {
   "cell_type": "markdown",
   "metadata": {},
   "source": [
    "<span style=\"color:blue;\">1. If the propensity is overfitted on this single set of patient data, then causal inference from downstream analysis may not generalize well to larger populations. Moreover, when there are extreme propensity scores predicted that are either very close to 0 or 1 and if we set the caliper to be very narrow, then it may be hard to find sufficient matching pairs hence causal inference is done on a smaller dataset which may lead to biased conclusion.<br/><br/>\n",
    "2. In the matching process, we selected the patient with the closest propensity score and exclude all matched pairs for downstream matching of following patients. This may result in lower number of matched pairs and overall subpar matching results. For example, if patient A have 2 patients (C and D) it could be matched with (same score difference) while patient B have only patient C that it could pair with, when patient A is first randomly matched with C (instead of D which have the same propensity difference), patient B now is left out just because it is later in order during matching. Smaller sample size of matched pairs may then result in biased inference analysis.</span>"
   ]
  },
  {
   "cell_type": "markdown",
   "metadata": {},
   "source": [
    "# `4` (`10 points Extra Credit`) **Optional** Reflection Exercise \n",
    "\n",
    "Find a BIOMEDIN 215 classmate who completed Assignment 5 in `R`. \n",
    "\n",
    "You'll notice that the results of some of their statistical analyses are quite different from yours. Why do you think that is?\n",
    "\n",
    "> Hint: there is a very specific design decision early on in the assignment that makes some results differ substantially between the two versions -- if you can find it, we'll give you 10 bonus points!"
   ]
  },
  {
   "cell_type": "markdown",
   "metadata": {},
   "source": "<span style=\"color:blue;\">YOUR ANSWER HERE</span>"
  },
  {
   "metadata": {},
   "cell_type": "markdown",
   "source": ""
  },
  {
   "cell_type": "markdown",
   "metadata": {},
   "source": [
    "---"
   ]
  },
  {
   "attachments": {},
   "cell_type": "markdown",
   "metadata": {},
   "source": [
    "# Feedback (`0 points`)\n",
    "Please fill out the following [feedback form](https://docs.google.com/forms/d/e/1FAIpQLSevaufyQLf5HAFTStk15OJ5idA5OkdLDMsEp8v-fSoPlXKxow/viewform?usp=sf_link) so we can improve the course for future students!"
   ]
  },
  {
   "attachments": {},
   "cell_type": "markdown",
   "metadata": {},
   "source": [
    "---"
   ]
  },
  {
   "cell_type": "markdown",
   "metadata": {},
   "source": [
    "# Submission Instructions ✅\n",
    "\n",
    "There are two files you must submit for this assignment:\n",
    "\n",
    "1. A `PDF` of this notebook.\n",
    "- **Please clear any large cell outputs from executed code cells before creating the PDF.**\n",
    "    - Including short printouts is fine, but please try to clear any large outputs such as dataframe printouts. This makes it easier for us to grade your assignments!\n",
    "- To export the notebook to PDF, you may need to first create an HTML version, and then convert it to PDF.\n",
    "\n",
    "2. A `zip` file containing your code generated by the provided `create_submission_zip.py` script:\n",
    "- Open the `create_submission_zip.py` file and enter your SUNet ID where indicated.\n",
    "- Run the script via `python create_submission_zip.py` to generate a file titled `<your_SUNetID>_submission_A5.zip` in the root project directory.\n"
   ]
  }
 ],
 "metadata": {
  "kernelspec": {
   "display_name": "base",
   "language": "python",
   "name": "python3"
  },
  "language_info": {
   "codemirror_mode": {
    "name": "ipython",
    "version": 3
   },
   "file_extension": ".py",
   "mimetype": "text/x-python",
   "name": "python",
   "nbconvert_exporter": "python",
   "pygments_lexer": "ipython3",
   "version": "3.11.6"
  },
  "orig_nbformat": 4
 },
 "nbformat": 4,
 "nbformat_minor": 2
}
