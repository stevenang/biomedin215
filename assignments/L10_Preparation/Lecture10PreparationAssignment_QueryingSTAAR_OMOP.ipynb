{
  "cells": [
    {
      "cell_type": "markdown",
      "metadata": {
        "id": "uluIbeUZaXjL"
      },
      "source": [
        "# Preparation For Lecture 10\n",
        "\n",
        "Lecture 10 on October 24th, 2024 will feature an in class exercise that will give you hands on experience developing and executing SQL queries against the STARR OMOP de-id confidential dataset.  **In order for the workshop to run smoothly, several steps need to be taken BEFORE you join class on the 24th.**\n",
        "\n",
        "If you're looking at this notebook, you should already have completed the `Lecture 10 Preparation Assignment #1: Compute and Data Access Set-up` in Canvas.\n",
        "\n",
        "__Gaining access to all necessary servers and datasets may take several days, so make sure you get started early!__\n",
        "\n",
        "**Before contuining, ensure that you have followed step 1.3 located in Lecture 10 Preparation Assignment #1:**"
      ]
    },
    {
      "cell_type": "markdown",
      "metadata": {
        "id": "uwGOwkhlaXjN"
      },
      "source": [
        "# Executing a query\n",
        "\n",
        "### Data:  STARR-OMOP Confidential\n",
        "To complete this second and final pre-assignment, you will need to have been granted access to the STARR-OMOP confidential lite dataset.\n",
        "\n",
        "Copy this jupyter notebook over to your BIOMEDIN215 compute environment home directly - simply drag it into the left most panel of your jupyter lab environment you've launched by navigating to https://www.nigam-bmi215.compute.stanford.edu/. Double click on it to launch the notebook.\n",
        "\n",
        "### Tools\n",
        "\n",
        "As with the rest of the course, we will be working in R. STARR-OMOP confidential lite is stored in Google BigQuery, and we will query it using SQL; fortunately, there is an R package (`bigrquery`) that allows us to do this without leaving the R environment.\n",
        "\n",
        "(Though we will use R for this pre-assignment and in the exercise, there are equivalent Python packages for querying data that is stored in BigQuery.)\n",
        "\n",
        "### What is SQL?\n",
        "\n",
        "SQL is an abbreviation for Structured Query Language, developed to manage data stored in a relational database. With SQL, and you can define and extract subsets of data, and make joins across data tables; working in SQL may feel familiar to manipulating and joining data frames in pandas (Python) and dplyr/data.table (R).\n",
        "\n",
        "### Setup\n",
        "\n",
        "To query tables using R, we first need to load packages and set up our system environment:"
      ]
    },
    {
      "cell_type": "markdown",
      "source": [
        "**Before running the code ensure that you have changed the kernel to R.**\n",
        "\n",
        "\n",
        "1.   Look at the upper left hand of the screen\n",
        "2.   Click on Kernel --> Change Kernel -->  R\n"
      ],
      "metadata": {
        "id": "QJn6YawydQdU"
      }
    },
    {
      "cell_type": "code",
      "execution_count": null,
      "metadata": {
        "vscode": {
          "languageId": "r"
        },
        "id": "cRGkXulgaXjN"
      },
      "outputs": [],
      "source": [
        "library(bigrquery)  # to query STARR-OMOP (stored in BigQuery) using SQL\n",
        "library(dplyr)      # to analyze data in R, and do our descriptive analysis\n",
        "\n",
        "# We have credentials to access data, but we need to tell our system environment about them.\n",
        "# Fill in your own Nero username here! (it should be your SUNet ID)\n",
        "MY_USERNAME <- \"\"\n",
        "\n",
        "# This sets our system variables:\n",
        "MY_CREDENTIALS <- paste0(\"/home/\", MY_USERNAME, \"/.config/gcloud/application_default_credentials.json\")\n",
        "Sys.setenv(GOOGLE_APPLICATION_CREDENTIALS = MY_CREDENTIALS)\n",
        "Sys.setenv(GCLOUD_PROJECT = \"som-nero-nigam-bmi215\")\n",
        "gargle::credentials_app_default();\n",
        "\n",
        "# To access the data, we have a \"project\" where our data access permissions have been defined.\n",
        "# You don't need to worry about this today - but it will appear in all of our queries.\n",
        "project_name <- \"som-nero-nigam-bmi215\""
      ]
    },
    {
      "cell_type": "markdown",
      "metadata": {
        "id": "oc3PL8nyaXjO"
      },
      "source": [
        "### Execute a query and read results into R\n",
        "Let's do our first query: _how many people are in the de-id lite extract of STARR OMOP?_\n",
        "\n",
        "In OMOP, the `person` table has one row for every person in the data ([reference](https://github.com/OHDSI/CommonDataModel/wiki/PERSON)). To see how many people are in the dataset, we will count the rows of the `person` table .\n",
        "\n",
        "Our query will be:\n",
        "\n",
        "```\n",
        "SELECT\n",
        "    COUNT(*)\n",
        "  FROM\n",
        "    som-rit-phi-starr-prod.starr_omop_cdm5_confidential_lite_latest.person\n",
        "```\n",
        "\n",
        "Note that we refer to the `person` table using its full path:\n",
        "\n",
        "```som-rit-phi-starr-prod.starr_omop_cdm5_deid_confidential_latest.person```\n",
        "\n",
        "We will do this every time we query any table! We refer to each table by its full name in the form `project_name.dataset_name.table_name`. In this case, the project name is `som-rit-phi-starr-prod`, and the dataset name is `starr_omop_cdm5_confidential_lite_latest`.\n",
        "\n",
        "Run the query, and copy this number into the submission box of this pre-assignment. Congrats - you are ready for lecture 10!"
      ]
    },
    {
      "cell_type": "code",
      "execution_count": null,
      "metadata": {
        "vscode": {
          "languageId": "r"
        },
        "id": "NzdwiZJJaXjO"
      },
      "outputs": [],
      "source": [
        "sql = \"\n",
        "SELECT\n",
        "    COUNT(*) -- from table structure we know there is one row per unique person\n",
        "FROM\n",
        "    som-rit-phi-starr-prod.starr_omop_cdm5_confidential_lite_latest.person\n",
        "\"\n",
        "\n",
        "# Query the data:\n",
        "tb <- bq_project_query(project_name, sql)\n",
        "\n",
        "# And download the result of the query, as an R data.frame:\n",
        "bq_table_download(tb)"
      ]
    }
  ],
  "metadata": {
    "kernelspec": {
      "display_name": "Python 3 (ipykernel)",
      "language": "python",
      "name": "python3"
    },
    "language_info": {
      "codemirror_mode": {
        "name": "ipython",
        "version": 3
      },
      "file_extension": ".py",
      "mimetype": "text/x-python",
      "name": "python",
      "nbconvert_exporter": "python",
      "pygments_lexer": "ipython3",
      "version": "3.11.5"
    },
    "colab": {
      "provenance": []
    }
  },
  "nbformat": 4,
  "nbformat_minor": 0
}