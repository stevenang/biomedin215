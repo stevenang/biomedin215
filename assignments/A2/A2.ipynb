{
 "cells": [
  {
   "attachments": {},
   "cell_type": "markdown",
   "metadata": {},
   "source": [
    "# A2 Data Sources and Biases 🖥️\n",
    "\n",
    "#### Welcome to A2! Please enter answers to the questions in the specified Markdown cells below. When you are done with the assignment, export this file as a PDF and submit to Canvas."
   ]
  },
  {
   "attachments": {},
   "cell_type": "markdown",
   "metadata": {},
   "source": [
    "### Learning Objective 🌱\n",
    "In this assignment, you will explore some useful sources of healthcare data and structured biomedical knowledge. There is a vaste trove of resources available to you, and it is important to become familiar with digging through documentation to find what you need for a given project so you don't end up re-inventing the wheel."
   ]
  },
  {
   "attachments": {},
   "cell_type": "markdown",
   "metadata": {},
   "source": [
    "### Resources 📖\n",
    "- Refer to the slides from Lecture 3 (Health Care Utilization Databases) for examples of databases and their characteristics.\n",
    "\n",
    "- The [Stanford Data Farm](https://redivis.com/Stanford) provides detail on more than 150 healthcare-related databases available to Stanford investigators, including some from this homework. This is a very useful resource for accessing datasets that you can use in your own research!\n",
    "\n"
   ]
  },
  {
   "attachments": {},
   "cell_type": "markdown",
   "metadata": {},
   "source": [
    "# 1. Exploring Healthcare Data Sources 🏥 (21 points)"
   ]
  },
  {
   "attachments": {},
   "cell_type": "markdown",
   "metadata": {},
   "source": [
    "### Instructions ☑️\n",
    "**For each of the data sources below, please provide the following:**\n",
    "\n",
    "- `1-Sentence Summary`: Provide a brief summary describing what the resources is\n",
    "\n",
    "- `Unit(s) of Observation`: The entity or element that is being studied, observed, or recorded in the resource\n",
    "\n",
    "- `Data Element(s)`: (aka Data Item or Data Attribute) is a specific piece of information or characteristic that is being collected, stored, and managed that describes each unit of observation.\n",
    "\n",
    "- `Time Span`: The time span that the records in the resource cover\n",
    "\n",
    "- `Number of Records`: The number of records in the resource.\n",
    "\n",
    "- `Creator(s) or Curating Institution`: The entity responsible for creating/ curating the resource\n",
    "\n",
    "- `Potential Linkages`: Other resources that could be easily linked or are designed to be used with this resource. Generally these are resources that are easily linked by common identifiers. For example: a PubMedID or patient identifier (like a SSN) may be used to link entries between databases.\n",
    "\n",
    "\n",
    "A completed example for the BioPortal resource is included below."
   ]
  },
  {
   "attachments": {},
   "cell_type": "markdown",
   "metadata": {},
   "source": [
    "## `Example:` BIOPORTAL (`0 Points`)"
   ]
  },
  {
   "attachments": {},
   "cell_type": "markdown",
   "metadata": {},
   "source": [
    "##### `1-Sentence Summary`\n",
    "<span style=\"color:purple;\">BioPortal is a repository of biomedical ontologies and mappings between ontologies and concepts, which also offers a software service to recommend ontologies and annotate resources with ontology concepts, as well as a resource index of existing annotations.</span>"
   ]
  },
  {
   "attachments": {},
   "cell_type": "markdown",
   "metadata": {},
   "source": [
    "##### `Unit(s) of Observation`\n",
    "<span style=\"color:purple;\">ontology, concept, concept-concept mapping, ontology-ontology mapping</span>"
   ]
  },
  {
   "attachments": {},
   "cell_type": "markdown",
   "metadata": {},
   "source": [
    "##### `Data Element(s)`\n",
    "<span style=\"color:purple;\">ontology: acronym, visibility, Bioportal PURL, description, status, format, contact, home page, publications page, documentation page, categories, groups, license information, number of classes, number of individuals, number of properties, maximum depth, maximum number of children, average number of children, classes with a single child, classes with more than 25 children, classes with no definition, visits, release date, upload date, projects using ontology. Concept: ID, preferred name, subClassOf, ontology-specific values</span>"
   ]
  },
  {
   "attachments": {},
   "cell_type": "markdown",
   "metadata": {},
   "source": [
    "##### `Time Span`\n",
    "<span style=\"color:purple;\">2005-2016</span>"
   ]
  },
  {
   "attachments": {},
   "cell_type": "markdown",
   "metadata": {},
   "source": [
    "##### `Number of Records`\n",
    "<span style=\"color:purple;\">Ontologies: 535; classes: 7,338,810; resources indexed: 48; indexed records: 39,359,542; direct annotations: 95,468,433,792; direct plus expanded annotations: 144,789,582,932.</span>"
   ]
  },
  {
   "attachments": {},
   "cell_type": "markdown",
   "metadata": {},
   "source": [
    "##### `Creator(s) or Curating Institution`\n",
    "<span style=\"color:purple;\">National Center for Biomedical Ontology</span>"
   ]
  },
  {
   "attachments": {},
   "cell_type": "markdown",
   "metadata": {},
   "source": [
    "##### `Potential Linkages`\n",
    "<span style=\"color:purple;\">UMLS terminologies; the 48 resources indexed with concepts from BioPortal; text that contains mentions of concepts in any ontology available through BioPortal</span>"
   ]
  },
  {
   "attachments": {},
   "cell_type": "markdown",
   "metadata": {},
   "source": [
    "---"
   ]
  },
  {
   "metadata": {},
   "cell_type": "markdown",
   "source": ""
  },
  {
   "attachments": {},
   "cell_type": "markdown",
   "metadata": {},
   "source": "## `1.1:  ` ClinicalTrials.gov (`7 points`)"
  },
  {
   "attachments": {},
   "cell_type": "markdown",
   "metadata": {},
   "source": [
    "#### `1-Sentence Summary` (`1 point`)\n",
    "<span style=\"color:blue;\">*ClinicalTrials.gov* is a comprehensive online database that provides information about the clinical research studies to the public, researchers, and healthcare professionals.</span>"
   ]
  },
  {
   "attachments": {},
   "cell_type": "markdown",
   "metadata": {},
   "source": [
    "#### `Unit(s) of Observation` (`1 point`)\n",
    "<span style=\"color:blue;\">Clinical Trial</span>\n"
   ]
  },
  {
   "attachments": {},
   "cell_type": "markdown",
   "metadata": {},
   "source": [
    "#### `Data Element(s)` (`1 point`)\n",
    "<span style=\"color:blue;\"> The data contains the following elements:\n",
    "1. Study Details:\n",
    "    * Brief Summary\n",
    "    * Detail Description\n",
    "    * Official Titles\n",
    "    * Conditions\n",
    "    * Intervention / Treatment\n",
    "    * Other Study ID Numbers\n",
    "    * Obsolete Identifiers\n",
    "    * Contacts and Locations\n",
    "    * Participants Criteria\n",
    "        * Elibility Criteria\n",
    "            * Description, Ages Elibile for Study, Sexes Elibile for Study, Accepts Healthy Volunteers\n",
    "    * Study Plan\n",
    "        * Design Details\n",
    "            * Primary Purpose, Allocation, Interventional Model, Masking\n",
    "        * Intervention / Treatment\n",
    "    * Primary Outcome Measures\n",
    "        * Outcome Measure, Measure Description, Time Frame\n",
    "    * Collaborators and Investigators\n",
    "        * Sponsor, Collaborators, Investigators\n",
    "    * Study Record Dates:\n",
    "        * Study Registration Dates\n",
    "            * First Submitted, First Submitted that met QC Criteria, First Posted\n",
    "        * Study Record Updates\n",
    "            * Last Updated Submitted that met QC creteria, Last updated Posted, Last Verified\n",
    "    * Terms related to this study\n",
    "        * Keywords provided by sponsors, Additional Relevant MeSH Terms\n",
    "    * Study Start\n",
    "    * Primary Completion\n",
    "    * Study Completion\n",
    "    * Enrollment\n",
    "    * Study Type\n",
    "    * Phase\n",
    "2. Researcher Review:\n",
    "    * Trial Contacts\n",
    "        * Contacts\n",
    "    * Study Record Dates\n",
    "        * First Submitted, First Posted, Last Update Posted, Last Verified\n",
    "    * Outcome Measures:\n",
    "        * Change History, Primary (Current), Primary (Original), Secondary (Current), Secondary (Original), Other Pre-specified (Current), Other Pre-specified (Original)\n",
    "    * Trial Description\n",
    "        * Brief Title, Official Title, Brief Summary, Detailed Description, Study Type, Study Phase, Study Design, Condition, ntervention, Study Arms, Publications\n",
    "    * Recruitment Information:\n",
    "        * Recruitment Status, Enrollment, Original Enrollment, Study Start Date, Primary Completion Date, Study Completion Date, Eligibility Criteria, Sex/Gender, Ages, Accepts Health Volunteers, Location Countries, Removed Location Countries\n",
    "    * Administrative Information\n",
    "        * NCT Numbers, Other Study ID Numbers, Has Data Monitoring Committee, US FDA regulated product, IPD Sharing Statement, Current Responsible Party, Original Responsible Party, Current Study Sponsor, Original Study Sponsor, Collaborators, Investigators, PRS Account\n",
    "3. Result\n",
    "    * Result Overview\n",
    "        * Recruitment Status, Primary Completion Date, Study Completion Date\n",
    "4. Record History:\n",
    "    * Version, Date Submitted, Changes\n",
    "</span>"
   ]
  },
  {
   "attachments": {},
   "cell_type": "markdown",
   "metadata": {},
   "source": [
    "#### `Time Span` (`1 point`)\n",
    "<span style=\"color:blue;\"> The service launched on 2000 and still working till present. In terms of data, they collected the data from September 1997 to Present. \n",
    "The earliest submitted study recored in the system was 1999-09-17 (First submitted date)\n",
    "</span>"
   ]
  },
  {
   "attachments": {},
   "cell_type": "markdown",
   "metadata": {},
   "source": [
    "#### `Number of Records` (`1 point`)\n",
    "<span style=\"color:blue;\">As of 2024-10-02, they have total of 510,898 studies stored in their database </span>"
   ]
  },
  {
   "attachments": {},
   "cell_type": "markdown",
   "metadata": {},
   "source": [
    "#### `Creator(s) or Curating Institution` (`1 point`)\n",
    "<span style=\"color:blue;\">ClinicalTrials.gov is under National Library of Medicine. Its main data source are the sponsors or the investigators who submit and update the information about studies voluntarily  </span>"
   ]
  },
  {
   "attachments": {},
   "cell_type": "markdown",
   "metadata": {},
   "source": [
    "#### `Potential Linkages` (`1 point`)\n",
    "<span style=\"color:blue;\">Registry deposition and Publication, Drug Bank, SNOMED</span>"
   ]
  },
  {
   "attachments": {},
   "cell_type": "markdown",
   "metadata": {},
   "source": [
    "---"
   ]
  },
  {
   "attachments": {},
   "cell_type": "markdown",
   "metadata": {},
   "source": "## `1.2:  ` FDA Adverse Event Reporting System (FAERS) (`7 points`)"
  },
  {
   "attachments": {},
   "cell_type": "markdown",
   "metadata": {},
   "source": [
    "#### `1-Sentence Summary` (`1 point`)\n",
    "<span style=\"color:blue;\"> FAERS is an FDA-maintained database of adverse events, medication errors, and quality complaints related to drugs and biologics, used for post-marketing safety surveillance and coded using international standards. </span>"
   ]
  },
  {
   "attachments": {},
   "cell_type": "markdown",
   "metadata": {},
   "source": [
    "#### `Unit(s) of Observation` (`1 point`)\n",
    "<span style=\"color:blue;\">Adverse Event, Safety Report</span>"
   ]
  },
  {
   "attachments": {},
   "cell_type": "markdown",
   "metadata": {},
   "source": [
    "#### `Data Element(s)` (`1 point`)\n",
    "<span style=\"color:blue;\"> The data include the following:\n",
    " * We can see the following data item in the reports: safetyreportversion, safetyreportid, primarysourcecountry, occurcountry, transmissiondateformat, transmissiondate, reporttype, serious, seriousnessdeath, seriousnesslifethreatening, seriousnesshospitalization, seriousnessdisabling, seriousnesscongenitalanomali, seriousnessother, receivedateformat, receivedate, receiptdateformat, receiptdate, fulfillexpeditecriteria, companynumb, duplicate, reportduplicate, duplicatesource, duplicatenumb, primarysource, reportercountry, qualification, sender, sendertype, senderorganization, receiver, receivertype, receiverorganization, patient, patientonsetage, patientonsetageunit, patientagegroup,  patientsex, reaction, reactionmeddraversionpt, reactionmeddrapt, reactionoutcome, drug, drugcharacterization, medicinalproduct, drugbatchnumb, drugauthorizationnumb, drugstructuredosagenumb, drugstructuredosageunit, drugseparatedosagenumb, drugintervaldosageunitnumb, drugintervaldosagedefinition, drugdosagetext, drugdosageform, drugadministrationroute, drugindication, drugstartdateformat, drugstartdate, actiondrug, drugadditional, activesubstance, activesubstancename, summary, narrativeincludeclinical\n",
    " \n",
    " * In gener we have the following:\n",
    "    * demographic and administrative information and the initial report image ID number (if available)\n",
    "    * drug information from the case reports\n",
    "    * reaction information from the reports\n",
    "    * patient outcome information from the reports\n",
    "    * information on the source of the reports\n",
    "    * a \"README\" file containing a description of the files</span>"
   ]
  },
  {
   "attachments": {},
   "cell_type": "markdown",
   "metadata": {},
   "source": [
    "#### `Time Span` (`1 point`)\n",
    "<span style=\"color:blue;\"> 2012Q4 - Present</span>"
   ]
  },
  {
   "attachments": {},
   "cell_type": "markdown",
   "metadata": {},
   "source": [
    "#### `Number of Records` (`1 point`)\n",
    "<span style=\"color:blue;\"> As of 2024-10-02, total of 29,153,222 records are available in the database \n",
    "<table>\n",
    "    <tr>\n",
    "        <th/>\n",
    "        <th>Total Reports</th>\n",
    "        <th>Expedieted</th>\n",
    "        <th>Non-Expedited</th>\n",
    "        <th>Direct</th>\n",
    "        <th>BSR</th>\n",
    "    </tr>\n",
    "    <tr>\n",
    "        <td>Total Reports</td>\n",
    "        <td>29,153,222</td>\n",
    "        <td>15,957,059</td>\n",
    "        <td>11,911,258</td>\n",
    "        <td>1,284,042</td>\n",
    "        <td>863</td>\n",
    "    </tr>\n",
    "</table>\n",
    "</span>"
   ]
  },
  {
   "attachments": {},
   "cell_type": "markdown",
   "metadata": {},
   "source": [
    "#### `Creator(s) or Curating Institution` (`1 point`)\n",
    "<span style=\"color:blue;\"> U.S. Food & Drug Administration </span>"
   ]
  },
  {
   "attachments": {},
   "cell_type": "markdown",
   "metadata": {},
   "source": [
    "#### `Potential Linkages` (`1 point`)\n",
    "<span style=\"color:blue;\">Drug bank, UMLS, SNOMED,  </span>"
   ]
  },
  {
   "attachments": {},
   "cell_type": "markdown",
   "metadata": {},
   "source": [
    "---"
   ]
  },
  {
   "attachments": {},
   "cell_type": "markdown",
   "metadata": {},
   "source": "## `1.3:  ` National Inpatient Sample (NIS) (`7 points`) - Done"
  },
  {
   "attachments": {},
   "cell_type": "markdown",
   "metadata": {},
   "source": [
    "#### `1-Sentence Summary` (`1 point`)\n",
    "<span style=\"color:blue;\"> The NIS is a comprehensive, publicly accessible healthcare database that provides national estimates and insights on various aspect of inpatient care in US based on the data from millions of hospital.</span>"
   ]
  },
  {
   "attachments": {},
   "cell_type": "markdown",
   "metadata": {},
   "source": [
    "#### `Unit(s) of Observation` (`1 point`)\n",
    "<span style=\"color:blue;\"> Patient, Diagnosis, Diseases, Treatments </span>"
   ]
  },
  {
   "attachments": {},
   "cell_type": "markdown",
   "metadata": {},
   "source": [
    "#### `Data Element(s)` (`1 point`)\n",
    "<span style=\"color:blue;\"> NIS Data contains clinical and nonclinical data element for each hospital stay including:\n",
    " * International Classification of Diseases, Ninth Revision, Clinical Modification (ICD-9-CM) diagnosis, procedure, and external cause of injury codes prior to October 1, 2015\n",
    " * International Classification of Diseases, Tenth Revision, Clinical Modification/Procedure Coding System (ICD-10-CM/PCS) diagnosis, procedures, and external cause of morbidity codes beginning October 1, 2015\n",
    " * Patient demographic characteristics (e.g., sex, age, race, median household income for ZIP Code)\n",
    " * Hospital characteristics (e.g., ownership)\n",
    " * Expected payment source\n",
    " * Total charges\n",
    " * Discharge status\n",
    " * Length of stay\n",
    " * Severity and comorbidity measures\n",
    " * AHRQ software tools (not available for 2016-2017)\n",
    "</span>"
   ]
  },
  {
   "attachments": {},
   "cell_type": "markdown",
   "metadata": {},
   "source": [
    "#### `Time Span` (`1 point`)\n",
    "<span style=\"color:blue;\"> Based on the website, the time span for this service is 1998 - 2021\n",
    "<table>\n",
    "    <tr>\n",
    "        <th>Data Name</th>\n",
    "        <td>Time Span</td>\n",
    "    </tr>\n",
    "    <tr>\n",
    "        <th>NIS Core</th>\n",
    "        <td>2000, 2002, 2004, 2012 - 2021</td>\n",
    "    </tr>\n",
    "    <tr>\n",
    "        <th>NIS DX_PR_GRPS</th>\n",
    "        <td>2012 - 2021</td>\n",
    "    </tr>\n",
    "    <tr>\n",
    "        <th>NIS Hospital</th>\n",
    "        <td>2012 - 2021</td>\n",
    "    </tr>\n",
    "    <tr>\n",
    "        <th>NIS Severity</th>\n",
    "        <td>2012 - 2021</td>\n",
    "    </tr>\n",
    "</table>\n",
    "</span>"
   ]
  },
  {
   "attachments": {},
   "cell_type": "markdown",
   "metadata": {},
   "source": [
    "#### `Number of Records` (`1 point`) \n",
    "<span style=\"color:blue;\">Based on the official [website](https://redivis.com/datasets/2g37-7mghj1wyb/tables): Unweighted, NIS contains data from around 7 million hospital stays each year. Weighted, it estimates around 35 million hospitalizations nationally.\n",
    "Here are the breakdown collected from Stanford PHS\n",
    "<table>\n",
    "    <tr>\n",
    "        <th>Data Name</th>\n",
    "        <td>Count</td>\n",
    "    </tr>\n",
    "    <tr>\n",
    "        <th>NIS Core</th>\n",
    "        <td>70,264,286</td>\n",
    "    </tr>\n",
    "    <tr>\n",
    "        <th>NIS DX_PR_GRPS</th>\n",
    "        <td>55,969,502</td>\n",
    "    </tr>\n",
    "    <tr>\n",
    "        <th>NIS Hospital</th>\n",
    "        <td>45,140</td>\n",
    "    </tr>\n",
    "    <tr>\n",
    "        <th>NIS Severity</th>\n",
    "        <td>58,096,244</td>\n",
    "    </tr>\n",
    "</table>\n",
    "source: https://redivis.com/datasets/2g37-7mghj1wyb/tables\n",
    "</span>"
   ]
  },
  {
   "attachments": {},
   "cell_type": "markdown",
   "metadata": {},
   "source": [
    "#### `Creator(s) or Curating Institution` (`1 point`)\n",
    "<span style=\"color:blue;\"> Agency for Healthcare Research and Quality (AHRQ)\n",
    "</span>"
   ]
  },
  {
   "attachments": {},
   "cell_type": "markdown",
   "metadata": {},
   "source": [
    "#### `Potential Linkages` (`1 point`)\n",
    "<span style=\"color:blue;\"> ICD Code, Drug Bank </span>"
   ]
  },
  {
   "attachments": {},
   "cell_type": "markdown",
   "metadata": {},
   "source": [
    "---"
   ]
  },
  {
   "attachments": {},
   "cell_type": "markdown",
   "metadata": {},
   "source": "# 2. Databases and Schemas 💿 (19 points) - Done"
  },
  {
   "attachments": {},
   "cell_type": "markdown",
   "metadata": {},
   "source": [
    "### Instructions ☑️\n",
    "**The purpose of these questions is to broaden your understanding of databases and how they are organized. For each question, read the prompt and fill out the requested specific information of interest.**"
   ]
  },
  {
   "attachments": {},
   "cell_type": "markdown",
   "metadata": {},
   "source": [
    "## `2.1:  ` (`11 points`)\n",
    "\n",
    ">You are using [MIMIC data](https://mimic.physionet.org/gettingstarted/overview/). While browsing the `NOTEEVENTS` table, you find a note that contains an interesting hypothesis about the cause of diabetic symptoms in the patient it describes. You wonder if the doctor who wrote the note has experience treating diabetic patients.\n",
    "\n",
    "- In simple english, describe how you could find out if the doctor who wrote that note has ever previously written a note about a patient with an pre-existing ICD9 diagnosis for diabetes? \n",
    "\n",
    "- Please explicitly mention which tables, features, and any time filtering you would use to achieve this task. We expect specific details for full credit.\n",
    "\n",
    "<span style=\"color:blue;\"> Here are the tables I will use and details steps I will do to check if the doctor who wrote the note has experience treating diabetic patients:\n",
    "* Tables needed:\n",
    "    * NOTEEVENTS\n",
    "    * D_ICD_DIAGNOSES\n",
    "    * DIAGNOSES_ICD\n",
    "    * ADMISSIONS\n",
    "* Steps:\n",
    "    * Step 1: First, find out all the `icd9_code` related to diabetic from `D_ICD_DIAGNOSES.csv`. This will give us all codes related to diabetic. \n",
    "    * Step 2: Identify doctor's `CGID` who wrote the note, then from `NOTEVENETS` we can filter out all notes written by the doctor using doctor's `CGID`. This can also give us the subject_id (patient) he had treated.\n",
    "    * Step 3: Then using the `subject_id` we retrieved from Step 2 and the `icd9_code` from Step 1, we can filter out all patient treated by the doctor we interested with diabetic\n",
    "    * Step 4: Join the step 3 result with `ADMISSION` table to filter out the patient who has pre-existing diabetics condition prior the date when the notes was written\n",
    "\n",
    "</span>"
   ]
  },
  {
   "attachments": {},
   "cell_type": "markdown",
   "metadata": {},
   "source": [
    "## `2.2:  ` (`8 points`)\n",
    "\n",
    ">You have access to a large database consisting of three tables of data on patients:\n",
    "- demographics (`person_ID`, `date_of_birth`), \n",
    "- visit history (`person_ID`, `date_of_visit`, `provider_seen`)\n",
    "- drug prescription history (`person_ID`, `drug_prescribed`, `date_of_prescription`). \n",
    "\n",
    "You are interested in finding all patients of ages 18 to 50 with a prescription for a short-acting stimulant. \n",
    "\n",
    "You have narrowed your list down to 10 stimulants but, upon skimming through the drug prescription table, you find multiple variations of each stimulant. For example, for the drug ingredient ‘Focalin’ you find the following variations: \n",
    "|drug_name|\n",
    "|---|\n",
    "|Focalin XR|\n",
    "|Focalin XR 10 mg oral capsule, extended release|\n",
    "|Focalin XR 15 mg oral capsule, extended release|\n",
    "|Focalin XR 20 mg oral capsule, extended release|\n",
    "|Focalin XR 20mg|\n",
    "|Focalin XR 30 mg oral capsule, extended release|\n",
    "|Focalin XR 35 mg oral capsule, extended release|\n",
    "|Focalin XR 5 mg oral capsule, extended release|\n",
    "\n",
    "The table is very long and you do not have time or expertise to look through it and find all of the variations for each drug."
   ]
  },
  {
   "attachments": {},
   "cell_type": "markdown",
   "metadata": {},
   "source": [
    "\n",
    "You realize you are missing a table in your database that would allow you to answer your question.\n",
    " \n",
    "- Describe the columns that this missing table should have and the relationship between them (hint: it has two columns). \n",
    "\n",
    "- What columns would this table have in common with the other tables in the database? (10 points)\n",
    "\n",
    "<span style=\"color:blue;\"> We can call the missing table as `drug` and it will contain 2 columns: `ingredients` and `variations` as follow:\n",
    "\n",
    "<table>\n",
    "    <tr>\n",
    "        <th>ingredients</th>\n",
    "        <th>variation</th>\n",
    "    <tr>\n",
    "    <tr>\n",
    "        <td>Focalin</td>\n",
    "        <td>Focalin XR|Focalin XR 10 mg oral capsule, extended release|Focalin XR 15 mg oral capsule, extended release| Focalin XR 20 mg oral capsule, extended release| Focalin XR 20mg| Focalin XR 30 mg oral capsule, extended release |Focalin XR 35 mg oral capsule, extended release| Focalin XR 5 mg oral capsule, extended release</td>\n",
    "    </tr>\n",
    "    <tr>\n",
    "        <td>Ingredient 2</td>\n",
    "        <td>medicine 1|Medicine 2...</td>\n",
    "    </tr>\n",
    "</table> \n",
    "\n",
    "With this new table, we can create a query to get all patient of ages 18 to 50 with particular ingredients. For example:\n",
    "    \n",
    "        WITH split_variations AS (\n",
    "            SELECT \n",
    "                ingredients,\n",
    "                TRIM(value) AS single_variation\n",
    "            FROM \n",
    "                drug\n",
    "            CROSS APPLY STRING_SPLIT(variation, '|')\n",
    "        ),\n",
    "        patient_age AS (\n",
    "            SELECT\n",
    "                person_ID,\n",
    "                DATEDIFF(YEAR, date_of_birth, GETDATE()) - \n",
    "                CASE \n",
    "                    WHEN DATEADD(YEAR, DATEDIFF(YEAR, date_of_birth, GETDATE()), date_of_birth) > GETDATE() \n",
    "                    THEN 1 \n",
    "                    ELSE 0 \n",
    "                END AS age\n",
    "            FROM\n",
    "                demographics\n",
    "        )\n",
    "        sv.ingredients\n",
    "        FROM\n",
    "            patient_age pa\n",
    "        JOIN\n",
    "            drug_prescription_history dph ON pa.person_ID = dph.person_ID\n",
    "        JOIN\n",
    "            split_variations sv ON dph.drug_prescribed = sv.single_variation\n",
    "        WHERE\n",
    "            pa.age BETWEEN 18 AND 50\n",
    "            AND sv.ingredients IN ('Focalin', 'OtherIngredient1', 'OtherIngredient2')\n",
    "        ORDER BY\n",
    "            pa.person_ID, sv.ingredients, dph.drug_prescribed;\n",
    "\n",
    "In this new table, the `variant` will contains the name of the drug (variant) which can be found in `drug_prescribed`\n",
    "</span>"
   ]
  },
  {
   "attachments": {},
   "cell_type": "markdown",
   "metadata": {},
   "source": [
    "---"
   ]
  },
  {
   "attachments": {},
   "cell_type": "markdown",
   "metadata": {},
   "source": [
    "# 3. How data (and biases) are born (`40 points`)"
   ]
  },
  {
   "attachments": {},
   "cell_type": "markdown",
   "metadata": {},
   "source": [
    "### Instructions ☑️\n",
    "**This question should get you thinking about where and how different kinds of data are generated, and how that also generates the biases that come with them. Read the following prompts and answer the questions in the specified locations.**"
   ]
  },
  {
   "attachments": {},
   "cell_type": "markdown",
   "metadata": {},
   "source": [
    "## `3.1:  ` (`8 points`)\n",
    "> A healthcare database has a field `IS_SMOKER` for each patient.\n",
    "\n",
    "- How do you believe this information would be measured and put into the database?\n",
    "\n",
    "<span style=\"color:blue;\"> There are several ways to measured and recorded into the database:\n",
    "1. Self-reporting - One of the most common method is asking the patient directly during the intake, medical visits like routine check-ups or using survey. Patients are typically asked whether they smoke, have they smoked in the past or have never somke. This kind of information would been entered into the database by healthcare staff. This method could introduce potential bias because of the following:\n",
    "    * Underreporting - Patients might not disclose their smoking habits accurately due to different kind of reasons like religion, culture or even the society norms\n",
    "    * Misclassification - Patients might not be able to classified themselve correctly if the categories are too broad or not clearly defined. For example, \"Occational Smoker\" vs. \"Dialy Smoker\")\n",
    "    * Memory recall: Patient may not remeber their smoking history correctlt, especially if they quit smoking years ago.\n",
    "2. Clinician Reported - Healthcare providers may record smoking status based on the following:\n",
    "    a) Clinical obsewrvation during the consultation\n",
    "    b) Electronic Health records\n",
    "    c) Medical history review\n",
    "    However, these methods can also introduce bias:\n",
    "    * Subjectivity - Clinician might make assumptions about patient7s smoking habit based on physical appearance or associated health conditions which potentially leading to misclassification\n",
    "    * Incomplete Data - If clinician forget to ask the question during client visit, the information not not be updated or accurately recorded over the time\n",
    "</span>"
   ]
  },
  {
   "attachments": {},
   "cell_type": "markdown",
   "metadata": {},
   "source": [
    "## `3.2:  ` (`8 points`)\n",
    "\n",
    "> You want to do an analysis looking at the prevelence of smoking, and you are thinking about utilizing the `IS_SMOKER` field to identify patients that actively smoke.\n",
    "\n",
    "- What are the factors that might cause either over-reporting of smoking (more people are marked as smokers in the database than there actually are) or under-reporting of smoking (the opposite)?\n",
    "\n",
    "- Do you think it is more likely that smoking is over or under-reported? Provide a brief explanation of your thinking.\n",
    "\n",
    "\n",
    "<span style=\"color:blue;\"> Here are some key factors contributing to over-reporting or under-reporting:\n",
    "\n",
    "* Factors contribute to over-reporting:\n",
    "    1) Outdated Information - If patient's record is not updated after they quit smoking, they will still be considered as smoker, leading to over-reporting\n",
    "    2) Data Entry Error - Clinician can make mistakes when entering the data. For example, they may encode non-smoker as smoker which leading to over counting\n",
    "* Factors contributed to under-reporting:\n",
    "    1) Data Entry Error - This is an opposite case from over-reporting that clinician mistakenly encodes smoker as non-smokers which leads to underreporting \n",
    "    2) Incomplete record - Not all patient may be asked about their smoking status in their every healthcare interaction. This leads to the possibility of missing or incomplete data\n",
    "    3) Social Stigma\n",
    " \n",
    "In my opinion, it is most likely that smoking is under-reported in most of the datasets due to the following reasons:\n",
    "\n",
    "1) Social norms - The patient may under-report their smoking status when smoking is consider socially undesirable\n",
    "2) Incomplete or outdated data - For example, a patient quick smoking might not be categorized correctly especially when the answer of `IS_SMOKER` is binary (YES/NO) which is not able to capture the past behavior.\n",
    "3) In the healthcare setting, some patients will underreport their smoking status because they want to present themselves in a healthier light or to avoid judgement from medical professionals\n",
    "</span>"
   ]
  },
  {
   "attachments": {},
   "cell_type": "markdown",
   "metadata": {},
   "source": [
    "## `3.3:  ` (`8 points`)\n",
    "\n",
    "> The data you are utilizing for the analysis has patients from many different backgrounds.\n",
    "\n",
    "- Can you think of any patient populations that might have more under- or over-reporting of their smoking than others? Please briefly explain your reasoning.\n",
    "\n",
    "\n",
    "<span style=\"color:blue;\"> Here are some potential patient populations that might under- or over-reporting of smoking:\n",
    " * Under-Reporting:\n",
    "    * Teenagers/Adolescents - This group of people might underreport to avoid parental disapproval or legal consequences.  For example, some states impose penalty for Minors possessing or purchasing tabaco products\n",
    "    * Pregnant women - Expecting mother might underreport due to the social norms/stigma and guilt associated with smoking during pregnancy period.\n",
    "    * Patient with specific medical conditions - For example, the patient with lung cancer or heart disease might underreport their smoking status due to felling of shame or fear of doctor's / society's judgement\n",
    " * Over-Reporting:\n",
    "    * Patient wants to quit smoking might overreport their smoking status so they will be qualify for smoking cessation programs or other related benefits\n",
    " * Both Under- and Overreporting:\n",
    "    * Elder patient - This group of people might under- or over-reporting due to memory issue or due to the different cultural norms from their childhood\n",
    "</span>"
   ]
  },
  {
   "attachments": {},
   "cell_type": "markdown",
   "metadata": {},
   "source": [
    "## `3.4:  ` (`8 points`)\n",
    "\n",
    "> You calculate the correlation between smoking and year of birth between 1980 and 2010. \n",
    "\n",
    "- What do you think the relationship between these two variables is? \n",
    "\n",
    "- Based on your answers above, do you think the true correlation is stronger or weaker than the what you calculated?\n",
    "\n",
    "<span style=\"color:blue;\"> Answer:\n",
    "* The relationship between these two variables (`smoking` and `year of birth`), for the time range 1980 - 2010, is `NEGATIVE CORRELATION`. with the following reasons:\n",
    "    * Increased awareness - Over this period of time (1980 - 2010), people are more aware with the health risk associated with smoking due to aggressive Anti-smoking campaigns and education programs\n",
    "    * Regulations - Strict regulation on selling tobacco products (specially to minors), advertising, and smoking in public places making smoking more difficult\n",
    "    * Price increases - Governments have raised tax on tobacco products, making smoking become more and more expensive\n",
    "    * Social norms/Cultural shift - Smoking become less socially acceptable over the time\n",
    "* In my opinion, the true correlation might be stronger than what I am calculated - That means stronger `NEGATIVE CORRELATION`. It might mainly due to the people under-report their smoking status.\n",
    "  \n",
    "</span>"
   ]
  },
  {
   "attachments": {},
   "cell_type": "markdown",
   "metadata": {},
   "source": [
    "## `3.5:  ` (`8 points`)\n",
    "\n",
    "> Sometimes a data element of interest does not appear in the data you have access to. A possible work-around is to use a proxy data element known to be correlated with the data element of interest. For example, [Frankovich et al.](http://www.snubi.org/~juhan/Futurefile/Evidence-Based%20Medicine%20in%20the%20EMR%20Era.pdf) used aspirin records as a proxy for antiphospholipid antibody labs.\n",
    "\n",
    "- What are some strategies you might use to assess or choose a proxy for a variable of interest? (any variable, not just the `IS_SMOKER` field mentioned in previous question parts)\n",
    "\n",
    "\n",
    "<span style=\"color:blue;\"> In this case, I will be consider the following strategies to choose possible proxy:\n",
    " 1. Subject Matter Expert - Consult with Subject Matter Expert can help us identify possible variables that are theoretically or clinically related to the variable of interest\n",
    " 2. Literature review - Experience form the past experiment can be a good source to help us to identify the possible proxies for similar variables in comparable context\n",
    " 3. Domain knowledge - For example, if the data `IS_SMOKER` is not in the dataset collected, we can try to look for other proxies like lung's x-ray image, any lung's related medication... etc. However, this needs some domain knowledge to help us idetify the right proxies\n",
    " 4.  Sensitivity Analysis - This analysis can help us understand the relationship between the input (proxy) and the output (variable of interest)\n",
    "</span>"
   ]
  },
  {
   "attachments": {},
   "cell_type": "markdown",
   "metadata": {},
   "source": [
    "---"
   ]
  }
 ],
 "metadata": {
  "language_info": {
   "name": "python"
  },
  "orig_nbformat": 4
 },
 "nbformat": 4,
 "nbformat_minor": 2
}
