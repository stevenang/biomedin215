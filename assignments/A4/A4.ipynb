{
 "cells": [
  {
   "attachments": {},
   "cell_type": "markdown",
   "metadata": {},
   "source": [
    "# A4 Feature Engineering [𐄡]\n",
    "\n",
    "#### Welcome to A4! \n",
    "\n",
    "Please enter answers to the questions in the specified Markdown cells below, and complete the code snippets in the associated python files as specified. When you are done with the assignment, follow the instructions at the end of this assignment to submit."
   ]
  },
  {
   "attachments": {},
   "cell_type": "markdown",
   "metadata": {},
   "source": [
    "### Learning Objective 🌱\n",
    "In this assignment, you will gain experience transforming clinical data into sets of features for downstream statistical analysis, utilizing the cohort that you developed in A3. In particular, you will extract features from vitals, diagnosis codes, and more that can be used to predict the future development of septic shock. You will practice using common time-saving tools in the **Pandas 🐼** library and **Python 🐍** programming language that are ideally suited to these tasks."
   ]
  },
  {
   "attachments": {},
   "cell_type": "markdown",
   "metadata": {},
   "source": [
    "### Resources 📖\n",
    "- Pandas Cheat Sheet 🐼: [https://pandas.pydata.org/Pandas_Cheat_Sheet.pdf](https://pandas.pydata.org/Pandas_Cheat_Sheet.pdf)\n",
    "\n",
    "- Relevant publications:\n",
    "\n",
    "  - You will not be replicating the models presented in [\"A targeted real-time early warning score (TREWScore) for septic shock\" by Henry et al.](http://stm.sciencemag.org/content/7/299/299ra122.full) directly, but we include a link to the paper for your reference.\n",
    "\n"
   ]
  },
  {
   "attachments": {},
   "cell_type": "markdown",
   "metadata": {},
   "source": [
    "### Environment Set-Up 🐍\n",
    "To begin, we will need to set up an virtual environment with the necessary packages. A virtual environment is a self-contained directory that contains a Python interpreter (aka Python installation) and any additional packages/modules that are required for a specific project. It allows you to isolate your project's dependencies from other projects that may have different versions or requirements of the same packages.\n",
    "\n",
    "In this course, we require that you utilize [Miniconda](https://docs.conda.io/en/latest/miniconda.html) to manage your virtual environments. Miniconda is a lightweight version of [Anaconda](https://www.anaconda.com/), a popular Python distribution that comes with many of the packages that are commonly used in data science."
   ]
  },
  {
   "attachments": {},
   "cell_type": "markdown",
   "metadata": {},
   "source": [
    "#### Instructions for setting up your environment using Miniconda:\n",
    "1. If you do not already have Miniconda installed, download and install the latest version for your opperating system from the following link: [https://docs.conda.io/en/latest/miniconda.html#latest-miniconda-installer-links](https://docs.conda.io/en/latest/miniconda.html#latest-miniconda-installer-links)\n",
    "\n",
    "2. Create a new virtual environment for this assignment by running the following command in your terminal:\n",
    "\n",
    "   ```bash\n",
    "   conda env create -f environment.yml\n",
    "   ```\n",
    "\n",
    "   This will create a new virtual environment called `biomedin215`\n",
    "\n",
    "3. Activate your new virtual environment by running the following command in your terminal:\n",
    "\n",
    "   ```bash\n",
    "   conda activate biomedin215\n",
    "   ```\n",
    "\n",
    "   This will activate the virtual environment you created in the previous step.\n",
    "\n",
    "4. Finally, ensure that your `ipynb` (this notebook)'s kernel is set to utilize\n",
    "the `biomedin215` virtual environment you created in the previous steps. Depending on\n",
    "which IDE you are using to run this notebook, the steps to do this may vary.\n"
   ]
  },
  {
   "cell_type": "code",
   "metadata": {
    "ExecuteTime": {
     "end_time": "2024-10-31T17:50:17.602224Z",
     "start_time": "2024-10-31T17:50:17.586191Z"
    }
   },
   "source": [
    "from time import process_time\n",
    "# Run this cell: \n",
    "# The lines below will instruct jupyter to reload imported modules before \n",
    "# executing code cells. This enables you to quickly iterate and test revisions\n",
    "# to your code without having to restart the kernel and reload all of your \n",
    "# modules each time you make a code change in a separate python file.\n",
    "\n",
    "%load_ext autoreload\n",
    "%autoreload 2"
   ],
   "outputs": [],
   "execution_count": 1
  },
  {
   "cell_type": "code",
   "metadata": {
    "ExecuteTime": {
     "end_time": "2024-10-31T17:50:18.008994Z",
     "start_time": "2024-10-31T17:50:17.608529Z"
    }
   },
   "source": [
    "# Run this cell to ensure the environment is setup properly\n",
    "# If you get an error, please ensure that the environment was activated for this notebook\n",
    "# Note: You do not need to edit this cell\n",
    "import pandas as pd\n",
    "import os\n",
    "import warnings\n",
    "\n",
    "print(\"Imports Successful!\")"
   ],
   "outputs": [
    {
     "name": "stdout",
     "output_type": "stream",
     "text": [
      "Imports Successful!\n"
     ]
    }
   ],
   "execution_count": 2
  },
  {
   "cell_type": "markdown",
   "metadata": {},
   "source": [
    "### *Note to Students:* 📚\n",
    "\n",
    ">Throughout the assignment, we have provided `sanity checks`: small warnings that will alert you when your implementation is different from the solution. Our goal in providing these numbers is to help you find bugs or errors in your code that may otherwise have gone unnoticed. Please note: the sanity checks are just tools we provided to be helpful, and should not be treated as a target to hit. We manually grade each assignment based on the code you submit, and not based on whether you get the exact same numbers as the sanity checks.\n",
    "\n",
    "Even if you are failing the sanity checks, if your implementation is correct with minor errors, you will still receive the majority of the points (if not all)."
   ]
  },
  {
   "cell_type": "code",
   "metadata": {
    "ExecuteTime": {
     "end_time": "2024-10-31T17:50:18.081263Z",
     "start_time": "2024-10-31T17:50:18.068233Z"
    }
   },
   "source": [
    "# Run this cell to set up sanity checks warnings\n",
    "# Note: You do not need to change anything in this cell\n",
    "\n",
    "# Creates a custom warning class for sanity checks\n",
    "class SanityCheck(Warning):\n",
    "    pass\n",
    "\n",
    "# Sets up a cosutom warning formatter\n",
    "def custom_format_warning(message, category, filename, lineno, line=None):\n",
    "    if category == SanityCheck:\n",
    "        # Creates a custom warning with orange text\n",
    "        return f'\\033[38;5;208mSanity Check - Difference Flagged:\\n{message}\\033[0m\\n'\n",
    "    \n",
    "    return '{}:{}: {}: {}\\n'.format(filename, lineno, category.__name__, message)\n",
    "\n",
    "# Sets the warning formatter for the entire notebook\n",
    "warnings.formatwarning = custom_format_warning"
   ],
   "outputs": [],
   "execution_count": 3
  },
  {
   "attachments": {},
   "cell_type": "markdown",
   "metadata": {},
   "source": [
    "### Data Description 📂\n",
    "\n",
    "We will be utilizing the same subset of the [MIMIC III database](https://mimic.mit.edu/docs/iii/about/) we utilized in A3: the 1,000 subject development cohort you created previously. You will start with a dataset very similar to what you may have generated at the end of the prior assignment.\n",
    "\n",
    "You will analyze the available data to identify a cohort of patients that underwent septic shock during their admission to the ICU. **All of the data you need for this assignment is available on Canvas.** \n",
    "\n",
    "Once you have downloaded and unzipped the data, you should see the following `7` csv files:\n",
    "- `cohort_labels.csv`\n",
    "\n",
    "- `ADMISSIONS.csv`\n",
    "\n",
    "- `DIAGNOSES_ICD.csv`\n",
    "\n",
    "- `notes_small_cohort_v2.csv`\n",
    "\n",
    "- `snomed_ct_isaclosure.csv`\n",
    "\n",
    "- `snomed_ct_str_cui.csv`\n",
    "\n",
    "- `vitals_small_cohort.csv`\n",
    "\n",
    "**Specify the location of the folder containing the data in the following cells:**"
   ]
  },
  {
   "cell_type": "code",
   "metadata": {
    "ExecuteTime": {
     "end_time": "2024-10-31T17:50:18.099198Z",
     "start_time": "2024-10-31T17:50:18.087799Z"
    }
   },
   "source": [
    "# Specify the path to the folder containing the data files\n",
    "data_dir = \"/Users/stevenang/Documents/stanford/biomedin215/assignments/A4/data\" # <-- TODO: You will need to change this path"
   ],
   "outputs": [],
   "execution_count": 4
  },
  {
   "cell_type": "code",
   "metadata": {
    "ExecuteTime": {
     "end_time": "2024-10-31T17:50:18.122851Z",
     "start_time": "2024-10-31T17:50:18.109083Z"
    }
   },
   "source": [
    "# Run this cell to make sure all of the files are in the specified folder\n",
    "expected_file_list = [\"cohort_labels.csv\", \"ADMISSIONS.csv\", \"DIAGNOSES_ICD.csv\", \"notes_small_cohort_v2.csv\", \"snomed_ct_isaclosure.csv\", \"snomed_ct_str_cui.csv\",\"vitals_small_cohort.csv\"]\n",
    "\n",
    "for file in expected_file_list:\n",
    "    assert os.path.exists(os.path.join(data_dir, file)), \"Can't find file {}\".format(file)\n",
    "\n",
    "print(\"All files successfully found\")"
   ],
   "outputs": [
    {
     "name": "stdout",
     "output_type": "stream",
     "text": [
      "All files successfully found\n"
     ]
    }
   ],
   "execution_count": 5
  },
  {
   "attachments": {},
   "cell_type": "markdown",
   "metadata": {},
   "source": [
    "# 1. Defining labels for prediction 🟩🟩🟩🟥🟩🟩🟥🟩"
   ]
  },
  {
   "attachments": {},
   "cell_type": "markdown",
   "metadata": {},
   "source": [
    "## `1.1`: (`10 pts`)\n",
    "\n",
    "Utilizing our version of the 1,000 subject development cohort you created in the previous assignment, in this assignment, your task is to engineer a set of features that will be used as the inputs to a model that will predict:\n",
    "\n",
    "```\n",
    "At 12 hours into an admission, whether septic shock will occur during the remainder of the admission, with at least 3 hours of lead time (the amount of time between when an event is predicted to occur and when it actually occurs).\n",
    "```"
   ]
  },
  {
   "cell_type": "markdown",
   "metadata": {},
   "source": [
    "To begin, let's load in our intial dataframes. \n",
    "- `cohort_labels.csv`: contains the cohort with the various labels we defined in A3. (This dataset will probably look very similar to the dataset you had at the end of A3.)\n",
    "\n",
    "- `ADMISSIONS.csv`: an extract of the ADMISSIONS table from MIMIC-III. This contains information about patient admission events to the hospital."
   ]
  },
  {
   "cell_type": "code",
   "metadata": {
    "ExecuteTime": {
     "end_time": "2024-10-31T17:50:18.569052Z",
     "start_time": "2024-10-31T17:50:18.214312Z"
    }
   },
   "source": [
    "# Run this cell to load the data from the CSV files into Pandas DataFrames\n",
    "# Note: You do not need to change anything in this cell\n",
    "\n",
    "# Reads in the tables from the CSV files\n",
    "cohort_labels = pd.read_csv(os.path.join(data_dir, \"cohort_labels.csv\"))\n",
    "admissions = pd.read_csv(os.path.join(data_dir, \"ADMISSIONS.csv\"))\n",
    "\n",
    "# Sets the column names to be lowercase\n",
    "admissions.columns = [x.lower() for x in admissions.columns]"
   ],
   "outputs": [],
   "execution_count": 6
  },
  {
   "cell_type": "code",
   "metadata": {
    "ExecuteTime": {
     "end_time": "2024-10-31T17:50:18.584704Z",
     "start_time": "2024-10-31T17:50:18.573511Z"
    }
   },
   "source": [
    "# Run this cell to view what the first few rows of the cohort_labels table look like\n",
    "# Note: You do not need to change anything in this cell\n",
    "#cohort_labels.head(3)\n"
   ],
   "outputs": [],
   "execution_count": 7
  },
  {
   "cell_type": "code",
   "metadata": {
    "ExecuteTime": {
     "end_time": "2024-10-31T17:50:18.611465Z",
     "start_time": "2024-10-31T17:50:18.599619Z"
    }
   },
   "source": [
    "# Run this cell to view what the first few rows of the admissions table look like\n",
    "#admissions.head(3)"
   ],
   "outputs": [],
   "execution_count": 8
  },
  {
   "cell_type": "code",
   "metadata": {
    "ExecuteTime": {
     "end_time": "2024-10-31T17:50:18.643347Z",
     "start_time": "2024-10-31T17:50:18.625084Z"
    }
   },
   "source": [
    "# (OPTIONAL TODO:) It is always a good idea to filter out columns that you don't need from DataFrames.\n",
    "# As always, feel free to add code to your notebooks to do this. This is not required for the assignment.\n",
    "# You may want to come back to this later when you are more familiar with the data and know which columns you need.\n",
    "\n",
    "admissions.drop(['deathtime', 'admission_type', 'admission_location', 'discharge_location', 'insurance', 'language', 'religion', 'marital_status', 'ethnicity', 'edregtime', 'edouttime', 'hospital_expire_flag' ], axis=1, inplace=True)"
   ],
   "outputs": [],
   "execution_count": 9
  },
  {
   "cell_type": "markdown",
   "metadata": {},
   "source": [
    "First, we need to do some preprocessing. When working with dates in Pandas, it is always a good idea to convert the data to a datetime format. This can help improve performance, memory efficiency, and also allow us to use the many built-in features of Pandas that are only available for datetime objects. Implement the function `preprocess_dates` in the file `src/utils.py` following the instructions in the docstring, to convert specific columns in the input dataframe that contain dates to datetime objects."
   ]
  },
  {
   "cell_type": "code",
   "metadata": {
    "ExecuteTime": {
     "end_time": "2024-10-31T17:50:19.342779Z",
     "start_time": "2024-10-31T17:50:18.654004Z"
    }
   },
   "source": [
    "# Run this cell after you have completed the necessary code\n",
    "# Note: you do not need to modify the code in this cell\n",
    "from src.utils import preprocess_dates\n",
    "\n",
    "preprocess_dates(admissions, [\"admittime\", \"dischtime\"], [\"%Y-%m-%d %H:%M:%S\"]*2, inplace=True)\n",
    "preprocess_dates(cohort_labels, [\"charttime\"], [\"%Y-%m-%dT%H:%M:%SZ\"],inplace=True)\n",
    "\n",
    "#==============\n",
    "# Sanity Checks\n",
    "if not \"datetime\" in str(admissions[\"admittime\"].dtype).lower():\n",
    "    warnings.warn(\"The admittime column is not a datetime object\", SanityCheck)\n",
    "\n",
    "if not admissions[\"admittime\"].dt.tz is not None:\n",
    "    warnings.warn(\"The admittime column is not in UTC\", SanityCheck)"
   ],
   "outputs": [],
   "execution_count": 10
  },
  {
   "cell_type": "markdown",
   "metadata": {},
   "source": [
    "Next, we will derive the **labels** and **index times** in a way that aligns with the task description above. Note that we are no longer following the same procedure as the TREWScore paper.\n",
    "\n",
    "We will use the following definitions:\n",
    "\n",
    "* We will only assign labels to admissions of at least twelve hours in duration.\n",
    "\n",
    "* An admission is assigned a negative label if septic shock does not occur at any time during the admission.\n",
    "\n",
    "* An admission is assigned a positive label if septic shock occurs fifteen hours after admission or later.\n",
    "\n",
    "* Admissions where the earliest time of septic shock occurs prior to fifteen hours after admission are removed from the study.\n",
    "\n",
    "* For admissions that have valid labels, we assign an index time at twelve hours into the admission. For prediction, we only use information that occurs before the index time.\n",
    "\n",
    "* In the case that a patient has multiple admissions for which a valid index time and label may be assigned, we only use the latest one.\n",
    "\n",
    "We will use the above definitions to derive the binary classification labels for septic shock and the corresponding index times for each patient in the dataframe. Our goal is to end up with a dataframe that contains a row for each patient in `cohort_labels` that passed the inclusion criteria, with the following columns:\n",
    "- `subject_id`: the unique identifier for each patient\n",
    "- `hadm_id`: the unique identifier for the admission\n",
    "- `label`: the binary classification label for septic shock\n",
    "- `index_time`: the index time for the patient (+12 hours from admission start time)"
   ]
  },
  {
   "cell_type": "markdown",
   "metadata": {},
   "source": [
    "As mentioned above, we do not want to assign labels to admissions that are less than twelve hours in duration. Implement the function `filter_admissions` in `src/labels.py` following the instructions in the docstring and run the following cell."
   ]
  },
  {
   "cell_type": "code",
   "metadata": {
    "ExecuteTime": {
     "end_time": "2024-10-31T17:50:19.373918Z",
     "start_time": "2024-10-31T17:50:19.355790Z"
    }
   },
   "source": [
    "# Run this cell after you have completed the necessary code\n",
    "# Note: you do not need to modify the code in this cell\n",
    "from src.labels import filter_admissions\n",
    "\n",
    "filtered_admissions = filter_admissions(admissions)\n",
    "\n",
    "#==============\n",
    "# Sanity Checks\n",
    "\n",
    "# Check that the number of rows is correct\n",
    "if filtered_admissions.shape[0] != 57925:\n",
    "    warnings.warn(\"Number of rows is different than expected\", SanityCheck)"
   ],
   "outputs": [],
   "execution_count": 11
  },
  {
   "cell_type": "markdown",
   "metadata": {},
   "source": [
    "Our next step will be to merge the two dataframes together, and create two additional columns:\n",
    "- `relative_charttime`: The amount of time between the charttime and the start of the admission\n",
    "- `index_time`: The time at which a prediction will be made (12 hours after the start of the admission)\n",
    "\n",
    "Implement the functions `merge_and_create_times`, `get_relative_charttime`, and `get_index_time` in `src/labels.py` following the instructions in the appropriate docstrings. When you are done, run the cell below to sanity check your implementation."
   ]
  },
  {
   "cell_type": "code",
   "metadata": {
    "ExecuteTime": {
     "end_time": "2024-10-31T17:50:19.445562Z",
     "start_time": "2024-10-31T17:50:19.388242Z"
    }
   },
   "source": [
    "# Run this cell after you have completed the necessary code\n",
    "# Note: you do not need to modify the code in this cell\n",
    "from src.labels import merge_and_create_times\n",
    "\n",
    "merged_cohort = merge_and_create_times(cohort_labels,filtered_admissions)\n",
    "\n",
    "#==============\n",
    "# Sanity Checks\n",
    "if merged_cohort.shape[0] != 247610:\n",
    "    warnings.warn(f\"Number of rows is different than expected: shape[0] = {merged_cohort.shape[0]}\", SanityCheck)"
   ],
   "outputs": [],
   "execution_count": 12
  },
  {
   "cell_type": "markdown",
   "metadata": {},
   "source": [
    "Now we need to use this merged dataframe to create a new dataframe that contains the labels utilizing the definitions above. Implement the function `get_shock_labels` in `A4/labels.py` following the instructions in the docstring to create a new dataframe with a binary septic shock label for each patient."
   ]
  },
  {
   "cell_type": "code",
   "metadata": {
    "ExecuteTime": {
     "end_time": "2024-10-31T17:50:19.558505Z",
     "start_time": "2024-10-31T17:50:19.464274Z"
    }
   },
   "source": [
    "# Run this cell after you have completed the necessary code\n",
    "# Note: you do not need to modify the code in this cell\n",
    "from src.labels import get_shock_labels\n",
    "\n",
    "shock_labels = get_shock_labels(merged_cohort)\n",
    "\n",
    "\n",
    "#==============\n",
    "# Sanity Check:\n",
    "for col in shock_labels.columns:\n",
    "    if col not in [\"subject_id\", \"hadm_id\", \"admittime\", \"dischtime\", \"index_time\", \"label\", \"icustay_id\"]:\n",
    "        warnings.warn(f\"Expected column {col} not found\", SanityCheck)\n",
    "    \n",
    "if len(shock_labels) != 974:\n",
    "    warnings.warn(f\"Expected length different: length = {len(shock_labels)}\", SanityCheck)\n",
    "\n",
    "if len(shock_labels) != shock_labels[\"subject_id\"].nunique():\n",
    "    warnings.warn(f\"Expected no duplicate rows\", SanityCheck)"
   ],
   "outputs": [],
   "execution_count": 13
  },
  {
   "cell_type": "code",
   "metadata": {
    "ExecuteTime": {
     "end_time": "2024-10-31T17:50:19.594671Z",
     "start_time": "2024-10-31T17:50:19.579270Z"
    }
   },
   "source": [
    "# Run this cell to see the class balance of the labels:\n",
    "# Note: you do not need to modify the code in this cell\n",
    "shock_labels[\"label\"].value_counts()"
   ],
   "outputs": [
    {
     "data": {
      "text/plain": [
       "label\n",
       "False    905\n",
       "True      69\n",
       "Name: count, dtype: int64"
      ]
     },
     "execution_count": 14,
     "metadata": {},
     "output_type": "execute_result"
    }
   ],
   "execution_count": 14
  },
  {
   "cell_type": "markdown",
   "metadata": {},
   "source": [
    "# 2 Feature engineering [𐄡]"
   ]
  },
  {
   "cell_type": "markdown",
   "metadata": {},
   "source": [
    "Now that we have derived labels and index times for each patient in our cohort, we can start to engineer some features from the data that occur prior to the index times and will be useful for predicting onset of septic shock."
   ]
  },
  {
   "cell_type": "markdown",
   "metadata": {},
   "source": [
    "First lets deal with diagnoses. Load in the `DIAGNOSES_ICD.csv` file by running the cell below."
   ]
  },
  {
   "cell_type": "code",
   "metadata": {
    "ExecuteTime": {
     "end_time": "2024-10-31T17:50:19.821702Z",
     "start_time": "2024-10-31T17:50:19.641352Z"
    }
   },
   "source": [
    "# Run this cell to load the data from the CSV files into Pandas DataFrames\n",
    "# Note: You do not need to modify the code in this cell\n",
    "\n",
    "# Reads in the table from the CSV file\n",
    "diagnoses = pd.read_csv(os.path.join(data_dir, \"DIAGNOSES_ICD.csv\"))\n",
    "# Sets diagnoses's column names to lower case\n",
    "diagnoses.columns = [x.lower() for x in diagnoses.columns]"
   ],
   "outputs": [],
   "execution_count": 15
  },
  {
   "cell_type": "markdown",
   "metadata": {},
   "source": [
    "## `2.1`: (`2 pts`)\n",
    "\n",
    "Review the documentation for MIMIC to answer the following question.\n",
    "\n",
    "**Which column from which table in MIMIC should you use to find the time of each diagnosis? Justify your response.**"
   ]
  },
  {
   "cell_type": "markdown",
   "metadata": {},
   "source": " <span style=\"color:blue;\"> According to MIMIC-III Documentation (https://mimic.mit.edu/docs/iii/tables/admissions/), the final diagnoses for a patient's hospital stay are coded on discharge and can be found on DIAGNOSES_ICD table. This means the column DISCHTIME from ADMISSION table can be used to determine time of diagnosis </span>"
  },
  {
   "cell_type": "markdown",
   "metadata": {},
   "source": [
    "## `2.2`: (`3 pts`)\n",
    "\n",
    "Utilizing the column you selected in the previous question, implement the function `get_diagnoses` in `A4/features.py` following the instructions in the docstring. When you have completed your implementation, run the cell below to sanity check."
   ]
  },
  {
   "cell_type": "code",
   "metadata": {
    "ExecuteTime": {
     "end_time": "2024-10-31T17:50:19.998961Z",
     "start_time": "2024-10-31T17:50:19.847086Z"
    }
   },
   "source": [
    "from src.features import get_diagnoses\n",
    "\n",
    "dx_features = get_diagnoses(admissions, diagnoses, shock_labels)\n",
    "\n",
    "#============\n",
    "# Sanity Check\n",
    "if dx_features.shape[0] != 4031:\n",
    "    warnings.warn(f\"Expected length different: shape[0] = {dx_features.shape[0]}\", SanityCheck)"
   ],
   "outputs": [],
   "execution_count": 16
  },
  {
   "cell_type": "markdown",
   "metadata": {},
   "source": [
    "**How many subjects have diagnoses recorded prior to the index_time? Does the resulting number make sense?**\n"
   ]
  },
  {
   "cell_type": "code",
   "metadata": {
    "ExecuteTime": {
     "end_time": "2024-10-31T17:50:20.063263Z",
     "start_time": "2024-10-31T17:50:20.048082Z"
    }
   },
   "source": [
    "# TODO: Add code to this cell to answer the above question if needed\n",
    "dx_features['subject_id'].unique().shape[0]"
   ],
   "outputs": [
    {
     "data": {
      "text/plain": [
       "210"
      ]
     },
     "execution_count": 17,
     "metadata": {},
     "output_type": "execute_result"
    }
   ],
   "execution_count": 17
  },
  {
   "cell_type": "markdown",
   "metadata": {},
   "source": " <span style=\"color:blue;\"> We found 210 unique subjects have diagnosis prior to index_time. This makes sense as that means 210 patients have had a diagnosis made within 12 hours in one of his/her admissions. This is expected to be larger than the number of patients with True shock_label from part 1, since that only accounts for the lastest admission to label the patients. </span>"
  },
  {
   "cell_type": "markdown",
   "metadata": {},
   "source": [
    "## `2.3`: (`4 pts`)\n",
    "\n",
    "Implement code in the following cell to answer the question\n",
    "\n",
    "**What are the top 10 most common diagnosis codes (by number of unique patients who had the code in their history) in the data frame resulting from question 2.2? Look up the top 3 codes online and report what they refer to.**"
   ]
  },
  {
   "cell_type": "code",
   "metadata": {
    "ExecuteTime": {
     "end_time": "2024-10-31T17:50:20.179354Z",
     "start_time": "2024-10-31T17:50:20.125282Z"
    }
   },
   "source": [
    "# TODO: IMPLEMENT CODE HERE TO ANSWER THIS QUESTION\n",
    "# Get the list of unique subject_ids based on the icd9_code\n",
    "unique_subject_ids = dx_features.groupby(by='icd9_code', as_index=False)['subject_id'].unique()\n",
    "# Count how many distinct subject_id we have for each icd9_code\n",
    "unique_subject_ids['count'] = [len(x) for x in unique_subject_ids['subject_id']]\n",
    "# Sorted by count first then icd9_code\n",
    "unique_subject_ids.sort_values(by=['count', 'icd9_code'], ascending=[False, True], inplace=True)\n",
    "# Print out the first 10 items with the highest count\n",
    "unique_subject_ids.sort_values('count', ascending=False)[:10].icd9_code.values"
   ],
   "outputs": [
    {
     "data": {
      "text/plain": [
       "array(['4019', '4280', '41401', '5849', '42731', '2859', '5990', '25000',\n",
       "       '51881', '486'], dtype=object)"
      ]
     },
     "execution_count": 18,
     "metadata": {},
     "output_type": "execute_result"
    }
   ],
   "execution_count": 18
  },
  {
   "cell_type": "markdown",
   "metadata": {},
   "source": [
    "## `2.4`: (`4 pts`)\n",
    "\n",
    "In this step we will create a histogram for the set of codes and patients that remain after the index time filtering step. \n",
    "\n",
    "Implement the function `show_diagnosis_hist` in `visualize.py` following the instructions in the docstring. When you are done, run the cell below to show the histogram."
   ]
  },
  {
   "cell_type": "code",
   "metadata": {
    "ExecuteTime": {
     "end_time": "2024-10-31T17:50:21.832839Z",
     "start_time": "2024-10-31T17:50:20.282655Z"
    }
   },
   "source": [
    "from src.visualize import show_diagnosis_hist\n",
    "\n",
    "# Create the plot\n",
    "show_diagnosis_hist(dx_features, \"diagnosis_count_hist.png\")"
   ],
   "outputs": [
    {
     "data": {
      "text/plain": [
       "<Figure size 1000x500 with 1 Axes>"
      ],
      "image/png": "[encoded data removed]"
     },
     "metadata": {},
     "output_type": "display_data"
    }
   ],
   "execution_count": 19
  },
  {
   "cell_type": "markdown",
   "metadata": {},
   "source": [
    "**In 1-2 sentences, interpret the resulting histogram.**"
   ]
  },
  {
   "attachments": {},
   "cell_type": "markdown",
   "metadata": {},
   "source": " <span style=\"color:blue;\"> There is a high diversity of diagnosis among patients, as there are almost 500 diagnosis made to unique patients (highest bin at 1 diagnosis and under 10 patient count). There are very small number of diagnosis assigned to large amount of patients in this cohort (indicated by the bins at patient count > 60). </span>"
  },
  {
   "cell_type": "markdown",
   "metadata": {},
   "source": [
    "## `2.5`: (`5 pts`)\n",
    "\n",
    "From the histogram you generated earlier, it's evident that there's a substantial variation in the frequency of different diagnoses. Specifically, a significant number of diagnoses appear very infrequently in the dataset.\n",
    "\n",
    "Such a distribution is characteristic of a `sparse feature space`. Here is what that means:\n",
    "\n",
    "`Sparse Feature Space`: In the context of data with categorical variables, a sparse feature space refers to the scenario where many possible features (in this case, diagnosis codes) appear infrequently, resulting in a 'wide form' matrix with many zeros or absent values.\n",
    "\n",
    "This can have problematic implications for downstream analyses:\n",
    "- First, sparse features can pose **computational challenges**: Many machine learning algorithms struggle with high dimensionality and sparsity. They can become computationally intensive or may not work optimally.\n",
    "- Second, sparse features can lead to **issues with generalization**: Rare features often don't contribute significantly to model training. In some cases, they might even introduce noise, making the model overfit to a training set and perform poorly on new, unseen data.\n",
    "\n",
    "\n",
    "\n"
   ]
  },
  {
   "cell_type": "markdown",
   "metadata": {},
   "source": [
    "Given these challenges, it's beneficial to address sparsity. One strategy to manage this involves quantifying the \"usefulness\" or \"specificity\" of each feature, and utilizing this information to select features or even perform feature aggregation (grouping features to capture broader patterns). This is where `Information Content (IC)` comes into play:\n",
    "\n",
    "**Definition**: `IC` is a metric that provides a measure of the specificity or the informativeness of a feature based on its frequency of occurrence. Features that are very common have a higher probability and thus a lower IC, while rare features have a lower probability, resulting in a high IC value."
   ]
  },
  {
   "cell_type": "markdown",
   "metadata": {},
   "source": [
    "The IC of a feature that occurs in a set of records is calculated as follows:\n",
    "\n",
    "$IC\\left(\\text{featureA}\\right) = -log_2 \\left( \\frac{count(\\text{Patients with featureA})}{count(\\text{All Patients})} \\right)$"
   ]
  },
  {
   "cell_type": "markdown",
   "metadata": {},
   "source": [
    "Implement the function `calc_ic` in `src/features.py` to calculate the IC of each diagnosis code in the dx_features dataframe using the equation above and following the instructions in the docstring. When you are done, run the cell below to sanity check your implementation."
   ]
  },
  {
   "cell_type": "code",
   "metadata": {
    "ExecuteTime": {
     "end_time": "2024-10-31T17:50:21.927453Z",
     "start_time": "2024-10-31T17:50:21.868456Z"
    }
   },
   "source": [
    "from src.features import calc_ic\n",
    "\n",
    "icd9_ic = calc_ic(dx_features, all_patients_count=len(shock_labels))\n",
    "\n",
    "if icd9_ic.shape[0] != 914:\n",
    "    warnings.warn(f\"Expected number of rows different: shape[0] = {icd9_ic.shape[0]}\", SanityCheck)"
   ],
   "outputs": [],
   "execution_count": 20
  },
  {
   "cell_type": "markdown",
   "metadata": {},
   "source": [
    "## `2.6` (`3 pts`)\n",
    "\n",
    "Use the code cell below to answer the following question:\n",
    "\n",
    "**What is the range (min and max) of ICs observed in your data? What are the 10 most specific ICD9 codes?**\n",
    "\n"
   ]
  },
  {
   "cell_type": "code",
   "metadata": {
    "ExecuteTime": {
     "end_time": "2024-10-31T17:50:21.980802Z",
     "start_time": "2024-10-31T17:50:21.959792Z"
    }
   },
   "source": [
    "                # TODO: IMPLEMENT CODE HERE TO ANSWER THE QUESTION\n",
    "print(f\"Max of ICs observed: {icd9_ic['icd9_code_ic'].max()}\")\n",
    "print(f\"Min of ICs observed: {icd9_ic['icd9_code_ic'].min()}\")\n",
    "print(f\"Top 10 icd_9 codes: {icd9_ic.sort_values('icd9_code_ic', ascending=False)[:10]}\")\n"
   ],
   "outputs": [
    {
     "name": "stdout",
     "output_type": "stream",
     "text": [
      "Max of ICs observed: 9.927777962082342\n",
      "Min of ICs observed: 3.3886191509743107\n",
      "Top 10 icd_9 codes:      icd9_code  icd9_code_ic\n",
      "3294     V1007      9.927778\n",
      "3621      4580      9.927778\n",
      "3584      4263      9.927778\n",
      "3585      7210      9.927778\n",
      "3609     37852      9.927778\n",
      "3613      5307      9.927778\n",
      "3614      9828      9.927778\n",
      "3615     E9509      9.927778\n",
      "3616      5680      9.927778\n",
      "3619     29620      9.927778\n"
     ]
    }
   ],
   "execution_count": 21
  },
  {
   "cell_type": "markdown",
   "metadata": {},
   "source": [
    " <span style=\"color:blue;\"> The range of IC is 3.3886191509743107 (min) to 9.927777962082342 (max). </span><p>\n",
    " <span style=\"color:blue;\">According to the definition, the feature with higher specificity or the informativeness are rare and have high IC, hence top 10 codes are: 'V1007', '4580', '4263', '7210', '37852', '5307', '9828', 'E9509', '5680', '29620'</span>"
   ]
  },
  {
   "cell_type": "markdown",
   "metadata": {},
   "source": [
    "## `2.7` (`2 pts`)\n",
    "\n",
    "Now it's time to perform some feature selection. Implement the function `filter_ic` in `src/features.py` to filter the dataframe to only include the diagnoses with an IC between 4 and 9 (inclusive) following the instructions in the docstring. When you are done, run the cell below to sanity check your implementation."
   ]
  },
  {
   "cell_type": "code",
   "metadata": {
    "ExecuteTime": {
     "end_time": "2024-10-31T17:50:22.046468Z",
     "start_time": "2024-10-31T17:50:22.025635Z"
    }
   },
   "source": [
    "from src.features import filter_ic\n",
    "\n",
    "dx_selected = filter_ic(dx_features, icd9_ic)\n",
    "\n",
    "\n",
    "#============\n",
    "# Sanity Check\n",
    "if dx_selected.shape[0] != 3044:\n",
    "    warnings.warn(f\"Expected number of rows different: shape[0] = {dx_selected.shape[0]}\", SanityCheck)"
   ],
   "outputs": [],
   "execution_count": 22
  },
  {
   "cell_type": "markdown",
   "metadata": {},
   "source": [
    "## `2.8` (`12 pts`)\n",
    "\n",
    "Now we have our diagnosis features and the times they occurred for each patient. The next step is to create a patient-feature matrix that summarizes and organizes these diagnosis features. In this matrix, each row should represent a patient and each column should represent a diagnosis code, time-binned by whether or not it occurred in the 6 months prior to the index time.\n",
    "\n",
    "Put simply, for each diagnosis code, we want to generate two features:\n",
    "\n",
    "- One feature representing the count of the number of times the code was observed in the six months prior to the index time.\n",
    "- Another feature for the number of times that code appeared more than six months before the index time.\n",
    "\n",
    "Note that the ICU stay is the first time many patients have been seen at this hospital, so patients may have few or no prior recorded diagnoses.\n"
   ]
  },
  {
   "cell_type": "markdown",
   "metadata": {},
   "source": [
    "Implement the function `get_diagnoses_features` in `src/features.py` to create the patient-feature matrix following the instructions in the docstring. When you are done, run the cell below to sanity check your implementation."
   ]
  },
  {
   "cell_type": "code",
   "metadata": {
    "ExecuteTime": {
     "end_time": "2024-10-31T17:50:22.266659Z",
     "start_time": "2024-10-31T17:50:22.124400Z"
    }
   },
   "source": [
    "from src.features import get_diagnosis_features\n",
    "\n",
    "diagnosis_features = get_diagnosis_features(dx_selected)\n",
    "\n",
    "#============\n",
    "# Sanity Check\n",
    "\n",
    "if diagnosis_features.shape[0] != 209:\n",
    "    warnings.warn(f\"Expected number of rows different: shape[0] = {diagnosis_features.shape[0]}\", SanityCheck)"
   ],
   "outputs": [],
   "execution_count": 23
  },
  {
   "cell_type": "markdown",
   "metadata": {},
   "source": [
    "## `2.9` (`4 pts`)\n",
    "\n",
    "Now let's add features from notes. To do so, we'll have to process some text.\n",
    "\n",
    "The `noteevents` table in MIMIC is large and unwieldy, so we've extracted the rows from that table that you will need. The result is in the file `notes_small_cohort_v2.csv`. Let's load this in now."
   ]
  },
  {
   "cell_type": "code",
   "metadata": {
    "ExecuteTime": {
     "end_time": "2024-10-31T17:50:22.772122Z",
     "start_time": "2024-10-31T17:50:22.270756Z"
    }
   },
   "source": [
    "# Run this cell to load the data from the CSV files into Pandas DataFrames\n",
    "# Note: You do not need to modify the code in this cell\n",
    "\n",
    "# Reads in the table from the CSV file\n",
    "notes = pd.read_csv(os.path.join(data_dir, \"notes_small_cohort_v2.csv\"))\n",
    "\n",
    "# Set notes' column names to lower case\n",
    "notes.columns = [x.lower() for x in notes.columns]\n",
    "\n",
    "# Utilizes the preprocess_dates function to convert the dates to datetime objects\n",
    "preprocess_dates(notes, [\"chartdate\"], [\"%Y-%m-%d\"], inplace=True)\n"
   ],
   "outputs": [],
   "execution_count": 24
  },
  {
   "cell_type": "code",
   "metadata": {
    "ExecuteTime": {
     "end_time": "2024-10-31T17:50:22.826296Z",
     "start_time": "2024-10-31T17:50:22.810028Z"
    }
   },
   "source": [
    "# Let's check out what the notes data looks like\n",
    "#notes.head(3)"
   ],
   "outputs": [],
   "execution_count": 25
  },
  {
   "cell_type": "markdown",
   "metadata": {},
   "source": [
    "In the MIMIC database, notes are primarily timestamped using the chartdate column, which captures the date (but not the precise time) when the note was recorded. Another column, charttime, exists, but it is predominantly empty or null for most entries. This presents a challenge when we wish to filter notes based on precise times, such as a patient-specific cutoff time.\n",
    "\n",
    "To address this, our approach will be to filter notes by ensuring that they were recorded strictly before the day corresponding to each patient's `index_time`. This means that if a note's chartdate is the same as the `index_time` (*even if charttime were available*), we would exclude it because we can't ascertain if it was before or after the exact `index_time` time on that day."
   ]
  },
  {
   "cell_type": "markdown",
   "metadata": {},
   "source": [
    "Implement the function `filter_by_chartdate` in `src/notes.py` to filter the notes dataframe to only include notes in a patient's record that were recorded before the day corresponding to each patient's `index_time`, following the instructions in the docstring. When you are done, run the cell below to sanity check your implementation."
   ]
  },
  {
   "cell_type": "code",
   "metadata": {
    "ExecuteTime": {
     "end_time": "2024-10-31T17:50:23.108312Z",
     "start_time": "2024-10-31T17:50:22.866644Z"
    }
   },
   "source": [
    "from src.notes import filter_by_chartdate\n",
    "\n",
    "notes_filtered = filter_by_chartdate(shock_labels, notes)\n",
    "\n",
    "#============\n",
    "# Sanity Check\n",
    "if notes_filtered.shape[0] != 13213:\n",
    "    warnings.warn(f\"Number of rows differs from expected: shape[0] = {notes_filtered.shape[0]}\", SanityCheck)"
   ],
   "outputs": [],
   "execution_count": 26
  },
  {
   "cell_type": "markdown",
   "metadata": {},
   "source": [
    "## `2.10` (`2 pts`)\n",
    "\n",
    "The Unified Medical Language System (UMLS) is a multi-dimensional and dynamic compendium developed by the U.S. National Library of Medicine (NLM) to bridge the gap between various healthcare terminologies and classification systems. At the heart of UMLS lie various terminologies, which provide concept hierarchies as well as sets of terms for individual concepts. For example, there are more than 50 terms in UMLS terminologies for the concept `myocardial infarction`!\n",
    "\n",
    "Here we will use the SNOMED CT (Systematized Nomenclature of Medicine - Clinical Terms): A comprehensive clinical terminology encompassing diseases, clinical findings, procedures, etc. SNOMED CT is a multi-hierarchy system, meaning that each concept can have multiple parents. For example, the concept `myocardial infarction` has two parents: `acute coronary syndrome` and `myocardial disorder`.\n",
    "\n",
    "In this assignment, you will use the SNOMED CT hierarchy and UMLS term sets to construct a dictionary of terms for inflammatory disorders, which you will use to search for associated terms in MIMIC III notes to create additional features.\n",
    "\n",
    "First, load `snomed_ct_isaclosure.csv` and `snomed_ct_str_cui.csv` by running the code in the following cell:"
   ]
  },
  {
   "cell_type": "code",
   "metadata": {
    "ExecuteTime": {
     "end_time": "2024-10-31T17:50:24.908375Z",
     "start_time": "2024-10-31T17:50:23.149555Z"
    }
   },
   "source": [
    "# Run this cell to load the data from the CSV files into Pandas DataFrames\n",
    "# Note: You do not need to modify the code in this cell\n",
    "\n",
    "# Reads in tables from the CSV files\n",
    "snomed_ct_isaclosure = pd.read_csv(os.path.join(data_dir, \"snomed_ct_isaclosure.csv\"))\n",
    "snomed_ct_str_cui = pd.read_csv(os.path.join(data_dir, \"snomed_ct_str_cui.csv\"))"
   ],
   "outputs": [],
   "execution_count": 27
  },
  {
   "cell_type": "code",
   "metadata": {
    "ExecuteTime": {
     "end_time": "2024-10-31T17:50:24.971082Z",
     "start_time": "2024-10-31T17:50:24.952809Z"
    }
   },
   "source": [
    "# snomed_ct_isaclosure contains the child-parent CUI relationships for all of SNOMED CT.\n",
    "# Note: You do not need to modify the code in this cell\n",
    "#snomed_ct_isaclosure.head(3)"
   ],
   "outputs": [],
   "execution_count": 28
  },
  {
   "cell_type": "code",
   "metadata": {
    "ExecuteTime": {
     "end_time": "2024-10-31T17:50:25.032630Z",
     "start_time": "2024-10-31T17:50:25.016200Z"
    }
   },
   "source": [
    "# snomed_ct_str_cui contains the terms (each with a unique term identifier, tid) for each SNOMED CT CUI\n",
    "# Note: You do not need to modify the code in this cell\n",
    "#snomed_ct_str_cui.head(3)"
   ],
   "outputs": [],
   "execution_count": 29
  },
  {
   "cell_type": "markdown",
   "metadata": {},
   "source": [
    "Implement the function `merge_snomed` in `src/notes.py` to merge the two dataframes together, following the instructions in the docstring. When you are done, run the cell below to sanity check your implementation."
   ]
  },
  {
   "cell_type": "code",
   "metadata": {
    "ExecuteTime": {
     "end_time": "2024-10-31T17:50:27.773099Z",
     "start_time": "2024-10-31T17:50:25.075817Z"
    }
   },
   "source": [
    "from src.notes import merge_snomed\n",
    "\n",
    "# Merge the two tables\n",
    "snomed_ct_concept_str = merge_snomed(snomed_ct_isaclosure, snomed_ct_str_cui)\n",
    "\n",
    "#============\n",
    "# Sanity Check\n",
    "if snomed_ct_concept_str.shape[0] != 16407662:\n",
    "    warnings.warn(f\"Number of rows differs from expected: shape[0] = {snomed_ct_concept_str.shape[0]}\", SanityCheck)\n",
    "\n",
    "if snomed_ct_concept_str.shape[1] != 2:\n",
    "    warnings.warn(f\"Number of columns differs from expected: shape[1] = {snomed_ct_concept_str.shape[1]}\", SanityCheck)"
   ],
   "outputs": [],
   "execution_count": 30
  },
  {
   "cell_type": "markdown",
   "metadata": {},
   "source": [
    "## `2.11` (`6 pts`)\n",
    "\n",
    "One feature that is very likely to impact the likelihood of a patient to develop septic shock is whether they currently have or have a history of inflammatory disorders. Let's extract information from clinical notes to look for the presence of this class of disease."
   ]
  },
  {
   "cell_type": "markdown",
   "metadata": {},
   "source": [
    "To accomplish this,  implement the function `get_cui_list` in `src/notes.py` to get a list of all the terms that correspond to a CUI in the `snomed_ct_isaclosure` dataframe and that have a specified number of characters or fewer, following the instructions in the docstring. Then, use this function to get a set of terms for `inflammatory disorders` (`C1290884`) that have 20 characters or fewer. How many terms are in the dictionary?"
   ]
  },
  {
   "cell_type": "code",
   "metadata": {
    "ExecuteTime": {
     "end_time": "2024-10-31T17:50:28.536567Z",
     "start_time": "2024-10-31T17:50:27.816429Z"
    }
   },
   "source": [
    "from src.notes import get_cui_list\n",
    "\n",
    "inflammatory_disorder_list = get_cui_list(snomed_ct_concept_str, \"C1290884\", 20)\n",
    "\n",
    "#============\n",
    "# Sanity Check\n",
    "\n",
    "if len(inflammatory_disorder_list) != 2991:\n",
    "    warnings.warn(f\"Length of inflammatory_disorder_list differs from expected: length = {len(inflammatory_disorder_list)}\", SanityCheck)\n",
    "\n",
    "if \"ekc\" != inflammatory_disorder_list[0]:\n",
    "    warnings.warn(f\"First element of inflammatory_disorder_list differs from expected: element = {inflammatory_disorder_list[0]}\", SanityCheck)"
   ],
   "outputs": [],
   "execution_count": 31
  },
  {
   "cell_type": "markdown",
   "metadata": {},
   "source": [
    "## `2.12` (`7 pts`)\n",
    "\n",
    "Now let's determine if the notes contain these terms. Implement the function `extract_terms` in `src/notes.py` to search the note text for the terms you collected in the previous step, following the instructions in the docstring. When you are done, run the cell below to sanity check your implementation."
   ]
  },
  {
   "cell_type": "code",
   "metadata": {
    "ExecuteTime": {
     "end_time": "2024-10-31T17:50:29.774436Z",
     "start_time": "2024-10-31T17:50:28.580542Z"
    }
   },
   "source": [
    "from src.notes import extract_terms\n",
    "\n",
    "term_df = extract_terms(notes_filtered, inflammatory_disorder_list, 50)\n",
    "\n",
    "#============\n",
    "# Sanity Check\n",
    "if term_df.shape[0] != 13213:\n",
    "    warnings.warn(f\"Number of rows differs from expected: shape[0] = {term_df.shape[0]}\", SanityCheck)\n"
   ],
   "outputs": [],
   "execution_count": 32
  },
  {
   "cell_type": "markdown",
   "metadata": {},
   "source": [
    "## `2.13` (`6 pts`)\n",
    "\n",
    "Now that we have extracted the terms from the notes and have a representation of which term is in which note in a `wide` dataframe format, we want to determine which concepts are present in each note. To do this, we will reshape the dataframe to a `long` format and normalize terms back to their corresponding concepts. \n",
    "\n",
    "Implement the function `normalize_terms` in `src/notes.py` following the instructions in the docstring. When you are done, run the cell below to sanity check your implementation."
   ]
  },
  {
   "cell_type": "code",
   "metadata": {
    "ExecuteTime": {
     "end_time": "2024-10-31T17:50:32.476763Z",
     "start_time": "2024-10-31T17:50:29.825912Z"
    }
   },
   "source": [
    "from src.notes import normalize_terms\n",
    "\n",
    "concept_df = normalize_terms(term_df, snomed_ct_concept_str)"
   ],
   "outputs": [],
   "execution_count": 33
  },
  {
   "cell_type": "markdown",
   "metadata": {},
   "source": [
    "## `2.14` (`7 pts`)\n",
    "\n",
    "As with the diagnoses, we must transform these concepts data into a patient-feature matrix. Transform `concept_df` into a patient-feature matrix where each row is a patient and each column is the presence or absence of a concept. Here we are not going to do any time binning. Each concept should have only one column. Instead of counts, use a binary indicator to indicate that the concept was present in the patient's notes."
   ]
  },
  {
   "cell_type": "markdown",
   "metadata": {},
   "source": [
    "Implement the function `get_note_concept_features` in `src/notes.py` following the instructions in the docstring. When you are done, run the cell below to sanity check your implementation."
   ]
  },
  {
   "cell_type": "code",
   "metadata": {
    "ExecuteTime": {
     "end_time": "2024-10-31T17:50:32.609293Z",
     "start_time": "2024-10-31T17:50:32.528975Z"
    }
   },
   "source": [
    "from src.notes import get_note_concept_features\n",
    "\n",
    "note_concept_features = get_note_concept_features(concept_df)"
   ],
   "outputs": [],
   "execution_count": 34
  },
  {
   "cell_type": "markdown",
   "metadata": {},
   "source": [
    "## `2.15` (`2 pts`)\n",
    "\n",
    "Now let's engineer some features from vital sign measurements also relevant to predicting septic shock! Load in the `vitals_small_cohort.csv` file by running the cell below."
   ]
  },
  {
   "cell_type": "code",
   "metadata": {
    "ExecuteTime": {
     "end_time": "2024-10-31T17:50:33.482010Z",
     "start_time": "2024-10-31T17:50:32.663324Z"
    }
   },
   "source": [
    "# Run this cell to load the data from the CSV files into Pandas DataFrames\n",
    "# Note: You do not need to modify the code in this cell\n",
    "\n",
    "# Reads in the table from the CSV file\n",
    "vitals = pd.read_csv(os.path.join(data_dir, \"vitals_small_cohort.csv\"))\n",
    "\n",
    "# Preprocess the dates\n",
    "preprocess_dates(vitals, [\"charttime\"], [\"%Y-%m-%dT%H:%M:%SZ\"], inplace=True)\n"
   ],
   "outputs": [],
   "execution_count": 35
  },
  {
   "cell_type": "markdown",
   "metadata": {},
   "source": [
    "Let's filter the vitals so we are only looking at Heart Rate measurements that were taken prior to the patient's index time.\n",
    "\n",
    "Implement the function `filter_vitals` in `src/vitals.py` to filter the vitals dataframe to only include measurements that were taken prior to the patient's index time, following the instructions in the docstring. When you are done, run the cell below to sanity check your implementation."
   ]
  },
  {
   "cell_type": "code",
   "metadata": {
    "ExecuteTime": {
     "end_time": "2024-10-31T17:50:33.595444Z",
     "start_time": "2024-10-31T17:50:33.539476Z"
    }
   },
   "source": [
    "from src.vitals import filter_vitals\n",
    "\n",
    "vitals_filtered_hr = filter_vitals(vitals, shock_labels, [\"HeartRate\"])\n",
    "\n",
    "# ============q\n",
    "# Sanity Check\n",
    "if vitals_filtered_hr.shape[0] != 9328:\n",
    "    warnings.warn(f\"Number of rows differs from expected: shape[0] = {vitals_filtered_hr.shape[0]}\", SanityCheck)"
   ],
   "outputs": [],
   "execution_count": 36
  },
  {
   "cell_type": "markdown",
   "metadata": {},
   "source": [
    "## `2.16` (`4 pts`)"
   ]
  },
  {
   "cell_type": "markdown",
   "metadata": {},
   "source": [
    "Now lets construct some features. One feature of interest might be the latest value of the heart rate before the `index_time`. \n",
    "\n",
    "Implement the function `get_latest_hr` in `src/vitals.py` to get the latest heart rate measurement before the `index_time` for each patient. When you are done, run the cell below to sanity check your implementation."
   ]
  },
  {
   "cell_type": "code",
   "metadata": {
    "ExecuteTime": {
     "end_time": "2024-10-31T17:50:33.676247Z",
     "start_time": "2024-10-31T17:50:33.654190Z"
    }
   },
   "source": [
    "from src.vitals import get_latest_hr\n",
    "\n",
    "latest_hr_df = get_latest_hr(vitals_filtered_hr)"
   ],
   "outputs": [],
   "execution_count": 37
  },
  {
   "cell_type": "markdown",
   "metadata": {},
   "source": [
    "Now, let's create a histogram to look at the distribution of the latest heart rate values.\n",
    "\n",
    "Implement the function `show_hr_hist` in `src/visualize.py` to plot a histogram of the latest heart rate values, following the instructions in the docstring. When you are done, run the cell below to sanity check your implementation."
   ]
  },
  {
   "cell_type": "code",
   "metadata": {
    "ExecuteTime": {
     "end_time": "2024-10-31T17:50:34.041587Z",
     "start_time": "2024-10-31T17:50:33.738458Z"
    }
   },
   "source": [
    "from src.visualize import show_hr_plot\n",
    "\n",
    "# Create the plot\n",
    "show_hr_plot(latest_hr_df, \"hr_plot.png\")"
   ],
   "outputs": [
    {
     "data": {
      "text/plain": [
       "<Figure size 1000x500 with 1 Axes>"
      ],
      "image/png": "[encoded data removed]"
     },
     "metadata": {},
     "output_type": "display_data"
    }
   ],
   "execution_count": 38
  },
  {
   "cell_type": "markdown",
   "metadata": {},
   "source": [
    "## `2.17` (`4 pts`)\n",
    "\n",
    "There are some additional considerations we should think about prior to utilizing the latest heart rate feature in our model. For example, if the latest recorded heart rate is not very close to the patient's `index_time`, the feature may not be very useful for that patient. \n",
    "\n",
    "To examine this issue, let's plot the distribution of the time between the latest heart rate measurement and the `index_time`. Implement the function `show_hr_time_hist` in `src/visualize.py` to plot a histogram of the time between the latest heart rate measurement and the `index_time`, following the instructions in the docstring. When you are done, run the cell below to sanity check your implementation."
   ]
  },
  {
   "cell_type": "code",
   "metadata": {
    "ExecuteTime": {
     "end_time": "2024-10-31T17:50:34.415609Z",
     "start_time": "2024-10-31T17:50:34.104985Z"
    }
   },
   "source": [
    "from src.visualize import show_hr_time_plot\n",
    "\n",
    "# Create the plot\n",
    "show_hr_time_plot(latest_hr_df, \"hr_plot.png\")"
   ],
   "outputs": [
    {
     "data": {
      "text/plain": [
       "<Figure size 1000x600 with 1 Axes>"
      ],
      "image/png": "[encoded data removed]"
     },
     "metadata": {},
     "output_type": "display_data"
    }
   ],
   "execution_count": 39
  },
  {
   "cell_type": "markdown",
   "metadata": {},
   "source": [
    "## `2.18` (`5 pts`)\n",
    "\n",
    "Another concern is that when monitoring patients, especially when thinking about heart rate recordings, relying on a single data point can be misleading. By merely using the last recorded value, we run the risk of using an atypical value. Imagine a scenario where a patient's heart rate is regularly around 80 beats per minute, but due to some temporary distress or a device error, the last recorded value spikes to 120 bpm. If we base our analysis or decisions on this single data point, our conclusions will be skewed.\n",
    "\n",
    "To address these concerns, instead of using just the last measurement, we can utilize a more robust metric: the time-weighted average heart rate. The idea behind a time-weighted average is to account for all measurements while giving more weight to recent ones. This ensures that:\n",
    "- All data points contribute to the final value.\n",
    "- More recent data has a higher influence on the average, as it might be more relevant to the patient's current state.\n",
    "\n",
    "Use the formula $w = e^{(-|\\Delta t| - 1)}$ to calculate the weights of each measurement, where $\\Delta t$ is the time difference between the measurement time and the cutoff time in hours. \n",
    "\n",
    "Calculate the weighted average for each patient with the formula $\\bar{x}_w = \\sum(x_i w_i)/\\sum(w_i)$, where $x_i$ is the value of the measurement and $w_i$ is the weight of that measurement, and $i$ ranges from 1 to the total number of measurements for that patient.\n",
    "\n",
    "The result should be a dataframe with two columns: `subject_id` and `time_wt_avg`. Implement the function `get_time_weighted_hr` in `src/vitals.py` to calculate the time-weighted average heart rate for each patient, following the instructions in the docstring. When you are done, run the cell below to sanity check your implementation."
   ]
  },
  {
   "cell_type": "code",
   "metadata": {
    "ExecuteTime": {
     "end_time": "2024-10-31T17:50:34.503063Z",
     "start_time": "2024-10-31T17:50:34.480659Z"
    }
   },
   "source": [
    "from src.vitals import get_time_weighted_hr\n",
    "\n",
    "time_weighted_hr_df = get_time_weighted_hr(vitals_filtered_hr)"
   ],
   "outputs": [],
   "execution_count": 40
  },
  {
   "cell_type": "markdown",
   "metadata": {},
   "source": [
    "## `2.19` (`4 pts`)\n",
    "\n",
    "Let's do a sanity check to see if what we've done makes sense. We expect that the time-weighted average heart rate and the latest recorded heart rate should be similar.\n",
    "\n",
    "Make a scatterplot of the latest recorded heart rate (x-axis) and the time-weighted average heart rate (y-axis) of each patient. Implement the function `show_hr_scatter` in `src/visualize.py` to plot the scatterplot. When you are done, run the cell below to sanity check your implementation."
   ]
  },
  {
   "cell_type": "code",
   "metadata": {
    "ExecuteTime": {
     "end_time": "2024-10-31T17:50:34.802381Z",
     "start_time": "2024-10-31T17:50:34.569488Z"
    }
   },
   "source": [
    "from src.visualize import show_hr_scatter\n",
    "\n",
    "# Create the plot\n",
    "show_hr_scatter(latest_hr_df, time_weighted_hr_df, \"hr_scatter.png\")"
   ],
   "outputs": [
    {
     "data": {
      "text/plain": [
       "<Figure size 1000x600 with 1 Axes>"
      ],
      "image/png": "[encoded data removed]"
     },
     "metadata": {},
     "output_type": "display_data"
    }
   ],
   "execution_count": 41
  },
  {
   "cell_type": "code",
   "metadata": {
    "ExecuteTime": {
     "end_time": "2024-10-31T17:50:34.890415Z",
     "start_time": "2024-10-31T17:50:34.868775Z"
    }
   },
   "source": [
    "# Finally run this cell to get all the heart rate features together in the same dataframe\n",
    "heart_rate_features = pd.merge(\n",
    "        latest_hr_df.drop(columns=[\"charttime\"]),\n",
    "        time_weighted_hr_df,\n",
    "        on=\"subject_id\",\n",
    "        how=\"inner\",\n",
    "    ).drop(columns=[\"label\", \"index_time\"])"
   ],
   "outputs": [],
   "execution_count": 42
  },
  {
   "cell_type": "markdown",
   "metadata": {},
   "source": [
    "## `2.20` (`4 pts`)\n",
    "\n",
    "We're almost there! Our final patient-feature matrix will simply be the amalgamation of the different feature matrices we've created. Implement `join_and_clean_data` in `src/utils.py` to combine the columns of the feature matrices from diagnoses, notes, and heart rate measurements, following the instructions in the docstring. Note that not all patients have diagnoses or note features, so this function should fill in any NA values with 0 to indicate that there were no diagnoses or notes counted. Similarily, not all subjects have heart rate measurements.  Fill NA values for these features with a simple column mean imputation. "
   ]
  },
  {
   "cell_type": "code",
   "metadata": {
    "ExecuteTime": {
     "end_time": "2024-10-31T17:50:35.171925Z",
     "start_time": "2024-10-31T17:50:34.960108Z"
    }
   },
   "source": [
    "from src.utils import join_and_clean_data\n",
    "\n",
    "joined = join_and_clean_data(diagnosis_features, note_concept_features, heart_rate_features)\n",
    "\n",
    "#============\n",
    "# Sanity Check\n",
    "\n",
    "if joined.shape[0] != 773:\n",
    "    warnings.warn(f\"Number of rows differs from expected: shape[0] = {joined.shape[0]}\", SanityCheck)\n",
    "\n",
    "if joined.isna().sum().sum() != 0:\n",
    "    warnings.warn(f\"Dataframe contains NaN values, which is not expected\", SanityCheck)\n",
    "  "
   ],
   "outputs": [],
   "execution_count": 43
  },
  {
   "cell_type": "markdown",
   "metadata": {},
   "source": [
    "Use `list(joined.columns)` to look at all the features and make sure everything makes sense.\n",
    "\n",
    "**How many total features are there?**"
   ]
  },
  {
   "cell_type": "code",
   "metadata": {
    "ExecuteTime": {
     "end_time": "2024-10-31T17:50:35.264689Z",
     "start_time": "2024-10-31T17:50:35.246469Z"
    }
   },
   "source": [
    "# TODO: Add code to this cell to answer question above\n",
    "len(list(joined.columns)) - 1"
   ],
   "outputs": [
    {
     "data": {
      "text/plain": [
       "1063"
      ]
     },
     "execution_count": 44,
     "metadata": {},
     "output_type": "execute_result"
    }
   ],
   "execution_count": 44
  },
  {
   "metadata": {},
   "cell_type": "markdown",
   "source": "<span style=\"color:blue;\">Total of 1169 Features available</span>"
  },
  {
   "cell_type": "markdown",
   "metadata": {},
   "source": [
    "# `3` Open Ended Feature Engineering - Do something cool! (`20 pts`)"
   ]
  },
  {
   "cell_type": "markdown",
   "metadata": {},
   "source": [
    "Having made it this far, you have picked up a few generalizable techniques that can now be used to extract features from various modalities of clinical data. To test the skills you've learned thus far, you now have free rein to get creative and derive whatever additional features you would like and use them alongside the disease, text and vitals features as input to a simple classifier. To help you with your task, we provide you with CSV files for ALL of the tables in MIMIC III where each table has been filtered to contain only the records for the patients in our small cohort. These are stored in the folder `additional_data`. \n",
    "\n"
   ]
  },
  {
   "cell_type": "code",
   "metadata": {
    "ExecuteTime": {
     "end_time": "2024-10-31T17:50:35.359267Z",
     "start_time": "2024-10-31T17:50:35.340552Z"
    }
   },
   "source": [
    "# Run this cell to see what data files are available\n",
    "# Note: You do not need to modify the code in this cell\n",
    "\n",
    "# Let's take a look at what files we have available\n",
    "# Note: You do not need to modify the code in this cell\n",
    "file_list = os.listdir(os.path.join(data_dir, \"additional_data\"))\n",
    "file_list.sort()\n",
    "\n",
    "print(\"Available files: ---\")\n",
    "for ind, f in enumerate(file_list):\n",
    "    print(f, end=\" \"*10)\n",
    "    if ind % 3 == 2:\n",
    "        print()"
   ],
   "outputs": [
    {
     "name": "stdout",
     "output_type": "stream",
     "text": [
      "Available files: ---\n",
      "admissions_additional.csv          chartevents_10_additional.csv          chartevents_11_additional.csv          \n",
      "chartevents_12_additional.csv          chartevents_13_additional.csv          chartevents_14_additional.csv          \n",
      "chartevents_1_additional.csv          chartevents_2_additional.csv          chartevents_3_additional.csv          \n",
      "chartevents_4_additional.csv          chartevents_5_additional.csv          chartevents_6_additional.csv          \n",
      "chartevents_7_additional.csv          chartevents_8_additional.csv          cptevents_additional.csv          \n",
      "d_cpt_additional.csv          d_icd_diagnoses_additional.csv          d_icd_procedures_additional.csv          \n",
      "d_items_additional.csv          d_labitems_additional.csv          datetimeevents_additional.csv          \n",
      "diagnoses_icd_additional.csv          drgcodes_additional.csv          icustays_additional.csv          \n",
      "inputevents_cv_additional.csv          inputevents_mv_additional.csv          labevents_additional.csv          \n",
      "microbiologyevents_additional.csv          noteevents_additional.csv          outputevents_additional.csv          \n",
      "patients_additional.csv          prescriptions_additional.csv          procedureevents_mv_additional.csv          \n",
      "procedures_icd_additional.csv          services_additional.csv          transfers_additional.csv          \n"
     ]
    }
   ],
   "execution_count": 45
  },
  {
   "cell_type": "markdown",
   "metadata": {},
   "source": [
    "We also provide you with some baseline code below that runs a logistic regression classifier with a Lasso L1 penalty and reports a cross-validation AUC-ROC. Use the code below to see the performance of the model with the features you have already engineered."
   ]
  },
  {
   "cell_type": "code",
   "metadata": {
    "ExecuteTime": {
     "end_time": "2024-10-31T17:52:48.340266Z",
     "start_time": "2024-10-31T17:50:35.436278Z"
    }
   },
   "source": [
    "# Run this cell (Depending on your computer and your implementation, this cell may take a while to run)\n",
    "# Note: fit_model is a provided function, you do not need to implement it\n",
    "# Note: Your implementation is not expected to hit any performance targets.\n",
    "# With only the features we have defined above, note the results are not be very good.\n",
    "# In future assignments we will take a closer look at models!\n",
    "from src.model import fit_model\n",
    "fit_model(joined, shock_labels)"
   ],
   "outputs": [
    {
     "name": "stderr",
     "output_type": "stream",
     "text": [
      " 20%|██        | 1/5 [00:18<01:15, 18.90s/fold]"
     ]
    },
    {
     "name": "stdout",
     "output_type": "stream",
     "text": [
      "Fold 1 ROC AUC Score: 0.6235\n"
     ]
    },
    {
     "name": "stderr",
     "output_type": "stream",
     "text": [
      " 40%|████      | 2/5 [00:43<01:06, 22.03s/fold]"
     ]
    },
    {
     "name": "stdout",
     "output_type": "stream",
     "text": [
      "Fold 1 ROC AUC Score: 0.5107\n"
     ]
    },
    {
     "name": "stderr",
     "output_type": "stream",
     "text": [
      " 60%|██████    | 3/5 [01:04<00:43, 21.72s/fold]"
     ]
    },
    {
     "name": "stdout",
     "output_type": "stream",
     "text": [
      "Fold 1 ROC AUC Score: 0.5221\n"
     ]
    },
    {
     "name": "stderr",
     "output_type": "stream",
     "text": [
      " 80%|████████  | 4/5 [01:33<00:24, 24.49s/fold]"
     ]
    },
    {
     "name": "stdout",
     "output_type": "stream",
     "text": [
      "Fold 1 ROC AUC Score: 0.4702\n"
     ]
    },
    {
     "name": "stderr",
     "output_type": "stream",
     "text": [
      "100%|██████████| 5/5 [02:12<00:00, 26.51s/fold]"
     ]
    },
    {
     "name": "stdout",
     "output_type": "stream",
     "text": [
      "Fold 1 ROC AUC Score: 0.5289\n",
      "Mean ROC AUC Score: 0.531075830247101\n"
     ]
    },
    {
     "name": "stderr",
     "output_type": "stream",
     "text": [
      "\n"
     ]
    }
   ],
   "execution_count": 46
  },
  {
   "cell_type": "markdown",
   "metadata": {},
   "source": [
    "\n",
    "Use the code to do the following:\n",
    "* Outside of the features we engineered previously in the assignment, derive additional features that utilize at **least five of the additional data tables**. You may use tables that we have previously worked with as a part of the assignment, but we encourage you to explore these new data sources. Caveats: definition tables (e.g. d_items) do not count towards the five and using any combination of chartevents tables counts as a single table.\n",
    "* Combine your derived features into a patient-feature matrix\n",
    "* Adapt the model-fitting code provided above to your new dataset below\n"
   ]
  },
  {
   "cell_type": "code",
   "metadata": {
    "ExecuteTime": {
     "end_time": "2024-10-31T17:52:48.449801Z",
     "start_time": "2024-10-31T17:52:48.430914Z"
    }
   },
   "source": [
    "# Let's load in some data\n",
    "#file_name = \"chartevents_7_additional.csv\" # <-- TODO: Change this to any file you want to load\n",
    "#additional_data = pd.read_csv(os.path.join(data_dir, \"additional_data\", file_name))\n",
    "\n",
    "# TODO: Repeat the above code for other tables as needed"
   ],
   "outputs": [],
   "execution_count": 47
  },
  {
   "metadata": {},
   "cell_type": "markdown",
   "source": [
    "<span><h3>Feature set 01: Patient Age</h3></span>\n",
    "* Target table: `patients_additional.csv`\n",
    "* Certain populations, particularly newborns and the elderly, have weaker immune systems and are at higher risk of developing sepsis and septic shock. This feature records the patient's age at admission, which was used to determine their shock_label status. The model can potentially identify correlations between a patient's age and their likelihood of developing septic shock within the first 12 hours after admission.\n",
    "* As age over 89 are shifted to 300 years prior to admission according to MIMIC-III documentation, any age above 89 are manually capped at 89. Since in Assignment 3 cohort building we only included patients with age over 15, we expect that the range of values for this feature to be 15-89."
   ]
  },
  {
   "cell_type": "code",
   "metadata": {
    "ExecuteTime": {
     "end_time": "2024-10-31T17:52:48.718244Z",
     "start_time": "2024-10-31T17:52:48.601921Z"
    }
   },
   "source": [
    "# TODO: Implement your own feature engineering here\n",
    "data_file = \"patients_additional.csv\"\n",
    "patient_additional_df = pd.read_csv(os.path.join(data_dir, \"additional_data\", data_file))\n",
    "preprocess_dates(patient_additional_df, [\"dob\"], [\"%Y-%m-%dT%H:%M:%SZ\"], inplace=True)\n",
    "shock_labels = get_shock_labels(merged_cohort)"
   ],
   "outputs": [],
   "execution_count": 48
  },
  {
   "metadata": {
    "ExecuteTime": {
     "end_time": "2024-10-31T17:52:48.741239Z",
     "start_time": "2024-10-31T17:52:48.722242Z"
    }
   },
   "cell_type": "code",
   "source": [
    "from dateutil.relativedelta import relativedelta\n",
    "\n",
    "def get_feature_patient_age(patient, shock_labels):\n",
    "    # Merge dataframes\n",
    "    merged_df = shock_labels.merge(patient, on=[\"subject_id\"], how=\"inner\")\n",
    "    \n",
    "    # Convert to datetime\n",
    "    merged_df['admittime'] = pd.to_datetime(merged_df['admittime'])\n",
    "    merged_df['dob'] = pd.to_datetime(merged_df['dob'])\n",
    "    \n",
    "    # Calculate age using relativedelta instead of direct subtraction\n",
    "    merged_df['age'] = merged_df.apply(\n",
    "        lambda x: relativedelta(x['admittime'], x['dob']).years, \n",
    "        axis=1\n",
    "    )\n",
    "    \n",
    "    # Cap age at 89\n",
    "    merged_df.loc[merged_df['age'] >= 89, 'age'] = 89\n",
    "    \n",
    "    # Select required columns\n",
    "    merged_df = merged_df[['subject_id', 'age']]\n",
    "    \n",
    "    return merged_df"
   ],
   "outputs": [],
   "execution_count": 49
  },
  {
   "metadata": {
    "ExecuteTime": {
     "end_time": "2024-10-31T17:52:48.884305Z",
     "start_time": "2024-10-31T17:52:48.819806Z"
    }
   },
   "cell_type": "code",
   "source": [
    "# Get age feature\n",
    "feature_age = get_feature_patient_age(patient_additional_df, shock_labels)\n",
    "display(feature_age.head(5))"
   ],
   "outputs": [
    {
     "data": {
      "text/plain": [
       "   subject_id  age\n",
       "0           4   47\n",
       "1           6   65\n",
       "2           9   41\n",
       "3          11   50\n",
       "4          12   72"
      ],
      "text/html": [
       "<div>\n",
       "<style scoped>\n",
       "    .dataframe tbody tr th:only-of-type {\n",
       "        vertical-align: middle;\n",
       "    }\n",
       "\n",
       "    .dataframe tbody tr th {\n",
       "        vertical-align: top;\n",
       "    }\n",
       "\n",
       "    .dataframe thead th {\n",
       "        text-align: right;\n",
       "    }\n",
       "</style>\n",
       "<table border=\"1\" class=\"dataframe\">\n",
       "  <thead>\n",
       "    <tr style=\"text-align: right;\">\n",
       "      <th></th>\n",
       "      <th>subject_id</th>\n",
       "      <th>age</th>\n",
       "    </tr>\n",
       "  </thead>\n",
       "  <tbody>\n",
       "    <tr>\n",
       "      <th>0</th>\n",
       "      <td>4</td>\n",
       "      <td>47</td>\n",
       "    </tr>\n",
       "    <tr>\n",
       "      <th>1</th>\n",
       "      <td>6</td>\n",
       "      <td>65</td>\n",
       "    </tr>\n",
       "    <tr>\n",
       "      <th>2</th>\n",
       "      <td>9</td>\n",
       "      <td>41</td>\n",
       "    </tr>\n",
       "    <tr>\n",
       "      <th>3</th>\n",
       "      <td>11</td>\n",
       "      <td>50</td>\n",
       "    </tr>\n",
       "    <tr>\n",
       "      <th>4</th>\n",
       "      <td>12</td>\n",
       "      <td>72</td>\n",
       "    </tr>\n",
       "  </tbody>\n",
       "</table>\n",
       "</div>"
      ]
     },
     "metadata": {},
     "output_type": "display_data"
    }
   ],
   "execution_count": 50
  },
  {
   "metadata": {},
   "cell_type": "markdown",
   "source": [
    "<span><h3>Feature set 2: Related Vitals</h3></p>\n",
    "* Target table(s): `d_items_additional.csv` and `chartevents table`\n",
    "* Before developing septic shock, patients often show abnormal vital signs including low systolic blood pressure, irregular body temperature, and abnormal respiratory rates. For each patient, we will analyze these vital signs by calculating both their most recent values and their time-weighted averages leading up to the index time, using the same approach we used for heart rate measurements."
   ]
  },
  {
   "metadata": {
    "ExecuteTime": {
     "end_time": "2024-10-31T17:52:49.077217Z",
     "start_time": "2024-10-31T17:52:49.043877Z"
    }
   },
   "cell_type": "code",
   "source": [
    "items_file_name = \"d_items_additional.csv\"\n",
    "d_items_additional_df = pd.read_csv(os.path.join(data_dir, \"additional_data\", items_file_name))"
   ],
   "outputs": [],
   "execution_count": 51
  },
  {
   "metadata": {
    "ExecuteTime": {
     "end_time": "2024-10-31T17:52:49.157596Z",
     "start_time": "2024-10-31T17:52:49.139100Z"
    }
   },
   "cell_type": "code",
   "source": [
    "def filter_vitals_id(d_items_additional_df, search_string):\n",
    "    d_items_additional = d_items_additional_df.copy()\n",
    "    pattern = \"|\".join(search_string)\n",
    "    d_items_additional['target'] = d_items_additional['label'].str.contains(pattern, case=False, na=False).astype(bool)\n",
    "    d_items_filtered = d_items_additional[d_items_additional['target']==True]\n",
    "    \n",
    "    return d_items_filtered"
   ],
   "outputs": [],
   "execution_count": 52
  },
  {
   "metadata": {
    "ExecuteTime": {
     "end_time": "2024-10-31T17:52:49.278270Z",
     "start_time": "2024-10-31T17:52:49.242293Z"
    }
   },
   "cell_type": "code",
   "source": [
    "search_string = [\"systolic\"]\n",
    "filtered_items = filter_vitals_id(d_items_additional_df, search_string)\n",
    "filtered_items"
   ],
   "outputs": [
    {
     "data": {
      "text/plain": [
       "       row_id  itemid                                 label  \\\n",
       "295        32       6                        ABP [Systolic]   \n",
       "320        57      51                Arterial BP [Systolic]   \n",
       "671       408     442                  Manual BP [Systolic]   \n",
       "682       419     455                        NBP [Systolic]   \n",
       "705       442     480       Orthostat BP sitting [Systolic]   \n",
       "707       444     482       OrthostatBP standing [Systolic]   \n",
       "709       446     484       Orthostatic BP lying [Systolic]   \n",
       "715       452     492                        PAP [Systolic]   \n",
       "1437      618     666                    Systolic Unloading   \n",
       "1748      929    3313                    BP Cuff [Systolic]   \n",
       "1750      931    3315                BP Left Arm [Systolic]   \n",
       "1752      933    3317                BP Left Leg [Systolic]   \n",
       "1754      935    3319                     BP PAL [Systolic]   \n",
       "1756      937    3321               BP Right Arm [Systolic]   \n",
       "1758      939    3323               BP Right Leg [Systolic]   \n",
       "1760      941    3325                     BP UAC [Systolic]   \n",
       "4542     4736    7643                            RVSYSTOLIC   \n",
       "5062     4325    6701             Arterial BP #2 [Systolic]   \n",
       "9207    15339  228152     Aortic Pressure Signal - Systolic   \n",
       "9314    13050  224167   Manual Blood Pressure Systolic Left   \n",
       "9443    14619  227243  Manual Blood Pressure Systolic Right   \n",
       "9453    14629  226850         RV systolic pressure(PA Line)   \n",
       "9455    14631  226852         PA systolic pressure(PA Line)   \n",
       "11503   12716  220050      Arterial Blood Pressure systolic   \n",
       "11509   12721  220059    Pulmonary Artery Pressure systolic   \n",
       "11522   12734  220179  Non Invasive Blood Pressure systolic   \n",
       "12443   13687  225309                       ART BP Systolic   \n",
       "\n",
       "                            abbreviation    dbsource      linksto  \\\n",
       "295                                  NaN     carevue  chartevents   \n",
       "320                                  NaN     carevue  chartevents   \n",
       "671                                  NaN     carevue  chartevents   \n",
       "682                                  NaN     carevue  chartevents   \n",
       "705                                  NaN     carevue  chartevents   \n",
       "707                                  NaN     carevue  chartevents   \n",
       "709                                  NaN     carevue  chartevents   \n",
       "715                                  NaN     carevue  chartevents   \n",
       "1437                                 NaN     carevue  chartevents   \n",
       "1748                                 NaN     carevue  chartevents   \n",
       "1750                                 NaN     carevue  chartevents   \n",
       "1752                                 NaN     carevue  chartevents   \n",
       "1754                                 NaN     carevue  chartevents   \n",
       "1756                                 NaN     carevue  chartevents   \n",
       "1758                                 NaN     carevue  chartevents   \n",
       "1760                                 NaN     carevue  chartevents   \n",
       "4542                                 NaN     carevue  chartevents   \n",
       "5062                                 NaN     carevue  chartevents   \n",
       "9207   Aortic Pressure Signal - Systolic  metavision  chartevents   \n",
       "9314                        Manual BPs L  metavision  chartevents   \n",
       "9443                        Manual BPs R  metavision  chartevents   \n",
       "9453       RV systolic pressure(PA Line)  metavision  chartevents   \n",
       "9455       PA systolic pressure(PA Line)  metavision  chartevents   \n",
       "11503                               ABPs  metavision  chartevents   \n",
       "11509                               PAPs  metavision  chartevents   \n",
       "11522                               NBPs  metavision  chartevents   \n",
       "12443                    ART BP Systolic  metavision  chartevents   \n",
       "\n",
       "                  category unitname param_type  conceptid  target  \n",
       "295                    NaN      NaN        NaN        NaN    True  \n",
       "320                    NaN      NaN        NaN        NaN    True  \n",
       "671                    NaN      NaN        NaN        NaN    True  \n",
       "682                    NaN      NaN        NaN        NaN    True  \n",
       "705                    NaN      NaN        NaN        NaN    True  \n",
       "707                    NaN      NaN        NaN        NaN    True  \n",
       "709                    NaN      NaN        NaN        NaN    True  \n",
       "715                    NaN      NaN        NaN        NaN    True  \n",
       "1437                   NaN      NaN        NaN        NaN    True  \n",
       "1748                   NaN      NaN        NaN        NaN    True  \n",
       "1750                   NaN      NaN        NaN        NaN    True  \n",
       "1752                   NaN      NaN        NaN        NaN    True  \n",
       "1754                   NaN      NaN        NaN        NaN    True  \n",
       "1756                   NaN      NaN        NaN        NaN    True  \n",
       "1758                   NaN      NaN        NaN        NaN    True  \n",
       "1760                   NaN      NaN        NaN        NaN    True  \n",
       "4542                   NaN      NaN        NaN        NaN    True  \n",
       "5062                   NaN      NaN        NaN        NaN    True  \n",
       "9207               Impella      NaN    Numeric        NaN    True  \n",
       "9314   Routine Vital Signs     mmHg    Numeric        NaN    True  \n",
       "9443   Routine Vital Signs     mmHg    Numeric        NaN    True  \n",
       "9453     PA Line Insertion     mmHg    Numeric        NaN    True  \n",
       "9455     PA Line Insertion     mmHg    Numeric        NaN    True  \n",
       "11503  Routine Vital Signs     mmHg    Numeric        NaN    True  \n",
       "11509         Hemodynamics     mmHg    Numeric        NaN    True  \n",
       "11522  Routine Vital Signs     mmHg    Numeric        NaN    True  \n",
       "12443  Routine Vital Signs     mmHg    Numeric        NaN    True  "
      ],
      "text/html": [
       "<div>\n",
       "<style scoped>\n",
       "    .dataframe tbody tr th:only-of-type {\n",
       "        vertical-align: middle;\n",
       "    }\n",
       "\n",
       "    .dataframe tbody tr th {\n",
       "        vertical-align: top;\n",
       "    }\n",
       "\n",
       "    .dataframe thead th {\n",
       "        text-align: right;\n",
       "    }\n",
       "</style>\n",
       "<table border=\"1\" class=\"dataframe\">\n",
       "  <thead>\n",
       "    <tr style=\"text-align: right;\">\n",
       "      <th></th>\n",
       "      <th>row_id</th>\n",
       "      <th>itemid</th>\n",
       "      <th>label</th>\n",
       "      <th>abbreviation</th>\n",
       "      <th>dbsource</th>\n",
       "      <th>linksto</th>\n",
       "      <th>category</th>\n",
       "      <th>unitname</th>\n",
       "      <th>param_type</th>\n",
       "      <th>conceptid</th>\n",
       "      <th>target</th>\n",
       "    </tr>\n",
       "  </thead>\n",
       "  <tbody>\n",
       "    <tr>\n",
       "      <th>295</th>\n",
       "      <td>32</td>\n",
       "      <td>6</td>\n",
       "      <td>ABP [Systolic]</td>\n",
       "      <td>NaN</td>\n",
       "      <td>carevue</td>\n",
       "      <td>chartevents</td>\n",
       "      <td>NaN</td>\n",
       "      <td>NaN</td>\n",
       "      <td>NaN</td>\n",
       "      <td>NaN</td>\n",
       "      <td>True</td>\n",
       "    </tr>\n",
       "    <tr>\n",
       "      <th>320</th>\n",
       "      <td>57</td>\n",
       "      <td>51</td>\n",
       "      <td>Arterial BP [Systolic]</td>\n",
       "      <td>NaN</td>\n",
       "      <td>carevue</td>\n",
       "      <td>chartevents</td>\n",
       "      <td>NaN</td>\n",
       "      <td>NaN</td>\n",
       "      <td>NaN</td>\n",
       "      <td>NaN</td>\n",
       "      <td>True</td>\n",
       "    </tr>\n",
       "    <tr>\n",
       "      <th>671</th>\n",
       "      <td>408</td>\n",
       "      <td>442</td>\n",
       "      <td>Manual BP [Systolic]</td>\n",
       "      <td>NaN</td>\n",
       "      <td>carevue</td>\n",
       "      <td>chartevents</td>\n",
       "      <td>NaN</td>\n",
       "      <td>NaN</td>\n",
       "      <td>NaN</td>\n",
       "      <td>NaN</td>\n",
       "      <td>True</td>\n",
       "    </tr>\n",
       "    <tr>\n",
       "      <th>682</th>\n",
       "      <td>419</td>\n",
       "      <td>455</td>\n",
       "      <td>NBP [Systolic]</td>\n",
       "      <td>NaN</td>\n",
       "      <td>carevue</td>\n",
       "      <td>chartevents</td>\n",
       "      <td>NaN</td>\n",
       "      <td>NaN</td>\n",
       "      <td>NaN</td>\n",
       "      <td>NaN</td>\n",
       "      <td>True</td>\n",
       "    </tr>\n",
       "    <tr>\n",
       "      <th>705</th>\n",
       "      <td>442</td>\n",
       "      <td>480</td>\n",
       "      <td>Orthostat BP sitting [Systolic]</td>\n",
       "      <td>NaN</td>\n",
       "      <td>carevue</td>\n",
       "      <td>chartevents</td>\n",
       "      <td>NaN</td>\n",
       "      <td>NaN</td>\n",
       "      <td>NaN</td>\n",
       "      <td>NaN</td>\n",
       "      <td>True</td>\n",
       "    </tr>\n",
       "    <tr>\n",
       "      <th>707</th>\n",
       "      <td>444</td>\n",
       "      <td>482</td>\n",
       "      <td>OrthostatBP standing [Systolic]</td>\n",
       "      <td>NaN</td>\n",
       "      <td>carevue</td>\n",
       "      <td>chartevents</td>\n",
       "      <td>NaN</td>\n",
       "      <td>NaN</td>\n",
       "      <td>NaN</td>\n",
       "      <td>NaN</td>\n",
       "      <td>True</td>\n",
       "    </tr>\n",
       "    <tr>\n",
       "      <th>709</th>\n",
       "      <td>446</td>\n",
       "      <td>484</td>\n",
       "      <td>Orthostatic BP lying [Systolic]</td>\n",
       "      <td>NaN</td>\n",
       "      <td>carevue</td>\n",
       "      <td>chartevents</td>\n",
       "      <td>NaN</td>\n",
       "      <td>NaN</td>\n",
       "      <td>NaN</td>\n",
       "      <td>NaN</td>\n",
       "      <td>True</td>\n",
       "    </tr>\n",
       "    <tr>\n",
       "      <th>715</th>\n",
       "      <td>452</td>\n",
       "      <td>492</td>\n",
       "      <td>PAP [Systolic]</td>\n",
       "      <td>NaN</td>\n",
       "      <td>carevue</td>\n",
       "      <td>chartevents</td>\n",
       "      <td>NaN</td>\n",
       "      <td>NaN</td>\n",
       "      <td>NaN</td>\n",
       "      <td>NaN</td>\n",
       "      <td>True</td>\n",
       "    </tr>\n",
       "    <tr>\n",
       "      <th>1437</th>\n",
       "      <td>618</td>\n",
       "      <td>666</td>\n",
       "      <td>Systolic Unloading</td>\n",
       "      <td>NaN</td>\n",
       "      <td>carevue</td>\n",
       "      <td>chartevents</td>\n",
       "      <td>NaN</td>\n",
       "      <td>NaN</td>\n",
       "      <td>NaN</td>\n",
       "      <td>NaN</td>\n",
       "      <td>True</td>\n",
       "    </tr>\n",
       "    <tr>\n",
       "      <th>1748</th>\n",
       "      <td>929</td>\n",
       "      <td>3313</td>\n",
       "      <td>BP Cuff [Systolic]</td>\n",
       "      <td>NaN</td>\n",
       "      <td>carevue</td>\n",
       "      <td>chartevents</td>\n",
       "      <td>NaN</td>\n",
       "      <td>NaN</td>\n",
       "      <td>NaN</td>\n",
       "      <td>NaN</td>\n",
       "      <td>True</td>\n",
       "    </tr>\n",
       "    <tr>\n",
       "      <th>1750</th>\n",
       "      <td>931</td>\n",
       "      <td>3315</td>\n",
       "      <td>BP Left Arm [Systolic]</td>\n",
       "      <td>NaN</td>\n",
       "      <td>carevue</td>\n",
       "      <td>chartevents</td>\n",
       "      <td>NaN</td>\n",
       "      <td>NaN</td>\n",
       "      <td>NaN</td>\n",
       "      <td>NaN</td>\n",
       "      <td>True</td>\n",
       "    </tr>\n",
       "    <tr>\n",
       "      <th>1752</th>\n",
       "      <td>933</td>\n",
       "      <td>3317</td>\n",
       "      <td>BP Left Leg [Systolic]</td>\n",
       "      <td>NaN</td>\n",
       "      <td>carevue</td>\n",
       "      <td>chartevents</td>\n",
       "      <td>NaN</td>\n",
       "      <td>NaN</td>\n",
       "      <td>NaN</td>\n",
       "      <td>NaN</td>\n",
       "      <td>True</td>\n",
       "    </tr>\n",
       "    <tr>\n",
       "      <th>1754</th>\n",
       "      <td>935</td>\n",
       "      <td>3319</td>\n",
       "      <td>BP PAL [Systolic]</td>\n",
       "      <td>NaN</td>\n",
       "      <td>carevue</td>\n",
       "      <td>chartevents</td>\n",
       "      <td>NaN</td>\n",
       "      <td>NaN</td>\n",
       "      <td>NaN</td>\n",
       "      <td>NaN</td>\n",
       "      <td>True</td>\n",
       "    </tr>\n",
       "    <tr>\n",
       "      <th>1756</th>\n",
       "      <td>937</td>\n",
       "      <td>3321</td>\n",
       "      <td>BP Right Arm [Systolic]</td>\n",
       "      <td>NaN</td>\n",
       "      <td>carevue</td>\n",
       "      <td>chartevents</td>\n",
       "      <td>NaN</td>\n",
       "      <td>NaN</td>\n",
       "      <td>NaN</td>\n",
       "      <td>NaN</td>\n",
       "      <td>True</td>\n",
       "    </tr>\n",
       "    <tr>\n",
       "      <th>1758</th>\n",
       "      <td>939</td>\n",
       "      <td>3323</td>\n",
       "      <td>BP Right Leg [Systolic]</td>\n",
       "      <td>NaN</td>\n",
       "      <td>carevue</td>\n",
       "      <td>chartevents</td>\n",
       "      <td>NaN</td>\n",
       "      <td>NaN</td>\n",
       "      <td>NaN</td>\n",
       "      <td>NaN</td>\n",
       "      <td>True</td>\n",
       "    </tr>\n",
       "    <tr>\n",
       "      <th>1760</th>\n",
       "      <td>941</td>\n",
       "      <td>3325</td>\n",
       "      <td>BP UAC [Systolic]</td>\n",
       "      <td>NaN</td>\n",
       "      <td>carevue</td>\n",
       "      <td>chartevents</td>\n",
       "      <td>NaN</td>\n",
       "      <td>NaN</td>\n",
       "      <td>NaN</td>\n",
       "      <td>NaN</td>\n",
       "      <td>True</td>\n",
       "    </tr>\n",
       "    <tr>\n",
       "      <th>4542</th>\n",
       "      <td>4736</td>\n",
       "      <td>7643</td>\n",
       "      <td>RVSYSTOLIC</td>\n",
       "      <td>NaN</td>\n",
       "      <td>carevue</td>\n",
       "      <td>chartevents</td>\n",
       "      <td>NaN</td>\n",
       "      <td>NaN</td>\n",
       "      <td>NaN</td>\n",
       "      <td>NaN</td>\n",
       "      <td>True</td>\n",
       "    </tr>\n",
       "    <tr>\n",
       "      <th>5062</th>\n",
       "      <td>4325</td>\n",
       "      <td>6701</td>\n",
       "      <td>Arterial BP #2 [Systolic]</td>\n",
       "      <td>NaN</td>\n",
       "      <td>carevue</td>\n",
       "      <td>chartevents</td>\n",
       "      <td>NaN</td>\n",
       "      <td>NaN</td>\n",
       "      <td>NaN</td>\n",
       "      <td>NaN</td>\n",
       "      <td>True</td>\n",
       "    </tr>\n",
       "    <tr>\n",
       "      <th>9207</th>\n",
       "      <td>15339</td>\n",
       "      <td>228152</td>\n",
       "      <td>Aortic Pressure Signal - Systolic</td>\n",
       "      <td>Aortic Pressure Signal - Systolic</td>\n",
       "      <td>metavision</td>\n",
       "      <td>chartevents</td>\n",
       "      <td>Impella</td>\n",
       "      <td>NaN</td>\n",
       "      <td>Numeric</td>\n",
       "      <td>NaN</td>\n",
       "      <td>True</td>\n",
       "    </tr>\n",
       "    <tr>\n",
       "      <th>9314</th>\n",
       "      <td>13050</td>\n",
       "      <td>224167</td>\n",
       "      <td>Manual Blood Pressure Systolic Left</td>\n",
       "      <td>Manual BPs L</td>\n",
       "      <td>metavision</td>\n",
       "      <td>chartevents</td>\n",
       "      <td>Routine Vital Signs</td>\n",
       "      <td>mmHg</td>\n",
       "      <td>Numeric</td>\n",
       "      <td>NaN</td>\n",
       "      <td>True</td>\n",
       "    </tr>\n",
       "    <tr>\n",
       "      <th>9443</th>\n",
       "      <td>14619</td>\n",
       "      <td>227243</td>\n",
       "      <td>Manual Blood Pressure Systolic Right</td>\n",
       "      <td>Manual BPs R</td>\n",
       "      <td>metavision</td>\n",
       "      <td>chartevents</td>\n",
       "      <td>Routine Vital Signs</td>\n",
       "      <td>mmHg</td>\n",
       "      <td>Numeric</td>\n",
       "      <td>NaN</td>\n",
       "      <td>True</td>\n",
       "    </tr>\n",
       "    <tr>\n",
       "      <th>9453</th>\n",
       "      <td>14629</td>\n",
       "      <td>226850</td>\n",
       "      <td>RV systolic pressure(PA Line)</td>\n",
       "      <td>RV systolic pressure(PA Line)</td>\n",
       "      <td>metavision</td>\n",
       "      <td>chartevents</td>\n",
       "      <td>PA Line Insertion</td>\n",
       "      <td>mmHg</td>\n",
       "      <td>Numeric</td>\n",
       "      <td>NaN</td>\n",
       "      <td>True</td>\n",
       "    </tr>\n",
       "    <tr>\n",
       "      <th>9455</th>\n",
       "      <td>14631</td>\n",
       "      <td>226852</td>\n",
       "      <td>PA systolic pressure(PA Line)</td>\n",
       "      <td>PA systolic pressure(PA Line)</td>\n",
       "      <td>metavision</td>\n",
       "      <td>chartevents</td>\n",
       "      <td>PA Line Insertion</td>\n",
       "      <td>mmHg</td>\n",
       "      <td>Numeric</td>\n",
       "      <td>NaN</td>\n",
       "      <td>True</td>\n",
       "    </tr>\n",
       "    <tr>\n",
       "      <th>11503</th>\n",
       "      <td>12716</td>\n",
       "      <td>220050</td>\n",
       "      <td>Arterial Blood Pressure systolic</td>\n",
       "      <td>ABPs</td>\n",
       "      <td>metavision</td>\n",
       "      <td>chartevents</td>\n",
       "      <td>Routine Vital Signs</td>\n",
       "      <td>mmHg</td>\n",
       "      <td>Numeric</td>\n",
       "      <td>NaN</td>\n",
       "      <td>True</td>\n",
       "    </tr>\n",
       "    <tr>\n",
       "      <th>11509</th>\n",
       "      <td>12721</td>\n",
       "      <td>220059</td>\n",
       "      <td>Pulmonary Artery Pressure systolic</td>\n",
       "      <td>PAPs</td>\n",
       "      <td>metavision</td>\n",
       "      <td>chartevents</td>\n",
       "      <td>Hemodynamics</td>\n",
       "      <td>mmHg</td>\n",
       "      <td>Numeric</td>\n",
       "      <td>NaN</td>\n",
       "      <td>True</td>\n",
       "    </tr>\n",
       "    <tr>\n",
       "      <th>11522</th>\n",
       "      <td>12734</td>\n",
       "      <td>220179</td>\n",
       "      <td>Non Invasive Blood Pressure systolic</td>\n",
       "      <td>NBPs</td>\n",
       "      <td>metavision</td>\n",
       "      <td>chartevents</td>\n",
       "      <td>Routine Vital Signs</td>\n",
       "      <td>mmHg</td>\n",
       "      <td>Numeric</td>\n",
       "      <td>NaN</td>\n",
       "      <td>True</td>\n",
       "    </tr>\n",
       "    <tr>\n",
       "      <th>12443</th>\n",
       "      <td>13687</td>\n",
       "      <td>225309</td>\n",
       "      <td>ART BP Systolic</td>\n",
       "      <td>ART BP Systolic</td>\n",
       "      <td>metavision</td>\n",
       "      <td>chartevents</td>\n",
       "      <td>Routine Vital Signs</td>\n",
       "      <td>mmHg</td>\n",
       "      <td>Numeric</td>\n",
       "      <td>NaN</td>\n",
       "      <td>True</td>\n",
       "    </tr>\n",
       "  </tbody>\n",
       "</table>\n",
       "</div>"
      ]
     },
     "execution_count": 53,
     "metadata": {},
     "output_type": "execute_result"
    }
   ],
   "execution_count": 53
  },
  {
   "metadata": {
    "ExecuteTime": {
     "end_time": "2024-10-31T17:52:49.421596Z",
     "start_time": "2024-10-31T17:52:49.403169Z"
    }
   },
   "cell_type": "code",
   "source": [
    "# Define the systolic blood pressure items\n",
    "systolic_bp_item_ids = [224167, 227243, 220050, 220179]"
   ],
   "outputs": [],
   "execution_count": 54
  },
  {
   "metadata": {
    "ExecuteTime": {
     "end_time": "2024-10-31T17:52:49.499464Z",
     "start_time": "2024-10-31T17:52:49.467790Z"
    }
   },
   "cell_type": "code",
   "source": [
    "search_string = [\"temperature\"]\n",
    "filtered_items = filter_vitals_id(d_items_additional_df, search_string)\n",
    "filtered_items"
   ],
   "outputs": [
    {
     "data": {
      "text/plain": [
       "       row_id  itemid                                     label  \\\n",
       "236       548     591                         RLE [Temperature]   \n",
       "242       554     597                         RUE [Temperature]   \n",
       "1417      598     645                        Skin [Temperature]   \n",
       "1446      627     676                             Temperature C   \n",
       "1447      628     677                      Temperature C (calc)   \n",
       "1448      629     678                             Temperature F   \n",
       "1449      630     679                      Temperature F (calc)   \n",
       "4813     5007    8537  Temp/Iso/Warmer [Temperature, degrees C]   \n",
       "9306    13042  224027                          Skin Temperature   \n",
       "9416    14731  227054                     TemperatureF_ApacheIV   \n",
       "10044   13235  224674                    Changes in Temperature   \n",
       "11323   13423  224642                          Temperature Site   \n",
       "11464   15236  228242               Pt. Temperature (BG) (SOFT)   \n",
       "12254   14446  226329                 Blood Temperature CCO (C)   \n",
       "12366   12757  223761                    Temperature Fahrenheit   \n",
       "12367   12758  223762                       Temperature Celsius   \n",
       "\n",
       "                      abbreviation    dbsource      linksto  \\\n",
       "236                            NaN     carevue  chartevents   \n",
       "242                            NaN     carevue  chartevents   \n",
       "1417                           NaN     carevue  chartevents   \n",
       "1446                           NaN     carevue  chartevents   \n",
       "1447                           NaN     carevue  chartevents   \n",
       "1448                           NaN     carevue  chartevents   \n",
       "1449                           NaN     carevue  chartevents   \n",
       "4813                           NaN     carevue  chartevents   \n",
       "9306                     Skin Temp  metavision  chartevents   \n",
       "9416         TemperatureF_ApacheIV  metavision  chartevents   \n",
       "10044       Changes in Temperature  metavision  chartevents   \n",
       "11323                    Temp Site  metavision  chartevents   \n",
       "11464  Pt. Temperature (BG) (SOFT)  metavision  chartevents   \n",
       "12254           Blood Temp CCO (C)  metavision  chartevents   \n",
       "12366                Temperature F  metavision  chartevents   \n",
       "12367                Temperature C  metavision  chartevents   \n",
       "\n",
       "                     category unitname param_type  conceptid  target  \n",
       "236                       NaN      NaN        NaN        NaN    True  \n",
       "242                       NaN      NaN        NaN        NaN    True  \n",
       "1417                      NaN      NaN        NaN        NaN    True  \n",
       "1446                      NaN      NaN        NaN        NaN    True  \n",
       "1447                      NaN      NaN        NaN        NaN    True  \n",
       "1448                      NaN      NaN        NaN        NaN    True  \n",
       "1449                      NaN      NaN        NaN        NaN    True  \n",
       "4813                      NaN      NaN        NaN        NaN    True  \n",
       "9306        Skin - Assessment      NaN       Text        NaN    True  \n",
       "9416   Scores - APACHE IV (2)       ?F    Numeric        NaN    True  \n",
       "10044              Toxicology      NaN       Text        NaN    True  \n",
       "11323     Routine Vital Signs      NaN       Text        NaN    True  \n",
       "11464                    Labs      NaN    Numeric        NaN    True  \n",
       "12254     Routine Vital Signs       ?C    Numeric        NaN    True  \n",
       "12366     Routine Vital Signs       ?F    Numeric        NaN    True  \n",
       "12367     Routine Vital Signs       ?C    Numeric        NaN    True  "
      ],
      "text/html": [
       "<div>\n",
       "<style scoped>\n",
       "    .dataframe tbody tr th:only-of-type {\n",
       "        vertical-align: middle;\n",
       "    }\n",
       "\n",
       "    .dataframe tbody tr th {\n",
       "        vertical-align: top;\n",
       "    }\n",
       "\n",
       "    .dataframe thead th {\n",
       "        text-align: right;\n",
       "    }\n",
       "</style>\n",
       "<table border=\"1\" class=\"dataframe\">\n",
       "  <thead>\n",
       "    <tr style=\"text-align: right;\">\n",
       "      <th></th>\n",
       "      <th>row_id</th>\n",
       "      <th>itemid</th>\n",
       "      <th>label</th>\n",
       "      <th>abbreviation</th>\n",
       "      <th>dbsource</th>\n",
       "      <th>linksto</th>\n",
       "      <th>category</th>\n",
       "      <th>unitname</th>\n",
       "      <th>param_type</th>\n",
       "      <th>conceptid</th>\n",
       "      <th>target</th>\n",
       "    </tr>\n",
       "  </thead>\n",
       "  <tbody>\n",
       "    <tr>\n",
       "      <th>236</th>\n",
       "      <td>548</td>\n",
       "      <td>591</td>\n",
       "      <td>RLE [Temperature]</td>\n",
       "      <td>NaN</td>\n",
       "      <td>carevue</td>\n",
       "      <td>chartevents</td>\n",
       "      <td>NaN</td>\n",
       "      <td>NaN</td>\n",
       "      <td>NaN</td>\n",
       "      <td>NaN</td>\n",
       "      <td>True</td>\n",
       "    </tr>\n",
       "    <tr>\n",
       "      <th>242</th>\n",
       "      <td>554</td>\n",
       "      <td>597</td>\n",
       "      <td>RUE [Temperature]</td>\n",
       "      <td>NaN</td>\n",
       "      <td>carevue</td>\n",
       "      <td>chartevents</td>\n",
       "      <td>NaN</td>\n",
       "      <td>NaN</td>\n",
       "      <td>NaN</td>\n",
       "      <td>NaN</td>\n",
       "      <td>True</td>\n",
       "    </tr>\n",
       "    <tr>\n",
       "      <th>1417</th>\n",
       "      <td>598</td>\n",
       "      <td>645</td>\n",
       "      <td>Skin [Temperature]</td>\n",
       "      <td>NaN</td>\n",
       "      <td>carevue</td>\n",
       "      <td>chartevents</td>\n",
       "      <td>NaN</td>\n",
       "      <td>NaN</td>\n",
       "      <td>NaN</td>\n",
       "      <td>NaN</td>\n",
       "      <td>True</td>\n",
       "    </tr>\n",
       "    <tr>\n",
       "      <th>1446</th>\n",
       "      <td>627</td>\n",
       "      <td>676</td>\n",
       "      <td>Temperature C</td>\n",
       "      <td>NaN</td>\n",
       "      <td>carevue</td>\n",
       "      <td>chartevents</td>\n",
       "      <td>NaN</td>\n",
       "      <td>NaN</td>\n",
       "      <td>NaN</td>\n",
       "      <td>NaN</td>\n",
       "      <td>True</td>\n",
       "    </tr>\n",
       "    <tr>\n",
       "      <th>1447</th>\n",
       "      <td>628</td>\n",
       "      <td>677</td>\n",
       "      <td>Temperature C (calc)</td>\n",
       "      <td>NaN</td>\n",
       "      <td>carevue</td>\n",
       "      <td>chartevents</td>\n",
       "      <td>NaN</td>\n",
       "      <td>NaN</td>\n",
       "      <td>NaN</td>\n",
       "      <td>NaN</td>\n",
       "      <td>True</td>\n",
       "    </tr>\n",
       "    <tr>\n",
       "      <th>1448</th>\n",
       "      <td>629</td>\n",
       "      <td>678</td>\n",
       "      <td>Temperature F</td>\n",
       "      <td>NaN</td>\n",
       "      <td>carevue</td>\n",
       "      <td>chartevents</td>\n",
       "      <td>NaN</td>\n",
       "      <td>NaN</td>\n",
       "      <td>NaN</td>\n",
       "      <td>NaN</td>\n",
       "      <td>True</td>\n",
       "    </tr>\n",
       "    <tr>\n",
       "      <th>1449</th>\n",
       "      <td>630</td>\n",
       "      <td>679</td>\n",
       "      <td>Temperature F (calc)</td>\n",
       "      <td>NaN</td>\n",
       "      <td>carevue</td>\n",
       "      <td>chartevents</td>\n",
       "      <td>NaN</td>\n",
       "      <td>NaN</td>\n",
       "      <td>NaN</td>\n",
       "      <td>NaN</td>\n",
       "      <td>True</td>\n",
       "    </tr>\n",
       "    <tr>\n",
       "      <th>4813</th>\n",
       "      <td>5007</td>\n",
       "      <td>8537</td>\n",
       "      <td>Temp/Iso/Warmer [Temperature, degrees C]</td>\n",
       "      <td>NaN</td>\n",
       "      <td>carevue</td>\n",
       "      <td>chartevents</td>\n",
       "      <td>NaN</td>\n",
       "      <td>NaN</td>\n",
       "      <td>NaN</td>\n",
       "      <td>NaN</td>\n",
       "      <td>True</td>\n",
       "    </tr>\n",
       "    <tr>\n",
       "      <th>9306</th>\n",
       "      <td>13042</td>\n",
       "      <td>224027</td>\n",
       "      <td>Skin Temperature</td>\n",
       "      <td>Skin Temp</td>\n",
       "      <td>metavision</td>\n",
       "      <td>chartevents</td>\n",
       "      <td>Skin - Assessment</td>\n",
       "      <td>NaN</td>\n",
       "      <td>Text</td>\n",
       "      <td>NaN</td>\n",
       "      <td>True</td>\n",
       "    </tr>\n",
       "    <tr>\n",
       "      <th>9416</th>\n",
       "      <td>14731</td>\n",
       "      <td>227054</td>\n",
       "      <td>TemperatureF_ApacheIV</td>\n",
       "      <td>TemperatureF_ApacheIV</td>\n",
       "      <td>metavision</td>\n",
       "      <td>chartevents</td>\n",
       "      <td>Scores - APACHE IV (2)</td>\n",
       "      <td>?F</td>\n",
       "      <td>Numeric</td>\n",
       "      <td>NaN</td>\n",
       "      <td>True</td>\n",
       "    </tr>\n",
       "    <tr>\n",
       "      <th>10044</th>\n",
       "      <td>13235</td>\n",
       "      <td>224674</td>\n",
       "      <td>Changes in Temperature</td>\n",
       "      <td>Changes in Temperature</td>\n",
       "      <td>metavision</td>\n",
       "      <td>chartevents</td>\n",
       "      <td>Toxicology</td>\n",
       "      <td>NaN</td>\n",
       "      <td>Text</td>\n",
       "      <td>NaN</td>\n",
       "      <td>True</td>\n",
       "    </tr>\n",
       "    <tr>\n",
       "      <th>11323</th>\n",
       "      <td>13423</td>\n",
       "      <td>224642</td>\n",
       "      <td>Temperature Site</td>\n",
       "      <td>Temp Site</td>\n",
       "      <td>metavision</td>\n",
       "      <td>chartevents</td>\n",
       "      <td>Routine Vital Signs</td>\n",
       "      <td>NaN</td>\n",
       "      <td>Text</td>\n",
       "      <td>NaN</td>\n",
       "      <td>True</td>\n",
       "    </tr>\n",
       "    <tr>\n",
       "      <th>11464</th>\n",
       "      <td>15236</td>\n",
       "      <td>228242</td>\n",
       "      <td>Pt. Temperature (BG) (SOFT)</td>\n",
       "      <td>Pt. Temperature (BG) (SOFT)</td>\n",
       "      <td>metavision</td>\n",
       "      <td>chartevents</td>\n",
       "      <td>Labs</td>\n",
       "      <td>NaN</td>\n",
       "      <td>Numeric</td>\n",
       "      <td>NaN</td>\n",
       "      <td>True</td>\n",
       "    </tr>\n",
       "    <tr>\n",
       "      <th>12254</th>\n",
       "      <td>14446</td>\n",
       "      <td>226329</td>\n",
       "      <td>Blood Temperature CCO (C)</td>\n",
       "      <td>Blood Temp CCO (C)</td>\n",
       "      <td>metavision</td>\n",
       "      <td>chartevents</td>\n",
       "      <td>Routine Vital Signs</td>\n",
       "      <td>?C</td>\n",
       "      <td>Numeric</td>\n",
       "      <td>NaN</td>\n",
       "      <td>True</td>\n",
       "    </tr>\n",
       "    <tr>\n",
       "      <th>12366</th>\n",
       "      <td>12757</td>\n",
       "      <td>223761</td>\n",
       "      <td>Temperature Fahrenheit</td>\n",
       "      <td>Temperature F</td>\n",
       "      <td>metavision</td>\n",
       "      <td>chartevents</td>\n",
       "      <td>Routine Vital Signs</td>\n",
       "      <td>?F</td>\n",
       "      <td>Numeric</td>\n",
       "      <td>NaN</td>\n",
       "      <td>True</td>\n",
       "    </tr>\n",
       "    <tr>\n",
       "      <th>12367</th>\n",
       "      <td>12758</td>\n",
       "      <td>223762</td>\n",
       "      <td>Temperature Celsius</td>\n",
       "      <td>Temperature C</td>\n",
       "      <td>metavision</td>\n",
       "      <td>chartevents</td>\n",
       "      <td>Routine Vital Signs</td>\n",
       "      <td>?C</td>\n",
       "      <td>Numeric</td>\n",
       "      <td>NaN</td>\n",
       "      <td>True</td>\n",
       "    </tr>\n",
       "  </tbody>\n",
       "</table>\n",
       "</div>"
      ]
     },
     "execution_count": 55,
     "metadata": {},
     "output_type": "execute_result"
    }
   ],
   "execution_count": 55
  },
  {
   "metadata": {
    "ExecuteTime": {
     "end_time": "2024-10-31T17:52:49.644786Z",
     "start_time": "2024-10-31T17:52:49.626268Z"
    }
   },
   "cell_type": "code",
   "source": [
    "temperature_items_id = [223761, 223762]\n",
    "temperature_items_units = {\n",
    "    223761: \"F\",\n",
    "    223762: \"C\",\n",
    "}"
   ],
   "outputs": [],
   "execution_count": 56
  },
  {
   "metadata": {
    "ExecuteTime": {
     "end_time": "2024-10-31T17:52:49.780568Z",
     "start_time": "2024-10-31T17:52:49.760876Z"
    }
   },
   "cell_type": "code",
   "source": [
    "# Read all chartevents table\n",
    "file_list = os.listdir(os.path.join(data_dir, \"additional_data\"))\n",
    "file_list.sort()\n",
    "\n",
    "chart_events_file_list = [file for file in file_list if \"chartevent\" in file]"
   ],
   "outputs": [],
   "execution_count": 57
  },
  {
   "metadata": {
    "ExecuteTime": {
     "end_time": "2024-10-31T17:53:02.046880Z",
     "start_time": "2024-10-31T17:52:49.852318Z"
    }
   },
   "cell_type": "code",
   "source": [
    "# Read chart event files\n",
    "chart_event_df_list = [pd.read_csv(os.path.join(data_dir, \"additional_data\", file)) for file in chart_events_file_list]\n",
    "chart_event_df = pd.concat(chart_event_df_list)\n",
    "preprocess_dates(chart_event_df, [\"charttime\"], [\"%Y-%m-%dT%H:%M:%SZ\"], inplace=True)\n",
    "display(chart_event_df.head(10))"
   ],
   "outputs": [
    {
     "name": "stderr",
     "output_type": "stream",
     "text": [
      "/var/folders/gt/j1t0cnh90336_dbb5gz3q65h0000gn/T/ipykernel_79346/1063776000.py:2: DtypeWarning: Columns (8) have mixed types. Specify dtype option on import or set low_memory=False.\n"
     ]
    },
    {
     "data": {
      "text/plain": [
       "      row_id  subject_id  hadm_id  icustay_id  itemid  \\\n",
       "0  193152419           6   107064    228232.0    5820   \n",
       "1  193152422           6   107064    228232.0    5813   \n",
       "2  193152424           6   107064    228232.0    5815   \n",
       "3  193152430           6   107064    228232.0    5814   \n",
       "4  193152440           6   107064    228232.0    5820   \n",
       "5  193152472           6   107064    228232.0    5813   \n",
       "6  193152620           6   107064    228232.0    5814   \n",
       "7  193152497           6   107064    228232.0    5814   \n",
       "8  193152415           6   107064    228232.0    5813   \n",
       "9  193152416           6   107064    228232.0    5814   \n",
       "\n",
       "                  charttime             storetime   cgid value  valuenum  \\\n",
       "0 2175-05-31 15:00:00+00:00  2175-05-31T15:15:00Z  18765    92      92.0   \n",
       "1 2175-05-31 15:30:00+00:00  2175-05-31T15:38:00Z  18765    80      80.0   \n",
       "2 2175-05-31 15:30:00+00:00  2175-05-31T15:38:00Z  18765    65      65.0   \n",
       "3 2175-05-31 16:00:00+00:00  2175-05-31T16:18:00Z  18765     0       0.0   \n",
       "4 2175-05-31 17:00:00+00:00  2175-05-31T17:20:00Z  18765    92      92.0   \n",
       "5 2175-05-31 21:00:00+00:00  2175-05-31T21:45:00Z  15816    80      80.0   \n",
       "6 2175-06-01 12:00:00+00:00  2175-06-01T12:15:00Z  18765     0       0.0   \n",
       "7 2175-05-31 23:00:00+00:00  2175-05-31T23:03:00Z  15816     0       0.0   \n",
       "8 2175-05-31 15:00:00+00:00  2175-05-31T15:15:00Z  18765    80      80.0   \n",
       "9 2175-05-31 15:00:00+00:00  2175-05-31T15:15:00Z  18765     0       0.0   \n",
       "\n",
       "  valueuom  warning  error resultstatus   stopped  \n",
       "0        %      NaN    NaN          NaN  NotStopd  \n",
       "1     mmHg      NaN    NaN          NaN  NotStopd  \n",
       "2      BPM      NaN    NaN          NaN  NotStopd  \n",
       "3     mmHg      NaN    NaN          NaN  NotStopd  \n",
       "4        %      NaN    NaN          NaN  NotStopd  \n",
       "5     mmHg      NaN    NaN          NaN  NotStopd  \n",
       "6     mmHg      NaN    NaN          NaN  NotStopd  \n",
       "7     mmHg      NaN    NaN          NaN  NotStopd  \n",
       "8     mmHg      NaN    NaN          NaN  NotStopd  \n",
       "9     mmHg      NaN    NaN          NaN  NotStopd  "
      ],
      "text/html": [
       "<div>\n",
       "<style scoped>\n",
       "    .dataframe tbody tr th:only-of-type {\n",
       "        vertical-align: middle;\n",
       "    }\n",
       "\n",
       "    .dataframe tbody tr th {\n",
       "        vertical-align: top;\n",
       "    }\n",
       "\n",
       "    .dataframe thead th {\n",
       "        text-align: right;\n",
       "    }\n",
       "</style>\n",
       "<table border=\"1\" class=\"dataframe\">\n",
       "  <thead>\n",
       "    <tr style=\"text-align: right;\">\n",
       "      <th></th>\n",
       "      <th>row_id</th>\n",
       "      <th>subject_id</th>\n",
       "      <th>hadm_id</th>\n",
       "      <th>icustay_id</th>\n",
       "      <th>itemid</th>\n",
       "      <th>charttime</th>\n",
       "      <th>storetime</th>\n",
       "      <th>cgid</th>\n",
       "      <th>value</th>\n",
       "      <th>valuenum</th>\n",
       "      <th>valueuom</th>\n",
       "      <th>warning</th>\n",
       "      <th>error</th>\n",
       "      <th>resultstatus</th>\n",
       "      <th>stopped</th>\n",
       "    </tr>\n",
       "  </thead>\n",
       "  <tbody>\n",
       "    <tr>\n",
       "      <th>0</th>\n",
       "      <td>193152419</td>\n",
       "      <td>6</td>\n",
       "      <td>107064</td>\n",
       "      <td>228232.0</td>\n",
       "      <td>5820</td>\n",
       "      <td>2175-05-31 15:00:00+00:00</td>\n",
       "      <td>2175-05-31T15:15:00Z</td>\n",
       "      <td>18765</td>\n",
       "      <td>92</td>\n",
       "      <td>92.0</td>\n",
       "      <td>%</td>\n",
       "      <td>NaN</td>\n",
       "      <td>NaN</td>\n",
       "      <td>NaN</td>\n",
       "      <td>NotStopd</td>\n",
       "    </tr>\n",
       "    <tr>\n",
       "      <th>1</th>\n",
       "      <td>193152422</td>\n",
       "      <td>6</td>\n",
       "      <td>107064</td>\n",
       "      <td>228232.0</td>\n",
       "      <td>5813</td>\n",
       "      <td>2175-05-31 15:30:00+00:00</td>\n",
       "      <td>2175-05-31T15:38:00Z</td>\n",
       "      <td>18765</td>\n",
       "      <td>80</td>\n",
       "      <td>80.0</td>\n",
       "      <td>mmHg</td>\n",
       "      <td>NaN</td>\n",
       "      <td>NaN</td>\n",
       "      <td>NaN</td>\n",
       "      <td>NotStopd</td>\n",
       "    </tr>\n",
       "    <tr>\n",
       "      <th>2</th>\n",
       "      <td>193152424</td>\n",
       "      <td>6</td>\n",
       "      <td>107064</td>\n",
       "      <td>228232.0</td>\n",
       "      <td>5815</td>\n",
       "      <td>2175-05-31 15:30:00+00:00</td>\n",
       "      <td>2175-05-31T15:38:00Z</td>\n",
       "      <td>18765</td>\n",
       "      <td>65</td>\n",
       "      <td>65.0</td>\n",
       "      <td>BPM</td>\n",
       "      <td>NaN</td>\n",
       "      <td>NaN</td>\n",
       "      <td>NaN</td>\n",
       "      <td>NotStopd</td>\n",
       "    </tr>\n",
       "    <tr>\n",
       "      <th>3</th>\n",
       "      <td>193152430</td>\n",
       "      <td>6</td>\n",
       "      <td>107064</td>\n",
       "      <td>228232.0</td>\n",
       "      <td>5814</td>\n",
       "      <td>2175-05-31 16:00:00+00:00</td>\n",
       "      <td>2175-05-31T16:18:00Z</td>\n",
       "      <td>18765</td>\n",
       "      <td>0</td>\n",
       "      <td>0.0</td>\n",
       "      <td>mmHg</td>\n",
       "      <td>NaN</td>\n",
       "      <td>NaN</td>\n",
       "      <td>NaN</td>\n",
       "      <td>NotStopd</td>\n",
       "    </tr>\n",
       "    <tr>\n",
       "      <th>4</th>\n",
       "      <td>193152440</td>\n",
       "      <td>6</td>\n",
       "      <td>107064</td>\n",
       "      <td>228232.0</td>\n",
       "      <td>5820</td>\n",
       "      <td>2175-05-31 17:00:00+00:00</td>\n",
       "      <td>2175-05-31T17:20:00Z</td>\n",
       "      <td>18765</td>\n",
       "      <td>92</td>\n",
       "      <td>92.0</td>\n",
       "      <td>%</td>\n",
       "      <td>NaN</td>\n",
       "      <td>NaN</td>\n",
       "      <td>NaN</td>\n",
       "      <td>NotStopd</td>\n",
       "    </tr>\n",
       "    <tr>\n",
       "      <th>5</th>\n",
       "      <td>193152472</td>\n",
       "      <td>6</td>\n",
       "      <td>107064</td>\n",
       "      <td>228232.0</td>\n",
       "      <td>5813</td>\n",
       "      <td>2175-05-31 21:00:00+00:00</td>\n",
       "      <td>2175-05-31T21:45:00Z</td>\n",
       "      <td>15816</td>\n",
       "      <td>80</td>\n",
       "      <td>80.0</td>\n",
       "      <td>mmHg</td>\n",
       "      <td>NaN</td>\n",
       "      <td>NaN</td>\n",
       "      <td>NaN</td>\n",
       "      <td>NotStopd</td>\n",
       "    </tr>\n",
       "    <tr>\n",
       "      <th>6</th>\n",
       "      <td>193152620</td>\n",
       "      <td>6</td>\n",
       "      <td>107064</td>\n",
       "      <td>228232.0</td>\n",
       "      <td>5814</td>\n",
       "      <td>2175-06-01 12:00:00+00:00</td>\n",
       "      <td>2175-06-01T12:15:00Z</td>\n",
       "      <td>18765</td>\n",
       "      <td>0</td>\n",
       "      <td>0.0</td>\n",
       "      <td>mmHg</td>\n",
       "      <td>NaN</td>\n",
       "      <td>NaN</td>\n",
       "      <td>NaN</td>\n",
       "      <td>NotStopd</td>\n",
       "    </tr>\n",
       "    <tr>\n",
       "      <th>7</th>\n",
       "      <td>193152497</td>\n",
       "      <td>6</td>\n",
       "      <td>107064</td>\n",
       "      <td>228232.0</td>\n",
       "      <td>5814</td>\n",
       "      <td>2175-05-31 23:00:00+00:00</td>\n",
       "      <td>2175-05-31T23:03:00Z</td>\n",
       "      <td>15816</td>\n",
       "      <td>0</td>\n",
       "      <td>0.0</td>\n",
       "      <td>mmHg</td>\n",
       "      <td>NaN</td>\n",
       "      <td>NaN</td>\n",
       "      <td>NaN</td>\n",
       "      <td>NotStopd</td>\n",
       "    </tr>\n",
       "    <tr>\n",
       "      <th>8</th>\n",
       "      <td>193152415</td>\n",
       "      <td>6</td>\n",
       "      <td>107064</td>\n",
       "      <td>228232.0</td>\n",
       "      <td>5813</td>\n",
       "      <td>2175-05-31 15:00:00+00:00</td>\n",
       "      <td>2175-05-31T15:15:00Z</td>\n",
       "      <td>18765</td>\n",
       "      <td>80</td>\n",
       "      <td>80.0</td>\n",
       "      <td>mmHg</td>\n",
       "      <td>NaN</td>\n",
       "      <td>NaN</td>\n",
       "      <td>NaN</td>\n",
       "      <td>NotStopd</td>\n",
       "    </tr>\n",
       "    <tr>\n",
       "      <th>9</th>\n",
       "      <td>193152416</td>\n",
       "      <td>6</td>\n",
       "      <td>107064</td>\n",
       "      <td>228232.0</td>\n",
       "      <td>5814</td>\n",
       "      <td>2175-05-31 15:00:00+00:00</td>\n",
       "      <td>2175-05-31T15:15:00Z</td>\n",
       "      <td>18765</td>\n",
       "      <td>0</td>\n",
       "      <td>0.0</td>\n",
       "      <td>mmHg</td>\n",
       "      <td>NaN</td>\n",
       "      <td>NaN</td>\n",
       "      <td>NaN</td>\n",
       "      <td>NotStopd</td>\n",
       "    </tr>\n",
       "  </tbody>\n",
       "</table>\n",
       "</div>"
      ]
     },
     "metadata": {},
     "output_type": "display_data"
    }
   ],
   "execution_count": 58
  },
  {
   "metadata": {
    "ExecuteTime": {
     "end_time": "2024-10-31T17:53:02.229802Z",
     "start_time": "2024-10-31T17:53:02.209328Z"
    }
   },
   "cell_type": "code",
   "source": [
    "import numpy as np\n",
    "\n",
    "def get_vitals(chartevent_df, vital_item_ids, shock_labels, vital_name):\n",
    "    # Select data only for the itemid is in vital_item_ids\n",
    "    vital_df = chartevent_df[chartevent_df['itemid'].isin(vital_item_ids)]\n",
    "    merged_df = shock_labels.merge(vital_df, on=['subject_id', 'hadm_id', 'icustay_id'], how=\"inner\")\n",
    "    merged_df = merged_df[merged_df['charttime'] < merged_df['index_time']]\n",
    "    \n",
    "    selected_vitals = merged_df.sort_values('charttime')\n",
    "    selected_vitals = selected_vitals.groupby('subject_id').tail(1)\n",
    "    selected_vitals = selected_vitals[['subject_id', 'valuenum']]\n",
    "    selected_vitals = selected_vitals.rename(columns={'valuenum': f'latest_{vital_name}'})\n",
    "    \n",
    "    # Get time weighted feature\n",
    "    merged_df = merged_df.sort_values('charttime')\n",
    "    merged_df['dt'] = (merged_df['charttime'] - merged_df['index_time'])/ pd.Timedelta(hours=1)\n",
    "    merged_df['weight'] = np.exp(-1*abs(merged_df['dt']) - 1)\n",
    "    merged_df['weighted_vital'] = merged_df['weight'] * merged_df['valuenum']\n",
    "    merged_df = merged_df[['subject_id', 'dt', 'weight', 'weighted_vital', 'valuenum']]\n",
    "    time_weighted_vital = merged_df.groupby('subject_id', as_index=False).sum()\n",
    "    time_weighted_vital[f'time_wt_avg_{vital_name}'] = time_weighted_vital['weighted_vital'] / time_weighted_vital['weight']\n",
    "    time_weighted_vital = time_weighted_vital[['subject_id', f'time_wt_avg_{vital_name}']]\n",
    "    time_weighted_vital = time_weighted_vital.dropna()\n",
    "    \n",
    "    vital_feature = selected_vitals.merge(time_weighted_vital, on=['subject_id'], how=\"outer\")\n",
    "    \n",
    "    return vital_feature"
   ],
   "outputs": [],
   "execution_count": 59
  },
  {
   "metadata": {
    "ExecuteTime": {
     "end_time": "2024-10-31T17:53:02.448553Z",
     "start_time": "2024-10-31T17:53:02.365095Z"
    }
   },
   "cell_type": "code",
   "source": "sysbp_features = get_vitals(chart_event_df, systolic_bp_item_ids, shock_labels, 'sysbp')",
   "outputs": [],
   "execution_count": 60
  },
  {
   "metadata": {
    "ExecuteTime": {
     "end_time": "2024-10-31T17:53:02.566861Z",
     "start_time": "2024-10-31T17:53:02.545593Z"
    }
   },
   "cell_type": "code",
   "source": "display(sysbp_features.head(5))",
   "outputs": [
    {
     "data": {
      "text/plain": [
       "   subject_id  latest_sysbp  time_wt_avg_sysbp\n",
       "0         291         102.0         111.272459\n",
       "1         518         152.0         147.332891\n",
       "2         904         137.0         137.058476\n",
       "3         948         104.0         104.427891\n",
       "4        1332         143.0         141.100578"
      ],
      "text/html": [
       "<div>\n",
       "<style scoped>\n",
       "    .dataframe tbody tr th:only-of-type {\n",
       "        vertical-align: middle;\n",
       "    }\n",
       "\n",
       "    .dataframe tbody tr th {\n",
       "        vertical-align: top;\n",
       "    }\n",
       "\n",
       "    .dataframe thead th {\n",
       "        text-align: right;\n",
       "    }\n",
       "</style>\n",
       "<table border=\"1\" class=\"dataframe\">\n",
       "  <thead>\n",
       "    <tr style=\"text-align: right;\">\n",
       "      <th></th>\n",
       "      <th>subject_id</th>\n",
       "      <th>latest_sysbp</th>\n",
       "      <th>time_wt_avg_sysbp</th>\n",
       "    </tr>\n",
       "  </thead>\n",
       "  <tbody>\n",
       "    <tr>\n",
       "      <th>0</th>\n",
       "      <td>291</td>\n",
       "      <td>102.0</td>\n",
       "      <td>111.272459</td>\n",
       "    </tr>\n",
       "    <tr>\n",
       "      <th>1</th>\n",
       "      <td>518</td>\n",
       "      <td>152.0</td>\n",
       "      <td>147.332891</td>\n",
       "    </tr>\n",
       "    <tr>\n",
       "      <th>2</th>\n",
       "      <td>904</td>\n",
       "      <td>137.0</td>\n",
       "      <td>137.058476</td>\n",
       "    </tr>\n",
       "    <tr>\n",
       "      <th>3</th>\n",
       "      <td>948</td>\n",
       "      <td>104.0</td>\n",
       "      <td>104.427891</td>\n",
       "    </tr>\n",
       "    <tr>\n",
       "      <th>4</th>\n",
       "      <td>1332</td>\n",
       "      <td>143.0</td>\n",
       "      <td>141.100578</td>\n",
       "    </tr>\n",
       "  </tbody>\n",
       "</table>\n",
       "</div>"
      ]
     },
     "metadata": {},
     "output_type": "display_data"
    }
   ],
   "execution_count": 61
  },
  {
   "metadata": {
    "ExecuteTime": {
     "end_time": "2024-10-31T17:53:02.798627Z",
     "start_time": "2024-10-31T17:53:02.775149Z"
    }
   },
   "cell_type": "code",
   "source": [
    "def get_temp_vital(chartevent_df, vital_item_ids, itemid_units, shock_labels, vital_name):\n",
    "    # Select data only for the itemid is in vital_item_ids\n",
    "    vital_df = chartevent_df[chartevent_df['itemid'].isin(vital_item_ids)]\n",
    "    vital_df['unit'] = vital_df['itemid'].apply(lambda x: itemid_units[x])\n",
    "    vital_df.loc[vital_df['unit']=='F', 'valuenum'] = (vital_df[vital_df['unit']=='F']['valuenum'] - 32) * 5/9.\n",
    "    merged_df = shock_labels.merge(vital_df, on=['subject_id', 'hadm_id', 'icustay_id'], how=\"inner\")\n",
    "    merged_df = merged_df[merged_df['charttime'] < merged_df['index_time']]\n",
    "\n",
    "    selected_vitals = merged_df.sort_values('charttime')\n",
    "    selected_vitals = selected_vitals.groupby('subject_id').tail(1)\n",
    "    selected_vitals = selected_vitals[['subject_id', 'valuenum']]\n",
    "    selected_vitals = selected_vitals.rename(columns={'valuenum': f'latest_{vital_name}'})\n",
    "\n",
    "    # Get time weighted feature\n",
    "    merged_df = merged_df.sort_values('charttime')\n",
    "    merged_df['dt'] = (merged_df['charttime'] - merged_df['index_time'])/ pd.Timedelta(hours=1)\n",
    "    merged_df['weight'] = np.exp(-1*abs(merged_df['dt']) - 1)\n",
    "    merged_df['weighted_vital'] = merged_df['weight'] * merged_df['valuenum']\n",
    "    merged_df = merged_df[['subject_id', 'dt', 'weight', 'weighted_vital', 'valuenum']]\n",
    "    time_weighted_vital = merged_df.groupby('subject_id', as_index=False).sum()\n",
    "    time_weighted_vital[f'time_wt_avg_{vital_name}'] = time_weighted_vital['weighted_vital'] / time_weighted_vital['weight']\n",
    "    time_weighted_vital = time_weighted_vital[['subject_id', f'time_wt_avg_{vital_name}']]\n",
    "    time_weighted_vital = time_weighted_vital.dropna()\n",
    "\n",
    "    vital_feature = selected_vitals.merge(time_weighted_vital, on=['subject_id'], how=\"outer\")\n",
    "\n",
    "    return vital_feature\n",
    "    "
   ],
   "outputs": [],
   "execution_count": 62
  },
  {
   "metadata": {
    "ExecuteTime": {
     "end_time": "2024-10-31T17:53:02.980894Z",
     "start_time": "2024-10-31T17:53:02.895720Z"
    }
   },
   "cell_type": "code",
   "source": [
    "temperature_feature = get_temp_vital(chart_event_df, temperature_items_id, temperature_items_units, shock_labels, 'temperature')\n",
    "display(temperature_feature.head(5))"
   ],
   "outputs": [
    {
     "name": "stderr",
     "output_type": "stream",
     "text": [
      "/var/folders/gt/j1t0cnh90336_dbb5gz3q65h0000gn/T/ipykernel_79346/2961523073.py:4: SettingWithCopyWarning: \n",
      "A value is trying to be set on a copy of a slice from a DataFrame.\n",
      "Try using .loc[row_indexer,col_indexer] = value instead\n",
      "\n",
      "See the caveats in the documentation: https://pandas.pydata.org/pandas-docs/stable/user_guide/indexing.html#returning-a-view-versus-a-copy\n"
     ]
    },
    {
     "data": {
      "text/plain": [
       "   subject_id  latest_temperature  time_wt_avg_temperature\n",
       "0         291           35.944444                35.920270\n",
       "1         518           36.166667                36.260856\n",
       "2         904           36.833333                36.824312\n",
       "3         948           37.222222                37.211493\n",
       "4        1332           36.055556                36.064712"
      ],
      "text/html": [
       "<div>\n",
       "<style scoped>\n",
       "    .dataframe tbody tr th:only-of-type {\n",
       "        vertical-align: middle;\n",
       "    }\n",
       "\n",
       "    .dataframe tbody tr th {\n",
       "        vertical-align: top;\n",
       "    }\n",
       "\n",
       "    .dataframe thead th {\n",
       "        text-align: right;\n",
       "    }\n",
       "</style>\n",
       "<table border=\"1\" class=\"dataframe\">\n",
       "  <thead>\n",
       "    <tr style=\"text-align: right;\">\n",
       "      <th></th>\n",
       "      <th>subject_id</th>\n",
       "      <th>latest_temperature</th>\n",
       "      <th>time_wt_avg_temperature</th>\n",
       "    </tr>\n",
       "  </thead>\n",
       "  <tbody>\n",
       "    <tr>\n",
       "      <th>0</th>\n",
       "      <td>291</td>\n",
       "      <td>35.944444</td>\n",
       "      <td>35.920270</td>\n",
       "    </tr>\n",
       "    <tr>\n",
       "      <th>1</th>\n",
       "      <td>518</td>\n",
       "      <td>36.166667</td>\n",
       "      <td>36.260856</td>\n",
       "    </tr>\n",
       "    <tr>\n",
       "      <th>2</th>\n",
       "      <td>904</td>\n",
       "      <td>36.833333</td>\n",
       "      <td>36.824312</td>\n",
       "    </tr>\n",
       "    <tr>\n",
       "      <th>3</th>\n",
       "      <td>948</td>\n",
       "      <td>37.222222</td>\n",
       "      <td>37.211493</td>\n",
       "    </tr>\n",
       "    <tr>\n",
       "      <th>4</th>\n",
       "      <td>1332</td>\n",
       "      <td>36.055556</td>\n",
       "      <td>36.064712</td>\n",
       "    </tr>\n",
       "  </tbody>\n",
       "</table>\n",
       "</div>"
      ]
     },
     "metadata": {},
     "output_type": "display_data"
    }
   ],
   "execution_count": 63
  },
  {
   "metadata": {},
   "cell_type": "markdown",
   "source": [
    "<span><h3>Feature set 3: Microlab Event</h3></span>\n",
    "* Target table: `microbiologyevents_additional.csv`\n",
    "* Bacterial infections cause most cases of sepsis. Blood cultures are used to aid in the diagnosis of patients with suspected sepsis secondary to either a fungemia or bacteremia. Positive cultures may relate to septic shock in the future.\n",
    "* Microbiological infection testing is commonly performed using blood and urine samples. We will generate features based on the following specimen types:\n",
    "* The feature is the count of unique positive organisms that grew in the culture. This indicates the number of unique type of infections. Count = 0 indicates negative / no infections."
   ]
  },
  {
   "metadata": {
    "ExecuteTime": {
     "end_time": "2024-10-31T17:53:03.245282Z",
     "start_time": "2024-10-31T17:53:03.196996Z"
    }
   },
   "cell_type": "code",
   "source": [
    "micro_biology_events_file_name = \"microbiologyevents_additional.csv\"\n",
    "micro_biology_events_df = pd.read_csv(os.path.join(data_dir, \"additional_data\", micro_biology_events_file_name)) "
   ],
   "outputs": [],
   "execution_count": 64
  },
  {
   "metadata": {
    "ExecuteTime": {
     "end_time": "2024-10-31T17:53:03.325177Z",
     "start_time": "2024-10-31T17:53:03.303184Z"
    }
   },
   "cell_type": "code",
   "source": [
    "def get_biology_event_pos_count(events_df, spec_type_desc, shock_labels):\n",
    "    event_additional_df = events_df.copy()\n",
    "    event_additional_df = event_additional_df[event_additional_df['spec_type_desc']==spec_type_desc]\n",
    "    merged_df = shock_labels.merge(event_additional_df, on=['subject_id', 'hadm_id'], how='left')\n",
    "    merged_df = merged_df[merged_df['charttime'] < merged_df['index_time']]\n",
    "    \n",
    "    count_positive = merged_df['org_itemid'].fillna('NEG CULTURE')\n",
    "    count_positive = merged_df.groupby('subject_id').nunique().reset_index()\n",
    "    count_positive = count_positive[['subject_id', 'org_itemid']]\n",
    "    count_positive = count_positive.rename(columns={'org_itemid':f'pos_{spec_type_desc}_count'})\n",
    "    \n",
    "    return count_positive\n",
    "    "
   ],
   "outputs": [],
   "execution_count": 65
  },
  {
   "metadata": {
    "ExecuteTime": {
     "end_time": "2024-10-31T17:53:03.603007Z",
     "start_time": "2024-10-31T17:53:03.547932Z"
    }
   },
   "cell_type": "code",
   "source": [
    "blood_feature = get_biology_event_pos_count(micro_biology_events_df, spec_type_desc='BLOOD CULTURE', shock_labels=shock_labels)\n",
    "display(blood_feature.head(5))"
   ],
   "outputs": [
    {
     "data": {
      "text/plain": [
       "   subject_id  pos_BLOOD CULTURE_count\n",
       "0          21                        1\n",
       "1          25                        0\n",
       "2          31                        0\n",
       "3          33                        0\n",
       "4          37                        0"
      ],
      "text/html": [
       "<div>\n",
       "<style scoped>\n",
       "    .dataframe tbody tr th:only-of-type {\n",
       "        vertical-align: middle;\n",
       "    }\n",
       "\n",
       "    .dataframe tbody tr th {\n",
       "        vertical-align: top;\n",
       "    }\n",
       "\n",
       "    .dataframe thead th {\n",
       "        text-align: right;\n",
       "    }\n",
       "</style>\n",
       "<table border=\"1\" class=\"dataframe\">\n",
       "  <thead>\n",
       "    <tr style=\"text-align: right;\">\n",
       "      <th></th>\n",
       "      <th>subject_id</th>\n",
       "      <th>pos_BLOOD CULTURE_count</th>\n",
       "    </tr>\n",
       "  </thead>\n",
       "  <tbody>\n",
       "    <tr>\n",
       "      <th>0</th>\n",
       "      <td>21</td>\n",
       "      <td>1</td>\n",
       "    </tr>\n",
       "    <tr>\n",
       "      <th>1</th>\n",
       "      <td>25</td>\n",
       "      <td>0</td>\n",
       "    </tr>\n",
       "    <tr>\n",
       "      <th>2</th>\n",
       "      <td>31</td>\n",
       "      <td>0</td>\n",
       "    </tr>\n",
       "    <tr>\n",
       "      <th>3</th>\n",
       "      <td>33</td>\n",
       "      <td>0</td>\n",
       "    </tr>\n",
       "    <tr>\n",
       "      <th>4</th>\n",
       "      <td>37</td>\n",
       "      <td>0</td>\n",
       "    </tr>\n",
       "  </tbody>\n",
       "</table>\n",
       "</div>"
      ]
     },
     "metadata": {},
     "output_type": "display_data"
    }
   ],
   "execution_count": 66
  },
  {
   "metadata": {
    "ExecuteTime": {
     "end_time": "2024-10-31T17:53:03.789917Z",
     "start_time": "2024-10-31T17:53:03.739634Z"
    }
   },
   "cell_type": "code",
   "source": [
    "urine_feature = get_biology_event_pos_count(micro_biology_events_df, spec_type_desc='URINE', shock_labels=shock_labels)\n",
    "display(urine_feature.head(5))"
   ],
   "outputs": [
    {
     "data": {
      "text/plain": [
       "   subject_id  pos_URINE_count\n",
       "0           4                0\n",
       "1          19                0\n",
       "2          21                0\n",
       "3          22                0\n",
       "4          31                2"
      ],
      "text/html": [
       "<div>\n",
       "<style scoped>\n",
       "    .dataframe tbody tr th:only-of-type {\n",
       "        vertical-align: middle;\n",
       "    }\n",
       "\n",
       "    .dataframe tbody tr th {\n",
       "        vertical-align: top;\n",
       "    }\n",
       "\n",
       "    .dataframe thead th {\n",
       "        text-align: right;\n",
       "    }\n",
       "</style>\n",
       "<table border=\"1\" class=\"dataframe\">\n",
       "  <thead>\n",
       "    <tr style=\"text-align: right;\">\n",
       "      <th></th>\n",
       "      <th>subject_id</th>\n",
       "      <th>pos_URINE_count</th>\n",
       "    </tr>\n",
       "  </thead>\n",
       "  <tbody>\n",
       "    <tr>\n",
       "      <th>0</th>\n",
       "      <td>4</td>\n",
       "      <td>0</td>\n",
       "    </tr>\n",
       "    <tr>\n",
       "      <th>1</th>\n",
       "      <td>19</td>\n",
       "      <td>0</td>\n",
       "    </tr>\n",
       "    <tr>\n",
       "      <th>2</th>\n",
       "      <td>21</td>\n",
       "      <td>0</td>\n",
       "    </tr>\n",
       "    <tr>\n",
       "      <th>3</th>\n",
       "      <td>22</td>\n",
       "      <td>0</td>\n",
       "    </tr>\n",
       "    <tr>\n",
       "      <th>4</th>\n",
       "      <td>31</td>\n",
       "      <td>2</td>\n",
       "    </tr>\n",
       "  </tbody>\n",
       "</table>\n",
       "</div>"
      ]
     },
     "metadata": {},
     "output_type": "display_data"
    }
   ],
   "execution_count": 67
  },
  {
   "metadata": {},
   "cell_type": "markdown",
   "source": [
    "<span><h3>Feature set 4: Prescriptions prior to index time</h3></span>\n",
    "* Target table: `prescriptions_additional.csv`\n",
    "* In sepsis treatment, vasopressors like vasopressin and norepinephrine are commonly prescribed to constrict blood vessels, which helps improve blood flow to vital organs. Additionally, if septic shock causes elevated blood glucose levels, patients may receive insulin therapy to regulate their blood sugar.\n",
    "* For each medication type, we calculate a new feature based on the average number of prescriptions given to the patient before the index time."
   ]
  },
  {
   "metadata": {
    "ExecuteTime": {
     "end_time": "2024-10-31T17:53:04.071380Z",
     "start_time": "2024-10-31T17:53:03.849705Z"
    }
   },
   "cell_type": "code",
   "source": [
    "prescription_file_path = os.path.join(data_dir, \"additional_data\", \"prescriptions_additional.csv\")\n",
    "prescription_df = pd.read_csv(prescription_file_path)"
   ],
   "outputs": [
    {
     "name": "stderr",
     "output_type": "stream",
     "text": [
      "/var/folders/gt/j1t0cnh90336_dbb5gz3q65h0000gn/T/ipykernel_79346/31754074.py:2: DtypeWarning: Columns (11) have mixed types. Specify dtype option on import or set low_memory=False.\n"
     ]
    }
   ],
   "execution_count": 68
  },
  {
   "metadata": {
    "ExecuteTime": {
     "end_time": "2024-10-31T17:53:04.210305Z",
     "start_time": "2024-10-31T17:53:04.181655Z"
    }
   },
   "cell_type": "code",
   "source": "display(prescription_df.head(5))",
   "outputs": [
    {
     "data": {
      "text/plain": [
       "    row_id  subject_id  hadm_id  icustay_id             startdate  \\\n",
       "0  1213111           4   185777    294638.0  2191-03-16T00:00:00Z   \n",
       "1  1213827           4   185777    294638.0  2191-03-16T00:00:00Z   \n",
       "2  1213826           4   185777    294638.0  2191-03-16T00:00:00Z   \n",
       "3  1213117           4   185777    294638.0  2191-03-16T00:00:00Z   \n",
       "4  1213110           4   185777    294638.0  2191-03-16T00:00:00Z   \n",
       "\n",
       "                enddate drug_type                  drug drug_name_poe  \\\n",
       "0  2191-03-16T00:00:00Z      BASE  Iso-Osmotic Dextrose           NaN   \n",
       "1  2191-03-16T00:00:00Z      MAIN               Insulin       Insulin   \n",
       "2  2191-03-16T00:00:00Z      MAIN               Insulin       Insulin   \n",
       "3  2191-03-16T00:00:00Z      MAIN        Vancomycin HCl           NaN   \n",
       "4  2191-03-22T00:00:00Z      BASE                   D5W           NaN   \n",
       "\n",
       "  drug_name_generic formulary_drug_cd     gsn         ndc  \\\n",
       "0               NaN         VANCOBASE     NaN         0.0   \n",
       "1  Insulin Glargine          GLAR100I  047780  88222033.0   \n",
       "2           Insulin           INSULIN  001723         0.0   \n",
       "3               NaN            VANC1F  009329   2735501.0   \n",
       "4               NaN          CLINBASE     NaN         0.0   \n",
       "\n",
       "                                prod_strength dose_val_rx dose_unit_rx  \\\n",
       "0                                   200ml Bag         200           ml   \n",
       "1                                    10mLVial           6         UNIT   \n",
       "2  Dummy Pkg for POE pump and PHA SS ordering           0         UNIT   \n",
       "3                               1GM FROZ. BAG        1000           mg   \n",
       "4                                    50ML BAG          50           ml   \n",
       "\n",
       "  form_val_disp form_unit_disp route  \n",
       "0           200             ml    IV  \n",
       "1         0.006           VIAL    SC  \n",
       "2             0           VIAL    SC  \n",
       "3             1            BAG    IV  \n",
       "4             1            BAG    IV  "
      ],
      "text/html": [
       "<div>\n",
       "<style scoped>\n",
       "    .dataframe tbody tr th:only-of-type {\n",
       "        vertical-align: middle;\n",
       "    }\n",
       "\n",
       "    .dataframe tbody tr th {\n",
       "        vertical-align: top;\n",
       "    }\n",
       "\n",
       "    .dataframe thead th {\n",
       "        text-align: right;\n",
       "    }\n",
       "</style>\n",
       "<table border=\"1\" class=\"dataframe\">\n",
       "  <thead>\n",
       "    <tr style=\"text-align: right;\">\n",
       "      <th></th>\n",
       "      <th>row_id</th>\n",
       "      <th>subject_id</th>\n",
       "      <th>hadm_id</th>\n",
       "      <th>icustay_id</th>\n",
       "      <th>startdate</th>\n",
       "      <th>enddate</th>\n",
       "      <th>drug_type</th>\n",
       "      <th>drug</th>\n",
       "      <th>drug_name_poe</th>\n",
       "      <th>drug_name_generic</th>\n",
       "      <th>formulary_drug_cd</th>\n",
       "      <th>gsn</th>\n",
       "      <th>ndc</th>\n",
       "      <th>prod_strength</th>\n",
       "      <th>dose_val_rx</th>\n",
       "      <th>dose_unit_rx</th>\n",
       "      <th>form_val_disp</th>\n",
       "      <th>form_unit_disp</th>\n",
       "      <th>route</th>\n",
       "    </tr>\n",
       "  </thead>\n",
       "  <tbody>\n",
       "    <tr>\n",
       "      <th>0</th>\n",
       "      <td>1213111</td>\n",
       "      <td>4</td>\n",
       "      <td>185777</td>\n",
       "      <td>294638.0</td>\n",
       "      <td>2191-03-16T00:00:00Z</td>\n",
       "      <td>2191-03-16T00:00:00Z</td>\n",
       "      <td>BASE</td>\n",
       "      <td>Iso-Osmotic Dextrose</td>\n",
       "      <td>NaN</td>\n",
       "      <td>NaN</td>\n",
       "      <td>VANCOBASE</td>\n",
       "      <td>NaN</td>\n",
       "      <td>0.0</td>\n",
       "      <td>200ml Bag</td>\n",
       "      <td>200</td>\n",
       "      <td>ml</td>\n",
       "      <td>200</td>\n",
       "      <td>ml</td>\n",
       "      <td>IV</td>\n",
       "    </tr>\n",
       "    <tr>\n",
       "      <th>1</th>\n",
       "      <td>1213827</td>\n",
       "      <td>4</td>\n",
       "      <td>185777</td>\n",
       "      <td>294638.0</td>\n",
       "      <td>2191-03-16T00:00:00Z</td>\n",
       "      <td>2191-03-16T00:00:00Z</td>\n",
       "      <td>MAIN</td>\n",
       "      <td>Insulin</td>\n",
       "      <td>Insulin</td>\n",
       "      <td>Insulin Glargine</td>\n",
       "      <td>GLAR100I</td>\n",
       "      <td>047780</td>\n",
       "      <td>88222033.0</td>\n",
       "      <td>10mLVial</td>\n",
       "      <td>6</td>\n",
       "      <td>UNIT</td>\n",
       "      <td>0.006</td>\n",
       "      <td>VIAL</td>\n",
       "      <td>SC</td>\n",
       "    </tr>\n",
       "    <tr>\n",
       "      <th>2</th>\n",
       "      <td>1213826</td>\n",
       "      <td>4</td>\n",
       "      <td>185777</td>\n",
       "      <td>294638.0</td>\n",
       "      <td>2191-03-16T00:00:00Z</td>\n",
       "      <td>2191-03-16T00:00:00Z</td>\n",
       "      <td>MAIN</td>\n",
       "      <td>Insulin</td>\n",
       "      <td>Insulin</td>\n",
       "      <td>Insulin</td>\n",
       "      <td>INSULIN</td>\n",
       "      <td>001723</td>\n",
       "      <td>0.0</td>\n",
       "      <td>Dummy Pkg for POE pump and PHA SS ordering</td>\n",
       "      <td>0</td>\n",
       "      <td>UNIT</td>\n",
       "      <td>0</td>\n",
       "      <td>VIAL</td>\n",
       "      <td>SC</td>\n",
       "    </tr>\n",
       "    <tr>\n",
       "      <th>3</th>\n",
       "      <td>1213117</td>\n",
       "      <td>4</td>\n",
       "      <td>185777</td>\n",
       "      <td>294638.0</td>\n",
       "      <td>2191-03-16T00:00:00Z</td>\n",
       "      <td>2191-03-16T00:00:00Z</td>\n",
       "      <td>MAIN</td>\n",
       "      <td>Vancomycin HCl</td>\n",
       "      <td>NaN</td>\n",
       "      <td>NaN</td>\n",
       "      <td>VANC1F</td>\n",
       "      <td>009329</td>\n",
       "      <td>2735501.0</td>\n",
       "      <td>1GM FROZ. BAG</td>\n",
       "      <td>1000</td>\n",
       "      <td>mg</td>\n",
       "      <td>1</td>\n",
       "      <td>BAG</td>\n",
       "      <td>IV</td>\n",
       "    </tr>\n",
       "    <tr>\n",
       "      <th>4</th>\n",
       "      <td>1213110</td>\n",
       "      <td>4</td>\n",
       "      <td>185777</td>\n",
       "      <td>294638.0</td>\n",
       "      <td>2191-03-16T00:00:00Z</td>\n",
       "      <td>2191-03-22T00:00:00Z</td>\n",
       "      <td>BASE</td>\n",
       "      <td>D5W</td>\n",
       "      <td>NaN</td>\n",
       "      <td>NaN</td>\n",
       "      <td>CLINBASE</td>\n",
       "      <td>NaN</td>\n",
       "      <td>0.0</td>\n",
       "      <td>50ML BAG</td>\n",
       "      <td>50</td>\n",
       "      <td>ml</td>\n",
       "      <td>1</td>\n",
       "      <td>BAG</td>\n",
       "      <td>IV</td>\n",
       "    </tr>\n",
       "  </tbody>\n",
       "</table>\n",
       "</div>"
      ]
     },
     "metadata": {},
     "output_type": "display_data"
    }
   ],
   "execution_count": 69
  },
  {
   "metadata": {
    "ExecuteTime": {
     "end_time": "2024-10-31T17:53:04.344958Z",
     "start_time": "2024-10-31T17:53:04.325099Z"
    }
   },
   "cell_type": "code",
   "source": [
    "def get_prescription_feature(prescription_df, target, shock_labels):\n",
    "    filtered_data = prescription_df[prescription_df['drug']==target]\n",
    "    merged_data = shock_labels.merge(filtered_data, on=['subject_id', 'hadm_id'], how='left')\n",
    "\n",
    "    ## filter for blood culture results obtained prior to predict time of septic shock \n",
    "    merged_data = merged_data[merged_data['startdate']<merged_data['index_time']]\n",
    "    merged_data = merged_data.groupby('subject_id').nunique().reset_index()\n",
    "    merged_data = merged_data[['subject_id', 'dose_val_rx']]\n",
    "    merged_data = merged_data.rename(columns={'dose_val_rx':f'{target}_prescribed_count'})\n",
    "\n",
    "    return merged_data"
   ],
   "outputs": [],
   "execution_count": 70
  },
  {
   "metadata": {
    "ExecuteTime": {
     "end_time": "2024-10-31T17:53:04.499946Z",
     "start_time": "2024-10-31T17:53:04.462472Z"
    }
   },
   "cell_type": "code",
   "source": [
    "norepinephrine_feature = get_prescription_feature(prescription_df, 'Norepinephrine', shock_labels)\n",
    "display(norepinephrine_feature.head(5))"
   ],
   "outputs": [
    {
     "data": {
      "text/plain": [
       "   subject_id  Norepinephrine_prescribed_count\n",
       "0          21                                1\n",
       "1          25                                1\n",
       "2          62                                1\n",
       "3         106                                1\n",
       "4         112                                1"
      ],
      "text/html": [
       "<div>\n",
       "<style scoped>\n",
       "    .dataframe tbody tr th:only-of-type {\n",
       "        vertical-align: middle;\n",
       "    }\n",
       "\n",
       "    .dataframe tbody tr th {\n",
       "        vertical-align: top;\n",
       "    }\n",
       "\n",
       "    .dataframe thead th {\n",
       "        text-align: right;\n",
       "    }\n",
       "</style>\n",
       "<table border=\"1\" class=\"dataframe\">\n",
       "  <thead>\n",
       "    <tr style=\"text-align: right;\">\n",
       "      <th></th>\n",
       "      <th>subject_id</th>\n",
       "      <th>Norepinephrine_prescribed_count</th>\n",
       "    </tr>\n",
       "  </thead>\n",
       "  <tbody>\n",
       "    <tr>\n",
       "      <th>0</th>\n",
       "      <td>21</td>\n",
       "      <td>1</td>\n",
       "    </tr>\n",
       "    <tr>\n",
       "      <th>1</th>\n",
       "      <td>25</td>\n",
       "      <td>1</td>\n",
       "    </tr>\n",
       "    <tr>\n",
       "      <th>2</th>\n",
       "      <td>62</td>\n",
       "      <td>1</td>\n",
       "    </tr>\n",
       "    <tr>\n",
       "      <th>3</th>\n",
       "      <td>106</td>\n",
       "      <td>1</td>\n",
       "    </tr>\n",
       "    <tr>\n",
       "      <th>4</th>\n",
       "      <td>112</td>\n",
       "      <td>1</td>\n",
       "    </tr>\n",
       "  </tbody>\n",
       "</table>\n",
       "</div>"
      ]
     },
     "metadata": {},
     "output_type": "display_data"
    }
   ],
   "execution_count": 71
  },
  {
   "metadata": {
    "ExecuteTime": {
     "end_time": "2024-10-31T17:53:04.752292Z",
     "start_time": "2024-10-31T17:53:04.717323Z"
    }
   },
   "cell_type": "code",
   "source": [
    "vasopressin_feature = get_prescription_feature(prescription_df, 'Vasopressin', shock_labels)\n",
    "display(vasopressin_feature.head(5))"
   ],
   "outputs": [
    {
     "data": {
      "text/plain": [
       "   subject_id  Vasopressin_prescribed_count\n",
       "0          62                             1\n",
       "1         112                             1\n",
       "2         156                             1\n",
       "3         164                             1\n",
       "4         213                             1"
      ],
      "text/html": [
       "<div>\n",
       "<style scoped>\n",
       "    .dataframe tbody tr th:only-of-type {\n",
       "        vertical-align: middle;\n",
       "    }\n",
       "\n",
       "    .dataframe tbody tr th {\n",
       "        vertical-align: top;\n",
       "    }\n",
       "\n",
       "    .dataframe thead th {\n",
       "        text-align: right;\n",
       "    }\n",
       "</style>\n",
       "<table border=\"1\" class=\"dataframe\">\n",
       "  <thead>\n",
       "    <tr style=\"text-align: right;\">\n",
       "      <th></th>\n",
       "      <th>subject_id</th>\n",
       "      <th>Vasopressin_prescribed_count</th>\n",
       "    </tr>\n",
       "  </thead>\n",
       "  <tbody>\n",
       "    <tr>\n",
       "      <th>0</th>\n",
       "      <td>62</td>\n",
       "      <td>1</td>\n",
       "    </tr>\n",
       "    <tr>\n",
       "      <th>1</th>\n",
       "      <td>112</td>\n",
       "      <td>1</td>\n",
       "    </tr>\n",
       "    <tr>\n",
       "      <th>2</th>\n",
       "      <td>156</td>\n",
       "      <td>1</td>\n",
       "    </tr>\n",
       "    <tr>\n",
       "      <th>3</th>\n",
       "      <td>164</td>\n",
       "      <td>1</td>\n",
       "    </tr>\n",
       "    <tr>\n",
       "      <th>4</th>\n",
       "      <td>213</td>\n",
       "      <td>1</td>\n",
       "    </tr>\n",
       "  </tbody>\n",
       "</table>\n",
       "</div>"
      ]
     },
     "metadata": {},
     "output_type": "display_data"
    }
   ],
   "execution_count": 72
  },
  {
   "metadata": {
    "ExecuteTime": {
     "end_time": "2024-10-31T17:53:05.058253Z",
     "start_time": "2024-10-31T17:53:05.004537Z"
    }
   },
   "cell_type": "code",
   "source": [
    "insulin_feature = get_prescription_feature(prescription_df, 'Insulin', shock_labels)\n",
    "display(insulin_feature.head(5))"
   ],
   "outputs": [
    {
     "data": {
      "text/plain": [
       "   subject_id  Insulin_prescribed_count\n",
       "0           4                         2\n",
       "1           6                         1\n",
       "2           9                         1\n",
       "3          11                         1\n",
       "4          13                         1"
      ],
      "text/html": [
       "<div>\n",
       "<style scoped>\n",
       "    .dataframe tbody tr th:only-of-type {\n",
       "        vertical-align: middle;\n",
       "    }\n",
       "\n",
       "    .dataframe tbody tr th {\n",
       "        vertical-align: top;\n",
       "    }\n",
       "\n",
       "    .dataframe thead th {\n",
       "        text-align: right;\n",
       "    }\n",
       "</style>\n",
       "<table border=\"1\" class=\"dataframe\">\n",
       "  <thead>\n",
       "    <tr style=\"text-align: right;\">\n",
       "      <th></th>\n",
       "      <th>subject_id</th>\n",
       "      <th>Insulin_prescribed_count</th>\n",
       "    </tr>\n",
       "  </thead>\n",
       "  <tbody>\n",
       "    <tr>\n",
       "      <th>0</th>\n",
       "      <td>4</td>\n",
       "      <td>2</td>\n",
       "    </tr>\n",
       "    <tr>\n",
       "      <th>1</th>\n",
       "      <td>6</td>\n",
       "      <td>1</td>\n",
       "    </tr>\n",
       "    <tr>\n",
       "      <th>2</th>\n",
       "      <td>9</td>\n",
       "      <td>1</td>\n",
       "    </tr>\n",
       "    <tr>\n",
       "      <th>3</th>\n",
       "      <td>11</td>\n",
       "      <td>1</td>\n",
       "    </tr>\n",
       "    <tr>\n",
       "      <th>4</th>\n",
       "      <td>13</td>\n",
       "      <td>1</td>\n",
       "    </tr>\n",
       "  </tbody>\n",
       "</table>\n",
       "</div>"
      ]
     },
     "metadata": {},
     "output_type": "display_data"
    }
   ],
   "execution_count": 73
  },
  {
   "metadata": {
    "ExecuteTime": {
     "end_time": "2024-10-31T17:53:05.296277Z",
     "start_time": "2024-10-31T17:53:05.271286Z"
    }
   },
   "cell_type": "code",
   "source": [
    "# create prescription_feature\n",
    "prescription_feature_df = norepinephrine_feature.merge(vasopressin_feature, on=['subject_id'], how='outer')\n",
    "prescription_feature_df = prescription_feature_df.merge(insulin_feature, on=['subject_id'], how='outer')\n",
    "\n",
    "display(prescription_feature_df.head(5))"
   ],
   "outputs": [
    {
     "data": {
      "text/plain": [
       "   subject_id  Norepinephrine_prescribed_count  Vasopressin_prescribed_count  \\\n",
       "0          21                              1.0                           NaN   \n",
       "1          25                              1.0                           NaN   \n",
       "2          62                              1.0                           1.0   \n",
       "3         106                              1.0                           NaN   \n",
       "4         112                              1.0                           1.0   \n",
       "\n",
       "   Insulin_prescribed_count  \n",
       "0                       2.0  \n",
       "1                       NaN  \n",
       "2                       NaN  \n",
       "3                       NaN  \n",
       "4                       NaN  "
      ],
      "text/html": [
       "<div>\n",
       "<style scoped>\n",
       "    .dataframe tbody tr th:only-of-type {\n",
       "        vertical-align: middle;\n",
       "    }\n",
       "\n",
       "    .dataframe tbody tr th {\n",
       "        vertical-align: top;\n",
       "    }\n",
       "\n",
       "    .dataframe thead th {\n",
       "        text-align: right;\n",
       "    }\n",
       "</style>\n",
       "<table border=\"1\" class=\"dataframe\">\n",
       "  <thead>\n",
       "    <tr style=\"text-align: right;\">\n",
       "      <th></th>\n",
       "      <th>subject_id</th>\n",
       "      <th>Norepinephrine_prescribed_count</th>\n",
       "      <th>Vasopressin_prescribed_count</th>\n",
       "      <th>Insulin_prescribed_count</th>\n",
       "    </tr>\n",
       "  </thead>\n",
       "  <tbody>\n",
       "    <tr>\n",
       "      <th>0</th>\n",
       "      <td>21</td>\n",
       "      <td>1.0</td>\n",
       "      <td>NaN</td>\n",
       "      <td>2.0</td>\n",
       "    </tr>\n",
       "    <tr>\n",
       "      <th>1</th>\n",
       "      <td>25</td>\n",
       "      <td>1.0</td>\n",
       "      <td>NaN</td>\n",
       "      <td>NaN</td>\n",
       "    </tr>\n",
       "    <tr>\n",
       "      <th>2</th>\n",
       "      <td>62</td>\n",
       "      <td>1.0</td>\n",
       "      <td>1.0</td>\n",
       "      <td>NaN</td>\n",
       "    </tr>\n",
       "    <tr>\n",
       "      <th>3</th>\n",
       "      <td>106</td>\n",
       "      <td>1.0</td>\n",
       "      <td>NaN</td>\n",
       "      <td>NaN</td>\n",
       "    </tr>\n",
       "    <tr>\n",
       "      <th>4</th>\n",
       "      <td>112</td>\n",
       "      <td>1.0</td>\n",
       "      <td>1.0</td>\n",
       "      <td>NaN</td>\n",
       "    </tr>\n",
       "  </tbody>\n",
       "</table>\n",
       "</div>"
      ]
     },
     "metadata": {},
     "output_type": "display_data"
    }
   ],
   "execution_count": 74
  },
  {
   "metadata": {},
   "cell_type": "markdown",
   "source": [
    "<span><h3> Feature 5 - ICU Stay</he><span>\n",
    "* Target table: `icustays_additional.csv`\n",
    "* The selected cohort all underwent septic shock during their admission to the ICU as defined in assignment 3. For patients with repeated ICU admission in this cohort, they may be more susceptible to septic shock in a future admission, and time they spent in ICUs may also relate with their septic shock onset time after admission.\n",
    "We calculate the averaged number of ICU stays per admission and the averaged time spent per admission (in fractional days) in ICUs for these patients."
   ]
  },
  {
   "metadata": {
    "ExecuteTime": {
     "end_time": "2024-10-31T17:53:05.534600Z",
     "start_time": "2024-10-31T17:53:05.509751Z"
    }
   },
   "cell_type": "code",
   "source": [
    "file_name = \"icustays_additional.csv\"\n",
    "icustays_additional = pd.read_csv(os.path.join(data_dir, \"additional_data\", file_name))"
   ],
   "outputs": [],
   "execution_count": 75
  },
  {
   "metadata": {
    "ExecuteTime": {
     "end_time": "2024-10-31T17:53:05.626781Z",
     "start_time": "2024-10-31T17:53:05.606880Z"
    }
   },
   "cell_type": "code",
   "source": [
    "def get_icustays_features(icustays):\n",
    "    icustays_additional = icustays.copy()\n",
    "    icustays_avg = pd.pivot_table(icustays_additional, values=['icustay_id', 'los'], index=['subject_id', 'hadm_id'],\n",
    "                                  aggfunc={'icustay_id': \"count\", 'los': \"mean\"}).reset_index()\n",
    "    icustays_avg = pd.pivot_table(icustays_avg, values=['icustay_id', 'los'], index=['subject_id'],\n",
    "                                  aggfunc={'icustay_id': \"mean\", 'los': \"mean\"}).reset_index()\n",
    "    icustays_avg.rename(columns={'icustay_id':'icustay_avg_count', 'los':'los_avg'}, inplace=True)\n",
    "\n",
    "    return icustays_avg"
   ],
   "outputs": [],
   "execution_count": 76
  },
  {
   "metadata": {
    "ExecuteTime": {
     "end_time": "2024-10-31T17:53:05.890512Z",
     "start_time": "2024-10-31T17:53:05.863394Z"
    }
   },
   "cell_type": "code",
   "source": [
    "icustays_feature = get_icustays_features(icustays_additional)\n",
    "display(icustays_feature.head(5))"
   ],
   "outputs": [
    {
     "data": {
      "text/plain": [
       "   subject_id  icustay_avg_count  los_avg\n",
       "0           3                1.0   6.0646\n",
       "1           4                1.0   1.6785\n",
       "2           6                1.0   3.6729\n",
       "3           9                1.0   5.3231\n",
       "4          11                1.0   1.5844"
      ],
      "text/html": [
       "<div>\n",
       "<style scoped>\n",
       "    .dataframe tbody tr th:only-of-type {\n",
       "        vertical-align: middle;\n",
       "    }\n",
       "\n",
       "    .dataframe tbody tr th {\n",
       "        vertical-align: top;\n",
       "    }\n",
       "\n",
       "    .dataframe thead th {\n",
       "        text-align: right;\n",
       "    }\n",
       "</style>\n",
       "<table border=\"1\" class=\"dataframe\">\n",
       "  <thead>\n",
       "    <tr style=\"text-align: right;\">\n",
       "      <th></th>\n",
       "      <th>subject_id</th>\n",
       "      <th>icustay_avg_count</th>\n",
       "      <th>los_avg</th>\n",
       "    </tr>\n",
       "  </thead>\n",
       "  <tbody>\n",
       "    <tr>\n",
       "      <th>0</th>\n",
       "      <td>3</td>\n",
       "      <td>1.0</td>\n",
       "      <td>6.0646</td>\n",
       "    </tr>\n",
       "    <tr>\n",
       "      <th>1</th>\n",
       "      <td>4</td>\n",
       "      <td>1.0</td>\n",
       "      <td>1.6785</td>\n",
       "    </tr>\n",
       "    <tr>\n",
       "      <th>2</th>\n",
       "      <td>6</td>\n",
       "      <td>1.0</td>\n",
       "      <td>3.6729</td>\n",
       "    </tr>\n",
       "    <tr>\n",
       "      <th>3</th>\n",
       "      <td>9</td>\n",
       "      <td>1.0</td>\n",
       "      <td>5.3231</td>\n",
       "    </tr>\n",
       "    <tr>\n",
       "      <th>4</th>\n",
       "      <td>11</td>\n",
       "      <td>1.0</td>\n",
       "      <td>1.5844</td>\n",
       "    </tr>\n",
       "  </tbody>\n",
       "</table>\n",
       "</div>"
      ]
     },
     "metadata": {},
     "output_type": "display_data"
    }
   ],
   "execution_count": 77
  },
  {
   "metadata": {},
   "cell_type": "markdown",
   "source": [
    "<span><h3>Combine features</h3></span>\n",
    "* Missing values in vital sign features are filled with their respective column means. Similarly, missing age values are replaced with the mean age of the population, since an age of 0 would be incorrect and misleading.\n",
    "* All other features are filled with 0 at NaN locations."
   ]
  },
  {
   "metadata": {
    "ExecuteTime": {
     "end_time": "2024-10-31T17:53:06.063325Z",
     "start_time": "2024-10-31T17:53:06.032352Z"
    }
   },
   "cell_type": "code",
   "source": [
    "## New features: age_feature, icustays_feature, sysbp_features, temp_features, resp_features, micro_blood_feature, micro_urine_feature, prescrip_feature\n",
    "all_subject_ids = pd.DataFrame(shock_labels['subject_id'])\n",
    "new_features_fillzero = all_subject_ids.merge(icustays_feature, how='left', on='subject_id')\n",
    "new_features_fillzero = new_features_fillzero.merge(blood_feature, how='left', on='subject_id')\n",
    "new_features_fillzero = new_features_fillzero.merge(urine_feature, how='left', on='subject_id')\n",
    "new_features_fillzero = new_features_fillzero.merge(prescription_feature_df, how='left', on='subject_id')\n",
    "new_features_fillzero = new_features_fillzero.fillna(0)\n",
    "\n",
    "display(new_features_fillzero.head(5))"
   ],
   "outputs": [
    {
     "data": {
      "text/plain": [
       "   subject_id  icustay_avg_count  los_avg  pos_BLOOD CULTURE_count  \\\n",
       "0           4                1.0   1.6785                      0.0   \n",
       "1           6                1.0   3.6729                      0.0   \n",
       "2           9                1.0   5.3231                      0.0   \n",
       "3          11                1.0   1.5844                      0.0   \n",
       "4          12                1.0   7.6348                      0.0   \n",
       "\n",
       "   pos_URINE_count  Norepinephrine_prescribed_count  \\\n",
       "0              0.0                              0.0   \n",
       "1              0.0                              0.0   \n",
       "2              0.0                              0.0   \n",
       "3              0.0                              0.0   \n",
       "4              0.0                              0.0   \n",
       "\n",
       "   Vasopressin_prescribed_count  Insulin_prescribed_count  \n",
       "0                           0.0                       2.0  \n",
       "1                           0.0                       1.0  \n",
       "2                           0.0                       1.0  \n",
       "3                           0.0                       1.0  \n",
       "4                           0.0                       0.0  "
      ],
      "text/html": [
       "<div>\n",
       "<style scoped>\n",
       "    .dataframe tbody tr th:only-of-type {\n",
       "        vertical-align: middle;\n",
       "    }\n",
       "\n",
       "    .dataframe tbody tr th {\n",
       "        vertical-align: top;\n",
       "    }\n",
       "\n",
       "    .dataframe thead th {\n",
       "        text-align: right;\n",
       "    }\n",
       "</style>\n",
       "<table border=\"1\" class=\"dataframe\">\n",
       "  <thead>\n",
       "    <tr style=\"text-align: right;\">\n",
       "      <th></th>\n",
       "      <th>subject_id</th>\n",
       "      <th>icustay_avg_count</th>\n",
       "      <th>los_avg</th>\n",
       "      <th>pos_BLOOD CULTURE_count</th>\n",
       "      <th>pos_URINE_count</th>\n",
       "      <th>Norepinephrine_prescribed_count</th>\n",
       "      <th>Vasopressin_prescribed_count</th>\n",
       "      <th>Insulin_prescribed_count</th>\n",
       "    </tr>\n",
       "  </thead>\n",
       "  <tbody>\n",
       "    <tr>\n",
       "      <th>0</th>\n",
       "      <td>4</td>\n",
       "      <td>1.0</td>\n",
       "      <td>1.6785</td>\n",
       "      <td>0.0</td>\n",
       "      <td>0.0</td>\n",
       "      <td>0.0</td>\n",
       "      <td>0.0</td>\n",
       "      <td>2.0</td>\n",
       "    </tr>\n",
       "    <tr>\n",
       "      <th>1</th>\n",
       "      <td>6</td>\n",
       "      <td>1.0</td>\n",
       "      <td>3.6729</td>\n",
       "      <td>0.0</td>\n",
       "      <td>0.0</td>\n",
       "      <td>0.0</td>\n",
       "      <td>0.0</td>\n",
       "      <td>1.0</td>\n",
       "    </tr>\n",
       "    <tr>\n",
       "      <th>2</th>\n",
       "      <td>9</td>\n",
       "      <td>1.0</td>\n",
       "      <td>5.3231</td>\n",
       "      <td>0.0</td>\n",
       "      <td>0.0</td>\n",
       "      <td>0.0</td>\n",
       "      <td>0.0</td>\n",
       "      <td>1.0</td>\n",
       "    </tr>\n",
       "    <tr>\n",
       "      <th>3</th>\n",
       "      <td>11</td>\n",
       "      <td>1.0</td>\n",
       "      <td>1.5844</td>\n",
       "      <td>0.0</td>\n",
       "      <td>0.0</td>\n",
       "      <td>0.0</td>\n",
       "      <td>0.0</td>\n",
       "      <td>1.0</td>\n",
       "    </tr>\n",
       "    <tr>\n",
       "      <th>4</th>\n",
       "      <td>12</td>\n",
       "      <td>1.0</td>\n",
       "      <td>7.6348</td>\n",
       "      <td>0.0</td>\n",
       "      <td>0.0</td>\n",
       "      <td>0.0</td>\n",
       "      <td>0.0</td>\n",
       "      <td>0.0</td>\n",
       "    </tr>\n",
       "  </tbody>\n",
       "</table>\n",
       "</div>"
      ]
     },
     "metadata": {},
     "output_type": "display_data"
    }
   ],
   "execution_count": 78
  },
  {
   "metadata": {
    "ExecuteTime": {
     "end_time": "2024-10-31T17:53:06.347573Z",
     "start_time": "2024-10-31T17:53:06.315980Z"
    }
   },
   "cell_type": "code",
   "source": [
    "all_subject_ids = pd.DataFrame(shock_labels['subject_id'])\n",
    "new_features_fillmean = all_subject_ids.merge(feature_age, how='left', on='subject_id')\n",
    "new_features_fillmean = new_features_fillmean.merge(temperature_feature, how='left', on='subject_id')\n",
    "new_features_fillmean = new_features_fillmean.merge(sysbp_features, how='left', on='subject_id')\n",
    "\n",
    "feature_cols = [x for x in new_features_fillmean.columns if x != 'subject_id']\n",
    "new_features_fillmean[feature_cols] = new_features_fillmean[feature_cols].fillna(new_features_fillmean[feature_cols].mean())\n",
    "\n",
    "display(new_features_fillmean.head(5))"
   ],
   "outputs": [
    {
     "data": {
      "text/plain": [
       "   subject_id  age  latest_temperature  time_wt_avg_temperature  latest_sysbp  \\\n",
       "0           4   47           36.730994                36.732153    118.641026   \n",
       "1           6   65           36.730994                36.732153    118.641026   \n",
       "2           9   41           36.730994                36.732153    118.641026   \n",
       "3          11   50           36.730994                36.732153    118.641026   \n",
       "4          12   72           36.730994                36.732153    118.641026   \n",
       "\n",
       "   time_wt_avg_sysbp  \n",
       "0         117.993705  \n",
       "1         117.993705  \n",
       "2         117.993705  \n",
       "3         117.993705  \n",
       "4         117.993705  "
      ],
      "text/html": [
       "<div>\n",
       "<style scoped>\n",
       "    .dataframe tbody tr th:only-of-type {\n",
       "        vertical-align: middle;\n",
       "    }\n",
       "\n",
       "    .dataframe tbody tr th {\n",
       "        vertical-align: top;\n",
       "    }\n",
       "\n",
       "    .dataframe thead th {\n",
       "        text-align: right;\n",
       "    }\n",
       "</style>\n",
       "<table border=\"1\" class=\"dataframe\">\n",
       "  <thead>\n",
       "    <tr style=\"text-align: right;\">\n",
       "      <th></th>\n",
       "      <th>subject_id</th>\n",
       "      <th>age</th>\n",
       "      <th>latest_temperature</th>\n",
       "      <th>time_wt_avg_temperature</th>\n",
       "      <th>latest_sysbp</th>\n",
       "      <th>time_wt_avg_sysbp</th>\n",
       "    </tr>\n",
       "  </thead>\n",
       "  <tbody>\n",
       "    <tr>\n",
       "      <th>0</th>\n",
       "      <td>4</td>\n",
       "      <td>47</td>\n",
       "      <td>36.730994</td>\n",
       "      <td>36.732153</td>\n",
       "      <td>118.641026</td>\n",
       "      <td>117.993705</td>\n",
       "    </tr>\n",
       "    <tr>\n",
       "      <th>1</th>\n",
       "      <td>6</td>\n",
       "      <td>65</td>\n",
       "      <td>36.730994</td>\n",
       "      <td>36.732153</td>\n",
       "      <td>118.641026</td>\n",
       "      <td>117.993705</td>\n",
       "    </tr>\n",
       "    <tr>\n",
       "      <th>2</th>\n",
       "      <td>9</td>\n",
       "      <td>41</td>\n",
       "      <td>36.730994</td>\n",
       "      <td>36.732153</td>\n",
       "      <td>118.641026</td>\n",
       "      <td>117.993705</td>\n",
       "    </tr>\n",
       "    <tr>\n",
       "      <th>3</th>\n",
       "      <td>11</td>\n",
       "      <td>50</td>\n",
       "      <td>36.730994</td>\n",
       "      <td>36.732153</td>\n",
       "      <td>118.641026</td>\n",
       "      <td>117.993705</td>\n",
       "    </tr>\n",
       "    <tr>\n",
       "      <th>4</th>\n",
       "      <td>12</td>\n",
       "      <td>72</td>\n",
       "      <td>36.730994</td>\n",
       "      <td>36.732153</td>\n",
       "      <td>118.641026</td>\n",
       "      <td>117.993705</td>\n",
       "    </tr>\n",
       "  </tbody>\n",
       "</table>\n",
       "</div>"
      ]
     },
     "metadata": {},
     "output_type": "display_data"
    }
   ],
   "execution_count": 79
  },
  {
   "metadata": {
    "ExecuteTime": {
     "end_time": "2024-10-31T17:53:06.420504Z",
     "start_time": "2024-10-31T17:53:06.399805Z"
    }
   },
   "cell_type": "code",
   "source": [
    "new_features = new_features_fillmean.merge(new_features_fillzero, on=['subject_id'], how='inner')\n",
    "new_features.shape[1]-1"
   ],
   "outputs": [
    {
     "data": {
      "text/plain": [
       "12"
      ]
     },
     "execution_count": 80,
     "metadata": {},
     "output_type": "execute_result"
    }
   ],
   "execution_count": 80
  },
  {
   "metadata": {},
   "cell_type": "markdown",
   "source": "12 new features were added"
  },
  {
   "metadata": {
    "ExecuteTime": {
     "end_time": "2024-10-31T17:53:06.807215Z",
     "start_time": "2024-10-31T17:53:06.676722Z"
    }
   },
   "cell_type": "code",
   "source": [
    "all_features = new_features.merge(joined, on=['subject_id'], how='inner')\n",
    "display(all_features.head(5))"
   ],
   "outputs": [
    {
     "data": {
      "text/plain": [
       "   subject_id  age  latest_temperature  time_wt_avg_temperature  latest_sysbp  \\\n",
       "0           4   47           36.730994                36.732153    118.641026   \n",
       "1           9   41           36.730994                36.732153    118.641026   \n",
       "2          11   50           36.730994                36.732153    118.641026   \n",
       "3          13   39           36.730994                36.732153    118.641026   \n",
       "4          17   47           36.730994                36.732153    118.641026   \n",
       "\n",
       "   time_wt_avg_sysbp  icustay_avg_count  los_avg  pos_BLOOD CULTURE_count  \\\n",
       "0         117.993705                1.0  1.67850                      0.0   \n",
       "1         117.993705                1.0  5.32310                      0.0   \n",
       "2         117.993705                1.0  1.58440                      0.0   \n",
       "3         117.993705                1.0  3.66600                      0.0   \n",
       "4         117.993705                1.0  1.47525                      0.0   \n",
       "\n",
       "   pos_URINE_count  ...  C3661983  C3661986  C3661988  C3661989  C3662261  \\\n",
       "0              0.0  ...       0.0       0.0       0.0       0.0       0.0   \n",
       "1              0.0  ...       0.0       0.0       0.0       0.0       0.0   \n",
       "2              0.0  ...       0.0       0.0       0.0       0.0       0.0   \n",
       "3              0.0  ...       0.0       0.0       0.0       0.0       0.0   \n",
       "4              0.0  ...       1.0       1.0       1.0       1.0       0.0   \n",
       "\n",
       "   C3697558  C3872830  C3875321  latest_heart_rate  time_wt_avg  \n",
       "0       0.0       0.0       0.0               86.0    86.842680  \n",
       "1       0.0       0.0       0.0               92.0    92.023891  \n",
       "2       0.0       0.0       0.0               78.0    81.771659  \n",
       "3       0.0       0.0       0.0               62.0    62.246801  \n",
       "4       1.0       0.0       0.0              109.0   108.420860  \n",
       "\n",
       "[5 rows x 1076 columns]"
      ],
      "text/html": [
       "<div>\n",
       "<style scoped>\n",
       "    .dataframe tbody tr th:only-of-type {\n",
       "        vertical-align: middle;\n",
       "    }\n",
       "\n",
       "    .dataframe tbody tr th {\n",
       "        vertical-align: top;\n",
       "    }\n",
       "\n",
       "    .dataframe thead th {\n",
       "        text-align: right;\n",
       "    }\n",
       "</style>\n",
       "<table border=\"1\" class=\"dataframe\">\n",
       "  <thead>\n",
       "    <tr style=\"text-align: right;\">\n",
       "      <th></th>\n",
       "      <th>subject_id</th>\n",
       "      <th>age</th>\n",
       "      <th>latest_temperature</th>\n",
       "      <th>time_wt_avg_temperature</th>\n",
       "      <th>latest_sysbp</th>\n",
       "      <th>time_wt_avg_sysbp</th>\n",
       "      <th>icustay_avg_count</th>\n",
       "      <th>los_avg</th>\n",
       "      <th>pos_BLOOD CULTURE_count</th>\n",
       "      <th>pos_URINE_count</th>\n",
       "      <th>...</th>\n",
       "      <th>C3661983</th>\n",
       "      <th>C3661986</th>\n",
       "      <th>C3661988</th>\n",
       "      <th>C3661989</th>\n",
       "      <th>C3662261</th>\n",
       "      <th>C3697558</th>\n",
       "      <th>C3872830</th>\n",
       "      <th>C3875321</th>\n",
       "      <th>latest_heart_rate</th>\n",
       "      <th>time_wt_avg</th>\n",
       "    </tr>\n",
       "  </thead>\n",
       "  <tbody>\n",
       "    <tr>\n",
       "      <th>0</th>\n",
       "      <td>4</td>\n",
       "      <td>47</td>\n",
       "      <td>36.730994</td>\n",
       "      <td>36.732153</td>\n",
       "      <td>118.641026</td>\n",
       "      <td>117.993705</td>\n",
       "      <td>1.0</td>\n",
       "      <td>1.67850</td>\n",
       "      <td>0.0</td>\n",
       "      <td>0.0</td>\n",
       "      <td>...</td>\n",
       "      <td>0.0</td>\n",
       "      <td>0.0</td>\n",
       "      <td>0.0</td>\n",
       "      <td>0.0</td>\n",
       "      <td>0.0</td>\n",
       "      <td>0.0</td>\n",
       "      <td>0.0</td>\n",
       "      <td>0.0</td>\n",
       "      <td>86.0</td>\n",
       "      <td>86.842680</td>\n",
       "    </tr>\n",
       "    <tr>\n",
       "      <th>1</th>\n",
       "      <td>9</td>\n",
       "      <td>41</td>\n",
       "      <td>36.730994</td>\n",
       "      <td>36.732153</td>\n",
       "      <td>118.641026</td>\n",
       "      <td>117.993705</td>\n",
       "      <td>1.0</td>\n",
       "      <td>5.32310</td>\n",
       "      <td>0.0</td>\n",
       "      <td>0.0</td>\n",
       "      <td>...</td>\n",
       "      <td>0.0</td>\n",
       "      <td>0.0</td>\n",
       "      <td>0.0</td>\n",
       "      <td>0.0</td>\n",
       "      <td>0.0</td>\n",
       "      <td>0.0</td>\n",
       "      <td>0.0</td>\n",
       "      <td>0.0</td>\n",
       "      <td>92.0</td>\n",
       "      <td>92.023891</td>\n",
       "    </tr>\n",
       "    <tr>\n",
       "      <th>2</th>\n",
       "      <td>11</td>\n",
       "      <td>50</td>\n",
       "      <td>36.730994</td>\n",
       "      <td>36.732153</td>\n",
       "      <td>118.641026</td>\n",
       "      <td>117.993705</td>\n",
       "      <td>1.0</td>\n",
       "      <td>1.58440</td>\n",
       "      <td>0.0</td>\n",
       "      <td>0.0</td>\n",
       "      <td>...</td>\n",
       "      <td>0.0</td>\n",
       "      <td>0.0</td>\n",
       "      <td>0.0</td>\n",
       "      <td>0.0</td>\n",
       "      <td>0.0</td>\n",
       "      <td>0.0</td>\n",
       "      <td>0.0</td>\n",
       "      <td>0.0</td>\n",
       "      <td>78.0</td>\n",
       "      <td>81.771659</td>\n",
       "    </tr>\n",
       "    <tr>\n",
       "      <th>3</th>\n",
       "      <td>13</td>\n",
       "      <td>39</td>\n",
       "      <td>36.730994</td>\n",
       "      <td>36.732153</td>\n",
       "      <td>118.641026</td>\n",
       "      <td>117.993705</td>\n",
       "      <td>1.0</td>\n",
       "      <td>3.66600</td>\n",
       "      <td>0.0</td>\n",
       "      <td>0.0</td>\n",
       "      <td>...</td>\n",
       "      <td>0.0</td>\n",
       "      <td>0.0</td>\n",
       "      <td>0.0</td>\n",
       "      <td>0.0</td>\n",
       "      <td>0.0</td>\n",
       "      <td>0.0</td>\n",
       "      <td>0.0</td>\n",
       "      <td>0.0</td>\n",
       "      <td>62.0</td>\n",
       "      <td>62.246801</td>\n",
       "    </tr>\n",
       "    <tr>\n",
       "      <th>4</th>\n",
       "      <td>17</td>\n",
       "      <td>47</td>\n",
       "      <td>36.730994</td>\n",
       "      <td>36.732153</td>\n",
       "      <td>118.641026</td>\n",
       "      <td>117.993705</td>\n",
       "      <td>1.0</td>\n",
       "      <td>1.47525</td>\n",
       "      <td>0.0</td>\n",
       "      <td>0.0</td>\n",
       "      <td>...</td>\n",
       "      <td>1.0</td>\n",
       "      <td>1.0</td>\n",
       "      <td>1.0</td>\n",
       "      <td>1.0</td>\n",
       "      <td>0.0</td>\n",
       "      <td>1.0</td>\n",
       "      <td>0.0</td>\n",
       "      <td>0.0</td>\n",
       "      <td>109.0</td>\n",
       "      <td>108.420860</td>\n",
       "    </tr>\n",
       "  </tbody>\n",
       "</table>\n",
       "<p>5 rows × 1076 columns</p>\n",
       "</div>"
      ]
     },
     "metadata": {},
     "output_type": "display_data"
    }
   ],
   "execution_count": 81
  },
  {
   "cell_type": "code",
   "metadata": {
    "ExecuteTime": {
     "end_time": "2024-10-31T17:54:37.987241Z",
     "start_time": "2024-10-31T17:53:06.826500Z"
    }
   },
   "source": [
    "# TODO: Implement your own model here\n",
    "\n",
    "fit_model(all_features, shock_labels) # TODO: Uncomment this line to run your model once you have implemented it"
   ],
   "outputs": [
    {
     "name": "stderr",
     "output_type": "stream",
     "text": [
      " 20%|██        | 1/5 [00:17<01:08, 17.05s/fold]"
     ]
    },
    {
     "name": "stdout",
     "output_type": "stream",
     "text": [
      "Fold 1 ROC AUC Score: 0.7806\n"
     ]
    },
    {
     "name": "stderr",
     "output_type": "stream",
     "text": [
      " 40%|████      | 2/5 [00:32<00:48, 16.27s/fold]"
     ]
    },
    {
     "name": "stdout",
     "output_type": "stream",
     "text": [
      "Fold 1 ROC AUC Score: 0.6223\n"
     ]
    },
    {
     "name": "stderr",
     "output_type": "stream",
     "text": [
      " 60%|██████    | 3/5 [00:55<00:38, 19.23s/fold]"
     ]
    },
    {
     "name": "stdout",
     "output_type": "stream",
     "text": [
      "Fold 1 ROC AUC Score: 0.6515\n"
     ]
    },
    {
     "name": "stderr",
     "output_type": "stream",
     "text": [
      " 80%|████████  | 4/5 [01:17<00:20, 20.33s/fold]"
     ]
    },
    {
     "name": "stdout",
     "output_type": "stream",
     "text": [
      "Fold 1 ROC AUC Score: 0.6417\n"
     ]
    },
    {
     "name": "stderr",
     "output_type": "stream",
     "text": [
      "100%|██████████| 5/5 [01:31<00:00, 18.21s/fold]"
     ]
    },
    {
     "name": "stdout",
     "output_type": "stream",
     "text": [
      "Fold 1 ROC AUC Score: 0.8100\n",
      "Mean ROC AUC Score: 0.7012324691882703\n"
     ]
    },
    {
     "name": "stderr",
     "output_type": "stream",
     "text": [
      "\n"
     ]
    }
   ],
   "execution_count": 82
  },
  {
   "cell_type": "markdown",
   "metadata": {},
   "source": [
    "**Write 1-2 paragraphs discussing what and how many features you derived. Additionally, discuss the effects of those features on the performance of the classifier.**"
   ]
  },
  {
   "cell_type": "markdown",
   "metadata": {},
   "source": [
    " <span style=\"color:blue;\">\n",
    "In part 1 and part 2 of this assigment, we developed the features based on the following:\n",
    "\n",
    "* Count of past diagnosis code in 6 months prior index time using the highly specific ICD-9 codes with IC between 4 - 9 (inclusive)\n",
    "* using `Notes` to search terms related to inflammatory disorder with current admission notes\n",
    "* Using `Vitals` to get the latest heart rates for a patient and tie weighted the heart rate among all admission for the patient \n",
    "\n",
    "Using these features, the mean ROC AUC score was 0.5389.\n",
    "\n",
    "To develop predictive features, I leveraged established clinical knowledge about sepsis diagnosis and treatment, focusing on indicators that provide the most specific and meaningful signals for septic shock prediction. These features were engineered using the following clinical criteria (with detailed calculations provided in the sections above):\n",
    "\n",
    "* Age: Given that populations with compromised immune systems, particularly newborns and the elderly, face higher risks of developing sepsis and septic shock, this feature captures the patient's age at the time of admission when shock_label was determined\n",
    "\n",
    "* Related vitals: Beyond heart rate, there are several vital signs serve as indicators of impending septic shock, including temperature abnormalities and blood pressure fluctuations. We therefore engineered features capturing both the latest measurements and time-weighted values of body temperature and systolic blood pressure leading up to the index time.\n",
    "\n",
    "* Related microbial test results: Since sepsis represents an extreme immune response to infection, microbial infection data can be valuable predictors of septic shock. We therefore developed features that count distinct infectious organisms identified in blood and urine cultures.\n",
    "\n",
    "* Prescription: Key medications in sepsis treatment include vasopressors (vasopressin/norepinephrine) for maintaining organ perfusion and insulin for managing stress-induced hyperglycemia. We developed features that calculate the mean prescription frequency of these medications leading up to the index time.\n",
    "\n",
    "* ICU stays: We calculated two ICU-related metrics per patient: the average number of ICU admissions and the mean ICU length of stay (in fractional days). Frequent or prolonged ICU stays may indicate immune system compromise, potentially increasing the risk of septic shock in subsequent hospitalizations.\n",
    "\n",
    "Before adding these features, the mean ROC AUC Score was 0.538. After adding the new features to the training process, the mean ROC AUC score raised to 0.7012. The new features increased performance of the classifier, and suggests that they are information-rich features that heavily impacted the model for septic shock predictions.\n",
    "\n",
    "</span>"
   ]
  },
  {
   "metadata": {},
   "cell_type": "markdown",
   "source": ""
  },
  {
   "cell_type": "markdown",
   "metadata": {},
   "source": [
    "---"
   ]
  },
  {
   "attachments": {},
   "cell_type": "markdown",
   "metadata": {},
   "source": [
    "## Feedback (`0 points`)\n",
    "Please fill out the following [feedback form](https://docs.google.com/forms/d/e/1FAIpQLSevaufyQLf5HAFTStk15OJ5idA5OkdLDMsEp8v-fSoPlXKxow/viewform?usp=sf_link) so we can improve the course for future students!"
   ]
  },
  {
   "attachments": {},
   "cell_type": "markdown",
   "metadata": {},
   "source": [
    "---"
   ]
  },
  {
   "cell_type": "markdown",
   "metadata": {},
   "source": [
    "# Submission Instructions ✅\n",
    "\n",
    "There are two files you must submit for this assignment:\n",
    "\n",
    "1. A `PDF` of this notebook.\n",
    "- **Please clear any large cell outputs from executed code cells before creating the PDF.**\n",
    "    - Including short printouts is fine, but please try to clear any large outputs such as dataframe printouts. This makes it easier for us to grade your assignments!\n",
    "- To export the notebook to PDF, you may need to first create an HTML version, and then convert it to PDF.\n",
    "\n",
    "2. A `zip` file containing your code generated by the provided `create_submission_zip.py` script:\n",
    "- Open the `create_submission_zip.py` file and enter your SUNet ID where indicated.\n",
    "- Run the script via `python create_submission_zip.py` to generate a file titled `<your_SUNetID>_submission_A4.zip` in the root project directory.\n"
   ]
  },
  {
   "metadata": {},
   "cell_type": "code",
   "outputs": [],
   "execution_count": null,
   "source": ""
  }
 ],
 "metadata": {
  "kernelspec": {
   "display_name": "base",
   "language": "python",
   "name": "python3"
  },
  "language_info": {
   "codemirror_mode": {
    "name": "ipython",
    "version": 3
   },
   "file_extension": ".py",
   "mimetype": "text/x-python",
   "name": "python",
   "nbconvert_exporter": "python",
   "pygments_lexer": "ipython3",
   "version": "3.11.6"
  },
  "orig_nbformat": 4
 },
 "nbformat": 4,
 "nbformat_minor": 2
}
