{
 "cells": [
  {
   "cell_type": "markdown",
   "metadata": {
    "id": "QcDfET2KPtsX"
   },
   "source": [
    "__Group names:__ [Boram Lee, Steven Ang, Juho Immonen, Yana Berezina]\n",
    "\n",
    "__Group SUNET IDs:__ [06932480]"
   ]
  },
  {
   "cell_type": "markdown",
   "metadata": {
    "id": "iU8QCKPdPtsY"
   },
   "source": [
    "# **Before you get started, please ensure that you have installed the following packages: remotes, vctrs (version 0.6.1), and tzdb (version 0.4.0). Instructions are located in the canvas where you downloaded this assignment. Remember to change your kernel to R**\n",
    "\n",
    "# Lecture 10 Overview\n",
    "\n",
    "Today, we will apply what we've learned in class thus far, using resources and data available through Stanford.\n",
    "\n",
    "At the end of today's class, you should be able to:\n",
    "1. use SQL to query STARR-OMOP data to build a cohort of patients, and\n",
    "2. use R and SQL to do a descriptive analysis.\n",
    "\n",
    "We will ask each group to submit ONE notebook through Canvas. Please write the names and SUNET IDs of your group members in the cell above this one.\n",
    "\n",
    "If you and your group have questions, just ask! A teaching assistant will be happy to help you.\n",
    "\n",
    "# Table of Contents\n",
    "\n",
    "__0. Prepare your R session to query STARR-OMOP, and run a query.__ (~5 minutes) <br>\n",
    "\n",
    "__1. Walk through a completed example of building a cohort.__ (~20 minutes) <br>\n",
    "    We show you how to find people with chronic kidney disease, defined as the presence of:<br>\n",
    "- the ICD-9 code `585.9` (indicating chronic kidney disease) at least once, and\n",
    "- at least one abnormally high creatinine measurement ($\\gt 1.4$). <br>\n",
    "\n",
    "__2. With your group, build a cohort of people with type II diabetes.__(~ 20 minutes)<br>\n",
    "We define type II diabetes as the presence of:<br>\n",
    "- the ICD-9 code `250.00` (indicating diabetes type II or unspecified), and\n",
    "- at least one abnormally high HbA1c measurement ($\\geq 8$).<br>\n",
    "\n",
    "__3. With your group, perform a descriptive study of the cohort of patients you found with type II diabetes.__(~ 15+ minutes) <br>\n",
    "If you can't finish this in class, that's OK! You can finish this with your group after class if you'd like!\n",
    "\n",
    "__4. Excited to learn more?__<br>\n",
    "Here are some extra queries to do with your group or on your own, to learn more about how to perform a descriptive analysis on STARR-OMOP! (This section is not required for full credit.)\n",
    "\n",
    "As you go through this notebook, look out for sections labeled ___Reflection Question___! Answering these questions will give you a chance to think about potential pitfalls in the end-to-end process of defining a cohort and performing an analysis."
   ]
  },
  {
   "cell_type": "markdown",
   "metadata": {
    "id": "d2_i2Lh5PtsZ"
   },
   "source": [
    "# 0. Get to know SQL and the OMOP data model\n",
    "\n",
    "### Data: STARR-OMOP, Confidential\n",
    "\n",
    "To access data, we will be working on a JupyterLab environment set up on Stanford's shared computing platform specifically designed for high risk data, operated by the Stanford Research Computing Center.\n",
    "\n",
    "We will be using a dataset referred to as STARR-OMOP. The name STARR-OMOP has two components. \"STARR\" stands for STAnford Research Repository, and refers to the Stanford EHR data we will use. As we know from class, \"[OMOP](https://www.ohdsi.org/data-standardization/the-common-data-model/)\" stands for the Observational Medical Outcomes Partnership, and it refers to the _data model_ in which the STARR data is stored.\n",
    "\n",
    "Today, we're working with a \"lite\" version (without clinical notes) of STARR-OMOP that has been deidentified, but is still considered high risk and thus confidential.\n",
    "\n",
    "[Here](https://med.stanford.edu/starr-omop/access.html#documentation) is a list of excellent resources from Stanford Medicine's Research IT department.\n",
    "\n",
    "The most important resource for today will likely be Stanford Medicine's [STARR-OMOP data dictionary](https://docs.google.com/spreadsheets/d/1BW1tRRml5E20ivoA5c8DhfKeuP449cBECkkpKoycwgk/). If you have questions about data tables and their relationships, check here first! Also, note that the STARR-OMOP dataset contains some extra columns which are not strictly part of the CDM definition, but have been added for increased source/patient traceability.\n",
    "\n",
    "### Tools\n",
    "\n",
    "As with the rest of the course, we will be working in R. STARR-OMOP is stored in Google BigQuery, and we will query it using SQL; fortunately, there is an R package (`bigrquery`) that allows us to do this without leaving the R environment.\n",
    "\n",
    "(Though we will use R today, there are equivalent Python packages for querying data that is stored in BigQuery.)\n",
    "### What is SQL?\n",
    "\n",
    "SQL is an abbreviation for Structured Query Language, developed to manage data stored in a relational database. With SQL, and you can define and extract subsets of data, and make joins across data tables; working in SQL may feel familiar to manipulating and joining data frames in pandas (Python) and dplyr/data.table (R).\n",
    "\n",
    "### Setup\n",
    "\n",
    "To query tables using R, we first need to load packages and set up our system environment:"
   ]
  },
  {
   "cell_type": "code",
   "execution_count": 1,
   "metadata": {
    "id": "XTspko6KPtsa",
    "vscode": {
     "languageId": "r"
    }
   },
   "outputs": [
    {
     "name": "stderr",
     "output_type": "stream",
     "text": [
      "\n",
      "Attaching package: ‘dplyr’\n",
      "\n",
      "\n",
      "The following objects are masked from ‘package:stats’:\n",
      "\n",
      "    filter, lag\n",
      "\n",
      "\n",
      "The following objects are masked from ‘package:base’:\n",
      "\n",
      "    intersect, setdiff, setequal, union\n",
      "\n",
      "\n"
     ]
    },
    {
     "data": {
      "text/plain": [
       "NULL"
      ]
     },
     "metadata": {},
     "output_type": "display_data"
    }
   ],
   "source": [
    "###############################################################\n",
    "# This cell is very important for the workshop to run!\n",
    "###############################################################\n",
    "\n",
    "library(bigrquery)  # to query STARR-OMOP (stored in BigQuery) using SQL\n",
    "library(dplyr)      # to analyze data in R, and do our descriptive analysis\n",
    "\n",
    "# We have credentials to access data, but we need to tell our system environment about them.\n",
    "# Fill in your own SUNet ID here!\n",
    "MY_USERNAME <- \"steveang\"\n",
    "\n",
    "# This sets our system variables:\n",
    "MY_CREDENTIALS <- paste0(\"/home/\", MY_USERNAME, \"/.config/gcloud/application_default_credentials.json\")\n",
    "Sys.setenv(GOOGLE_APPLICATION_CREDENTIALS = MY_CREDENTIALS)\n",
    "Sys.setenv(GCLOUD_PROJECT = \"som-nero-nigam-bmi215\")\n",
    "gargle::credentials_app_default();\n",
    "\n",
    "# To access the data, we have a \"project\" where our data access permissions have been defined.\n",
    "# You don't need to worry about this today - but it will appear in all of our queries.\n",
    "project_name <- \"som-nero-nigam-bmi215\""
   ]
  },
  {
   "cell_type": "markdown",
   "metadata": {
    "id": "qZPqEkVePtsa"
   },
   "source": [
    "Let's do our first query: _how many people are in the lite de-id version of STARR-OMOP?_\n",
    "\n",
    "In OMOP, the `person` table has one row for every person in the data ([reference](https://github.com/OHDSI/CommonDataModel/wiki/PERSON)). To see how many people are in our dataset, we will count the rows of the `person` table .\n",
    "\n",
    "Our query will be:\n",
    "\n",
    "```\n",
    "SELECT\n",
    "    COUNT(*)\n",
    "  FROM\n",
    "    som-rit-phi-starr-prod.starr_omop_cdm5_confidential_lite_latest.person\n",
    "```\n",
    "\n",
    "Note that we refer to the `person` table using its full path:\n",
    "\n",
    "```som-rit-phi-starr-prod.starr_omop_cdm5_confidential_lite_latest.person```\n",
    "\n",
    "We will do this every time we query any table! We refer to each table by its full name in the form `project_name.dataset_name.table_name`. In this case, the project name is `som-rit-phi-starr-prod`, and the dataset name is `starr_omop_cdm5_confidential_lite_latest`.\n",
    "\n",
    "Let's run this query!"
   ]
  },
  {
   "cell_type": "code",
   "execution_count": 2,
   "metadata": {
    "id": "UAelpONYPtsb",
    "vscode": {
     "languageId": "r"
    }
   },
   "outputs": [
    {
     "data": {
      "text/html": [
       "<table class=\"dataframe\">\n",
       "<caption>A tibble: 1 × 1</caption>\n",
       "<thead>\n",
       "\t<tr><th scope=col>f0_</th></tr>\n",
       "\t<tr><th scope=col>&lt;int&gt;</th></tr>\n",
       "</thead>\n",
       "<tbody>\n",
       "\t<tr><td>4030408</td></tr>\n",
       "</tbody>\n",
       "</table>\n"
      ],
      "text/latex": [
       "A tibble: 1 × 1\n",
       "\\begin{tabular}{l}\n",
       " f0\\_\\\\\n",
       " <int>\\\\\n",
       "\\hline\n",
       "\t 4030408\\\\\n",
       "\\end{tabular}\n"
      ],
      "text/markdown": [
       "\n",
       "A tibble: 1 × 1\n",
       "\n",
       "| f0_ &lt;int&gt; |\n",
       "|---|\n",
       "| 4030408 |\n",
       "\n"
      ],
      "text/plain": [
       "  f0_    \n",
       "1 4030408"
      ]
     },
     "metadata": {},
     "output_type": "display_data"
    }
   ],
   "source": [
    "sql = \"\n",
    "SELECT\n",
    "    COUNT(*)\n",
    "FROM\n",
    "    som-rit-phi-starr-prod.starr_omop_cdm5_confidential_lite_latest.person\n",
    "\"\n",
    "\n",
    "# Query the data:\n",
    "tb <- bq_project_query(project_name, sql)\n",
    "\n",
    "# And download the result of the query, as an R data.frame:\n",
    "bq_table_download(tb)"
   ]
  },
  {
   "cell_type": "markdown",
   "metadata": {
    "id": "MW9hioOjPtsb"
   },
   "source": [
    "This returns the number of patients in the de-id lite version of the STARR data.\n",
    "\n",
    "The path `som-rit-phi-starr-prod.starr_omop_cdm5_confidential_lite_latest` is cumbersome to type (accurately) in every query! We'll use the following helper function to reduce errors:"
   ]
  },
  {
   "cell_type": "code",
   "execution_count": 3,
   "metadata": {
    "id": "HGFt0ui7Ptsb",
    "vscode": {
     "languageId": "r"
    }
   },
   "outputs": [
    {
     "name": "stdout",
     "output_type": "stream",
     "text": [
      "\n",
      "SELECT\n",
      "    COUNT(*)\n",
      "FROM\n",
      "    som-rit-phi-starr-prod.starr_omop_cdm5_confidential_lite_latest.person\n"
     ]
    }
   ],
   "source": [
    "###############################################################\n",
    "# This cell is very important for the workshop to run!\n",
    "###############################################################\n",
    "\n",
    "# format.query takes in a string containing a SQL query.\n",
    "# It replaces all instances of \"project_name\" with \"som-rit-phi-starr-prod\".\n",
    "# And it replaces all instances of \"dataset_name\" with \"starr_omop_cdm5_confidential_lite_latest\".\n",
    "format.query <- function(sql.string){\n",
    "    clean.string <- gsub(\"project_name\", \"som-rit-phi-starr-prod\", sql.string)\n",
    "    clean.string <- gsub(\"dataset_name\", \"starr_omop_cdm5_confidential_lite_latest\", clean.string)\n",
    "    return(clean.string)\n",
    "}\n",
    "\n",
    "# Here is an example of how it works:\n",
    "cat(format.query(\"\n",
    "SELECT\n",
    "    COUNT(*)\n",
    "FROM\n",
    "    project_name.dataset_name.person\n",
    "\"))"
   ]
  },
  {
   "cell_type": "code",
   "execution_count": 4,
   "metadata": {
    "id": "CnFQp2w9Ptsb",
    "vscode": {
     "languageId": "r"
    }
   },
   "outputs": [
    {
     "data": {
      "text/html": [
       "<table class=\"dataframe\">\n",
       "<caption>A tibble: 1 × 1</caption>\n",
       "<thead>\n",
       "\t<tr><th scope=col>f0_</th></tr>\n",
       "\t<tr><th scope=col>&lt;int&gt;</th></tr>\n",
       "</thead>\n",
       "<tbody>\n",
       "\t<tr><td>4030408</td></tr>\n",
       "</tbody>\n",
       "</table>\n"
      ],
      "text/latex": [
       "A tibble: 1 × 1\n",
       "\\begin{tabular}{l}\n",
       " f0\\_\\\\\n",
       " <int>\\\\\n",
       "\\hline\n",
       "\t 4030408\\\\\n",
       "\\end{tabular}\n"
      ],
      "text/markdown": [
       "\n",
       "A tibble: 1 × 1\n",
       "\n",
       "| f0_ &lt;int&gt; |\n",
       "|---|\n",
       "| 4030408 |\n",
       "\n"
      ],
      "text/plain": [
       "  f0_    \n",
       "1 4030408"
      ]
     },
     "metadata": {},
     "output_type": "display_data"
    }
   ],
   "source": [
    "# And here is our query using our new helper function:\n",
    "sql = format.query(\"\n",
    "SELECT\n",
    "    COUNT(*)\n",
    "FROM\n",
    "    project_name.dataset_name.person\n",
    "\")\n",
    "\n",
    "tb <- bq_project_query(project_name, sql)\n",
    "count.total_patients <- bq_table_download(tb)\n",
    "count.total_patients"
   ]
  },
  {
   "cell_type": "code",
   "execution_count": 5,
   "metadata": {
    "id": "xuUzj1eWPtsb",
    "vscode": {
     "languageId": "r"
    }
   },
   "outputs": [
    {
     "data": {
      "text/html": [
       "<table class=\"dataframe\">\n",
       "<caption>A tibble: 5 × 21</caption>\n",
       "<thead>\n",
       "\t<tr><th scope=col>person_id</th><th scope=col>gender_concept_id</th><th scope=col>year_of_birth</th><th scope=col>month_of_birth</th><th scope=col>day_of_birth</th><th scope=col>birth_DATETIME</th><th scope=col>race_concept_id</th><th scope=col>ethnicity_concept_id</th><th scope=col>location_id</th><th scope=col>provider_id</th><th scope=col>⋯</th><th scope=col>person_source_value</th><th scope=col>gender_source_value</th><th scope=col>gender_source_concept_id</th><th scope=col>race_source_value</th><th scope=col>race_source_concept_id</th><th scope=col>ethnicity_source_value</th><th scope=col>ethnicity_source_concept_id</th><th scope=col>trace_id</th><th scope=col>unit_id</th><th scope=col>load_table_id</th></tr>\n",
       "\t<tr><th scope=col>&lt;int&gt;</th><th scope=col>&lt;int&gt;</th><th scope=col>&lt;int&gt;</th><th scope=col>&lt;int&gt;</th><th scope=col>&lt;int&gt;</th><th scope=col>&lt;dttm&gt;</th><th scope=col>&lt;int&gt;</th><th scope=col>&lt;int&gt;</th><th scope=col>&lt;int&gt;</th><th scope=col>&lt;int&gt;</th><th scope=col>⋯</th><th scope=col>&lt;chr&gt;</th><th scope=col>&lt;chr&gt;</th><th scope=col>&lt;int&gt;</th><th scope=col>&lt;chr&gt;</th><th scope=col>&lt;int&gt;</th><th scope=col>&lt;chr&gt;</th><th scope=col>&lt;int&gt;</th><th scope=col>&lt;chr&gt;</th><th scope=col>&lt;chr&gt;</th><th scope=col>&lt;chr&gt;</th></tr>\n",
       "</thead>\n",
       "<tbody>\n",
       "\t<tr><td>31215478</td><td>8507</td><td>1960</td><td>1</td><td>8</td><td>1960-01-08</td><td>0</td><td>0</td><td>1950215</td><td>NA</td><td>⋯</td><td>SAA1dc4f76</td><td>2 |</td><td>8507</td><td>|</td><td>0</td><td>|</td><td>0</td><td>NA</td><td>NA</td><td>NA</td></tr>\n",
       "\t<tr><td>64779860</td><td>8532</td><td>1964</td><td>1</td><td>8</td><td>1964-01-08</td><td>0</td><td>0</td><td>5056883</td><td>NA</td><td>⋯</td><td>SAA3dc7654</td><td>1 |</td><td>8532</td><td>|</td><td>0</td><td>|</td><td>0</td><td>NA</td><td>NA</td><td>NA</td></tr>\n",
       "\t<tr><td>29964803</td><td>8532</td><td>1968</td><td>1</td><td>8</td><td>1968-01-08</td><td>0</td><td>0</td><td>2334376</td><td>NA</td><td>⋯</td><td>SAA1c93a03</td><td>1 |</td><td>8532</td><td>|</td><td>0</td><td>|</td><td>0</td><td>NA</td><td>NA</td><td>NA</td></tr>\n",
       "\t<tr><td>53202542</td><td>8532</td><td>1972</td><td>1</td><td>8</td><td>1972-01-08</td><td>0</td><td>0</td><td>5214373</td><td>NA</td><td>⋯</td><td>SAA32bce6e</td><td>1 |</td><td>8532</td><td>|</td><td>0</td><td>|</td><td>0</td><td>NA</td><td>NA</td><td>NA</td></tr>\n",
       "\t<tr><td>32556396</td><td>8507</td><td>1976</td><td>1</td><td>8</td><td>1976-01-08</td><td>0</td><td>0</td><td>4914840</td><td>NA</td><td>⋯</td><td>SAA1f0c56c</td><td>2 |</td><td>8507</td><td>|</td><td>0</td><td>|</td><td>0</td><td>NA</td><td>NA</td><td>NA</td></tr>\n",
       "</tbody>\n",
       "</table>\n"
      ],
      "text/latex": [
       "A tibble: 5 × 21\n",
       "\\begin{tabular}{lllllllllllllllllllll}\n",
       " person\\_id & gender\\_concept\\_id & year\\_of\\_birth & month\\_of\\_birth & day\\_of\\_birth & birth\\_DATETIME & race\\_concept\\_id & ethnicity\\_concept\\_id & location\\_id & provider\\_id & ⋯ & person\\_source\\_value & gender\\_source\\_value & gender\\_source\\_concept\\_id & race\\_source\\_value & race\\_source\\_concept\\_id & ethnicity\\_source\\_value & ethnicity\\_source\\_concept\\_id & trace\\_id & unit\\_id & load\\_table\\_id\\\\\n",
       " <int> & <int> & <int> & <int> & <int> & <dttm> & <int> & <int> & <int> & <int> & ⋯ & <chr> & <chr> & <int> & <chr> & <int> & <chr> & <int> & <chr> & <chr> & <chr>\\\\\n",
       "\\hline\n",
       "\t 31215478 & 8507 & 1960 & 1 & 8 & 1960-01-08 & 0 & 0 & 1950215 & NA & ⋯ & SAA1dc4f76 & 2 \\textbar{} & 8507 & \\textbar{} & 0 & \\textbar{} & 0 & NA & NA & NA\\\\\n",
       "\t 64779860 & 8532 & 1964 & 1 & 8 & 1964-01-08 & 0 & 0 & 5056883 & NA & ⋯ & SAA3dc7654 & 1 \\textbar{} & 8532 & \\textbar{} & 0 & \\textbar{} & 0 & NA & NA & NA\\\\\n",
       "\t 29964803 & 8532 & 1968 & 1 & 8 & 1968-01-08 & 0 & 0 & 2334376 & NA & ⋯ & SAA1c93a03 & 1 \\textbar{} & 8532 & \\textbar{} & 0 & \\textbar{} & 0 & NA & NA & NA\\\\\n",
       "\t 53202542 & 8532 & 1972 & 1 & 8 & 1972-01-08 & 0 & 0 & 5214373 & NA & ⋯ & SAA32bce6e & 1 \\textbar{} & 8532 & \\textbar{} & 0 & \\textbar{} & 0 & NA & NA & NA\\\\\n",
       "\t 32556396 & 8507 & 1976 & 1 & 8 & 1976-01-08 & 0 & 0 & 4914840 & NA & ⋯ & SAA1f0c56c & 2 \\textbar{} & 8507 & \\textbar{} & 0 & \\textbar{} & 0 & NA & NA & NA\\\\\n",
       "\\end{tabular}\n"
      ],
      "text/markdown": [
       "\n",
       "A tibble: 5 × 21\n",
       "\n",
       "| person_id &lt;int&gt; | gender_concept_id &lt;int&gt; | year_of_birth &lt;int&gt; | month_of_birth &lt;int&gt; | day_of_birth &lt;int&gt; | birth_DATETIME &lt;dttm&gt; | race_concept_id &lt;int&gt; | ethnicity_concept_id &lt;int&gt; | location_id &lt;int&gt; | provider_id &lt;int&gt; | ⋯ ⋯ | person_source_value &lt;chr&gt; | gender_source_value &lt;chr&gt; | gender_source_concept_id &lt;int&gt; | race_source_value &lt;chr&gt; | race_source_concept_id &lt;int&gt; | ethnicity_source_value &lt;chr&gt; | ethnicity_source_concept_id &lt;int&gt; | trace_id &lt;chr&gt; | unit_id &lt;chr&gt; | load_table_id &lt;chr&gt; |\n",
       "|---|---|---|---|---|---|---|---|---|---|---|---|---|---|---|---|---|---|---|---|---|\n",
       "| 31215478 | 8507 | 1960 | 1 | 8 | 1960-01-08 | 0 | 0 | 1950215 | NA | ⋯ | SAA1dc4f76 | 2 | | 8507 | | | 0 | | | 0 | NA | NA | NA |\n",
       "| 64779860 | 8532 | 1964 | 1 | 8 | 1964-01-08 | 0 | 0 | 5056883 | NA | ⋯ | SAA3dc7654 | 1 | | 8532 | | | 0 | | | 0 | NA | NA | NA |\n",
       "| 29964803 | 8532 | 1968 | 1 | 8 | 1968-01-08 | 0 | 0 | 2334376 | NA | ⋯ | SAA1c93a03 | 1 | | 8532 | | | 0 | | | 0 | NA | NA | NA |\n",
       "| 53202542 | 8532 | 1972 | 1 | 8 | 1972-01-08 | 0 | 0 | 5214373 | NA | ⋯ | SAA32bce6e | 1 | | 8532 | | | 0 | | | 0 | NA | NA | NA |\n",
       "| 32556396 | 8507 | 1976 | 1 | 8 | 1976-01-08 | 0 | 0 | 4914840 | NA | ⋯ | SAA1f0c56c | 2 | | 8507 | | | 0 | | | 0 | NA | NA | NA |\n",
       "\n"
      ],
      "text/plain": [
       "  person_id gender_concept_id year_of_birth month_of_birth day_of_birth\n",
       "1 31215478  8507              1960          1              8           \n",
       "2 64779860  8532              1964          1              8           \n",
       "3 29964803  8532              1968          1              8           \n",
       "4 53202542  8532              1972          1              8           \n",
       "5 32556396  8507              1976          1              8           \n",
       "  birth_DATETIME race_concept_id ethnicity_concept_id location_id provider_id ⋯\n",
       "1 1960-01-08     0               0                    1950215     NA          ⋯\n",
       "2 1964-01-08     0               0                    5056883     NA          ⋯\n",
       "3 1968-01-08     0               0                    2334376     NA          ⋯\n",
       "4 1972-01-08     0               0                    5214373     NA          ⋯\n",
       "5 1976-01-08     0               0                    4914840     NA          ⋯\n",
       "  person_source_value gender_source_value gender_source_concept_id\n",
       "1 SAA1dc4f76          2 |                 8507                    \n",
       "2 SAA3dc7654          1 |                 8532                    \n",
       "3 SAA1c93a03          1 |                 8532                    \n",
       "4 SAA32bce6e          1 |                 8532                    \n",
       "5 SAA1f0c56c          2 |                 8507                    \n",
       "  race_source_value race_source_concept_id ethnicity_source_value\n",
       "1 |                 0                      |                     \n",
       "2 |                 0                      |                     \n",
       "3 |                 0                      |                     \n",
       "4 |                 0                      |                     \n",
       "5 |                 0                      |                     \n",
       "  ethnicity_source_concept_id trace_id unit_id load_table_id\n",
       "1 0                           NA       NA      NA           \n",
       "2 0                           NA       NA      NA           \n",
       "3 0                           NA       NA      NA           \n",
       "4 0                           NA       NA      NA           \n",
       "5 0                           NA       NA      NA           "
      ]
     },
     "metadata": {},
     "output_type": "display_data"
    }
   ],
   "source": [
    "# What else is in the person table?\n",
    "# Let's look at the first 5 rows.\n",
    "sql = format.query(\"\n",
    "SELECT\n",
    "    *\n",
    "FROM\n",
    "    project_name.dataset_name.person\n",
    "LIMIT 5\n",
    "\")\n",
    "\n",
    "tb <- bq_project_query(project_name, sql)\n",
    "first.five.patients <- bq_table_download(tb)\n",
    "first.five.patients"
   ]
  },
  {
   "cell_type": "markdown",
   "metadata": {
    "id": "1r3qF-o0Ptsc"
   },
   "source": [
    "# 1. Building a cohort: an example"
   ]
  },
  {
   "cell_type": "markdown",
   "metadata": {
    "id": "YkzeZDPlPtsc"
   },
   "source": [
    "Let's find patients with chronic kidney disease, defined as the presence of:\n",
    "1. the ICD-9 code `585.9` (indicating chronic kidney disease) at least once, __and__\n",
    "2. at least one abnormally high creatinine measurement ($\\gt 1.4$).\n",
    "\n",
    "To find these patients, our approach will consist of three steps:\n",
    "1. find patients who meet criterion 1,\n",
    "2. find patients who meet criterion 2, and\n",
    "3. use an _inner join_ to find the intersection of (patients who meet criterion 1) and (patients who meet criterion 2).\n",
    "\n",
    "As we go through these steps together, we'll learn about some of the tables in the OMOP data structure.\n",
    "\n",
    "## 1.1 Requirement 1: Patients With ICD-9 Code `585.9`\n",
    "\n",
    "### 1.1.1 The Condition Occurrence Table\n",
    "\n",
    "Let's do a couple of examples, to practice SQL and look at the OMOP data structure.\n",
    "\n",
    "We've seen the `person` table. But how do we access data from other parts of the medical record?\n",
    "\n",
    "One place to look is in the `condition_occurrence` table. In this table, each row contains a person ID, a condition, and a start time for that condition, as well as other details about the record including the visit it is linked to, and the provider who recorded it. (Each person will likely have multiple rows in this table.)\n",
    "\n",
    "The OHDSI documentation describes a _condition_ as follows.\n",
    "\n",
    "> Conditions are records of a Person suggesting the presence of a disease or medical condition stated as a diagnosis, a sign, or a symptom, which is either observed by a Provider or reported by the patient. Conditions are recorded in different sources and levels of standardization, for example:\n",
    ">\n",
    "> - Medical claims data include diagnoses coded in Source Vocabularies such as ICD-9-CM that are submitted as part of a reimbursement claim for health services\n",
    "> - EHRs may capture Person conditions in the form of diagnosis codes or symptoms\n"
   ]
  },
  {
   "cell_type": "code",
   "execution_count": 6,
   "metadata": {
    "id": "S2b9dm2SPtsc",
    "vscode": {
     "languageId": "r"
    }
   },
   "outputs": [
    {
     "data": {
      "text/html": [
       "<table class=\"dataframe\">\n",
       "<caption>A tibble: 10 × 3</caption>\n",
       "<thead>\n",
       "\t<tr><th scope=col>person_id</th><th scope=col>condition_concept_id</th><th scope=col>condition_start_date</th></tr>\n",
       "\t<tr><th scope=col>&lt;int&gt;</th><th scope=col>&lt;int&gt;</th><th scope=col>&lt;date&gt;</th></tr>\n",
       "</thead>\n",
       "<tbody>\n",
       "\t<tr><td> 96950371</td><td>0</td><td>2023-03-31</td></tr>\n",
       "\t<tr><td> 64785444</td><td>0</td><td>2024-03-24</td></tr>\n",
       "\t<tr><td> 32160232</td><td>0</td><td>2024-04-02</td></tr>\n",
       "\t<tr><td> 85694441</td><td>0</td><td>2024-10-16</td></tr>\n",
       "\t<tr><td> 31815977</td><td>0</td><td>2024-01-26</td></tr>\n",
       "\t<tr><td>111886129</td><td>0</td><td>2024-04-10</td></tr>\n",
       "\t<tr><td> 45692803</td><td>0</td><td>2023-04-30</td></tr>\n",
       "\t<tr><td>111515069</td><td>0</td><td>2024-10-15</td></tr>\n",
       "\t<tr><td> 97077378</td><td>0</td><td>2023-01-14</td></tr>\n",
       "\t<tr><td> 30269608</td><td>0</td><td>2024-06-14</td></tr>\n",
       "</tbody>\n",
       "</table>\n"
      ],
      "text/latex": [
       "A tibble: 10 × 3\n",
       "\\begin{tabular}{lll}\n",
       " person\\_id & condition\\_concept\\_id & condition\\_start\\_date\\\\\n",
       " <int> & <int> & <date>\\\\\n",
       "\\hline\n",
       "\t  96950371 & 0 & 2023-03-31\\\\\n",
       "\t  64785444 & 0 & 2024-03-24\\\\\n",
       "\t  32160232 & 0 & 2024-04-02\\\\\n",
       "\t  85694441 & 0 & 2024-10-16\\\\\n",
       "\t  31815977 & 0 & 2024-01-26\\\\\n",
       "\t 111886129 & 0 & 2024-04-10\\\\\n",
       "\t  45692803 & 0 & 2023-04-30\\\\\n",
       "\t 111515069 & 0 & 2024-10-15\\\\\n",
       "\t  97077378 & 0 & 2023-01-14\\\\\n",
       "\t  30269608 & 0 & 2024-06-14\\\\\n",
       "\\end{tabular}\n"
      ],
      "text/markdown": [
       "\n",
       "A tibble: 10 × 3\n",
       "\n",
       "| person_id &lt;int&gt; | condition_concept_id &lt;int&gt; | condition_start_date &lt;date&gt; |\n",
       "|---|---|---|\n",
       "|  96950371 | 0 | 2023-03-31 |\n",
       "|  64785444 | 0 | 2024-03-24 |\n",
       "|  32160232 | 0 | 2024-04-02 |\n",
       "|  85694441 | 0 | 2024-10-16 |\n",
       "|  31815977 | 0 | 2024-01-26 |\n",
       "| 111886129 | 0 | 2024-04-10 |\n",
       "|  45692803 | 0 | 2023-04-30 |\n",
       "| 111515069 | 0 | 2024-10-15 |\n",
       "|  97077378 | 0 | 2023-01-14 |\n",
       "|  30269608 | 0 | 2024-06-14 |\n",
       "\n"
      ],
      "text/plain": [
       "   person_id condition_concept_id condition_start_date\n",
       "1   96950371 0                    2023-03-31          \n",
       "2   64785444 0                    2024-03-24          \n",
       "3   32160232 0                    2024-04-02          \n",
       "4   85694441 0                    2024-10-16          \n",
       "5   31815977 0                    2024-01-26          \n",
       "6  111886129 0                    2024-04-10          \n",
       "7   45692803 0                    2023-04-30          \n",
       "8  111515069 0                    2024-10-15          \n",
       "9   97077378 0                    2023-01-14          \n",
       "10  30269608 0                    2024-06-14          "
      ]
     },
     "metadata": {},
     "output_type": "display_data"
    }
   ],
   "source": [
    "# What are the first 10 rows of the condition_occurrence table?\n",
    "sql = format.query(\"\n",
    "SELECT\n",
    "    person_id, condition_concept_id, condition_start_date\n",
    "FROM\n",
    "    project_name.dataset_name.condition_occurrence\n",
    "LIMIT 10\n",
    "\")\n",
    "\n",
    "tb <- bq_project_query(project_name, sql)\n",
    "bq_table_download(tb)"
   ]
  },
  {
   "cell_type": "markdown",
   "metadata": {
    "id": "9xgZwD3FPtsc"
   },
   "source": [
    "We see a person id (which links to the `person` table), a start date, and a `condition_concept_id`. The `condition_concept_id` is not easy to interpret!\n",
    "\n",
    "The `condition_concept_id`s map back to the `concept` table, which tells us more about what each condition means. For example, let's look at the `concept` table to see what `condition_concept_id` = `434547` refers to."
   ]
  },
  {
   "cell_type": "code",
   "execution_count": 7,
   "metadata": {
    "id": "qy2F6buzPtsc",
    "vscode": {
     "languageId": "r"
    }
   },
   "outputs": [
    {
     "data": {
      "text/html": [
       "<table class=\"dataframe\">\n",
       "<caption>A tibble: 1 × 6</caption>\n",
       "<thead>\n",
       "\t<tr><th scope=col>concept_id</th><th scope=col>concept_name</th><th scope=col>domain_id</th><th scope=col>concept_code</th><th scope=col>vocabulary_id</th><th scope=col>concept_class_id</th></tr>\n",
       "\t<tr><th scope=col>&lt;int&gt;</th><th scope=col>&lt;chr&gt;</th><th scope=col>&lt;chr&gt;</th><th scope=col>&lt;chr&gt;</th><th scope=col>&lt;chr&gt;</th><th scope=col>&lt;chr&gt;</th></tr>\n",
       "</thead>\n",
       "<tbody>\n",
       "\t<tr><td>434547</td><td>Complication of surgical procedure</td><td>Condition</td><td>88797001</td><td>SNOMED</td><td>Clinical Finding</td></tr>\n",
       "</tbody>\n",
       "</table>\n"
      ],
      "text/latex": [
       "A tibble: 1 × 6\n",
       "\\begin{tabular}{llllll}\n",
       " concept\\_id & concept\\_name & domain\\_id & concept\\_code & vocabulary\\_id & concept\\_class\\_id\\\\\n",
       " <int> & <chr> & <chr> & <chr> & <chr> & <chr>\\\\\n",
       "\\hline\n",
       "\t 434547 & Complication of surgical procedure & Condition & 88797001 & SNOMED & Clinical Finding\\\\\n",
       "\\end{tabular}\n"
      ],
      "text/markdown": [
       "\n",
       "A tibble: 1 × 6\n",
       "\n",
       "| concept_id &lt;int&gt; | concept_name &lt;chr&gt; | domain_id &lt;chr&gt; | concept_code &lt;chr&gt; | vocabulary_id &lt;chr&gt; | concept_class_id &lt;chr&gt; |\n",
       "|---|---|---|---|---|---|\n",
       "| 434547 | Complication of surgical procedure | Condition | 88797001 | SNOMED | Clinical Finding |\n",
       "\n"
      ],
      "text/plain": [
       "  concept_id concept_name                       domain_id concept_code\n",
       "1 434547     Complication of surgical procedure Condition 88797001    \n",
       "  vocabulary_id concept_class_id\n",
       "1 SNOMED        Clinical Finding"
      ]
     },
     "metadata": {},
     "output_type": "display_data"
    }
   ],
   "source": [
    "sql = format.query(\"\n",
    "SELECT\n",
    "    concept_id, concept_name, domain_id, concept_code, vocabulary_id, concept_class_id\n",
    "FROM\n",
    "    project_name.dataset_name.concept\n",
    "WHERE concept_id = 434547\n",
    "\")\n",
    "\n",
    "tb <- bq_project_query(project_name, sql)\n",
    "bq_table_download(tb)"
   ]
  },
  {
   "cell_type": "markdown",
   "metadata": {
    "id": "5010Q3fAPtsc"
   },
   "source": [
    "So, `concept_id` 434547 is **complication of a surgical procedure**, as defined by code 88797001 in the SNOMED-CT ontology.\n",
    "\n",
    "We can find all patients who had this code - and the time(s) they were labeled with this code - with a single query to the `condition_occurrence` table:"
   ]
  },
  {
   "cell_type": "code",
   "execution_count": 8,
   "metadata": {
    "id": "YRMODZwwPtsc",
    "vscode": {
     "languageId": "r"
    }
   },
   "outputs": [
    {
     "data": {
      "text/html": [
       "<table class=\"dataframe\">\n",
       "<caption>A tibble: 10 × 3</caption>\n",
       "<thead>\n",
       "\t<tr><th scope=col>person_id</th><th scope=col>condition_concept_id</th><th scope=col>condition_start_date</th></tr>\n",
       "\t<tr><th scope=col>&lt;int&gt;</th><th scope=col>&lt;int&gt;</th><th scope=col>&lt;date&gt;</th></tr>\n",
       "</thead>\n",
       "<tbody>\n",
       "\t<tr><td>31395674</td><td>434547</td><td>2022-05-05</td></tr>\n",
       "\t<tr><td>30147046</td><td>434547</td><td>2021-07-06</td></tr>\n",
       "\t<tr><td>32517726</td><td>434547</td><td>2020-05-04</td></tr>\n",
       "\t<tr><td>31550445</td><td>434547</td><td>2022-11-29</td></tr>\n",
       "\t<tr><td>63906581</td><td>434547</td><td>2024-07-26</td></tr>\n",
       "\t<tr><td>32232227</td><td>434547</td><td>2024-01-09</td></tr>\n",
       "\t<tr><td>46020724</td><td>434547</td><td>2021-04-26</td></tr>\n",
       "\t<tr><td>31582112</td><td>434547</td><td>2018-11-18</td></tr>\n",
       "\t<tr><td>30737701</td><td>434547</td><td>2019-01-03</td></tr>\n",
       "\t<tr><td>29986511</td><td>434547</td><td>2019-06-21</td></tr>\n",
       "</tbody>\n",
       "</table>\n"
      ],
      "text/latex": [
       "A tibble: 10 × 3\n",
       "\\begin{tabular}{lll}\n",
       " person\\_id & condition\\_concept\\_id & condition\\_start\\_date\\\\\n",
       " <int> & <int> & <date>\\\\\n",
       "\\hline\n",
       "\t 31395674 & 434547 & 2022-05-05\\\\\n",
       "\t 30147046 & 434547 & 2021-07-06\\\\\n",
       "\t 32517726 & 434547 & 2020-05-04\\\\\n",
       "\t 31550445 & 434547 & 2022-11-29\\\\\n",
       "\t 63906581 & 434547 & 2024-07-26\\\\\n",
       "\t 32232227 & 434547 & 2024-01-09\\\\\n",
       "\t 46020724 & 434547 & 2021-04-26\\\\\n",
       "\t 31582112 & 434547 & 2018-11-18\\\\\n",
       "\t 30737701 & 434547 & 2019-01-03\\\\\n",
       "\t 29986511 & 434547 & 2019-06-21\\\\\n",
       "\\end{tabular}\n"
      ],
      "text/markdown": [
       "\n",
       "A tibble: 10 × 3\n",
       "\n",
       "| person_id &lt;int&gt; | condition_concept_id &lt;int&gt; | condition_start_date &lt;date&gt; |\n",
       "|---|---|---|\n",
       "| 31395674 | 434547 | 2022-05-05 |\n",
       "| 30147046 | 434547 | 2021-07-06 |\n",
       "| 32517726 | 434547 | 2020-05-04 |\n",
       "| 31550445 | 434547 | 2022-11-29 |\n",
       "| 63906581 | 434547 | 2024-07-26 |\n",
       "| 32232227 | 434547 | 2024-01-09 |\n",
       "| 46020724 | 434547 | 2021-04-26 |\n",
       "| 31582112 | 434547 | 2018-11-18 |\n",
       "| 30737701 | 434547 | 2019-01-03 |\n",
       "| 29986511 | 434547 | 2019-06-21 |\n",
       "\n"
      ],
      "text/plain": [
       "   person_id condition_concept_id condition_start_date\n",
       "1  31395674  434547               2022-05-05          \n",
       "2  30147046  434547               2021-07-06          \n",
       "3  32517726  434547               2020-05-04          \n",
       "4  31550445  434547               2022-11-29          \n",
       "5  63906581  434547               2024-07-26          \n",
       "6  32232227  434547               2024-01-09          \n",
       "7  46020724  434547               2021-04-26          \n",
       "8  31582112  434547               2018-11-18          \n",
       "9  30737701  434547               2019-01-03          \n",
       "10 29986511  434547               2019-06-21          "
      ]
     },
     "metadata": {},
     "output_type": "display_data"
    }
   ],
   "source": [
    "# Find 10 rows of the condition_occurrence table with SNOMED-CT code 88797001.\n",
    "# From our query above, we know that SNOMED-CT code 88797001 corresponds to concept_id 434547.\n",
    "sql = format.query(\"\n",
    "SELECT\n",
    "    person_id, condition_concept_id, condition_start_date\n",
    "FROM\n",
    "    project_name.dataset_name.condition_occurrence\n",
    "WHERE\n",
    "    condition_concept_id = 434547\n",
    "LIMIT 10\n",
    "\")\n",
    "\n",
    "tb <- bq_project_query(project_name, sql)\n",
    "bq_table_download(tb)"
   ]
  },
  {
   "cell_type": "markdown",
   "metadata": {
    "id": "HS9gpA8APtsc"
   },
   "source": [
    "### 1.1.2 Patients with ICD-9 Code 585.9\n",
    "\n",
    "Now, we want to find all patients with the ICD-9 code `585.9`.\n",
    "\n",
    "Naively, here is how we could look up the `concept_id` for the ICD-9 code for chronic kidney disease, `585.9`."
   ]
  },
  {
   "cell_type": "code",
   "execution_count": 9,
   "metadata": {
    "id": "TjqyrJdfPtsc",
    "vscode": {
     "languageId": "r"
    }
   },
   "outputs": [
    {
     "data": {
      "text/html": [
       "<table class=\"dataframe\">\n",
       "<caption>A tibble: 1 × 1</caption>\n",
       "<thead>\n",
       "\t<tr><th scope=col>concept_id</th></tr>\n",
       "\t<tr><th scope=col>&lt;int&gt;</th></tr>\n",
       "</thead>\n",
       "<tbody>\n",
       "\t<tr><td>44836035</td></tr>\n",
       "</tbody>\n",
       "</table>\n"
      ],
      "text/latex": [
       "A tibble: 1 × 1\n",
       "\\begin{tabular}{l}\n",
       " concept\\_id\\\\\n",
       " <int>\\\\\n",
       "\\hline\n",
       "\t 44836035\\\\\n",
       "\\end{tabular}\n"
      ],
      "text/markdown": [
       "\n",
       "A tibble: 1 × 1\n",
       "\n",
       "| concept_id &lt;int&gt; |\n",
       "|---|\n",
       "| 44836035 |\n",
       "\n"
      ],
      "text/plain": [
       "  concept_id\n",
       "1 44836035  "
      ]
     },
     "metadata": {},
     "output_type": "display_data"
    }
   ],
   "source": [
    "sql = format.query(\"\n",
    "SELECT\n",
    "    concept_id\n",
    "FROM\n",
    "    project_name.dataset_name.concept concept\n",
    "WHERE\n",
    "    concept.concept_code = '585.9'\n",
    "    AND concept.vocabulary_id = 'ICD9CM'\n",
    "\")\n",
    "\n",
    "tb <- bq_project_query(project_name, sql)\n",
    "bq_table_download(tb)"
   ]
  },
  {
   "cell_type": "markdown",
   "metadata": {
    "id": "kXRczdB-Ptsd"
   },
   "source": [
    "Let's count the number of unique patients in the `condition_occurrence` table that have this `concept_id`:"
   ]
  },
  {
   "cell_type": "code",
   "execution_count": 10,
   "metadata": {
    "id": "LPrj8g2SPtsd",
    "vscode": {
     "languageId": "r"
    }
   },
   "outputs": [
    {
     "data": {
      "text/html": [
       "<table class=\"dataframe\">\n",
       "<caption>A tibble: 1 × 1</caption>\n",
       "<thead>\n",
       "\t<tr><th scope=col>f0_</th></tr>\n",
       "\t<tr><th scope=col>&lt;int&gt;</th></tr>\n",
       "</thead>\n",
       "<tbody>\n",
       "\t<tr><td>0</td></tr>\n",
       "</tbody>\n",
       "</table>\n"
      ],
      "text/latex": [
       "A tibble: 1 × 1\n",
       "\\begin{tabular}{l}\n",
       " f0\\_\\\\\n",
       " <int>\\\\\n",
       "\\hline\n",
       "\t 0\\\\\n",
       "\\end{tabular}\n"
      ],
      "text/markdown": [
       "\n",
       "A tibble: 1 × 1\n",
       "\n",
       "| f0_ &lt;int&gt; |\n",
       "|---|\n",
       "| 0 |\n",
       "\n"
      ],
      "text/plain": [
       "  f0_\n",
       "1 0  "
      ]
     },
     "metadata": {},
     "output_type": "display_data"
    }
   ],
   "source": [
    "# Count the number of patients who are labeled with ICD-9 code 585.9 at least once.\n",
    "sql = format.query(\"\n",
    "SELECT\n",
    "    COUNT(DISTINCT person_id)\n",
    "FROM\n",
    "    project_name.dataset_name.condition_occurrence\n",
    "WHERE\n",
    "    condition_concept_id = 44836035\n",
    "\")\n",
    "\n",
    "tb <- bq_project_query(project_name, sql)\n",
    "bq_table_download(tb)"
   ]
  },
  {
   "cell_type": "markdown",
   "metadata": {
    "id": "mdYFScUuPtsd"
   },
   "source": [
    "We found 0 patients with chronic kidney disease! Does this make sense?\n",
    "\n",
    "___Reflection Question:___ What could we do to help decide whether it \"makes sense\" to find 0 patients with chronic kidney disease in our data?<br>\n",
    "___Answer:___ It does make sense if we think about chronic kidney disease ontology. There are many ontologies for chronic kidney disease and ICD-9 code 585.9 just one of it. It might be a case that this database use other ontologies for chronic kidney disease and not 585.9."
   ]
  },
  {
   "cell_type": "markdown",
   "metadata": {
    "id": "YtZgnbiEPtsd"
   },
   "source": [
    "So what happened? The `concept_id` we found corresponds to the ICD-9 code `585.9`. But there are many ontologies, and so there are many ways to represent \"chronic kidney disease\". (For example, in the SNOMED-CT ontology, \"chronic kidney disease\" is represented as code [709044004](https://snomedbrowser.com/Codes/Details/709044004).) The `condition_occurrence` table does not use the ICD-9 ontology as its source of `concept_id`s - in this case, it uses SNOMED-CT instead.\n",
    "\n",
    "The `concept_relationship` table tells us how concepts have been mapped across ontologies, and we can use this table to map the ICD-9 code `585.9` to the `concept_id` of the corresponding SNOMED-CT code:"
   ]
  },
  {
   "cell_type": "code",
   "execution_count": 11,
   "metadata": {
    "id": "Rw4vs9KYPtsd",
    "vscode": {
     "languageId": "r"
    }
   },
   "outputs": [
    {
     "data": {
      "text/html": [
       "<table class=\"dataframe\">\n",
       "<caption>A tibble: 1 × 5</caption>\n",
       "<thead>\n",
       "\t<tr><th scope=col>concept_id_1</th><th scope=col>vocabulary_id</th><th scope=col>concept_code</th><th scope=col>relationship_id</th><th scope=col>concept_id_2</th></tr>\n",
       "\t<tr><th scope=col>&lt;int&gt;</th><th scope=col>&lt;chr&gt;</th><th scope=col>&lt;chr&gt;</th><th scope=col>&lt;chr&gt;</th><th scope=col>&lt;int&gt;</th></tr>\n",
       "</thead>\n",
       "<tbody>\n",
       "\t<tr><td>44836035</td><td>ICD9CM</td><td>585.9</td><td>Maps to</td><td>46271022</td></tr>\n",
       "</tbody>\n",
       "</table>\n"
      ],
      "text/latex": [
       "A tibble: 1 × 5\n",
       "\\begin{tabular}{lllll}\n",
       " concept\\_id\\_1 & vocabulary\\_id & concept\\_code & relationship\\_id & concept\\_id\\_2\\\\\n",
       " <int> & <chr> & <chr> & <chr> & <int>\\\\\n",
       "\\hline\n",
       "\t 44836035 & ICD9CM & 585.9 & Maps to & 46271022\\\\\n",
       "\\end{tabular}\n"
      ],
      "text/markdown": [
       "\n",
       "A tibble: 1 × 5\n",
       "\n",
       "| concept_id_1 &lt;int&gt; | vocabulary_id &lt;chr&gt; | concept_code &lt;chr&gt; | relationship_id &lt;chr&gt; | concept_id_2 &lt;int&gt; |\n",
       "|---|---|---|---|---|\n",
       "| 44836035 | ICD9CM | 585.9 | Maps to | 46271022 |\n",
       "\n"
      ],
      "text/plain": [
       "  concept_id_1 vocabulary_id concept_code relationship_id concept_id_2\n",
       "1 44836035     ICD9CM        585.9        Maps to         46271022    "
      ]
     },
     "metadata": {},
     "output_type": "display_data"
    }
   ],
   "source": [
    "sql = format.query(\"\n",
    "SELECT\n",
    "    concept_id_1, vocabulary_id, concept_code, relationship_id, concept_id_2\n",
    "FROM project_name.dataset_name.concept concept\n",
    "JOIN project_name.dataset_name.concept_relationship concept_relationship ON concept_relationship.concept_id_1 = concept.concept_id\n",
    "WHERE\n",
    "    concept_code = '585.9'\n",
    "    AND vocabulary_id = 'ICD9CM'\n",
    "    AND relationship_id = 'Maps to'\n",
    "\")\n",
    "\n",
    "tb <- bq_project_query(project_name, sql)\n",
    "bq_table_download(tb)"
   ]
  },
  {
   "cell_type": "markdown",
   "metadata": {
    "id": "USLv4_QwPtsd"
   },
   "source": [
    "The `concept_id_1` 44836035 (for ICD-9 code `585.9`) is mapped to `concept_id_2` = 46271022.\n",
    "\n",
    "To find patients with ICD-9 code `585.9`, we use the `concept_id` 46271022:"
   ]
  },
  {
   "cell_type": "code",
   "execution_count": 12,
   "metadata": {
    "id": "270wmqX8Ptsd",
    "vscode": {
     "languageId": "r"
    }
   },
   "outputs": [
    {
     "data": {
      "text/html": [
       "<table class=\"dataframe\">\n",
       "<caption>A tibble: 1 × 1</caption>\n",
       "<thead>\n",
       "\t<tr><th scope=col>f0_</th></tr>\n",
       "\t<tr><th scope=col>&lt;int&gt;</th></tr>\n",
       "</thead>\n",
       "<tbody>\n",
       "\t<tr><td>47285</td></tr>\n",
       "</tbody>\n",
       "</table>\n"
      ],
      "text/latex": [
       "A tibble: 1 × 1\n",
       "\\begin{tabular}{l}\n",
       " f0\\_\\\\\n",
       " <int>\\\\\n",
       "\\hline\n",
       "\t 47285\\\\\n",
       "\\end{tabular}\n"
      ],
      "text/markdown": [
       "\n",
       "A tibble: 1 × 1\n",
       "\n",
       "| f0_ &lt;int&gt; |\n",
       "|---|\n",
       "| 47285 |\n",
       "\n"
      ],
      "text/plain": [
       "  f0_  \n",
       "1 47285"
      ]
     },
     "metadata": {},
     "output_type": "display_data"
    }
   ],
   "source": [
    "# Count the number of patients who are labeled with ICD-9 code 585.9 at least once.\n",
    "sql = format.query(\"\n",
    "SELECT\n",
    "    COUNT(DISTINCT person_id)\n",
    "FROM project_name.dataset_name.condition_occurrence\n",
    "WHERE condition_concept_id = 46271022\n",
    "\")\n",
    "\n",
    "tb <- bq_project_query(project_name, sql)\n",
    "bq_table_download(tb)"
   ]
  },
  {
   "cell_type": "markdown",
   "metadata": {
    "id": "H6etXc5ZPtsd"
   },
   "source": [
    "___Reflection Question:___ Is there always just one SNOMED-CT concept for every ICD-9 code? Do you see any potential problems with this method of storing data?<br>\n",
    "___Answer:___ No, there isn't always a one-to-one relationship between ICD-9 codes and SNOMED CT concepts becuase SNOMED represents the clinical concept more generally while ICD-9 breaks it down by specific anatomical location and episode type.  Some potential problems are: Query complexity, Daya consistency... etc"
   ]
  },
  {
   "cell_type": "markdown",
   "metadata": {
    "id": "oUxt8ttxPtsd"
   },
   "source": [
    "## 1.2 Requirement 2: Patients With One Or More Abnormal Creatinine Measurements\n",
    "\n",
    "### 1.2.1 The Measurements Table\n",
    "In addition to \"conditions\", patients can also have \"measurements\". While \"conditions\" are often expressed using the SNOMED-CT and ICD ontologies, \"measurements\" are often expressed using the LOINC ontology.\n",
    "\n",
    "___Reflection Question:___ What does LOINC stand for? <br>\n",
    "___Answer:___ Logical Observation Identifiers Names and Codes"
   ]
  },
  {
   "cell_type": "markdown",
   "metadata": {
    "id": "aJL_KUUZPtsd"
   },
   "source": [
    "For example, the LOINC code for a measurement of creatinine is `2160-0`.\n",
    "\n",
    "What is its `concept_id` in our data?"
   ]
  },
  {
   "cell_type": "code",
   "execution_count": 13,
   "metadata": {
    "id": "DKDrvQoIPtsd",
    "vscode": {
     "languageId": "r"
    }
   },
   "outputs": [
    {
     "data": {
      "text/html": [
       "<table class=\"dataframe\">\n",
       "<caption>A tibble: 1 × 1</caption>\n",
       "<thead>\n",
       "\t<tr><th scope=col>concept_id_2</th></tr>\n",
       "\t<tr><th scope=col>&lt;int&gt;</th></tr>\n",
       "</thead>\n",
       "<tbody>\n",
       "\t<tr><td>3016723</td></tr>\n",
       "</tbody>\n",
       "</table>\n"
      ],
      "text/latex": [
       "A tibble: 1 × 1\n",
       "\\begin{tabular}{l}\n",
       " concept\\_id\\_2\\\\\n",
       " <int>\\\\\n",
       "\\hline\n",
       "\t 3016723\\\\\n",
       "\\end{tabular}\n"
      ],
      "text/markdown": [
       "\n",
       "A tibble: 1 × 1\n",
       "\n",
       "| concept_id_2 &lt;int&gt; |\n",
       "|---|\n",
       "| 3016723 |\n",
       "\n"
      ],
      "text/plain": [
       "  concept_id_2\n",
       "1 3016723     "
      ]
     },
     "metadata": {},
     "output_type": "display_data"
    }
   ],
   "source": [
    "sql = format.query(\"\n",
    "SELECT\n",
    "    concept_relationship.concept_id_2\n",
    "FROM\n",
    "    project_name.dataset_name.concept\n",
    "JOIN\n",
    "    project_name.dataset_name.concept_relationship\n",
    "ON\n",
    "    concept_relationship.concept_id_1 = concept.concept_id\n",
    "WHERE\n",
    "    concept_code = '2160-0'\n",
    "    AND vocabulary_id = 'LOINC'\n",
    "    AND relationship_id = 'Maps to'\n",
    "\")\n",
    "\n",
    "tb <- bq_project_query(project_name, sql)\n",
    "bq_table_download(tb)"
   ]
  },
  {
   "cell_type": "markdown",
   "metadata": {
    "id": "BT5--N7NPtse"
   },
   "source": [
    "To find patients who had their creatinine measured - and the values of those measurements - we look in the `measurement` table."
   ]
  },
  {
   "cell_type": "code",
   "execution_count": 14,
   "metadata": {
    "id": "wHARKOFTPtse",
    "vscode": {
     "languageId": "r"
    }
   },
   "outputs": [
    {
     "data": {
      "text/html": [
       "<table class=\"dataframe\">\n",
       "<caption>A tibble: 15 × 3</caption>\n",
       "<thead>\n",
       "\t<tr><th scope=col>person_id</th><th scope=col>value_as_number</th><th scope=col>measurement_datetime</th></tr>\n",
       "\t<tr><th scope=col>&lt;int&gt;</th><th scope=col>&lt;dbl&gt;</th><th scope=col>&lt;dttm&gt;</th></tr>\n",
       "</thead>\n",
       "<tbody>\n",
       "\t<tr><td>30456344</td><td>0.83</td><td>2018-07-06 08:10:00</td></tr>\n",
       "\t<tr><td>31081917</td><td>1.70</td><td>2013-08-20 15:35:00</td></tr>\n",
       "\t<tr><td>31383965</td><td>1.20</td><td>2018-07-29 09:04:00</td></tr>\n",
       "\t<tr><td>30739827</td><td>0.60</td><td>2016-03-12 09:12:00</td></tr>\n",
       "\t<tr><td>30453398</td><td>0.88</td><td>2019-06-02 10:20:00</td></tr>\n",
       "\t<tr><td>32262726</td><td>1.40</td><td>2013-08-27 13:35:00</td></tr>\n",
       "\t<tr><td>31986480</td><td>0.51</td><td>2017-07-28 06:58:00</td></tr>\n",
       "\t<tr><td>30075617</td><td>0.95</td><td>2018-05-10 10:10:00</td></tr>\n",
       "\t<tr><td>31029654</td><td>8.63</td><td>2018-08-28 14:51:00</td></tr>\n",
       "\t<tr><td>31484866</td><td>0.69</td><td>2017-01-18 08:17:00</td></tr>\n",
       "\t<tr><td>29989359</td><td>0.73</td><td>2016-12-26 08:45:00</td></tr>\n",
       "\t<tr><td>31846917</td><td>1.00</td><td>2014-06-26 08:47:00</td></tr>\n",
       "\t<tr><td>31770904</td><td>1.02</td><td>2017-04-28 07:03:00</td></tr>\n",
       "\t<tr><td>31770896</td><td>1.20</td><td>2013-06-15 10:30:00</td></tr>\n",
       "\t<tr><td>30814274</td><td>0.91</td><td>2015-04-22 16:27:00</td></tr>\n",
       "</tbody>\n",
       "</table>\n"
      ],
      "text/latex": [
       "A tibble: 15 × 3\n",
       "\\begin{tabular}{lll}\n",
       " person\\_id & value\\_as\\_number & measurement\\_datetime\\\\\n",
       " <int> & <dbl> & <dttm>\\\\\n",
       "\\hline\n",
       "\t 30456344 & 0.83 & 2018-07-06 08:10:00\\\\\n",
       "\t 31081917 & 1.70 & 2013-08-20 15:35:00\\\\\n",
       "\t 31383965 & 1.20 & 2018-07-29 09:04:00\\\\\n",
       "\t 30739827 & 0.60 & 2016-03-12 09:12:00\\\\\n",
       "\t 30453398 & 0.88 & 2019-06-02 10:20:00\\\\\n",
       "\t 32262726 & 1.40 & 2013-08-27 13:35:00\\\\\n",
       "\t 31986480 & 0.51 & 2017-07-28 06:58:00\\\\\n",
       "\t 30075617 & 0.95 & 2018-05-10 10:10:00\\\\\n",
       "\t 31029654 & 8.63 & 2018-08-28 14:51:00\\\\\n",
       "\t 31484866 & 0.69 & 2017-01-18 08:17:00\\\\\n",
       "\t 29989359 & 0.73 & 2016-12-26 08:45:00\\\\\n",
       "\t 31846917 & 1.00 & 2014-06-26 08:47:00\\\\\n",
       "\t 31770904 & 1.02 & 2017-04-28 07:03:00\\\\\n",
       "\t 31770896 & 1.20 & 2013-06-15 10:30:00\\\\\n",
       "\t 30814274 & 0.91 & 2015-04-22 16:27:00\\\\\n",
       "\\end{tabular}\n"
      ],
      "text/markdown": [
       "\n",
       "A tibble: 15 × 3\n",
       "\n",
       "| person_id &lt;int&gt; | value_as_number &lt;dbl&gt; | measurement_datetime &lt;dttm&gt; |\n",
       "|---|---|---|\n",
       "| 30456344 | 0.83 | 2018-07-06 08:10:00 |\n",
       "| 31081917 | 1.70 | 2013-08-20 15:35:00 |\n",
       "| 31383965 | 1.20 | 2018-07-29 09:04:00 |\n",
       "| 30739827 | 0.60 | 2016-03-12 09:12:00 |\n",
       "| 30453398 | 0.88 | 2019-06-02 10:20:00 |\n",
       "| 32262726 | 1.40 | 2013-08-27 13:35:00 |\n",
       "| 31986480 | 0.51 | 2017-07-28 06:58:00 |\n",
       "| 30075617 | 0.95 | 2018-05-10 10:10:00 |\n",
       "| 31029654 | 8.63 | 2018-08-28 14:51:00 |\n",
       "| 31484866 | 0.69 | 2017-01-18 08:17:00 |\n",
       "| 29989359 | 0.73 | 2016-12-26 08:45:00 |\n",
       "| 31846917 | 1.00 | 2014-06-26 08:47:00 |\n",
       "| 31770904 | 1.02 | 2017-04-28 07:03:00 |\n",
       "| 31770896 | 1.20 | 2013-06-15 10:30:00 |\n",
       "| 30814274 | 0.91 | 2015-04-22 16:27:00 |\n",
       "\n"
      ],
      "text/plain": [
       "   person_id value_as_number measurement_datetime\n",
       "1  30456344  0.83            2018-07-06 08:10:00 \n",
       "2  31081917  1.70            2013-08-20 15:35:00 \n",
       "3  31383965  1.20            2018-07-29 09:04:00 \n",
       "4  30739827  0.60            2016-03-12 09:12:00 \n",
       "5  30453398  0.88            2019-06-02 10:20:00 \n",
       "6  32262726  1.40            2013-08-27 13:35:00 \n",
       "7  31986480  0.51            2017-07-28 06:58:00 \n",
       "8  30075617  0.95            2018-05-10 10:10:00 \n",
       "9  31029654  8.63            2018-08-28 14:51:00 \n",
       "10 31484866  0.69            2017-01-18 08:17:00 \n",
       "11 29989359  0.73            2016-12-26 08:45:00 \n",
       "12 31846917  1.00            2014-06-26 08:47:00 \n",
       "13 31770904  1.02            2017-04-28 07:03:00 \n",
       "14 31770896  1.20            2013-06-15 10:30:00 \n",
       "15 30814274  0.91            2015-04-22 16:27:00 "
      ]
     },
     "metadata": {},
     "output_type": "display_data"
    }
   ],
   "source": [
    "# Find 15 rows of the condition_occurrence table with LOINC code 2160-0.\n",
    "# From our query above, we know that LOINC code 2160-0 corresponds to concept_id 3016723.\n",
    "sql = format.query(\"\n",
    "SELECT\n",
    "    person_id, value_as_number, measurement_datetime\n",
    "FROM\n",
    "    project_name.dataset_name.measurement\n",
    "WHERE\n",
    "    measurement_concept_id = 3016723      -- creatinine measurement\n",
    "LIMIT 15\n",
    "\")\n",
    "\n",
    "tb <- bq_project_query(project_name, sql)\n",
    "bq_table_download(tb)"
   ]
  },
  {
   "cell_type": "markdown",
   "metadata": {
    "id": "Wt92IS3EPtse"
   },
   "source": [
    "Ack - many of those values are null! How many are null?"
   ]
  },
  {
   "cell_type": "code",
   "execution_count": 15,
   "metadata": {
    "id": "axdrd-pAPtse",
    "vscode": {
     "languageId": "r"
    }
   },
   "outputs": [
    {
     "data": {
      "text/html": [
       "<table class=\"dataframe\">\n",
       "<caption>A tibble: 1 × 1</caption>\n",
       "<thead>\n",
       "\t<tr><th scope=col>f0_</th></tr>\n",
       "\t<tr><th scope=col>&lt;int&gt;</th></tr>\n",
       "</thead>\n",
       "<tbody>\n",
       "\t<tr><td>691734</td></tr>\n",
       "</tbody>\n",
       "</table>\n"
      ],
      "text/latex": [
       "A tibble: 1 × 1\n",
       "\\begin{tabular}{l}\n",
       " f0\\_\\\\\n",
       " <int>\\\\\n",
       "\\hline\n",
       "\t 691734\\\\\n",
       "\\end{tabular}\n"
      ],
      "text/markdown": [
       "\n",
       "A tibble: 1 × 1\n",
       "\n",
       "| f0_ &lt;int&gt; |\n",
       "|---|\n",
       "| 691734 |\n",
       "\n"
      ],
      "text/plain": [
       "  f0_   \n",
       "1 691734"
      ]
     },
     "metadata": {},
     "output_type": "display_data"
    }
   ],
   "source": [
    "sql = format.query(\"\n",
    "SELECT\n",
    "    COUNT(*)\n",
    "FROM\n",
    "    project_name.dataset_name.measurement\n",
    "WHERE\n",
    "    measurement_concept_id = 3016723      -- creatinine measurement\n",
    "    AND value_as_number IS NULL           -- measurement is null\n",
    "\")\n",
    "\n",
    "tb <- bq_project_query(project_name, sql)\n",
    "bq_table_download(tb)"
   ]
  },
  {
   "cell_type": "markdown",
   "metadata": {
    "id": "a8_4jo1JPtse"
   },
   "source": [
    "How many total creatinine measurements are there?"
   ]
  },
  {
   "cell_type": "code",
   "execution_count": 16,
   "metadata": {
    "id": "RKXNRxfcPtse",
    "vscode": {
     "languageId": "r"
    }
   },
   "outputs": [
    {
     "data": {
      "text/html": [
       "<table class=\"dataframe\">\n",
       "<caption>A tibble: 1 × 1</caption>\n",
       "<thead>\n",
       "\t<tr><th scope=col>f0_</th></tr>\n",
       "\t<tr><th scope=col>&lt;int&gt;</th></tr>\n",
       "</thead>\n",
       "<tbody>\n",
       "\t<tr><td>13541204</td></tr>\n",
       "</tbody>\n",
       "</table>\n"
      ],
      "text/latex": [
       "A tibble: 1 × 1\n",
       "\\begin{tabular}{l}\n",
       " f0\\_\\\\\n",
       " <int>\\\\\n",
       "\\hline\n",
       "\t 13541204\\\\\n",
       "\\end{tabular}\n"
      ],
      "text/markdown": [
       "\n",
       "A tibble: 1 × 1\n",
       "\n",
       "| f0_ &lt;int&gt; |\n",
       "|---|\n",
       "| 13541204 |\n",
       "\n"
      ],
      "text/plain": [
       "  f0_     \n",
       "1 13541204"
      ]
     },
     "metadata": {},
     "output_type": "display_data"
    }
   ],
   "source": [
    "sql = format.query(\"\n",
    "SELECT\n",
    "    COUNT(*)\n",
    "FROM\n",
    "    project_name.dataset_name.measurement\n",
    "WHERE\n",
    "    measurement_concept_id = 3016723      -- creatinine measurement\n",
    "\")\n",
    "\n",
    "tb <- bq_project_query(project_name, sql)\n",
    "bq_table_download(tb)"
   ]
  },
  {
   "cell_type": "markdown",
   "metadata": {
    "id": "PlY8mLHBPtse"
   },
   "source": [
    "___Reflection Question:___ What percent of creatinine measurements are null? Can you think of a reason or two why a creatinine value might be missing?<br>\n",
    "___Answer:___ 5%. The possible reasons why the value is missing: 1. Test was ordered but not complete. 2. Technical reasons like the result stored in different system and not linked to the database we used.  Result stored in unstructured format. or Data lost."
   ]
  },
  {
   "cell_type": "markdown",
   "metadata": {
    "id": "T-XuVVWPPtse"
   },
   "source": [
    "### 1.2.2 Patients With One Or More Abnormally High Creatinine Measurements\n",
    "\n",
    "According to our phenotype definition, we wish to find patients with a creatinine measurement above 1.4:"
   ]
  },
  {
   "cell_type": "code",
   "execution_count": 17,
   "metadata": {
    "id": "jZmRF969Ptse",
    "vscode": {
     "languageId": "r"
    }
   },
   "outputs": [
    {
     "data": {
      "text/html": [
       "<table class=\"dataframe\">\n",
       "<caption>A tibble: 10 × 3</caption>\n",
       "<thead>\n",
       "\t<tr><th scope=col>person_id</th><th scope=col>value_as_number</th><th scope=col>measurement_datetime</th></tr>\n",
       "\t<tr><th scope=col>&lt;int&gt;</th><th scope=col>&lt;dbl&gt;</th><th scope=col>&lt;dttm&gt;</th></tr>\n",
       "</thead>\n",
       "<tbody>\n",
       "\t<tr><td>31418271</td><td> 6.81</td><td>2024-02-05 09:02:00</td></tr>\n",
       "\t<tr><td>31194219</td><td> 2.18</td><td>2017-03-19 20:00:00</td></tr>\n",
       "\t<tr><td>69262327</td><td> 1.43</td><td>2022-03-29 18:01:00</td></tr>\n",
       "\t<tr><td>31643474</td><td> 1.88</td><td>2006-09-29 03:30:00</td></tr>\n",
       "\t<tr><td>31832362</td><td> 1.72</td><td>2023-07-27 04:51:00</td></tr>\n",
       "\t<tr><td>32457105</td><td>12.70</td><td>2010-01-01 04:50:00</td></tr>\n",
       "\t<tr><td>30181623</td><td> 2.90</td><td>2012-09-29 17:00:00</td></tr>\n",
       "\t<tr><td>32097813</td><td> 3.20</td><td>2014-10-19 09:39:00</td></tr>\n",
       "\t<tr><td>31496690</td><td> 1.80</td><td>2018-06-27 11:09:00</td></tr>\n",
       "\t<tr><td>32037496</td><td> 1.49</td><td>2016-08-14 03:33:00</td></tr>\n",
       "</tbody>\n",
       "</table>\n"
      ],
      "text/latex": [
       "A tibble: 10 × 3\n",
       "\\begin{tabular}{lll}\n",
       " person\\_id & value\\_as\\_number & measurement\\_datetime\\\\\n",
       " <int> & <dbl> & <dttm>\\\\\n",
       "\\hline\n",
       "\t 31418271 &  6.81 & 2024-02-05 09:02:00\\\\\n",
       "\t 31194219 &  2.18 & 2017-03-19 20:00:00\\\\\n",
       "\t 69262327 &  1.43 & 2022-03-29 18:01:00\\\\\n",
       "\t 31643474 &  1.88 & 2006-09-29 03:30:00\\\\\n",
       "\t 31832362 &  1.72 & 2023-07-27 04:51:00\\\\\n",
       "\t 32457105 & 12.70 & 2010-01-01 04:50:00\\\\\n",
       "\t 30181623 &  2.90 & 2012-09-29 17:00:00\\\\\n",
       "\t 32097813 &  3.20 & 2014-10-19 09:39:00\\\\\n",
       "\t 31496690 &  1.80 & 2018-06-27 11:09:00\\\\\n",
       "\t 32037496 &  1.49 & 2016-08-14 03:33:00\\\\\n",
       "\\end{tabular}\n"
      ],
      "text/markdown": [
       "\n",
       "A tibble: 10 × 3\n",
       "\n",
       "| person_id &lt;int&gt; | value_as_number &lt;dbl&gt; | measurement_datetime &lt;dttm&gt; |\n",
       "|---|---|---|\n",
       "| 31418271 |  6.81 | 2024-02-05 09:02:00 |\n",
       "| 31194219 |  2.18 | 2017-03-19 20:00:00 |\n",
       "| 69262327 |  1.43 | 2022-03-29 18:01:00 |\n",
       "| 31643474 |  1.88 | 2006-09-29 03:30:00 |\n",
       "| 31832362 |  1.72 | 2023-07-27 04:51:00 |\n",
       "| 32457105 | 12.70 | 2010-01-01 04:50:00 |\n",
       "| 30181623 |  2.90 | 2012-09-29 17:00:00 |\n",
       "| 32097813 |  3.20 | 2014-10-19 09:39:00 |\n",
       "| 31496690 |  1.80 | 2018-06-27 11:09:00 |\n",
       "| 32037496 |  1.49 | 2016-08-14 03:33:00 |\n",
       "\n"
      ],
      "text/plain": [
       "   person_id value_as_number measurement_datetime\n",
       "1  31418271   6.81           2024-02-05 09:02:00 \n",
       "2  31194219   2.18           2017-03-19 20:00:00 \n",
       "3  69262327   1.43           2022-03-29 18:01:00 \n",
       "4  31643474   1.88           2006-09-29 03:30:00 \n",
       "5  31832362   1.72           2023-07-27 04:51:00 \n",
       "6  32457105  12.70           2010-01-01 04:50:00 \n",
       "7  30181623   2.90           2012-09-29 17:00:00 \n",
       "8  32097813   3.20           2014-10-19 09:39:00 \n",
       "9  31496690   1.80           2018-06-27 11:09:00 \n",
       "10 32037496   1.49           2016-08-14 03:33:00 "
      ]
     },
     "metadata": {},
     "output_type": "display_data"
    }
   ],
   "source": [
    "sql = format.query(\"\n",
    "SELECT\n",
    "    person_id, value_as_number, measurement_datetime\n",
    "FROM\n",
    "    project_name.dataset_name.measurement\n",
    "WHERE\n",
    "    measurement_concept_id = 3016723      -- creatinine measurement\n",
    "    AND value_as_number > 1.4             -- value above 1.4\n",
    "LIMIT 10\n",
    "\")\n",
    "\n",
    "tb <- bq_project_query(project_name, sql)\n",
    "bq_table_download(tb)"
   ]
  },
  {
   "cell_type": "markdown",
   "metadata": {
    "id": "nRiRNnbWPtsj"
   },
   "source": [
    "How many patients have one or more creatinine measurements above 1.4?"
   ]
  },
  {
   "cell_type": "code",
   "execution_count": 18,
   "metadata": {
    "id": "F6ov4umqPtsj",
    "vscode": {
     "languageId": "r"
    }
   },
   "outputs": [
    {
     "data": {
      "text/html": [
       "<table class=\"dataframe\">\n",
       "<caption>A tibble: 1 × 1</caption>\n",
       "<thead>\n",
       "\t<tr><th scope=col>f0_</th></tr>\n",
       "\t<tr><th scope=col>&lt;int&gt;</th></tr>\n",
       "</thead>\n",
       "<tbody>\n",
       "\t<tr><td>122717</td></tr>\n",
       "</tbody>\n",
       "</table>\n"
      ],
      "text/latex": [
       "A tibble: 1 × 1\n",
       "\\begin{tabular}{l}\n",
       " f0\\_\\\\\n",
       " <int>\\\\\n",
       "\\hline\n",
       "\t 122717\\\\\n",
       "\\end{tabular}\n"
      ],
      "text/markdown": [
       "\n",
       "A tibble: 1 × 1\n",
       "\n",
       "| f0_ &lt;int&gt; |\n",
       "|---|\n",
       "| 122717 |\n",
       "\n"
      ],
      "text/plain": [
       "  f0_   \n",
       "1 122717"
      ]
     },
     "metadata": {},
     "output_type": "display_data"
    }
   ],
   "source": [
    "sql = format.query(\"\n",
    "SELECT\n",
    "    COUNT(DISTINCT person_id)\n",
    "FROM\n",
    "    project_name.dataset_name.measurement\n",
    "WHERE\n",
    "    measurement_concept_id = 3016723      -- creatinine measurement\n",
    "    AND value_as_number > 1.4             -- value above 1.4\n",
    "\")\n",
    "\n",
    "tb <- bq_project_query(project_name, sql)\n",
    "bq_table_download(tb)"
   ]
  },
  {
   "cell_type": "markdown",
   "metadata": {
    "id": "boTqMOiSPtsj"
   },
   "source": [
    "If we wanted to count the patients with at least one non-null measurement, we could use `IS NOT NULL`:"
   ]
  },
  {
   "cell_type": "code",
   "execution_count": 19,
   "metadata": {
    "id": "NUcgbaHhPtsj",
    "vscode": {
     "languageId": "r"
    }
   },
   "outputs": [
    {
     "data": {
      "text/html": [
       "<table class=\"dataframe\">\n",
       "<caption>A tibble: 1 × 1</caption>\n",
       "<thead>\n",
       "\t<tr><th scope=col>f0_</th></tr>\n",
       "\t<tr><th scope=col>&lt;int&gt;</th></tr>\n",
       "</thead>\n",
       "<tbody>\n",
       "\t<tr><td>1220053</td></tr>\n",
       "</tbody>\n",
       "</table>\n"
      ],
      "text/latex": [
       "A tibble: 1 × 1\n",
       "\\begin{tabular}{l}\n",
       " f0\\_\\\\\n",
       " <int>\\\\\n",
       "\\hline\n",
       "\t 1220053\\\\\n",
       "\\end{tabular}\n"
      ],
      "text/markdown": [
       "\n",
       "A tibble: 1 × 1\n",
       "\n",
       "| f0_ &lt;int&gt; |\n",
       "|---|\n",
       "| 1220053 |\n",
       "\n"
      ],
      "text/plain": [
       "  f0_    \n",
       "1 1220053"
      ]
     },
     "metadata": {},
     "output_type": "display_data"
    }
   ],
   "source": [
    "sql = format.query(\"\n",
    "SELECT\n",
    "    COUNT(DISTINCT person_id)\n",
    "FROM\n",
    "    project_name.dataset_name.measurement\n",
    "WHERE\n",
    "    measurement_concept_id = 3016723      -- creatinine measurement\n",
    "    AND value_as_number IS NOT NULL       -- value not null\n",
    "\")\n",
    "\n",
    "tb <- bq_project_query(project_name, sql)\n",
    "bq_table_download(tb)"
   ]
  },
  {
   "cell_type": "markdown",
   "metadata": {
    "id": "RYgTz2liPtsj"
   },
   "source": [
    "___Reflection Question:___ Of people who had at least one non-null creatinine measurement, what fraction had a measurement above 1.4?<br>\n",
    "___Answer:___ 10%"
   ]
  },
  {
   "cell_type": "markdown",
   "metadata": {
    "id": "UFS5yBm4Ptsk"
   },
   "source": [
    "## 1.3 Patients with ICD-9 585.9 and an Abnormal Creatinine Measurement\n",
    "\n",
    "We'd like to find all patients with at least one measurement of creatinine that is above 1.4, and at least one diagnosis of chronic kidney disease (ICD-9 code `585.9`). We've found patients meeting each of those criteria; now we'd like to combine our results by finding patients who meet __both__ criteria.\n",
    "\n",
    "To do this, we'll have to look at the `measurement` table and the `condition_occurrrence` table together.\n",
    "\n",
    "___Reflection Question:___ How many patients did we find with ICD-9 code `585.9`? How many patients did we find with at least one measurement of creatinine above $1.4$? At most, how many patients can we find who meet both criteria?<br>\n",
    "___Answer:___"
   ]
  },
  {
   "cell_type": "markdown",
   "metadata": {
    "id": "1nMsqRu5Ptsk"
   },
   "source": [
    "Here is how we would:\n",
    "1. find the people who are in the `measurement` table and the `condition_occurrence` table, and\n",
    "2. restrict to those who have a creatinine measurement above 1.4, and the ICD-9 code 585.9."
   ]
  },
  {
   "cell_type": "code",
   "execution_count": 20,
   "metadata": {
    "id": "7RQzkl5oPtsk",
    "vscode": {
     "languageId": "r"
    }
   },
   "outputs": [
    {
     "data": {
      "text/html": [
       "<table class=\"dataframe\">\n",
       "<caption>A tibble: 6 × 1</caption>\n",
       "<thead>\n",
       "\t<tr><th scope=col>person_id</th></tr>\n",
       "\t<tr><th scope=col>&lt;int&gt;</th></tr>\n",
       "</thead>\n",
       "<tbody>\n",
       "\t<tr><td>29987323</td></tr>\n",
       "\t<tr><td>30524529</td></tr>\n",
       "\t<tr><td>30196806</td></tr>\n",
       "\t<tr><td>32399754</td></tr>\n",
       "\t<tr><td>31181643</td></tr>\n",
       "\t<tr><td>30857249</td></tr>\n",
       "</tbody>\n",
       "</table>\n"
      ],
      "text/latex": [
       "A tibble: 6 × 1\n",
       "\\begin{tabular}{l}\n",
       " person\\_id\\\\\n",
       " <int>\\\\\n",
       "\\hline\n",
       "\t 29987323\\\\\n",
       "\t 30524529\\\\\n",
       "\t 30196806\\\\\n",
       "\t 32399754\\\\\n",
       "\t 31181643\\\\\n",
       "\t 30857249\\\\\n",
       "\\end{tabular}\n"
      ],
      "text/markdown": [
       "\n",
       "A tibble: 6 × 1\n",
       "\n",
       "| person_id &lt;int&gt; |\n",
       "|---|\n",
       "| 29987323 |\n",
       "| 30524529 |\n",
       "| 30196806 |\n",
       "| 32399754 |\n",
       "| 31181643 |\n",
       "| 30857249 |\n",
       "\n"
      ],
      "text/plain": [
       "  person_id\n",
       "1 29987323 \n",
       "2 30524529 \n",
       "3 30196806 \n",
       "4 32399754 \n",
       "5 31181643 \n",
       "6 30857249 "
      ]
     },
     "metadata": {},
     "output_type": "display_data"
    }
   ],
   "source": [
    "sql = format.query(\"\n",
    "SELECT DISTINCT\n",
    "    measurement.person_id\n",
    "FROM\n",
    "    project_name.dataset_name.measurement\n",
    "JOIN\n",
    "    project_name.dataset_name.condition_occurrence\n",
    "ON\n",
    "    measurement.person_id = condition_occurrence.person_id\n",
    "WHERE\n",
    "    measurement.measurement_concept_id = 3016723     -- creatinine measurement\n",
    "    AND measurement.value_as_number > 1.4            -- measurement value > 1.4\n",
    "    AND condition_occurrence.condition_concept_id = 46271022  -- ICD9 code 585.9\n",
    "\")\n",
    "\n",
    "tb <- bq_project_query(project_name, sql)\n",
    "person_ids.high_creatinine_and_ckd <- bq_table_download(tb)\n",
    "\n",
    "head(person_ids.high_creatinine_and_ckd)"
   ]
  },
  {
   "cell_type": "code",
   "execution_count": 21,
   "metadata": {},
   "outputs": [
    {
     "data": {
      "text/html": [
       "32482"
      ],
      "text/latex": [
       "32482"
      ],
      "text/markdown": [
       "32482"
      ],
      "text/plain": [
       "[1] 32482"
      ]
     },
     "metadata": {},
     "output_type": "display_data"
    }
   ],
   "source": [
    "nrow(person_ids.high_creatinine_and_ckd)"
   ]
  },
  {
   "cell_type": "markdown",
   "metadata": {
    "id": "uvy5PrRwPtsk"
   },
   "source": [
    "___Reflection Question:___ How many patients have this phenotype? (You may wish to use `nrow` in R.)<br>\n",
    "___Answer:___ 32482"
   ]
  },
  {
   "cell_type": "markdown",
   "metadata": {
    "id": "O6hQT_FUPtsk"
   },
   "source": [
    "___Reflection Question:___ How many unique patients were in the `person` table? What fraction of those patients met _both_ criteria? What do you think would happen if we used more criteria? How might this impact studies using EHR data?<br>\n",
    "___Answer:___ There are 4030408 unique patient in the `person`table. If we add more criteria, then the number of unique patient might go down further"
   ]
  },
  {
   "cell_type": "markdown",
   "metadata": {
    "id": "UHS6k0sfPtsl"
   },
   "source": [
    "# 2. Building a Cohort: Your Turn\n",
    "\n",
    "### 2.0 Phenotype definition\n",
    "We'd like our cohort to consist of people with type II diabetes. We've seen in class that diabetes is particularly challenging to phenotype - for the purpose of today's exercise, we'll keep the phenotype simple.\n",
    "\n",
    "We consider a person to have type II diabetes when:\n",
    "1. they have been given the ICD-9 code `250.00` (indicating diabetes type II or unspecified) at least once, and\n",
    "2. they have at least one HbA1c measurement $\\geq 8$.\n",
    "\n",
    "(Note that the above is not a robust phenotype definition! That is, we should not feel confident that we have captured a significant fraction of those with type II diabetes, nor that everyone who meets this phenotype definition has type II diabetes.)\n",
    "\n",
    "To build the cohort of patients with type II diabetes, we will walk through the following steps:\n",
    "1. Find the concept ID for the ICD-9 code `250.00`.\n",
    "2. Find the concept ID for the LOINC code `4548-4` (HbA1c measurement).\n",
    "3. Use these concept IDs to find patients who fit our phenotype definition.\n",
    "\n",
    "### 2.1 Concept IDs\n",
    "First, find the `concept_id` corresponding to ICD-9 code `250.00`, \"Diabetes mellitus without mention of complication, type II or unspecified type, not stated as uncontrolled.\"\n",
    "\n",
    "You may choose to use our example for CKD."
   ]
  },
  {
   "cell_type": "code",
   "execution_count": 22,
   "metadata": {
    "id": "kWVzkYG1Ptsl",
    "vscode": {
     "languageId": "r"
    }
   },
   "outputs": [
    {
     "data": {
      "text/html": [
       "<table class=\"dataframe\">\n",
       "<caption>A tibble: 1 × 1</caption>\n",
       "<thead>\n",
       "\t<tr><th scope=col>concept_id_2</th></tr>\n",
       "\t<tr><th scope=col>&lt;int&gt;</th></tr>\n",
       "</thead>\n",
       "<tbody>\n",
       "\t<tr><td>4193704</td></tr>\n",
       "</tbody>\n",
       "</table>\n"
      ],
      "text/latex": [
       "A tibble: 1 × 1\n",
       "\\begin{tabular}{l}\n",
       " concept\\_id\\_2\\\\\n",
       " <int>\\\\\n",
       "\\hline\n",
       "\t 4193704\\\\\n",
       "\\end{tabular}\n"
      ],
      "text/markdown": [
       "\n",
       "A tibble: 1 × 1\n",
       "\n",
       "| concept_id_2 &lt;int&gt; |\n",
       "|---|\n",
       "| 4193704 |\n",
       "\n"
      ],
      "text/plain": [
       "  concept_id_2\n",
       "1 4193704     "
      ]
     },
     "metadata": {},
     "output_type": "display_data"
    }
   ],
   "source": [
    "############################################################\n",
    "##### FILL IN YOUR SOLUTION HERE\n",
    "############################################################\n",
    "sql = format.query(\"\n",
    "SELECT\n",
    "    concept_relationship.concept_id_2\n",
    "FROM\n",
    "    project_name.dataset_name.concept concept\n",
    "JOIN\n",
    "    project_name.dataset_name.concept_relationship concept_relationship\n",
    "ON\n",
    "    concept_relationship.concept_id_1 = concept.concept_id\n",
    "WHERE\n",
    "    concept_code = '250.00'\n",
    "    AND vocabulary_id = 'ICD9CM'\n",
    "    AND relationship_id = 'Maps to'\n",
    "\")\n",
    "\n",
    "tb <- bq_project_query(project_name, sql)\n",
    "bq_table_download(tb)"
   ]
  },
  {
   "cell_type": "markdown",
   "metadata": {
    "id": "-Ep9IBNlPtsl"
   },
   "source": [
    "As we build our cohort, it can be useful to track how many patients we have at each step. How many distinct `person_id`s have at least one instance of the ICD-9 code `250.00`?"
   ]
  },
  {
   "cell_type": "code",
   "execution_count": 23,
   "metadata": {
    "id": "lNeq0x8mPtsl",
    "vscode": {
     "languageId": "r"
    }
   },
   "outputs": [
    {
     "data": {
      "text/html": [
       "<table class=\"dataframe\">\n",
       "<caption>A tibble: 1 × 1</caption>\n",
       "<thead>\n",
       "\t<tr><th scope=col>f0_</th></tr>\n",
       "\t<tr><th scope=col>&lt;int&gt;</th></tr>\n",
       "</thead>\n",
       "<tbody>\n",
       "\t<tr><td>150727</td></tr>\n",
       "</tbody>\n",
       "</table>\n"
      ],
      "text/latex": [
       "A tibble: 1 × 1\n",
       "\\begin{tabular}{l}\n",
       " f0\\_\\\\\n",
       " <int>\\\\\n",
       "\\hline\n",
       "\t 150727\\\\\n",
       "\\end{tabular}\n"
      ],
      "text/markdown": [
       "\n",
       "A tibble: 1 × 1\n",
       "\n",
       "| f0_ &lt;int&gt; |\n",
       "|---|\n",
       "| 150727 |\n",
       "\n"
      ],
      "text/plain": [
       "  f0_   \n",
       "1 150727"
      ]
     },
     "metadata": {},
     "output_type": "display_data"
    }
   ],
   "source": [
    "############################################################\n",
    "##### FILL IN YOUR SOLUTION HERE\n",
    "############################################################\n",
    "sql = format.query(\"\n",
    "SELECT\n",
    "    COUNT(DISTINCT person_id)\n",
    "FROM\n",
    "    project_name.dataset_name.condition_occurrence\n",
    "WHERE\n",
    "    condition_concept_id = 4193704\n",
    "\")\n",
    "\n",
    "tb <- bq_project_query(project_name, sql)\n",
    "bq_table_download(tb)"
   ]
  },
  {
   "cell_type": "markdown",
   "metadata": {
    "id": "kmj22yLDPtsm"
   },
   "source": [
    "Now, find the `concept_id` for HbA1c (LOINC code `4548-4`). You may use our example for creatinine."
   ]
  },
  {
   "cell_type": "code",
   "execution_count": 24,
   "metadata": {
    "id": "PQKyWJmZPtsm",
    "vscode": {
     "languageId": "r"
    }
   },
   "outputs": [
    {
     "data": {
      "text/html": [
       "<table class=\"dataframe\">\n",
       "<caption>A tibble: 1 × 1</caption>\n",
       "<thead>\n",
       "\t<tr><th scope=col>concept_id</th></tr>\n",
       "\t<tr><th scope=col>&lt;int&gt;</th></tr>\n",
       "</thead>\n",
       "<tbody>\n",
       "\t<tr><td>3004410</td></tr>\n",
       "</tbody>\n",
       "</table>\n"
      ],
      "text/latex": [
       "A tibble: 1 × 1\n",
       "\\begin{tabular}{l}\n",
       " concept\\_id\\\\\n",
       " <int>\\\\\n",
       "\\hline\n",
       "\t 3004410\\\\\n",
       "\\end{tabular}\n"
      ],
      "text/markdown": [
       "\n",
       "A tibble: 1 × 1\n",
       "\n",
       "| concept_id &lt;int&gt; |\n",
       "|---|\n",
       "| 3004410 |\n",
       "\n"
      ],
      "text/plain": [
       "  concept_id\n",
       "1 3004410   "
      ]
     },
     "metadata": {},
     "output_type": "display_data"
    }
   ],
   "source": [
    "############################################################\n",
    "##### FILL IN YOUR SOLUTION HERE\n",
    "############################################################\n",
    "sql = format.query(\"\n",
    "SELECT\n",
    "    concept_relationship.concept_id_2 AS concept_id\n",
    "FROM\n",
    "    project_name.dataset_name.concept\n",
    "JOIN\n",
    "    project_name.dataset_name.concept_relationship concept_relationship\n",
    "ON\n",
    "    concept_relationship.concept_id_1 = concept.concept_id\n",
    "WHERE\n",
    "    concept_code = '4548-4'\n",
    "    AND vocabulary_id = 'LOINC'\n",
    "    AND relationship_id = 'Maps to'\n",
    "\")\n",
    "\n",
    "tb <- bq_project_query(project_name, sql)\n",
    "bq_table_download(tb)"
   ]
  },
  {
   "cell_type": "markdown",
   "metadata": {
    "id": "BMlgCFbbPtsm"
   },
   "source": [
    "### 2.2 Measurements\n",
    "\n",
    "How many people have at least one HbA1c measurement greater than or equal to $8$\\? (You may wish to use our example for creatinine from Section 1.)"
   ]
  },
  {
   "cell_type": "code",
   "execution_count": 25,
   "metadata": {
    "id": "BFCUnD-GPtsm",
    "vscode": {
     "languageId": "r"
    }
   },
   "outputs": [
    {
     "data": {
      "text/html": [
       "<table class=\"dataframe\">\n",
       "<caption>A tibble: 1 × 1</caption>\n",
       "<thead>\n",
       "\t<tr><th scope=col>f0_</th></tr>\n",
       "\t<tr><th scope=col>&lt;int&gt;</th></tr>\n",
       "</thead>\n",
       "<tbody>\n",
       "\t<tr><td>64273</td></tr>\n",
       "</tbody>\n",
       "</table>\n"
      ],
      "text/latex": [
       "A tibble: 1 × 1\n",
       "\\begin{tabular}{l}\n",
       " f0\\_\\\\\n",
       " <int>\\\\\n",
       "\\hline\n",
       "\t 64273\\\\\n",
       "\\end{tabular}\n"
      ],
      "text/markdown": [
       "\n",
       "A tibble: 1 × 1\n",
       "\n",
       "| f0_ &lt;int&gt; |\n",
       "|---|\n",
       "| 64273 |\n",
       "\n"
      ],
      "text/plain": [
       "  f0_  \n",
       "1 64273"
      ]
     },
     "metadata": {},
     "output_type": "display_data"
    }
   ],
   "source": [
    "############################################################\n",
    "##### FILL IN YOUR SOLUTION HERE\n",
    "############################################################\n",
    "sql = format.query(\"\n",
    "SELECT\n",
    "    COUNT(DISTINCT person_id)\n",
    "FROM\n",
    "    project_name.dataset_name.measurement\n",
    "WHERE\n",
    "    measurement_concept_id = 3004410\n",
    "    AND measurement.value_as_number >= 8\n",
    "\")\n",
    "\n",
    "tb <- bq_project_query(project_name, sql)\n",
    "bq_table_download(tb)"
   ]
  },
  {
   "cell_type": "markdown",
   "metadata": {
    "id": "2x8iBkzZPtsm"
   },
   "source": [
    "### 2.3 Putting it all together\n",
    "\n",
    "Now we have everything we need! Count the number of distinct `person_id`s for people who have:\n",
    "- at least one HbA1c measurement $\\geq 8$, and\n",
    "- at least one label of ICD-9 code `250.00`.\n",
    "\n",
    "This should be similar to the query where we found patients with the ICD-9 code for CKD, `585.9`, and a creatinine measurement above $1.4$."
   ]
  },
  {
   "cell_type": "code",
   "execution_count": 26,
   "metadata": {
    "id": "IwudjuRaPtsn",
    "vscode": {
     "languageId": "r"
    }
   },
   "outputs": [
    {
     "data": {
      "text/html": [
       "<table class=\"dataframe\">\n",
       "<caption>A tibble: 1 × 1</caption>\n",
       "<thead>\n",
       "\t<tr><th scope=col>f0_</th></tr>\n",
       "\t<tr><th scope=col>&lt;int&gt;</th></tr>\n",
       "</thead>\n",
       "<tbody>\n",
       "\t<tr><td>42066</td></tr>\n",
       "</tbody>\n",
       "</table>\n"
      ],
      "text/latex": [
       "A tibble: 1 × 1\n",
       "\\begin{tabular}{l}\n",
       " f0\\_\\\\\n",
       " <int>\\\\\n",
       "\\hline\n",
       "\t 42066\\\\\n",
       "\\end{tabular}\n"
      ],
      "text/markdown": [
       "\n",
       "A tibble: 1 × 1\n",
       "\n",
       "| f0_ &lt;int&gt; |\n",
       "|---|\n",
       "| 42066 |\n",
       "\n"
      ],
      "text/plain": [
       "  f0_  \n",
       "1 42066"
      ]
     },
     "metadata": {},
     "output_type": "display_data"
    }
   ],
   "source": [
    "############################################################\n",
    "##### FILL IN YOUR SOLUTION HERE\n",
    "############################################################\n",
    "sql = format.query(\"\n",
    "SELECT\n",
    "    COUNT(DISTINCT measurement.person_id)\n",
    "FROM\n",
    "    project_name.dataset_name.measurement measurement\n",
    "JOIN\n",
    "    project_name.dataset_name.condition_occurrence condition\n",
    "ON\n",
    "    measurement.person_id = condition.person_id\n",
    "WHERE\n",
    "    measurement.measurement_concept_id = 3004410\n",
    "    AND measurement.value_as_number >= 8\n",
    "    AND condition.condition_concept_id = 4193704\n",
    "\")\n",
    "\n",
    "tb <- bq_project_query(project_name, sql)\n",
    "bq_table_download(tb)"
   ]
  },
  {
   "cell_type": "markdown",
   "metadata": {
    "id": "m-Sef4O0Ptsn"
   },
   "source": [
    "# 3. Do a descriptive analysis\n",
    "\n",
    "Now that we have a set of patients who meet our cohort defintion, it is useful to gather some desciptive measurements to get an idea of what these patient medical records look like.  It is always a good idea to thoroughly explore your data to get a sense of how the data is strucutred, whether there exist outliers, and to sanity check your cohort definition.\n",
    "\n",
    "We won't have time for an exhaustive descriptive analysis, but we'll be able to examine and summarize information regarding patient demographics, and common comorbidities they may have.  If you get to it (and if you so desire) you may also complete part 4 of this workshop which looks at labs that are commonly ordered for patients in your cohort and summarizes their results.\n",
    "\n",
    "## 3.1 Extract and stratify by patient demographics\n",
    "Demographic information can be found in the `person` table in the STARR OMOP dataset.  One common critique of RCT based evidence is that enrollee demographics are highly enriched for middle aged white men - calling into question the external validity of results, especially for individuals of underpresented groups. Real world observational data, in many cases, may not be much better in this regard. In this section you'll use the cohort we've defined above for type II diabetes and summarize the demographic distribution of the data."
   ]
  },
  {
   "cell_type": "markdown",
   "metadata": {
    "id": "PSXDyWMRPtsn"
   },
   "source": [
    "### 3.1.1 Familiarize yourself with Common Table Expression (CTEs)\n",
    "It is often useful to modularize your SQL query into Common Table Expressions (CTEs), especially when performing more complex queries that require multiple JOINs.  Below, we first show a sample query that counts the number of patients in OMOP with a high creatinine value.\n",
    "\n",
    "We then give an example that uses a CTE that stores this list of `person_ids` in a result set that can be accessed in downstream components of a more complicated query.\n",
    "\n",
    "This example may be useful to you as you develop queries for your descriptive analysis."
   ]
  },
  {
   "cell_type": "code",
   "execution_count": 27,
   "metadata": {
    "id": "OMLF39h4Ptsn",
    "vscode": {
     "languageId": "r"
    }
   },
   "outputs": [
    {
     "data": {
      "text/html": [
       "<table class=\"dataframe\">\n",
       "<caption>A tibble: 1 × 1</caption>\n",
       "<thead>\n",
       "\t<tr><th scope=col>f0_</th></tr>\n",
       "\t<tr><th scope=col>&lt;int&gt;</th></tr>\n",
       "</thead>\n",
       "<tbody>\n",
       "\t<tr><td>122717</td></tr>\n",
       "</tbody>\n",
       "</table>\n"
      ],
      "text/latex": [
       "A tibble: 1 × 1\n",
       "\\begin{tabular}{l}\n",
       " f0\\_\\\\\n",
       " <int>\\\\\n",
       "\\hline\n",
       "\t 122717\\\\\n",
       "\\end{tabular}\n"
      ],
      "text/markdown": [
       "\n",
       "A tibble: 1 × 1\n",
       "\n",
       "| f0_ &lt;int&gt; |\n",
       "|---|\n",
       "| 122717 |\n",
       "\n"
      ],
      "text/plain": [
       "  f0_   \n",
       "1 122717"
      ]
     },
     "metadata": {},
     "output_type": "display_data"
    }
   ],
   "source": [
    "# The below query finds the number of people with a creatinine measure above 1.4 in the OMOP dataset\n",
    "sql = format.query(\"\n",
    "SELECT\n",
    "   COUNT(DISTINCT person_id)\n",
    "FROM\n",
    "    project_name.dataset_name.measurement\n",
    "WHERE\n",
    "    measurement_concept_id = 3016723\n",
    "    AND value_as_number > 1.4\n",
    "\")\n",
    "tb <- bq_project_query(project_name, sql)\n",
    "bq_table_download(tb)"
   ]
  },
  {
   "cell_type": "markdown",
   "metadata": {
    "id": "8twEKVGTPtsn"
   },
   "source": [
    "Now, we use a CTE to abstract away the above query and define it in a temporary result set called high_creatinine. We then join to the death table to see how many of these patients are still alive (as of 10-24-2024) according to STARR OMOP."
   ]
  },
  {
   "cell_type": "code",
   "execution_count": 28,
   "metadata": {
    "id": "zyPMvCaPPtso",
    "vscode": {
     "languageId": "r"
    }
   },
   "outputs": [
    {
     "data": {
      "text/html": [
       "<table class=\"dataframe\">\n",
       "<caption>A tibble: 1 × 1</caption>\n",
       "<thead>\n",
       "\t<tr><th scope=col>f0_</th></tr>\n",
       "\t<tr><th scope=col>&lt;int&gt;</th></tr>\n",
       "</thead>\n",
       "<tbody>\n",
       "\t<tr><td>103586</td></tr>\n",
       "</tbody>\n",
       "</table>\n"
      ],
      "text/latex": [
       "A tibble: 1 × 1\n",
       "\\begin{tabular}{l}\n",
       " f0\\_\\\\\n",
       " <int>\\\\\n",
       "\\hline\n",
       "\t 103586\\\\\n",
       "\\end{tabular}\n"
      ],
      "text/markdown": [
       "\n",
       "A tibble: 1 × 1\n",
       "\n",
       "| f0_ &lt;int&gt; |\n",
       "|---|\n",
       "| 103586 |\n",
       "\n"
      ],
      "text/plain": [
       "  f0_   \n",
       "1 103586"
      ]
     },
     "metadata": {},
     "output_type": "display_data"
    }
   ],
   "source": [
    "# -- WITH [expression_name] AS ([SQL EXRESSION]) defines the CTE.\n",
    "sql = format.query(\"\n",
    "WITH high_creatinine AS (\n",
    "SELECT\n",
    "    person_id, value_as_number, measurement_datetime\n",
    "FROM\n",
    "    project_name.dataset_name.measurement\n",
    "WHERE\n",
    "    measurement_concept_id = 3016723\n",
    "    AND value_as_number > 1.4\n",
    ")\n",
    "\n",
    "-- Joins high_creatine (defined above) to the death table by person ID and\n",
    "-- counts number of people w/o a record of death.\n",
    "SELECT\n",
    "    COUNT(DISTINCT  hc.person_id)\n",
    "FROM\n",
    "    high_creatinine hc\n",
    "LEFT JOIN\n",
    "    project_name.dataset_name.death d\n",
    "USING(person_id)\n",
    "WHERE\n",
    "    d.death_DATE IS NULL\n",
    "\")\n",
    "tb <- bq_project_query(project_name, sql)\n",
    "bq_table_download(tb)"
   ]
  },
  {
   "cell_type": "markdown",
   "metadata": {
    "id": "SZ5Cq_YzPtso"
   },
   "source": [
    "### 3.1.2 Count the number of male and female patients in our cohort\n",
    "Create a CTE that stores the person_ids of the individuals we've phenotyped as having Type II diabetes.  Then use this CTE to query against the `person` and `concept` tables to extract information about these people's sex.\n",
    "\n",
    "Read the query into an R dataframe, stratify by sex and count the number of unique patients with said sex.\n",
    "\n",
    "For your convenience, we've provided much of the skeleton code you'll need to construct this query.  Anything in a bracket `[]` indicates things you'll need to replace with table/column definitions or code."
   ]
  },
  {
   "cell_type": "code",
   "execution_count": 29,
   "metadata": {
    "id": "e_Xdy_KxPtso",
    "vscode": {
     "languageId": "r"
    }
   },
   "outputs": [
    {
     "data": {
      "text/html": [
       "<table class=\"dataframe\">\n",
       "<caption>A tibble: 3 × 2</caption>\n",
       "<thead>\n",
       "\t<tr><th scope=col>concept_name</th><th scope=col>n()</th></tr>\n",
       "\t<tr><th scope=col>&lt;chr&gt;</th><th scope=col>&lt;int&gt;</th></tr>\n",
       "</thead>\n",
       "<tbody>\n",
       "\t<tr><td>FEMALE             </td><td>19189</td></tr>\n",
       "\t<tr><td>MALE               </td><td>22872</td></tr>\n",
       "\t<tr><td>No matching concept</td><td>    5</td></tr>\n",
       "</tbody>\n",
       "</table>\n"
      ],
      "text/latex": [
       "A tibble: 3 × 2\n",
       "\\begin{tabular}{ll}\n",
       " concept\\_name & n()\\\\\n",
       " <chr> & <int>\\\\\n",
       "\\hline\n",
       "\t FEMALE              & 19189\\\\\n",
       "\t MALE                & 22872\\\\\n",
       "\t No matching concept &     5\\\\\n",
       "\\end{tabular}\n"
      ],
      "text/markdown": [
       "\n",
       "A tibble: 3 × 2\n",
       "\n",
       "| concept_name &lt;chr&gt; | n() &lt;int&gt; |\n",
       "|---|---|\n",
       "| FEMALE              | 19189 |\n",
       "| MALE                | 22872 |\n",
       "| No matching concept |     5 |\n",
       "\n"
      ],
      "text/plain": [
       "  concept_name        n()  \n",
       "1 FEMALE              19189\n",
       "2 MALE                22872\n",
       "3 No matching concept     5"
      ]
     },
     "metadata": {},
     "output_type": "display_data"
    }
   ],
   "source": [
    "############################################################\n",
    "##### YOUR SOLUTION GOES HERE\n",
    "############################################################\n",
    "sql = format.query(\"\n",
    "WITH cohort AS (\n",
    "    SELECT \n",
    "        DISTINCT measurement.person_id\n",
    "    FROM \n",
    "        project_name.dataset_name.measurement measurement\n",
    "    JOIN \n",
    "        project_name.dataset_name.condition_occurrence condition\n",
    "    ON \n",
    "        measurement.person_id = condition.person_id\n",
    "    WHERE\n",
    "        measurement.measurement_concept_id = 3004410\n",
    "        AND measurement.value_as_number >= 8\n",
    "        AND condition_concept_id = 4193704 \n",
    ")\n",
    "\n",
    "\n",
    "SELECT\n",
    "    c.person_id, concept.concept_name\n",
    "FROM\n",
    "    cohort c\n",
    "INNER JOIN\n",
    "    project_name.dataset_name.person\n",
    "USING\n",
    "    ( person_id )\n",
    "INNER JOIN\n",
    "    project_name.dataset_name.concept concept\n",
    "ON\n",
    "    person.gender_concept_id = concept.concept_id\n",
    "\")\n",
    "\n",
    "tb <- bq_project_query(project_name, sql)\n",
    "bq_table_download(tb) %>%\n",
    "    group_by(concept_name) %>%\n",
    "    summarize(n())"
   ]
  },
  {
   "cell_type": "markdown",
   "metadata": {
    "id": "7-b0nUruPtso"
   },
   "source": [
    "___Reflection Question:___ How does the sex distribution compare to what you often see in RCTs?<br>\n",
    "___Answer:___ We found 54.37% Male, 45.62% Female and 0.01 not matching with the concept id. Thus us in line with some sources stating slight overpresentation by men in RCTs."
   ]
  },
  {
   "cell_type": "markdown",
   "metadata": {
    "id": "lKWH06WGPtso"
   },
   "source": [
    "### 3.1.3 Look at the race and ethnicity distribution of our cohort\n",
    "The structure for this query will be strikingly similar to the one you created above. Use the same CTE you previously generated to once again query against the `person` and `concept` tables.  This time however, you'll want to extract information about these people's race and ethnicity.  In the `person` table, there exist separate columns that store the concept_id's related to one's race and ethnicity. Your resulting table should have three columns: `person_id`, `race`, `ethnicity`.\n",
    "\n",
    "\n",
    "Read the query into an R dataframe, and stratify by race and ethnicity. What does the race and ethnicity distribution of these patients look like?  "
   ]
  },
  {
   "cell_type": "code",
   "execution_count": 30,
   "metadata": {
    "id": "RVcW5Vk-Ptso",
    "vscode": {
     "languageId": "r"
    }
   },
   "outputs": [
    {
     "data": {
      "text/html": [
       "<table class=\"dataframe\">\n",
       "<caption>A tibble: 6 × 3</caption>\n",
       "<thead>\n",
       "\t<tr><th scope=col>person_id</th><th scope=col>race</th><th scope=col>ethnicity</th></tr>\n",
       "\t<tr><th scope=col>&lt;int&gt;</th><th scope=col>&lt;chr&gt;</th><th scope=col>&lt;chr&gt;</th></tr>\n",
       "</thead>\n",
       "<tbody>\n",
       "\t<tr><td>30176021</td><td>Black or African American</td><td>Not Hispanic or Latino</td></tr>\n",
       "\t<tr><td>30132780</td><td>Black or African American</td><td>Not Hispanic or Latino</td></tr>\n",
       "\t<tr><td>31384050</td><td>Black or African American</td><td>Not Hispanic or Latino</td></tr>\n",
       "\t<tr><td>31114880</td><td>Black or African American</td><td>Not Hispanic or Latino</td></tr>\n",
       "\t<tr><td>30855304</td><td>Black or African American</td><td>Not Hispanic or Latino</td></tr>\n",
       "\t<tr><td>30981018</td><td>Black or African American</td><td>Not Hispanic or Latino</td></tr>\n",
       "</tbody>\n",
       "</table>\n"
      ],
      "text/latex": [
       "A tibble: 6 × 3\n",
       "\\begin{tabular}{lll}\n",
       " person\\_id & race & ethnicity\\\\\n",
       " <int> & <chr> & <chr>\\\\\n",
       "\\hline\n",
       "\t 30176021 & Black or African American & Not Hispanic or Latino\\\\\n",
       "\t 30132780 & Black or African American & Not Hispanic or Latino\\\\\n",
       "\t 31384050 & Black or African American & Not Hispanic or Latino\\\\\n",
       "\t 31114880 & Black or African American & Not Hispanic or Latino\\\\\n",
       "\t 30855304 & Black or African American & Not Hispanic or Latino\\\\\n",
       "\t 30981018 & Black or African American & Not Hispanic or Latino\\\\\n",
       "\\end{tabular}\n"
      ],
      "text/markdown": [
       "\n",
       "A tibble: 6 × 3\n",
       "\n",
       "| person_id &lt;int&gt; | race &lt;chr&gt; | ethnicity &lt;chr&gt; |\n",
       "|---|---|---|\n",
       "| 30176021 | Black or African American | Not Hispanic or Latino |\n",
       "| 30132780 | Black or African American | Not Hispanic or Latino |\n",
       "| 31384050 | Black or African American | Not Hispanic or Latino |\n",
       "| 31114880 | Black or African American | Not Hispanic or Latino |\n",
       "| 30855304 | Black or African American | Not Hispanic or Latino |\n",
       "| 30981018 | Black or African American | Not Hispanic or Latino |\n",
       "\n"
      ],
      "text/plain": [
       "  person_id race                      ethnicity             \n",
       "1 30176021  Black or African American Not Hispanic or Latino\n",
       "2 30132780  Black or African American Not Hispanic or Latino\n",
       "3 31384050  Black or African American Not Hispanic or Latino\n",
       "4 31114880  Black or African American Not Hispanic or Latino\n",
       "5 30855304  Black or African American Not Hispanic or Latino\n",
       "6 30981018  Black or African American Not Hispanic or Latino"
      ]
     },
     "metadata": {},
     "output_type": "display_data"
    },
    {
     "data": {
      "text/html": [
       "<table class=\"dataframe\">\n",
       "<caption>A tibble: 6 × 2</caption>\n",
       "<thead>\n",
       "\t<tr><th scope=col>race</th><th scope=col>n</th></tr>\n",
       "\t<tr><th scope=col>&lt;chr&gt;</th><th scope=col>&lt;int&gt;</th></tr>\n",
       "</thead>\n",
       "<tbody>\n",
       "\t<tr><td>American Indian or Alaska Native         </td><td>  264</td></tr>\n",
       "\t<tr><td>Asian                                    </td><td> 8363</td></tr>\n",
       "\t<tr><td>Black or African American                </td><td> 3131</td></tr>\n",
       "\t<tr><td>Native Hawaiian or Other Pacific Islander</td><td> 1175</td></tr>\n",
       "\t<tr><td>No matching concept                      </td><td>12926</td></tr>\n",
       "\t<tr><td>White                                    </td><td>16207</td></tr>\n",
       "</tbody>\n",
       "</table>\n"
      ],
      "text/latex": [
       "A tibble: 6 × 2\n",
       "\\begin{tabular}{ll}\n",
       " race & n\\\\\n",
       " <chr> & <int>\\\\\n",
       "\\hline\n",
       "\t American Indian or Alaska Native          &   264\\\\\n",
       "\t Asian                                     &  8363\\\\\n",
       "\t Black or African American                 &  3131\\\\\n",
       "\t Native Hawaiian or Other Pacific Islander &  1175\\\\\n",
       "\t No matching concept                       & 12926\\\\\n",
       "\t White                                     & 16207\\\\\n",
       "\\end{tabular}\n"
      ],
      "text/markdown": [
       "\n",
       "A tibble: 6 × 2\n",
       "\n",
       "| race &lt;chr&gt; | n &lt;int&gt; |\n",
       "|---|---|\n",
       "| American Indian or Alaska Native          |   264 |\n",
       "| Asian                                     |  8363 |\n",
       "| Black or African American                 |  3131 |\n",
       "| Native Hawaiian or Other Pacific Islander |  1175 |\n",
       "| No matching concept                       | 12926 |\n",
       "| White                                     | 16207 |\n",
       "\n"
      ],
      "text/plain": [
       "  race                                      n    \n",
       "1 American Indian or Alaska Native            264\n",
       "2 Asian                                      8363\n",
       "3 Black or African American                  3131\n",
       "4 Native Hawaiian or Other Pacific Islander  1175\n",
       "5 No matching concept                       12926\n",
       "6 White                                     16207"
      ]
     },
     "metadata": {},
     "output_type": "display_data"
    },
    {
     "data": {
      "text/html": [
       "<table class=\"dataframe\">\n",
       "<caption>A tibble: 3 × 2</caption>\n",
       "<thead>\n",
       "\t<tr><th scope=col>ethnicity</th><th scope=col>n</th></tr>\n",
       "\t<tr><th scope=col>&lt;chr&gt;</th><th scope=col>&lt;int&gt;</th></tr>\n",
       "</thead>\n",
       "<tbody>\n",
       "\t<tr><td>Hispanic or Latino    </td><td>10814</td></tr>\n",
       "\t<tr><td>No matching concept   </td><td> 2262</td></tr>\n",
       "\t<tr><td>Not Hispanic or Latino</td><td>28990</td></tr>\n",
       "</tbody>\n",
       "</table>\n"
      ],
      "text/latex": [
       "A tibble: 3 × 2\n",
       "\\begin{tabular}{ll}\n",
       " ethnicity & n\\\\\n",
       " <chr> & <int>\\\\\n",
       "\\hline\n",
       "\t Hispanic or Latino     & 10814\\\\\n",
       "\t No matching concept    &  2262\\\\\n",
       "\t Not Hispanic or Latino & 28990\\\\\n",
       "\\end{tabular}\n"
      ],
      "text/markdown": [
       "\n",
       "A tibble: 3 × 2\n",
       "\n",
       "| ethnicity &lt;chr&gt; | n &lt;int&gt; |\n",
       "|---|---|\n",
       "| Hispanic or Latino     | 10814 |\n",
       "| No matching concept    |  2262 |\n",
       "| Not Hispanic or Latino | 28990 |\n",
       "\n"
      ],
      "text/plain": [
       "  ethnicity              n    \n",
       "1 Hispanic or Latino     10814\n",
       "2 No matching concept     2262\n",
       "3 Not Hispanic or Latino 28990"
      ]
     },
     "metadata": {},
     "output_type": "display_data"
    }
   ],
   "source": [
    "############################################################\n",
    "##### YOUR SOLUTION GOES HERE\n",
    "############################################################\n",
    "sql = format.query(\"\n",
    "WITH cohort AS (\n",
    "    SELECT \n",
    "        DISTINCT measurement.person_id\n",
    "    FROM \n",
    "        project_name.dataset_name.measurement measurement\n",
    "    JOIN \n",
    "        project_name.dataset_name.condition_occurrence condition\n",
    "    ON \n",
    "        measurement.person_id = condition.person_id\n",
    "    WHERE\n",
    "        measurement.measurement_concept_id = 3004410\n",
    "        AND measurement.value_as_number >= 8\n",
    "        AND condition.condition_concept_id = 4193704 \n",
    ")\n",
    "\n",
    "SELECT\n",
    "    c.person_id,\n",
    "    concept_race.concept_name race,\n",
    "    concept_ethnicity.concept_name ethnicity\n",
    "FROM\n",
    "    cohort c\n",
    "INNER JOIN\n",
    "    project_name.dataset_name.person\n",
    "USING\n",
    "    (person_id)\n",
    "INNER JOIN\n",
    "    project_name.dataset_name.concept concept_race\n",
    "ON\n",
    "    person.race_concept_id = concept_race.concept_id\n",
    "INNER JOIN\n",
    "    project_name.dataset_name.concept concept_ethnicity\n",
    "ON\n",
    "    person.ethnicity_concept_id = concept_ethnicity.concept_id\n",
    "\")\n",
    "\n",
    "tb <- bq_project_query(project_name, sql)\n",
    "df <- bq_table_download(tb)\n",
    "head(df)\n",
    "\n",
    "# Perform a group by and summarize on both race and ethnicity to take a look at the racial/ethnic distribtion\n",
    "# of this cohort.\n",
    "\n",
    "bq_table_download(tb) %>%\n",
    "    group_by(race) %>%\n",
    "    summarize(n = n(), .groups = \"drop\")\n",
    "\n",
    "bq_table_download(tb) %>%\n",
    "    group_by(ethnicity) %>%\n",
    "    summarize(n = n(), .groups = \"drop\")\n"
   ]
  },
  {
   "cell_type": "markdown",
   "metadata": {
    "id": "jzvvNMe9Ptsr"
   },
   "source": [
    "___Reflection Question:___ What does the race/ethnicity distribution look like? Who is over and or underrepresented? How often is race or ethnicity information unknown?  What does this tell you about the quality of race/ethnicity information in EHR data? <br>\n",
    "___Answer:___ The following appears to be underrepresented: American Indian/Alaska Native, Native Hawaiian/Pacific Islander, and Black/African American.\n"
   ]
  },
  {
   "cell_type": "markdown",
   "metadata": {
    "id": "UPb1Rt-ePtsr"
   },
   "source": [
    "## 3.2 Extract and examine patient comorbidity information\n",
    "Patients in our cohort (by definition) all will have a concept_id that maps to ICD-9 code 250.00. It is often useful to examine what other kinds of comorbidities are present in your cohort of interest.\n",
    "\n",
    "### 3.2.1 Find all condition names assigned to patients in our cohort\n",
    "Using the CTE you've defined in the previous step, join to the `condition_occurrence` and `concept` tables to extract all unique `concept_name`s assigned to patients in your cohort.  The resulting table should have two columns: `person_id` and `concept_name`.  NOTE: this query may take a few minutes to run.\n",
    "\n",
    "How many unique condition_names exist for patients across our cohort?"
   ]
  },
  {
   "cell_type": "code",
   "execution_count": 31,
   "metadata": {
    "id": "J8rX14C9Ptsr",
    "vscode": {
     "languageId": "r"
    }
   },
   "outputs": [
    {
     "data": {
      "text/html": [
       "7848"
      ],
      "text/latex": [
       "7848"
      ],
      "text/markdown": [
       "7848"
      ],
      "text/plain": [
       "[1] 7848"
      ]
     },
     "metadata": {},
     "output_type": "display_data"
    }
   ],
   "source": [
    "############################################################\n",
    "##### YOU SOLUTION GOES HERE\n",
    "############################################################\n",
    "sql = format.query(\"\n",
    "WITH cohort AS (\n",
    "    SELECT \n",
    "        DISTINCT measurement.person_id\n",
    "    FROM project_name.dataset_name.measurement measurement\n",
    "    JOIN project_name.dataset_name.condition_occurrence condition ON measurement.person_id = condition.person_id\n",
    "    WHERE\n",
    "        measurement.measurement_concept_id = 3004410\n",
    "        AND measurement.value_as_number >= 8\n",
    "        AND condition.condition_concept_id = 4193704 \n",
    ")\n",
    "\n",
    "SELECT\n",
    "    c.person_id id,\n",
    "    concept.concept_name name\n",
    "FROM cohort c\n",
    "INNER JOIN project_name.dataset_name.condition_occurrence condition USING (person_id)\n",
    "INNER JOIN project_name.dataset_name.concept concept ON condition.condition_concept_id = concept.concept_id\n",
    "\")\n",
    "\n",
    "tb <- bq_project_query(project_name, sql)\n",
    "df_conds <- bq_table_download(tb, n_max = 1000000) # Update made by TA: Josh. Plz don't modify :)\n",
    "\n",
    "# How many distinct conditions?\n",
    "df_conds %>%\n",
    "    distinct(name) %>%\n",
    "    nrow()"
   ]
  },
  {
   "cell_type": "markdown",
   "metadata": {
    "id": "bHgD7l3GPtsr"
   },
   "source": [
    "### 3.2.2 Find the 10 conditions that occur in the most patients in our cohort\n",
    "Note that this is subtly distinct from asking which codes appear most often in our cohort - the reason being that particular conditions can be mentioned multiple times throughout a patient's medical timeline.  \n",
    "\n",
    "You could pretty easily answer this question with a couple dplyr commands on the dataframe you just read in, but since this is predominantly a SQL workshop, we'll ask that you find these codes using SQL.  If you want, you can sanity check the output of your SQL query by finding these codes with dplyr commands and ensuring they align.\n",
    "\n",
    "As a helpful hint, you may find it useful to declare multiple CTEs in your query.  So far you've been defining a CTE that extracts patients meeting your definition of Type II diabetes.  A second CTE that stores a temporary result of the table you generated in the previous query may be useful.  You can define multiple CTEs via the following scheme.\n",
    "\n",
    "```\n",
    "WITH [expression_1] AS (\n",
    "SOME SELECT STATEMENT - for example, your cohort\n",
    "),\n",
    "\n",
    "[expression_2] AS (\n",
    "SOME OTHER SELECT STATEMENT - for example, your previous query\n",
    ")\n",
    "\n",
    "SELECT BLAH\n",
    "    FROM BLAH_BLAH\n",
    "    WHERE INTERESTING = 1\n",
    "\n",
    "```"
   ]
  },
  {
   "cell_type": "code",
   "execution_count": 32,
   "metadata": {
    "id": "eRH1_JBsPtss",
    "vscode": {
     "languageId": "r"
    }
   },
   "outputs": [
    {
     "data": {
      "text/html": [
       "<table class=\"dataframe\">\n",
       "<caption>A tibble: 10 × 3</caption>\n",
       "<thead>\n",
       "\t<tr><th scope=col>concept_name</th><th scope=col>num_persons_with_condition</th><th scope=col>percentage</th></tr>\n",
       "\t<tr><th scope=col>&lt;chr&gt;</th><th scope=col>&lt;int&gt;</th><th scope=col>&lt;chr&gt;</th></tr>\n",
       "</thead>\n",
       "<tbody>\n",
       "\t<tr><td>Type 2 diabetes mellitus without complication             </td><td>1018378</td><td>4.68%</td></tr>\n",
       "\t<tr><td>Essential hypertension                                    </td><td> 947710</td><td>4.35%</td></tr>\n",
       "\t<tr><td>Type 2 diabetes mellitus                                  </td><td> 835698</td><td>3.84%</td></tr>\n",
       "\t<tr><td>Hyperlipidemia                                            </td><td> 580918</td><td>2.67%</td></tr>\n",
       "\t<tr><td>Hyperglycemia due to type 2 diabetes mellitus             </td><td> 412540</td><td>1.90%</td></tr>\n",
       "\t<tr><td>Complication due to diabetes mellitus                     </td><td> 231745</td><td>1.06%</td></tr>\n",
       "\t<tr><td>Transplanted lung present                                 </td><td> 180783</td><td>0.83%</td></tr>\n",
       "\t<tr><td>End-stage renal disease                                   </td><td> 166433</td><td>0.76%</td></tr>\n",
       "\t<tr><td>Transplanted kidney present                               </td><td> 160250</td><td>0.74%</td></tr>\n",
       "\t<tr><td>Atherosclerosis of coronary artery without angina pectoris</td><td> 157762</td><td>0.72%</td></tr>\n",
       "</tbody>\n",
       "</table>\n"
      ],
      "text/latex": [
       "A tibble: 10 × 3\n",
       "\\begin{tabular}{lll}\n",
       " concept\\_name & num\\_persons\\_with\\_condition & percentage\\\\\n",
       " <chr> & <int> & <chr>\\\\\n",
       "\\hline\n",
       "\t Type 2 diabetes mellitus without complication              & 1018378 & 4.68\\%\\\\\n",
       "\t Essential hypertension                                     &  947710 & 4.35\\%\\\\\n",
       "\t Type 2 diabetes mellitus                                   &  835698 & 3.84\\%\\\\\n",
       "\t Hyperlipidemia                                             &  580918 & 2.67\\%\\\\\n",
       "\t Hyperglycemia due to type 2 diabetes mellitus              &  412540 & 1.90\\%\\\\\n",
       "\t Complication due to diabetes mellitus                      &  231745 & 1.06\\%\\\\\n",
       "\t Transplanted lung present                                  &  180783 & 0.83\\%\\\\\n",
       "\t End-stage renal disease                                    &  166433 & 0.76\\%\\\\\n",
       "\t Transplanted kidney present                                &  160250 & 0.74\\%\\\\\n",
       "\t Atherosclerosis of coronary artery without angina pectoris &  157762 & 0.72\\%\\\\\n",
       "\\end{tabular}\n"
      ],
      "text/markdown": [
       "\n",
       "A tibble: 10 × 3\n",
       "\n",
       "| concept_name &lt;chr&gt; | num_persons_with_condition &lt;int&gt; | percentage &lt;chr&gt; |\n",
       "|---|---|---|\n",
       "| Type 2 diabetes mellitus without complication              | 1018378 | 4.68% |\n",
       "| Essential hypertension                                     |  947710 | 4.35% |\n",
       "| Type 2 diabetes mellitus                                   |  835698 | 3.84% |\n",
       "| Hyperlipidemia                                             |  580918 | 2.67% |\n",
       "| Hyperglycemia due to type 2 diabetes mellitus              |  412540 | 1.90% |\n",
       "| Complication due to diabetes mellitus                      |  231745 | 1.06% |\n",
       "| Transplanted lung present                                  |  180783 | 0.83% |\n",
       "| End-stage renal disease                                    |  166433 | 0.76% |\n",
       "| Transplanted kidney present                                |  160250 | 0.74% |\n",
       "| Atherosclerosis of coronary artery without angina pectoris |  157762 | 0.72% |\n",
       "\n"
      ],
      "text/plain": [
       "   concept_name                                              \n",
       "1  Type 2 diabetes mellitus without complication             \n",
       "2  Essential hypertension                                    \n",
       "3  Type 2 diabetes mellitus                                  \n",
       "4  Hyperlipidemia                                            \n",
       "5  Hyperglycemia due to type 2 diabetes mellitus             \n",
       "6  Complication due to diabetes mellitus                     \n",
       "7  Transplanted lung present                                 \n",
       "8  End-stage renal disease                                   \n",
       "9  Transplanted kidney present                               \n",
       "10 Atherosclerosis of coronary artery without angina pectoris\n",
       "   num_persons_with_condition percentage\n",
       "1  1018378                    4.68%     \n",
       "2   947710                    4.35%     \n",
       "3   835698                    3.84%     \n",
       "4   580918                    2.67%     \n",
       "5   412540                    1.90%     \n",
       "6   231745                    1.06%     \n",
       "7   180783                    0.83%     \n",
       "8   166433                    0.76%     \n",
       "9   160250                    0.74%     \n",
       "10  157762                    0.72%     "
      ]
     },
     "metadata": {},
     "output_type": "display_data"
    }
   ],
   "source": [
    "############################################################\n",
    "##### YOUR SOLUTION HERE\n",
    "############################################################\n",
    "sql = format.query(\"\n",
    "WITH cohort AS (\n",
    "    SELECT \n",
    "        DISTINCT measurement.person_id\n",
    "    FROM project_name.dataset_name.measurement measurement\n",
    "    JOIN project_name.dataset_name.condition_occurrence condition ON measurement.person_id = condition.person_id\n",
    "    WHERE\n",
    "        measurement.measurement_concept_id = 3004410\n",
    "        AND measurement.value_as_number >= 8\n",
    "        AND condition.condition_concept_id = 4193704 \n",
    "),\n",
    "\n",
    "conditions AS (\n",
    "    SELECT\n",
    "        c.person_id id,\n",
    "        concept.concept_name concept_name\n",
    "    FROM cohort c\n",
    "    INNER JOIN project_name.dataset_name.condition_occurrence condition USING (person_id)\n",
    "    INNER JOIN project_name.dataset_name.concept concept ON condition.condition_concept_id = concept.concept_id\n",
    ")\n",
    "\n",
    "SELECT\n",
    "    concept_name, \n",
    "    COUNT(id) AS num_persons_with_condition\n",
    "FROM conditions\n",
    "GROUP BY concept_name\n",
    "ORDER BY num_persons_with_condition DESC\n",
    "\")\n",
    "\n",
    "tb <- bq_project_query(project_name, sql)\n",
    "df_top_conds <- bq_table_download(tb)\n",
    "\n",
    "# Display Top 10 concepts and how many people in your cohort have them.\n",
    "# TODO - your R code here.\n",
    "df_top_conds %>%\n",
    "    head(10) %>%\n",
    "    # Optional: Format as a nice table with percentages\n",
    "    mutate(\n",
    "        percentage = round(num_persons_with_condition * 100 / sum(df_top_conds$num_persons_with_condition), 2),\n",
    "        percentage = sprintf(\"%.2f%%\", percentage)\n",
    "    )\n"
   ]
  },
  {
   "cell_type": "markdown",
   "metadata": {
    "id": "mP_-SXFwPtss"
   },
   "source": [
    "___Reflection Question:___ Which condition concepts are most commonly found in your cohort.  Does this make sense?<br>\n",
    "__Answer:__ \"Type 2 diabetes mellitus without complication\" is the one commonly found in my cohort. It does make sense because the codition we created the cohort are specific to that desease (ICD-9 COde 250.00 and HbA1c measurement  ≥8 )"
   ]
  },
  {
   "cell_type": "markdown",
   "metadata": {
    "id": "zHyUNTKGPtss"
   },
   "source": [
    "### Congrats!\n",
    "You've completed the workshop, and now hopefully have a much better understanding of what it takes to be able to extract and manipulate EHR data stored formatted to the OMOP CDM.  "
   ]
  },
  {
   "cell_type": "markdown",
   "metadata": {
    "id": "MFVMzTIEPtss"
   },
   "source": [
    "# Extras!\n",
    "\n",
    "If you choose to use data in the OMOP Common Data Model for your own analysis, you will likely want to perform more queries than those we've described above. Here are a few more examples to help you build comfort with the OMOP CDM.\n",
    "\n",
    "The teaching team is happy to answer questions and give you feedback on your work in this section.\n",
    "\n",
    "## 4 Extract and examine lab data for patients in our cohort.\n",
    "It may also be useful to get a better understanding of the kinds of labs that are most commonly ordered for patients in your cohort, and what the distribution of results look like. We'll run an analysis quite similar to what we just did with conditions above, except you'll be extracting lab orders and results instead of diagnoses.\n",
    "\n",
    "### 4.1 Find the top 5 lab tests that are most frequently resulted for patients in your cohort\n",
    "The structure of this query should be remarkably similar to what you did in the previous section.  As above, you'll have one CTE that references your cohort, and you'll find it useful to have a second CTE that extracts all lab tests with results that are not NULL.\n",
    "\n",
    "The stucture of the second CTE should be as follows. To find lab tests, you'll want to join your cohort to the `measurement` table using `person_id`, and then join the result of this to the `concept` table on `measurement_concept_id = concept_id`.  Then make sure to filter for when `concept_class_id`=\"Lab Test\", and when the `value_as_number` column from the `measurement` table is not NULL.  You'll want to be able to reference the following columns from this CTE: `person_id`, `concept_id`, `concept_name`.  \n",
    "\n",
    "Finally, to find the top 5 most commonly ordered lab tests across patients in your cohort, you'll want to query from your second CTE, group by concept_id and concept_name, and count the distinct number of patients in each group.  You can use the `ORDER BY` SQL command followed by the `DESC` keyword to order the labs in descending order of how often they are tested across patients.  Use `LIMIT 5` to only query the top 5 most frequent labs.\n",
    "\n",
    "As a sanity check, it would make sense for HbA1c to be in the top 5, as we required all patients in our cohort to have this measurement."
   ]
  },
  {
   "cell_type": "code",
   "execution_count": 33,
   "metadata": {
    "id": "arImnJUUPtss",
    "vscode": {
     "languageId": "r"
    }
   },
   "outputs": [
    {
     "data": {
      "text/html": [
       "<table class=\"dataframe\">\n",
       "<caption>A tibble: 5 × 3</caption>\n",
       "<thead>\n",
       "\t<tr><th scope=col>concept_id</th><th scope=col>concept_name</th><th scope=col>num_persons_with_labs</th></tr>\n",
       "\t<tr><th scope=col>&lt;int&gt;</th><th scope=col>&lt;chr&gt;</th><th scope=col>&lt;int&gt;</th></tr>\n",
       "</thead>\n",
       "<tbody>\n",
       "\t<tr><td>3004410</td><td>Hemoglobin A1c/Hemoglobin.total in Blood      </td><td>42066</td></tr>\n",
       "\t<tr><td>3016723</td><td>Creatinine [Mass/volume] in Serum or Plasma   </td><td>38639</td></tr>\n",
       "\t<tr><td>3013682</td><td>Urea nitrogen [Mass/volume] in Serum or Plasma</td><td>38559</td></tr>\n",
       "\t<tr><td>3023103</td><td>Potassium [Moles/volume] in Serum or Plasma   </td><td>38525</td></tr>\n",
       "\t<tr><td>3014576</td><td>Chloride [Moles/volume] in Serum or Plasma    </td><td>38506</td></tr>\n",
       "</tbody>\n",
       "</table>\n"
      ],
      "text/latex": [
       "A tibble: 5 × 3\n",
       "\\begin{tabular}{lll}\n",
       " concept\\_id & concept\\_name & num\\_persons\\_with\\_labs\\\\\n",
       " <int> & <chr> & <int>\\\\\n",
       "\\hline\n",
       "\t 3004410 & Hemoglobin A1c/Hemoglobin.total in Blood       & 42066\\\\\n",
       "\t 3016723 & Creatinine {[}Mass/volume{]} in Serum or Plasma    & 38639\\\\\n",
       "\t 3013682 & Urea nitrogen {[}Mass/volume{]} in Serum or Plasma & 38559\\\\\n",
       "\t 3023103 & Potassium {[}Moles/volume{]} in Serum or Plasma    & 38525\\\\\n",
       "\t 3014576 & Chloride {[}Moles/volume{]} in Serum or Plasma     & 38506\\\\\n",
       "\\end{tabular}\n"
      ],
      "text/markdown": [
       "\n",
       "A tibble: 5 × 3\n",
       "\n",
       "| concept_id &lt;int&gt; | concept_name &lt;chr&gt; | num_persons_with_labs &lt;int&gt; |\n",
       "|---|---|---|\n",
       "| 3004410 | Hemoglobin A1c/Hemoglobin.total in Blood       | 42066 |\n",
       "| 3016723 | Creatinine [Mass/volume] in Serum or Plasma    | 38639 |\n",
       "| 3013682 | Urea nitrogen [Mass/volume] in Serum or Plasma | 38559 |\n",
       "| 3023103 | Potassium [Moles/volume] in Serum or Plasma    | 38525 |\n",
       "| 3014576 | Chloride [Moles/volume] in Serum or Plasma     | 38506 |\n",
       "\n"
      ],
      "text/plain": [
       "  concept_id concept_name                                  \n",
       "1 3004410    Hemoglobin A1c/Hemoglobin.total in Blood      \n",
       "2 3016723    Creatinine [Mass/volume] in Serum or Plasma   \n",
       "3 3013682    Urea nitrogen [Mass/volume] in Serum or Plasma\n",
       "4 3023103    Potassium [Moles/volume] in Serum or Plasma   \n",
       "5 3014576    Chloride [Moles/volume] in Serum or Plasma    \n",
       "  num_persons_with_labs\n",
       "1 42066                \n",
       "2 38639                \n",
       "3 38559                \n",
       "4 38525                \n",
       "5 38506                "
      ]
     },
     "metadata": {},
     "output_type": "display_data"
    }
   ],
   "source": [
    "############################################################\n",
    "##### YOUR SOLUTION GOES HERE\n",
    "############################################################\n",
    "sql = format.query(\"\n",
    "WITH cohort AS (\n",
    "    SELECT \n",
    "        DISTINCT measurement.person_id\n",
    "    FROM project_name.dataset_name.measurement measurement\n",
    "    JOIN project_name.dataset_name.condition_occurrence condition ON measurement.person_id = condition.person_id\n",
    "    WHERE\n",
    "        measurement.measurement_concept_id = 3004410\n",
    "        AND measurement.value_as_number >= 8\n",
    "        AND condition.condition_concept_id = 4193704 \n",
    "),\n",
    "\n",
    "all_labs AS (\n",
    "    SELECT \n",
    "        DISTINCT c.person_id, \n",
    "        concept.concept_id, \n",
    "        concept.concept_name\n",
    "    FROM \n",
    "        cohort c\n",
    "        INNER JOIN project_name.dataset_name.measurement measurement USING (person_id)\n",
    "        INNER JOIN project_name.dataset_name.concept concept ON measurement.measurement_concept_id = concept.concept_id\n",
    "    WHERE \n",
    "        concept.concept_class_id='Lab Test' \n",
    "        AND measurement.value_as_number IS NOT NULL\n",
    ")\n",
    "\n",
    "SELECT\n",
    "    concept_id, \n",
    "    concept_name, \n",
    "    COUNT(person_id) AS num_persons_with_labs\n",
    "FROM all_labs\n",
    "GROUP BY concept_id, concept_name\n",
    "ORDER BY num_persons_with_labs\n",
    "DESC LIMIT 5\n",
    "\")\n",
    "\n",
    "tb <- bq_project_query(project_name, sql)\n",
    "df_labs_top_5 <- bq_table_download(tb)\n",
    "df_labs_top_5"
   ]
  },
  {
   "cell_type": "markdown",
   "metadata": {
    "id": "AjasQnJsPtst"
   },
   "source": [
    "___Reflection Question:___ Does it make sense that these lab measurements are most common in your patient cohort?<br>\n",
    "___Answer:___ "
   ]
  },
  {
   "cell_type": "markdown",
   "metadata": {
    "id": "iio-e5fYPtst"
   },
   "source": [
    "### 4.2 Summarize lab results\n",
    "Find the min, max, and average lab result values for each of these five labs for each patient in your cohort. Your final table should be in long format (specified below). If a patient does not have a lab measurement for a particular lab, the corresponding row for that lab and patient will simply not exist in your final table.   \n",
    "\n",
    "You'll want to again use the CTE you've defined that allows you to reference your patient cohort. Use this CTE to JOIN to the `measurement` table on `person_id`.  Filter for concept_ids that map to the 5 concept ids you've listed in the 3.1, and filter out rows where value_as_number is not NULL.  You can then group by `person_id`,`concept_name`, and create three seperate columns for max, min, and average of each of the five labs.\n",
    "\n",
    "The resulting query should have 5 columns: `person_id`, `concept_name` (name of the lab), `min_value`, `max_value`, `avg_value`.  \n"
   ]
  },
  {
   "cell_type": "code",
   "execution_count": 34,
   "metadata": {
    "id": "_PcMbWatPtst",
    "vscode": {
     "languageId": "r"
    }
   },
   "outputs": [
    {
     "data": {
      "text/html": [
       "<table class=\"dataframe\">\n",
       "<caption>A tibble: 20 × 5</caption>\n",
       "<thead>\n",
       "\t<tr><th scope=col>person_id</th><th scope=col>concept_name</th><th scope=col>min_value</th><th scope=col>max_value</th><th scope=col>avg_value</th></tr>\n",
       "\t<tr><th scope=col>&lt;int&gt;</th><th scope=col>&lt;chr&gt;</th><th scope=col>&lt;dbl&gt;</th><th scope=col>&lt;dbl&gt;</th><th scope=col>&lt;dbl&gt;</th></tr>\n",
       "</thead>\n",
       "<tbody>\n",
       "\t<tr><td>29923143</td><td>Chloride [Moles/volume] in Serum or Plasma    </td><td> 97.00</td><td>106.00</td><td>102.7142857</td></tr>\n",
       "\t<tr><td>29923143</td><td>Creatinine [Mass/volume] in Serum or Plasma   </td><td>  0.37</td><td>  0.47</td><td>  0.4328571</td></tr>\n",
       "\t<tr><td>29923143</td><td>Hemoglobin A1c/Hemoglobin.total in Blood      </td><td>  7.50</td><td> 11.00</td><td>  8.9818182</td></tr>\n",
       "\t<tr><td>29923143</td><td>Potassium [Moles/volume] in Serum or Plasma   </td><td>  3.80</td><td>  4.50</td><td>  4.1285714</td></tr>\n",
       "\t<tr><td>29923143</td><td>Urea nitrogen [Mass/volume] in Serum or Plasma</td><td>  5.00</td><td> 22.00</td><td>  9.1428571</td></tr>\n",
       "\t<tr><td>29923265</td><td>Chloride [Moles/volume] in Serum or Plasma    </td><td>104.00</td><td>104.00</td><td>104.0000000</td></tr>\n",
       "\t<tr><td>29923265</td><td>Creatinine [Mass/volume] in Serum or Plasma   </td><td>  0.59</td><td>  0.65</td><td>  0.6300000</td></tr>\n",
       "\t<tr><td>29923265</td><td>Hemoglobin A1c/Hemoglobin.total in Blood      </td><td>  6.00</td><td> 10.20</td><td>  7.5456522</td></tr>\n",
       "\t<tr><td>29923265</td><td>Potassium [Moles/volume] in Serum or Plasma   </td><td>  4.10</td><td>  4.10</td><td>  4.1000000</td></tr>\n",
       "\t<tr><td>29923265</td><td>Urea nitrogen [Mass/volume] in Serum or Plasma</td><td>  9.00</td><td>  9.00</td><td>  9.0000000</td></tr>\n",
       "\t<tr><td>29923407</td><td>Chloride [Moles/volume] in Serum or Plasma    </td><td> 99.00</td><td> 99.00</td><td> 99.0000000</td></tr>\n",
       "\t<tr><td>29923407</td><td>Creatinine [Mass/volume] in Serum or Plasma   </td><td>  0.44</td><td>  0.70</td><td>  0.5911111</td></tr>\n",
       "\t<tr><td>29923407</td><td>Hemoglobin A1c/Hemoglobin.total in Blood      </td><td>  7.80</td><td>  9.80</td><td>  8.3692308</td></tr>\n",
       "\t<tr><td>29923407</td><td>Potassium [Moles/volume] in Serum or Plasma   </td><td>  4.20</td><td>  4.20</td><td>  4.2000000</td></tr>\n",
       "\t<tr><td>29923407</td><td>Urea nitrogen [Mass/volume] in Serum or Plasma</td><td>  7.00</td><td> 14.00</td><td>  9.7500000</td></tr>\n",
       "\t<tr><td>29923903</td><td>Chloride [Moles/volume] in Serum or Plasma    </td><td>102.00</td><td>102.00</td><td>102.0000000</td></tr>\n",
       "\t<tr><td>29923903</td><td>Creatinine [Mass/volume] in Serum or Plasma   </td><td>  0.60</td><td>  0.60</td><td>  0.6000000</td></tr>\n",
       "\t<tr><td>29923903</td><td>Hemoglobin A1c/Hemoglobin.total in Blood      </td><td> 11.20</td><td> 14.00</td><td> 12.2333333</td></tr>\n",
       "\t<tr><td>29923903</td><td>Potassium [Moles/volume] in Serum or Plasma   </td><td>  3.60</td><td>  3.60</td><td>  3.6000000</td></tr>\n",
       "\t<tr><td>29923903</td><td>Urea nitrogen [Mass/volume] in Serum or Plasma</td><td> 11.00</td><td> 11.00</td><td> 11.0000000</td></tr>\n",
       "</tbody>\n",
       "</table>\n"
      ],
      "text/latex": [
       "A tibble: 20 × 5\n",
       "\\begin{tabular}{lllll}\n",
       " person\\_id & concept\\_name & min\\_value & max\\_value & avg\\_value\\\\\n",
       " <int> & <chr> & <dbl> & <dbl> & <dbl>\\\\\n",
       "\\hline\n",
       "\t 29923143 & Chloride {[}Moles/volume{]} in Serum or Plasma     &  97.00 & 106.00 & 102.7142857\\\\\n",
       "\t 29923143 & Creatinine {[}Mass/volume{]} in Serum or Plasma    &   0.37 &   0.47 &   0.4328571\\\\\n",
       "\t 29923143 & Hemoglobin A1c/Hemoglobin.total in Blood       &   7.50 &  11.00 &   8.9818182\\\\\n",
       "\t 29923143 & Potassium {[}Moles/volume{]} in Serum or Plasma    &   3.80 &   4.50 &   4.1285714\\\\\n",
       "\t 29923143 & Urea nitrogen {[}Mass/volume{]} in Serum or Plasma &   5.00 &  22.00 &   9.1428571\\\\\n",
       "\t 29923265 & Chloride {[}Moles/volume{]} in Serum or Plasma     & 104.00 & 104.00 & 104.0000000\\\\\n",
       "\t 29923265 & Creatinine {[}Mass/volume{]} in Serum or Plasma    &   0.59 &   0.65 &   0.6300000\\\\\n",
       "\t 29923265 & Hemoglobin A1c/Hemoglobin.total in Blood       &   6.00 &  10.20 &   7.5456522\\\\\n",
       "\t 29923265 & Potassium {[}Moles/volume{]} in Serum or Plasma    &   4.10 &   4.10 &   4.1000000\\\\\n",
       "\t 29923265 & Urea nitrogen {[}Mass/volume{]} in Serum or Plasma &   9.00 &   9.00 &   9.0000000\\\\\n",
       "\t 29923407 & Chloride {[}Moles/volume{]} in Serum or Plasma     &  99.00 &  99.00 &  99.0000000\\\\\n",
       "\t 29923407 & Creatinine {[}Mass/volume{]} in Serum or Plasma    &   0.44 &   0.70 &   0.5911111\\\\\n",
       "\t 29923407 & Hemoglobin A1c/Hemoglobin.total in Blood       &   7.80 &   9.80 &   8.3692308\\\\\n",
       "\t 29923407 & Potassium {[}Moles/volume{]} in Serum or Plasma    &   4.20 &   4.20 &   4.2000000\\\\\n",
       "\t 29923407 & Urea nitrogen {[}Mass/volume{]} in Serum or Plasma &   7.00 &  14.00 &   9.7500000\\\\\n",
       "\t 29923903 & Chloride {[}Moles/volume{]} in Serum or Plasma     & 102.00 & 102.00 & 102.0000000\\\\\n",
       "\t 29923903 & Creatinine {[}Mass/volume{]} in Serum or Plasma    &   0.60 &   0.60 &   0.6000000\\\\\n",
       "\t 29923903 & Hemoglobin A1c/Hemoglobin.total in Blood       &  11.20 &  14.00 &  12.2333333\\\\\n",
       "\t 29923903 & Potassium {[}Moles/volume{]} in Serum or Plasma    &   3.60 &   3.60 &   3.6000000\\\\\n",
       "\t 29923903 & Urea nitrogen {[}Mass/volume{]} in Serum or Plasma &  11.00 &  11.00 &  11.0000000\\\\\n",
       "\\end{tabular}\n"
      ],
      "text/markdown": [
       "\n",
       "A tibble: 20 × 5\n",
       "\n",
       "| person_id &lt;int&gt; | concept_name &lt;chr&gt; | min_value &lt;dbl&gt; | max_value &lt;dbl&gt; | avg_value &lt;dbl&gt; |\n",
       "|---|---|---|---|---|\n",
       "| 29923143 | Chloride [Moles/volume] in Serum or Plasma     |  97.00 | 106.00 | 102.7142857 |\n",
       "| 29923143 | Creatinine [Mass/volume] in Serum or Plasma    |   0.37 |   0.47 |   0.4328571 |\n",
       "| 29923143 | Hemoglobin A1c/Hemoglobin.total in Blood       |   7.50 |  11.00 |   8.9818182 |\n",
       "| 29923143 | Potassium [Moles/volume] in Serum or Plasma    |   3.80 |   4.50 |   4.1285714 |\n",
       "| 29923143 | Urea nitrogen [Mass/volume] in Serum or Plasma |   5.00 |  22.00 |   9.1428571 |\n",
       "| 29923265 | Chloride [Moles/volume] in Serum or Plasma     | 104.00 | 104.00 | 104.0000000 |\n",
       "| 29923265 | Creatinine [Mass/volume] in Serum or Plasma    |   0.59 |   0.65 |   0.6300000 |\n",
       "| 29923265 | Hemoglobin A1c/Hemoglobin.total in Blood       |   6.00 |  10.20 |   7.5456522 |\n",
       "| 29923265 | Potassium [Moles/volume] in Serum or Plasma    |   4.10 |   4.10 |   4.1000000 |\n",
       "| 29923265 | Urea nitrogen [Mass/volume] in Serum or Plasma |   9.00 |   9.00 |   9.0000000 |\n",
       "| 29923407 | Chloride [Moles/volume] in Serum or Plasma     |  99.00 |  99.00 |  99.0000000 |\n",
       "| 29923407 | Creatinine [Mass/volume] in Serum or Plasma    |   0.44 |   0.70 |   0.5911111 |\n",
       "| 29923407 | Hemoglobin A1c/Hemoglobin.total in Blood       |   7.80 |   9.80 |   8.3692308 |\n",
       "| 29923407 | Potassium [Moles/volume] in Serum or Plasma    |   4.20 |   4.20 |   4.2000000 |\n",
       "| 29923407 | Urea nitrogen [Mass/volume] in Serum or Plasma |   7.00 |  14.00 |   9.7500000 |\n",
       "| 29923903 | Chloride [Moles/volume] in Serum or Plasma     | 102.00 | 102.00 | 102.0000000 |\n",
       "| 29923903 | Creatinine [Mass/volume] in Serum or Plasma    |   0.60 |   0.60 |   0.6000000 |\n",
       "| 29923903 | Hemoglobin A1c/Hemoglobin.total in Blood       |  11.20 |  14.00 |  12.2333333 |\n",
       "| 29923903 | Potassium [Moles/volume] in Serum or Plasma    |   3.60 |   3.60 |   3.6000000 |\n",
       "| 29923903 | Urea nitrogen [Mass/volume] in Serum or Plasma |  11.00 |  11.00 |  11.0000000 |\n",
       "\n"
      ],
      "text/plain": [
       "   person_id concept_name                                   min_value max_value\n",
       "1  29923143  Chloride [Moles/volume] in Serum or Plasma      97.00    106.00   \n",
       "2  29923143  Creatinine [Mass/volume] in Serum or Plasma      0.37      0.47   \n",
       "3  29923143  Hemoglobin A1c/Hemoglobin.total in Blood         7.50     11.00   \n",
       "4  29923143  Potassium [Moles/volume] in Serum or Plasma      3.80      4.50   \n",
       "5  29923143  Urea nitrogen [Mass/volume] in Serum or Plasma   5.00     22.00   \n",
       "6  29923265  Chloride [Moles/volume] in Serum or Plasma     104.00    104.00   \n",
       "7  29923265  Creatinine [Mass/volume] in Serum or Plasma      0.59      0.65   \n",
       "8  29923265  Hemoglobin A1c/Hemoglobin.total in Blood         6.00     10.20   \n",
       "9  29923265  Potassium [Moles/volume] in Serum or Plasma      4.10      4.10   \n",
       "10 29923265  Urea nitrogen [Mass/volume] in Serum or Plasma   9.00      9.00   \n",
       "11 29923407  Chloride [Moles/volume] in Serum or Plasma      99.00     99.00   \n",
       "12 29923407  Creatinine [Mass/volume] in Serum or Plasma      0.44      0.70   \n",
       "13 29923407  Hemoglobin A1c/Hemoglobin.total in Blood         7.80      9.80   \n",
       "14 29923407  Potassium [Moles/volume] in Serum or Plasma      4.20      4.20   \n",
       "15 29923407  Urea nitrogen [Mass/volume] in Serum or Plasma   7.00     14.00   \n",
       "16 29923903  Chloride [Moles/volume] in Serum or Plasma     102.00    102.00   \n",
       "17 29923903  Creatinine [Mass/volume] in Serum or Plasma      0.60      0.60   \n",
       "18 29923903  Hemoglobin A1c/Hemoglobin.total in Blood        11.20     14.00   \n",
       "19 29923903  Potassium [Moles/volume] in Serum or Plasma      3.60      3.60   \n",
       "20 29923903  Urea nitrogen [Mass/volume] in Serum or Plasma  11.00     11.00   \n",
       "   avg_value  \n",
       "1  102.7142857\n",
       "2    0.4328571\n",
       "3    8.9818182\n",
       "4    4.1285714\n",
       "5    9.1428571\n",
       "6  104.0000000\n",
       "7    0.6300000\n",
       "8    7.5456522\n",
       "9    4.1000000\n",
       "10   9.0000000\n",
       "11  99.0000000\n",
       "12   0.5911111\n",
       "13   8.3692308\n",
       "14   4.2000000\n",
       "15   9.7500000\n",
       "16 102.0000000\n",
       "17   0.6000000\n",
       "18  12.2333333\n",
       "19   3.6000000\n",
       "20  11.0000000"
      ]
     },
     "metadata": {},
     "output_type": "display_data"
    }
   ],
   "source": [
    "############################################################\n",
    "##### YOUR SOLUTION GOES HERE\n",
    "############################################################\n",
    "sql = format.query(\"\n",
    "WITH cohort AS (\n",
    "    SELECT \n",
    "        DISTINCT measurement.person_id\n",
    "    FROM project_name.dataset_name.measurement measurement\n",
    "    JOIN project_name.dataset_name.condition_occurrence condition ON measurement.person_id = condition.person_id\n",
    "    WHERE\n",
    "        measurement.measurement_concept_id = 3004410\n",
    "        AND measurement.value_as_number >= 8\n",
    "        AND condition.condition_concept_id = 4193704 \n",
    "),\n",
    "\n",
    "lab_values AS (\n",
    "    SELECT\n",
    "        c.person_id,\n",
    "        concept.concept_id,\n",
    "        concept.concept_name,\n",
    "        measurement.value_as_number\n",
    "    FROM cohort c\n",
    "    INNER JOIN project_name.dataset_name.measurement measurement USING (person_id)\n",
    "    INNER JOIN project_name.dataset_name.concept concept ON measurement.measurement_concept_id = concept.concept_id\n",
    "    WHERE\n",
    "        measurement.value_as_number IS NOT NULL\n",
    "        AND concept.concept_id IN (3004410, 3016723, 3013682, 3023103, 3014576)\n",
    ")\n",
    "\n",
    "SELECT\n",
    "    person_id,\n",
    "    concept_name,\n",
    "    MIN(value_as_number) as min_value,\n",
    "    MAX(value_as_number) as max_value,\n",
    "    AVG(value_as_number) as avg_value\n",
    "FROM lab_values\n",
    "GROUP BY person_id, concept_name\n",
    "ORDER BY person_id, concept_name\n",
    "\")\n",
    "\n",
    "tb <- bq_project_query(project_name, sql)\n",
    "df_lab_results <- bq_table_download(tb)\n",
    "head(df_lab_results, 20)"
   ]
  },
  {
   "cell_type": "code",
   "execution_count": null,
   "metadata": {},
   "outputs": [],
   "source": []
  }
 ],
 "metadata": {
  "colab": {
   "provenance": []
  },
  "kernelspec": {
   "display_name": "R",
   "language": "R",
   "name": "ir"
  },
  "language_info": {
   "codemirror_mode": "r",
   "file_extension": ".r",
   "mimetype": "text/x-r-source",
   "name": "R",
   "pygments_lexer": "r",
   "version": "4.1.2"
  }
 },
 "nbformat": 4,
 "nbformat_minor": 4
}
