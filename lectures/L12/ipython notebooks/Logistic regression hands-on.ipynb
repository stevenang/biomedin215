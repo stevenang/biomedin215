{
 "cells": [
  {
   "cell_type": "code",
   "execution_count": 1,
   "metadata": {
    "ExecuteTime": {
     "end_time": "2017-10-31T21:03:32.999402Z",
     "start_time": "2017-10-31T21:03:31.349Z"
    }
   },
   "outputs": [
    {
     "name": "stderr",
     "output_type": "stream",
     "text": [
      "Warning message:\n",
      ": package ‘tidyverse’ was built under R version 3.2.5Loading tidyverse: ggplot2\n",
      "Loading tidyverse: tibble\n",
      "Loading tidyverse: tidyr\n",
      "Loading tidyverse: readr\n",
      "Loading tidyverse: purrr\n",
      "Loading tidyverse: dplyr\n",
      "Warning message:\n",
      ": package ‘ggplot2’ was built under R version 3.2.5Warning message:\n",
      ": package ‘tibble’ was built under R version 3.2.5Warning message:\n",
      ": package ‘tidyr’ was built under R version 3.2.5Warning message:\n",
      ": package ‘readr’ was built under R version 3.2.5Warning message:\n",
      ": package ‘purrr’ was built under R version 3.2.5Warning message:\n",
      ": package ‘dplyr’ was built under R version 3.2.5Conflicts with tidy packages ---------------------------------------------------\n",
      "filter(): dplyr, stats\n",
      "lag():    dplyr, stats\n",
      "\n",
      "Attaching package: ‘magrittr’\n",
      "\n",
      "The following object is masked from ‘package:purrr’:\n",
      "\n",
      "    set_names\n",
      "\n",
      "The following object is masked from ‘package:tidyr’:\n",
      "\n",
      "    extract\n",
      "\n",
      "\n",
      "Attaching package: ‘MASS’\n",
      "\n",
      "The following object is masked from ‘package:dplyr’:\n",
      "\n",
      "    select\n",
      "\n"
     ]
    }
   ],
   "source": [
    "library(tidyverse)\n",
    "library(magrittr)\n",
    "library(MASS)\n",
    "plotsize = function (x,y) options(repr.plot.width=x, repr.plot.height=y)"
   ]
  },
  {
   "cell_type": "code",
   "execution_count": 2,
   "metadata": {
    "ExecuteTime": {
     "end_time": "2017-10-31T21:03:33.035707Z",
     "start_time": "2017-10-31T21:03:32.464Z"
    }
   },
   "outputs": [],
   "source": [
    "rand_sigma <- function (n, ev = runif(n, 0, 10)) {\n",
    "    Z <- matrix(ncol=n, rnorm(n^2))\n",
    "    decomp <- qr(Z)\n",
    "    Q <- qr.Q(decomp) \n",
    "    R <- qr.R(decomp)\n",
    "    d <- diag(R)\n",
    "    ph <- d / abs(d)\n",
    "    O <- Q %*% diag(ph)\n",
    "    Z <- t(O) %*% diag(ev) %*% O\n",
    "    return(Z)\n",
    "}"
   ]
  },
  {
   "cell_type": "code",
   "execution_count": 3,
   "metadata": {
    "ExecuteTime": {
     "end_time": "2017-10-31T21:03:35.584688Z",
     "start_time": "2017-10-31T21:03:35.564Z"
    }
   },
   "outputs": [],
   "source": [
    "logit = function(p) log(p/1-p)\n",
    "logistic = function(x) 1/(1+exp(-x))"
   ]
  },
  {
   "cell_type": "markdown",
   "metadata": {},
   "source": [
    "## Logistic Regression Example"
   ]
  },
  {
   "cell_type": "code",
   "execution_count": 4,
   "metadata": {
    "ExecuteTime": {
     "end_time": "2017-10-31T21:04:17.351420Z",
     "start_time": "2017-10-31T21:04:17.272Z"
    }
   },
   "outputs": [
    {
     "name": "stderr",
     "output_type": "stream",
     "text": [
      "Warning message:\n",
      ": package ‘bindrcpp’ was built under R version 3.2.5"
     ]
    }
   ],
   "source": [
    "n = 100\n",
    "p = 5\n",
    "DATA = mvrnorm(n, rep(0,p), rand_sigma(p)) %>% \n",
    "    data.frame %>%\n",
    "    mutate(Y = rbinom(n,1,logistic(2.5*X3 + X4 - X1 + 0.1*X5)))"
   ]
  },
  {
   "cell_type": "code",
   "execution_count": 5,
   "metadata": {
    "ExecuteTime": {
     "end_time": "2017-10-31T21:04:18.134647Z",
     "start_time": "2017-10-31T21:04:17.834Z"
    },
    "scrolled": false
   },
   "outputs": [
    {
     "data": {
      "text/plain": [
       "\n",
       "Call:\n",
       "glm(formula = Y ~ ., family = binomial(link = \"logit\"), data = DATA)\n",
       "\n",
       "Deviance Residuals: \n",
       "     Min        1Q    Median        3Q       Max  \n",
       "-2.39199  -0.12416   0.00000   0.05613   1.83121  \n",
       "\n",
       "Coefficients:\n",
       "            Estimate Std. Error z value Pr(>|z|)    \n",
       "(Intercept)  -0.8836     0.5881  -1.503 0.132937    \n",
       "X1           -1.7649     0.6517  -2.708 0.006766 ** \n",
       "X2            0.3774     0.3095   1.219 0.222681    \n",
       "X3            3.7218     0.9940   3.744 0.000181 ***\n",
       "X4            1.9873     0.7203   2.759 0.005799 ** \n",
       "X5            0.2076     0.3815   0.544 0.586424    \n",
       "---\n",
       "Signif. codes:  0 ‘***’ 0.001 ‘**’ 0.01 ‘*’ 0.05 ‘.’ 0.1 ‘ ’ 1\n",
       "\n",
       "(Dispersion parameter for binomial family taken to be 1)\n",
       "\n",
       "    Null deviance: 138.629  on 99  degrees of freedom\n",
       "Residual deviance:  30.445  on 94  degrees of freedom\n",
       "AIC: 42.445\n",
       "\n",
       "Number of Fisher Scoring iterations: 8\n"
      ]
     },
     "execution_count": 5,
     "metadata": {},
     "output_type": "execute_result"
    },
    {
     "name": "stderr",
     "output_type": "stream",
     "text": [
      "Waiting for profiling to be done...\n",
      "Warning message:\n",
      ": glm.fit: fitted probabilities numerically 0 or 1 occurredWarning message:\n",
      ": glm.fit: fitted probabilities numerically 0 or 1 occurredWarning message:\n",
      ": glm.fit: fitted probabilities numerically 0 or 1 occurredWarning message:\n",
      ": glm.fit: fitted probabilities numerically 0 or 1 occurredWarning message:\n",
      ": glm.fit: fitted probabilities numerically 0 or 1 occurredWarning message:\n",
      ": glm.fit: fitted probabilities numerically 0 or 1 occurredWarning message:\n",
      ": glm.fit: fitted probabilities numerically 0 or 1 occurredWarning message:\n",
      ": glm.fit: fitted probabilities numerically 0 or 1 occurredWarning message:\n",
      ": glm.fit: fitted probabilities numerically 0 or 1 occurredWarning message:\n",
      ": glm.fit: fitted probabilities numerically 0 or 1 occurredWarning message:\n",
      ": glm.fit: fitted probabilities numerically 0 or 1 occurredWarning message:\n",
      ": glm.fit: fitted probabilities numerically 0 or 1 occurredWarning message:\n",
      ": glm.fit: fitted probabilities numerically 0 or 1 occurredWarning message:\n",
      ": glm.fit: fitted probabilities numerically 0 or 1 occurredWarning message:\n",
      ": glm.fit: fitted probabilities numerically 0 or 1 occurredWarning message:\n",
      ": glm.fit: fitted probabilities numerically 0 or 1 occurredWarning message:\n",
      ": glm.fit: fitted probabilities numerically 0 or 1 occurredWarning message:\n",
      ": glm.fit: fitted probabilities numerically 0 or 1 occurredWarning message:\n",
      ": glm.fit: fitted probabilities numerically 0 or 1 occurred"
     ]
    },
    {
     "data": {
      "text/html": [
       "<table>\n",
       "<thead><tr><th></th><th scope=col>2.5 %</th><th scope=col>97.5 %</th></tr></thead>\n",
       "<tbody>\n",
       "\t<tr><th scope=row>(Intercept)</th><td>-2.1588537</td><td> 0.2292551</td></tr>\n",
       "\t<tr><th scope=row>X1</th><td>-3.3335453</td><td>-0.6649237</td></tr>\n",
       "\t<tr><th scope=row>X2</th><td>-0.198212</td><td> 1.061575</td></tr>\n",
       "\t<tr><th scope=row>X3</th><td>2.200124</td><td>6.271502</td></tr>\n",
       "\t<tr><th scope=row>X4</th><td>0.8181419</td><td>3.7623960</td></tr>\n",
       "\t<tr><th scope=row>X5</th><td>-0.5093781</td><td> 1.0513811</td></tr>\n",
       "</tbody>\n",
       "</table>\n"
      ],
      "text/latex": [
       "\\begin{tabular}{r|ll}\n",
       "  & 2.5 % & 97.5 %\\\\\n",
       "\\hline\n",
       "\t(Intercept) & -2.1588537 &  0.2292551\\\\\n",
       "\tX1 & -3.3335453 & -0.6649237\\\\\n",
       "\tX2 & -0.198212 &  1.061575\\\\\n",
       "\tX3 & 2.200124 & 6.271502\\\\\n",
       "\tX4 & 0.8181419 & 3.7623960\\\\\n",
       "\tX5 & -0.5093781 &  1.0513811\\\\\n",
       "\\end{tabular}\n"
      ],
      "text/markdown": [
       "1. -2.15885371810444\n",
       "2. -3.33354526949101\n",
       "3. -0.198211953161135\n",
       "4. 2.20012441552556\n",
       "5. 0.818141940465818\n",
       "6. -0.509378071340248\n",
       "7. 0.229255057827088\n",
       "8. -0.664923723178029\n",
       "9. 1.06157452949063\n",
       "10. 6.27150151808661\n",
       "11. 3.76239596274731\n",
       "12. 1.05138110382358\n",
       "\n",
       "\n"
      ],
      "text/plain": [
       "                 2.5 %     97.5 %\n",
       "(Intercept) -2.1588537  0.2292551\n",
       "X1          -3.3335453 -0.6649237\n",
       "X2          -0.1982120  1.0615745\n",
       "X3           2.2001244  6.2715015\n",
       "X4           0.8181419  3.7623960\n",
       "X5          -0.5093781  1.0513811"
      ]
     },
     "execution_count": 5,
     "metadata": {},
     "output_type": "execute_result"
    }
   ],
   "source": [
    "fit = glm(Y~., data=DATA, family=binomial(link='logit'))\n",
    "fit %>% summary\n",
    "fit %>% confint"
   ]
  },
  {
   "cell_type": "markdown",
   "metadata": {},
   "source": [
    "## Example with correlated predictors"
   ]
  },
  {
   "cell_type": "code",
   "execution_count": 11,
   "metadata": {
    "ExecuteTime": {
     "end_time": "2017-10-31T21:05:12.354784Z",
     "start_time": "2017-10-31T21:05:12.329Z"
    }
   },
   "outputs": [],
   "source": [
    "n = 100\n",
    "p = 3\n",
    "sigma = matrix(c(1,0,0,\n",
    "               0, 1, 0.95,\n",
    "               0, 0.95, 1), nrow=3)\n",
    "DATA = mvrnorm(n, c(0,0,0), sigma) %>% \n",
    "    data.frame %>%\n",
    "    mutate(Y = rbinom(n,1,logistic(X3 -0.5*X1)))"
   ]
  },
  {
   "cell_type": "code",
   "execution_count": 12,
   "metadata": {
    "ExecuteTime": {
     "end_time": "2017-10-31T21:05:12.715986Z",
     "start_time": "2017-10-31T21:05:12.617Z"
    }
   },
   "outputs": [
    {
     "data": {
      "text/plain": [
       "\n",
       "Call:\n",
       "glm(formula = Y ~ ., family = binomial(link = \"logit\"), data = DATA)\n",
       "\n",
       "Deviance Residuals: \n",
       "    Min       1Q   Median       3Q      Max  \n",
       "-2.3716  -0.8688   0.4637   0.9198   1.8438  \n",
       "\n",
       "Coefficients:\n",
       "            Estimate Std. Error z value Pr(>|z|)  \n",
       "(Intercept)   0.2997     0.2349   1.276   0.2019  \n",
       "X1           -0.5299     0.2599  -2.039   0.0415 *\n",
       "X2            0.4501     0.7609   0.592   0.5542  \n",
       "X3            0.6914     0.7744   0.893   0.3719  \n",
       "---\n",
       "Signif. codes:  0 ‘***’ 0.001 ‘**’ 0.01 ‘*’ 0.05 ‘.’ 0.1 ‘ ’ 1\n",
       "\n",
       "(Dispersion parameter for binomial family taken to be 1)\n",
       "\n",
       "    Null deviance: 136.06  on 99  degrees of freedom\n",
       "Residual deviance: 108.05  on 96  degrees of freedom\n",
       "AIC: 116.05\n",
       "\n",
       "Number of Fisher Scoring iterations: 4\n"
      ]
     },
     "execution_count": 12,
     "metadata": {},
     "output_type": "execute_result"
    },
    {
     "name": "stderr",
     "output_type": "stream",
     "text": [
      "Waiting for profiling to be done...\n"
     ]
    },
    {
     "data": {
      "text/html": [
       "<table>\n",
       "<thead><tr><th></th><th scope=col>2.5 %</th><th scope=col>97.5 %</th></tr></thead>\n",
       "<tbody>\n",
       "\t<tr><th scope=row>(Intercept)</th><td>-0.1584572</td><td> 0.7684045</td></tr>\n",
       "\t<tr><th scope=row>X1</th><td>-1.06315578</td><td>-0.03447326</td></tr>\n",
       "\t<tr><th scope=row>X2</th><td>-1.047346</td><td> 1.987283</td></tr>\n",
       "\t<tr><th scope=row>X3</th><td>-0.8290038</td><td> 2.2582850</td></tr>\n",
       "</tbody>\n",
       "</table>\n"
      ],
      "text/latex": [
       "\\begin{tabular}{r|ll}\n",
       "  & 2.5 % & 97.5 %\\\\\n",
       "\\hline\n",
       "\t(Intercept) & -0.1584572 &  0.7684045\\\\\n",
       "\tX1 & -1.06315578 & -0.03447326\\\\\n",
       "\tX2 & -1.047346 &  1.987283\\\\\n",
       "\tX3 & -0.8290038 &  2.2582850\\\\\n",
       "\\end{tabular}\n"
      ],
      "text/markdown": [
       "1. -0.158457214435303\n",
       "2. -1.06315578267217\n",
       "3. -1.04734609657464\n",
       "4. -0.829003768392902\n",
       "5. 0.768404461792646\n",
       "6. -0.0344732622531949\n",
       "7. 1.98728331251605\n",
       "8. 2.25828496923782\n",
       "\n",
       "\n"
      ],
      "text/plain": [
       "                 2.5 %      97.5 %\n",
       "(Intercept) -0.1584572  0.76840446\n",
       "X1          -1.0631558 -0.03447326\n",
       "X2          -1.0473461  1.98728331\n",
       "X3          -0.8290038  2.25828497"
      ]
     },
     "execution_count": 12,
     "metadata": {},
     "output_type": "execute_result"
    }
   ],
   "source": [
    "fit = glm(Y~., data=DATA, family=binomial(link='logit'))\n",
    "fit %>% summary\n",
    "fit %>% confint"
   ]
  },
  {
   "cell_type": "markdown",
   "metadata": {},
   "source": [
    "## logistic regression with one categorical predictor, chi-squared test, and fisher exact test"
   ]
  },
  {
   "cell_type": "code",
   "execution_count": 13,
   "metadata": {
    "ExecuteTime": {
     "end_time": "2017-10-31T21:05:47.068655Z",
     "start_time": "2017-10-31T21:05:47.046Z"
    }
   },
   "outputs": [],
   "source": [
    "n = 100\n",
    "DATA = data.frame(X = rbinom(n,1,0.3)) %>%\n",
    "    mutate(Y = rbinom(n,1,logistic(1.4*X)))"
   ]
  },
  {
   "cell_type": "code",
   "execution_count": 14,
   "metadata": {
    "ExecuteTime": {
     "end_time": "2017-10-31T21:05:51.000588Z",
     "start_time": "2017-10-31T21:05:49.855Z"
    }
   },
   "outputs": [
    {
     "data": {
      "text/html": [
       "<table>\n",
       "<thead><tr><th></th><th scope=col>X</th><th scope=col>Y</th></tr></thead>\n",
       "<tbody>\n",
       "\t<tr><th scope=row>1</th><td>0</td><td>1</td></tr>\n",
       "\t<tr><th scope=row>2</th><td>0</td><td>0</td></tr>\n",
       "\t<tr><th scope=row>3</th><td>1</td><td>1</td></tr>\n",
       "\t<tr><th scope=row>4</th><td>0</td><td>1</td></tr>\n",
       "\t<tr><th scope=row>5</th><td>0</td><td>1</td></tr>\n",
       "\t<tr><th scope=row>6</th><td>0</td><td>0</td></tr>\n",
       "</tbody>\n",
       "</table>\n"
      ],
      "text/latex": [
       "\\begin{tabular}{r|ll}\n",
       "  & X & Y\\\\\n",
       "\\hline\n",
       "\t1 & 0 & 1\\\\\n",
       "\t2 & 0 & 0\\\\\n",
       "\t3 & 1 & 1\\\\\n",
       "\t4 & 0 & 1\\\\\n",
       "\t5 & 0 & 1\\\\\n",
       "\t6 & 0 & 0\\\\\n",
       "\\end{tabular}\n"
      ],
      "text/plain": [
       "  X Y\n",
       "1 0 1\n",
       "2 0 0\n",
       "3 1 1\n",
       "4 0 1\n",
       "5 0 1\n",
       "6 0 0"
      ]
     },
     "execution_count": 14,
     "metadata": {},
     "output_type": "execute_result"
    },
    {
     "data": {
      "text/plain": [
       "   Y\n",
       "X    0  1\n",
       "  0 35 31\n",
       "  1  8 26"
      ]
     },
     "execution_count": 14,
     "metadata": {},
     "output_type": "execute_result"
    },
    {
     "data": {
      "text/html": [
       "<table>\n",
       "<thead><tr><th></th><th scope=col>X</th><th scope=col>X0</th><th scope=col>X1</th></tr></thead>\n",
       "<tbody>\n",
       "\t<tr><th scope=row>1</th><td>0</td><td>35</td><td>31</td></tr>\n",
       "\t<tr><th scope=row>2</th><td>1</td><td>8</td><td>26</td></tr>\n",
       "</tbody>\n",
       "</table>\n"
      ],
      "text/latex": [
       "\\begin{tabular}{r|lll}\n",
       "  & X & X0 & X1\\\\\n",
       "\\hline\n",
       "\t1 & 0 & 35 & 31\\\\\n",
       "\t2 & 1 & 8 & 26\\\\\n",
       "\\end{tabular}\n"
      ],
      "text/plain": [
       "  X X0 X1\n",
       "1 0 35 31\n",
       "2 1  8 26"
      ]
     },
     "execution_count": 14,
     "metadata": {},
     "output_type": "execute_result"
    },
    {
     "data": {
      "image/png": "[encoded data removed]",
      "image/svg+xml": [
       "<?xml version=\"1.0\" encoding=\"UTF-8\"?>\n",
       "<svg xmlns=\"http://www.w3.org/2000/svg\" xmlns:xlink=\"http://www.w3.org/1999/xlink\" width=\"144pt\" height=\"144pt\" viewBox=\"0 0 144 144\" version=\"1.1\">\n",
       "<defs>\n",
       "<g>\n",
       "<symbol overflow=\"visible\" id=\"glyph0-0\">\n",
       "<path style=\"stroke:none;\" d=\"M 0.28125 0 L 0.28125 -6.3125 L 5.296875 -6.3125 L 5.296875 0 Z M 4.5 -0.796875 L 4.5 -5.515625 L 1.078125 -5.515625 L 1.078125 -0.796875 Z \"/>\n",
       "</symbol>\n",
       "<symbol overflow=\"visible\" id=\"glyph0-1\">\n",
       "<path style=\"stroke:none;\" d=\"M 2.375 -6.15625 C 3.175781 -6.15625 3.753906 -5.828125 4.109375 -5.171875 C 4.378906 -4.660156 4.515625 -3.960938 4.515625 -3.078125 C 4.515625 -2.242188 4.390625 -1.554688 4.140625 -1.015625 C 3.785156 -0.222656 3.195312 0.171875 2.375 0.171875 C 1.632812 0.171875 1.082031 -0.148438 0.71875 -0.796875 C 0.425781 -1.328125 0.28125 -2.046875 0.28125 -2.953125 C 0.28125 -3.648438 0.367188 -4.25 0.546875 -4.75 C 0.878906 -5.6875 1.488281 -6.15625 2.375 -6.15625 Z M 2.375 -0.53125 C 2.769531 -0.53125 3.085938 -0.707031 3.328125 -1.0625 C 3.566406 -1.425781 3.6875 -2.085938 3.6875 -3.046875 C 3.6875 -3.753906 3.597656 -4.332031 3.421875 -4.78125 C 3.253906 -5.226562 2.921875 -5.453125 2.421875 -5.453125 C 1.972656 -5.453125 1.640625 -5.238281 1.421875 -4.8125 C 1.210938 -4.382812 1.109375 -3.753906 1.109375 -2.921875 C 1.109375 -2.296875 1.175781 -1.789062 1.3125 -1.40625 C 1.519531 -0.820312 1.875 -0.53125 2.375 -0.53125 Z \"/>\n",
       "</symbol>\n",
       "<symbol overflow=\"visible\" id=\"glyph0-2\">\n",
       "<path style=\"stroke:none;\" d=\"M 0.75 -0.9375 L 1.65625 -0.9375 L 1.65625 0 L 0.75 0 Z \"/>\n",
       "</symbol>\n",
       "<symbol overflow=\"visible\" id=\"glyph0-3\">\n",
       "<path style=\"stroke:none;\" d=\"M 2.90625 -2.171875 L 2.90625 -4.96875 L 0.9375 -2.171875 Z M 2.921875 0 L 2.921875 -1.5 L 0.21875 -1.5 L 0.21875 -2.265625 L 3.046875 -6.171875 L 3.6875 -6.171875 L 3.6875 -2.171875 L 4.59375 -2.171875 L 4.59375 -1.5 L 3.6875 -1.5 L 3.6875 0 Z \"/>\n",
       "</symbol>\n",
       "<symbol overflow=\"visible\" id=\"glyph0-4\">\n",
       "<path style=\"stroke:none;\" d=\"M 2.390625 -3.578125 C 2.734375 -3.578125 3 -3.671875 3.1875 -3.859375 C 3.382812 -4.046875 3.484375 -4.273438 3.484375 -4.546875 C 3.484375 -4.773438 3.390625 -4.984375 3.203125 -5.171875 C 3.015625 -5.359375 2.734375 -5.453125 2.359375 -5.453125 C 1.992188 -5.453125 1.726562 -5.359375 1.5625 -5.171875 C 1.394531 -4.984375 1.3125 -4.757812 1.3125 -4.5 C 1.3125 -4.207031 1.414062 -3.976562 1.625 -3.8125 C 1.84375 -3.65625 2.097656 -3.578125 2.390625 -3.578125 Z M 2.4375 -0.53125 C 2.800781 -0.53125 3.097656 -0.625 3.328125 -0.8125 C 3.566406 -1.007812 3.6875 -1.300781 3.6875 -1.6875 C 3.6875 -2.082031 3.5625 -2.382812 3.3125 -2.59375 C 3.070312 -2.800781 2.765625 -2.90625 2.390625 -2.90625 C 2.015625 -2.90625 1.707031 -2.796875 1.46875 -2.578125 C 1.238281 -2.367188 1.125 -2.078125 1.125 -1.703125 C 1.125 -1.390625 1.226562 -1.113281 1.4375 -0.875 C 1.65625 -0.644531 1.988281 -0.53125 2.4375 -0.53125 Z M 1.34375 -3.28125 C 1.125 -3.375 0.957031 -3.476562 0.84375 -3.59375 C 0.613281 -3.820312 0.5 -4.125 0.5 -4.5 C 0.5 -4.957031 0.664062 -5.347656 1 -5.671875 C 1.332031 -6.003906 1.800781 -6.171875 2.40625 -6.171875 C 3 -6.171875 3.460938 -6.015625 3.796875 -5.703125 C 4.128906 -5.390625 4.296875 -5.023438 4.296875 -4.609375 C 4.296875 -4.222656 4.195312 -3.914062 4 -3.6875 C 3.894531 -3.550781 3.726562 -3.414062 3.5 -3.28125 C 3.757812 -3.164062 3.960938 -3.03125 4.109375 -2.875 C 4.378906 -2.59375 4.515625 -2.222656 4.515625 -1.765625 C 4.515625 -1.222656 4.332031 -0.765625 3.96875 -0.390625 C 3.601562 -0.015625 3.085938 0.171875 2.421875 0.171875 C 1.828125 0.171875 1.320312 0.0078125 0.90625 -0.3125 C 0.488281 -0.632812 0.28125 -1.109375 0.28125 -1.734375 C 0.28125 -2.085938 0.367188 -2.394531 0.546875 -2.65625 C 0.722656 -2.925781 0.988281 -3.132812 1.34375 -3.28125 Z \"/>\n",
       "</symbol>\n",
       "<symbol overflow=\"visible\" id=\"glyph1-0\">\n",
       "<path style=\"stroke:none;\" d=\"M 0.359375 0 L 0.359375 -7.890625 L 6.625 -7.890625 L 6.625 0 Z M 5.625 -0.984375 L 5.625 -6.90625 L 1.34375 -6.90625 L 1.34375 -0.984375 Z \"/>\n",
       "</symbol>\n",
       "<symbol overflow=\"visible\" id=\"glyph1-1\">\n",
       "<path style=\"stroke:none;\" d=\"M 1.515625 0 L 0.21875 0 L 3.046875 -4.046875 L 0.40625 -7.890625 L 1.734375 -7.890625 L 3.75 -4.875 L 5.75 -7.890625 L 7.03125 -7.890625 L 4.375 -4.046875 L 7.15625 0 L 5.828125 0 L 3.703125 -3.25 Z \"/>\n",
       "</symbol>\n",
       "<symbol overflow=\"visible\" id=\"glyph2-0\">\n",
       "<path style=\"stroke:none;\" d=\"M 0 -0.359375 L -7.890625 -0.359375 L -7.890625 -6.625 L 0 -6.625 Z M -0.984375 -5.625 L -6.90625 -5.625 L -6.90625 -1.34375 L -0.984375 -1.34375 Z \"/>\n",
       "</symbol>\n",
       "<symbol overflow=\"visible\" id=\"glyph2-1\">\n",
       "<path style=\"stroke:none;\" d=\"M -7.890625 -0.21875 L -7.890625 -1.46875 L -4.09375 -3.734375 L -7.890625 -6 L -7.890625 -7.25 L -3.1875 -4.28125 L 0 -4.28125 L 0 -3.203125 L -3.1875 -3.203125 Z M -7.890625 -3.75 Z \"/>\n",
       "</symbol>\n",
       "</g>\n",
       "<clipPath id=\"clip1\">\n",
       "  <path d=\"M 36.011719 5.480469 L 139 5.480469 L 139 114 L 36.011719 114 Z \"/>\n",
       "</clipPath>\n",
       "<clipPath id=\"clip2\">\n",
       "  <path d=\"M 36.011719 84 L 139 84 L 139 85 L 36.011719 85 Z \"/>\n",
       "</clipPath>\n",
       "<clipPath id=\"clip3\">\n",
       "  <path d=\"M 36.011719 51 L 139 51 L 139 52 L 36.011719 52 Z \"/>\n",
       "</clipPath>\n",
       "<clipPath id=\"clip4\">\n",
       "  <path d=\"M 36.011719 18 L 139 18 L 139 19 L 36.011719 19 Z \"/>\n",
       "</clipPath>\n",
       "<clipPath id=\"clip5\">\n",
       "  <path d=\"M 63 5.480469 L 65 5.480469 L 65 114.90625 L 63 114.90625 Z \"/>\n",
       "</clipPath>\n",
       "<clipPath id=\"clip6\">\n",
       "  <path d=\"M 94 5.480469 L 96 5.480469 L 96 114.90625 L 94 114.90625 Z \"/>\n",
       "</clipPath>\n",
       "<clipPath id=\"clip7\">\n",
       "  <path d=\"M 125 5.480469 L 127 5.480469 L 127 114.90625 L 125 114.90625 Z \"/>\n",
       "</clipPath>\n",
       "<clipPath id=\"clip8\">\n",
       "  <path d=\"M 36.011719 100 L 139.523438 100 L 139.523438 102 L 36.011719 102 Z \"/>\n",
       "</clipPath>\n",
       "<clipPath id=\"clip9\">\n",
       "  <path d=\"M 36.011719 67 L 139.523438 67 L 139.523438 69 L 36.011719 69 Z \"/>\n",
       "</clipPath>\n",
       "<clipPath id=\"clip10\">\n",
       "  <path d=\"M 36.011719 34 L 139.523438 34 L 139.523438 36 L 36.011719 36 Z \"/>\n",
       "</clipPath>\n",
       "<clipPath id=\"clip11\">\n",
       "  <path d=\"M 47 5.480469 L 49 5.480469 L 49 114.90625 L 47 114.90625 Z \"/>\n",
       "</clipPath>\n",
       "<clipPath id=\"clip12\">\n",
       "  <path d=\"M 78 5.480469 L 81 5.480469 L 81 114.90625 L 78 114.90625 Z \"/>\n",
       "</clipPath>\n",
       "<clipPath id=\"clip13\">\n",
       "  <path d=\"M 110 5.480469 L 112 5.480469 L 112 114.90625 L 110 114.90625 Z \"/>\n",
       "</clipPath>\n",
       "</defs>\n",
       "<g id=\"surface1\">\n",
       "<rect x=\"0\" y=\"0\" width=\"144\" height=\"144\" style=\"fill:rgb(100%,100%,100%);fill-opacity:1;stroke:none;\"/>\n",
       "<rect x=\"0\" y=\"0\" width=\"144\" height=\"144\" style=\"fill:rgb(100%,100%,100%);fill-opacity:1;stroke:none;\"/>\n",
       "<path style=\"fill:none;stroke-width:1.066978;stroke-linecap:round;stroke-linejoin:round;stroke:rgb(100%,100%,100%);stroke-opacity:1;stroke-miterlimit:10;\" d=\"M 0 144 L 144 144 L 144 0 L 0 0 Z \"/>\n",
       "<g clip-path=\"url(#clip1)\" clip-rule=\"nonzero\">\n",
       "<path style=\" stroke:none;fill-rule:nonzero;fill:rgb(92.156863%,92.156863%,92.156863%);fill-opacity:1;\" d=\"M 36.011719 113.90625 L 138.523438 113.90625 L 138.523438 5.480469 L 36.011719 5.480469 Z \"/>\n",
       "</g>\n",
       "<g clip-path=\"url(#clip2)\" clip-rule=\"nonzero\">\n",
       "<path style=\"fill:none;stroke-width:0.533489;stroke-linecap:butt;stroke-linejoin:round;stroke:rgb(100%,100%,100%);stroke-opacity:1;stroke-miterlimit:10;\" d=\"M 36.011719 84.507812 L 138.519531 84.507812 \"/>\n",
       "</g>\n",
       "<g clip-path=\"url(#clip3)\" clip-rule=\"nonzero\">\n",
       "<path style=\"fill:none;stroke-width:0.533489;stroke-linecap:butt;stroke-linejoin:round;stroke:rgb(100%,100%,100%);stroke-opacity:1;stroke-miterlimit:10;\" d=\"M 36.011719 51.5625 L 138.519531 51.5625 \"/>\n",
       "</g>\n",
       "<g clip-path=\"url(#clip4)\" clip-rule=\"nonzero\">\n",
       "<path style=\"fill:none;stroke-width:0.533489;stroke-linecap:butt;stroke-linejoin:round;stroke:rgb(100%,100%,100%);stroke-opacity:1;stroke-miterlimit:10;\" d=\"M 36.011719 18.617188 L 138.519531 18.617188 \"/>\n",
       "</g>\n",
       "<g clip-path=\"url(#clip5)\" clip-rule=\"nonzero\">\n",
       "<path style=\"fill:none;stroke-width:0.533489;stroke-linecap:butt;stroke-linejoin:round;stroke:rgb(100%,100%,100%);stroke-opacity:1;stroke-miterlimit:10;\" d=\"M 63.925781 113.90625 L 63.925781 5.480469 \"/>\n",
       "</g>\n",
       "<g clip-path=\"url(#clip6)\" clip-rule=\"nonzero\">\n",
       "<path style=\"fill:none;stroke-width:0.533489;stroke-linecap:butt;stroke-linejoin:round;stroke:rgb(100%,100%,100%);stroke-opacity:1;stroke-miterlimit:10;\" d=\"M 95.03125 113.90625 L 95.03125 5.480469 \"/>\n",
       "</g>\n",
       "<g clip-path=\"url(#clip7)\" clip-rule=\"nonzero\">\n",
       "<path style=\"fill:none;stroke-width:0.533489;stroke-linecap:butt;stroke-linejoin:round;stroke:rgb(100%,100%,100%);stroke-opacity:1;stroke-miterlimit:10;\" d=\"M 126.132812 113.90625 L 126.132812 5.480469 \"/>\n",
       "</g>\n",
       "<g clip-path=\"url(#clip8)\" clip-rule=\"nonzero\">\n",
       "<path style=\"fill:none;stroke-width:1.066978;stroke-linecap:butt;stroke-linejoin:round;stroke:rgb(100%,100%,100%);stroke-opacity:1;stroke-miterlimit:10;\" d=\"M 36.011719 100.980469 L 138.519531 100.980469 \"/>\n",
       "</g>\n",
       "<g clip-path=\"url(#clip9)\" clip-rule=\"nonzero\">\n",
       "<path style=\"fill:none;stroke-width:1.066978;stroke-linecap:butt;stroke-linejoin:round;stroke:rgb(100%,100%,100%);stroke-opacity:1;stroke-miterlimit:10;\" d=\"M 36.011719 68.035156 L 138.519531 68.035156 \"/>\n",
       "</g>\n",
       "<g clip-path=\"url(#clip10)\" clip-rule=\"nonzero\">\n",
       "<path style=\"fill:none;stroke-width:1.066978;stroke-linecap:butt;stroke-linejoin:round;stroke:rgb(100%,100%,100%);stroke-opacity:1;stroke-miterlimit:10;\" d=\"M 36.011719 35.089844 L 138.519531 35.089844 \"/>\n",
       "</g>\n",
       "<g clip-path=\"url(#clip11)\" clip-rule=\"nonzero\">\n",
       "<path style=\"fill:none;stroke-width:1.066978;stroke-linecap:butt;stroke-linejoin:round;stroke:rgb(100%,100%,100%);stroke-opacity:1;stroke-miterlimit:10;\" d=\"M 48.375 113.90625 L 48.375 5.480469 \"/>\n",
       "</g>\n",
       "<g clip-path=\"url(#clip12)\" clip-rule=\"nonzero\">\n",
       "<path style=\"fill:none;stroke-width:1.066978;stroke-linecap:butt;stroke-linejoin:round;stroke:rgb(100%,100%,100%);stroke-opacity:1;stroke-miterlimit:10;\" d=\"M 79.476562 113.90625 L 79.476562 5.480469 \"/>\n",
       "</g>\n",
       "<g clip-path=\"url(#clip13)\" clip-rule=\"nonzero\">\n",
       "<path style=\"fill:none;stroke-width:1.066978;stroke-linecap:butt;stroke-linejoin:round;stroke:rgb(100%,100%,100%);stroke-opacity:1;stroke-miterlimit:10;\" d=\"M 110.582031 113.90625 L 110.582031 5.480469 \"/>\n",
       "</g>\n",
       "<path style=\"fill-rule:nonzero;fill:rgb(0%,0%,0%);fill-opacity:0.2;stroke-width:0.708661;stroke-linecap:round;stroke-linejoin:round;stroke:rgb(0%,0%,0%);stroke-opacity:0.2;stroke-miterlimit:10;\" d=\"M 53.078125 20.601562 C 53.078125 23.207031 49.167969 23.207031 49.167969 20.601562 C 49.167969 17.992188 53.078125 17.992188 53.078125 20.601562 \"/>\n",
       "<path style=\"fill-rule:nonzero;fill:rgb(0%,0%,0%);fill-opacity:0.2;stroke-width:0.708661;stroke-linecap:round;stroke-linejoin:round;stroke:rgb(0%,0%,0%);stroke-opacity:0.2;stroke-miterlimit:10;\" d=\"M 44.34375 100.65625 C 44.34375 103.265625 40.433594 103.265625 40.433594 100.65625 C 40.433594 98.050781 44.34375 98.050781 44.34375 100.65625 \"/>\n",
       "<path style=\"fill-rule:nonzero;fill:rgb(0%,0%,0%);fill-opacity:0.2;stroke-width:0.708661;stroke-linecap:round;stroke-linejoin:round;stroke:rgb(0%,0%,0%);stroke-opacity:0.2;stroke-miterlimit:10;\" d=\"M 120.484375 20.625 C 120.484375 23.230469 116.574219 23.230469 116.574219 20.625 C 116.574219 18.019531 120.484375 18.019531 120.484375 20.625 \"/>\n",
       "<path style=\"fill-rule:nonzero;fill:rgb(0%,0%,0%);fill-opacity:0.2;stroke-width:0.708661;stroke-linecap:round;stroke-linejoin:round;stroke:rgb(0%,0%,0%);stroke-opacity:0.2;stroke-miterlimit:10;\" d=\"M 54.816406 17.988281 C 54.816406 20.59375 50.90625 20.59375 50.90625 17.988281 C 50.90625 15.382812 54.816406 15.382812 54.816406 17.988281 \"/>\n",
       "<path style=\"fill-rule:nonzero;fill:rgb(0%,0%,0%);fill-opacity:0.2;stroke-width:0.708661;stroke-linecap:round;stroke-linejoin:round;stroke:rgb(0%,0%,0%);stroke-opacity:0.2;stroke-miterlimit:10;\" d=\"M 52.511719 22.175781 C 52.511719 24.785156 48.601562 24.785156 48.601562 22.175781 C 48.601562 19.570312 52.511719 19.570312 52.511719 22.175781 \"/>\n",
       "<path style=\"fill-rule:nonzero;fill:rgb(0%,0%,0%);fill-opacity:0.2;stroke-width:0.708661;stroke-linecap:round;stroke-linejoin:round;stroke:rgb(0%,0%,0%);stroke-opacity:0.2;stroke-miterlimit:10;\" d=\"M 54.472656 103.375 C 54.472656 105.980469 50.5625 105.980469 50.5625 103.375 C 50.5625 100.769531 54.472656 100.769531 54.472656 103.375 \"/>\n",
       "<path style=\"fill-rule:nonzero;fill:rgb(0%,0%,0%);fill-opacity:0.2;stroke-width:0.708661;stroke-linecap:round;stroke-linejoin:round;stroke:rgb(0%,0%,0%);stroke-opacity:0.2;stroke-miterlimit:10;\" d=\"M 45.167969 20.097656 C 45.167969 22.703125 41.257812 22.703125 41.257812 20.097656 C 41.257812 17.492188 45.167969 17.492188 45.167969 20.097656 \"/>\n",
       "<path style=\"fill-rule:nonzero;fill:rgb(0%,0%,0%);fill-opacity:0.2;stroke-width:0.708661;stroke-linecap:round;stroke-linejoin:round;stroke:rgb(0%,0%,0%);stroke-opacity:0.2;stroke-miterlimit:10;\" d=\"M 52.488281 104.851562 C 52.488281 107.457031 48.582031 107.457031 48.582031 104.851562 C 48.582031 102.246094 52.488281 102.246094 52.488281 104.851562 \"/>\n",
       "<path style=\"fill-rule:nonzero;fill:rgb(0%,0%,0%);fill-opacity:0.2;stroke-width:0.708661;stroke-linecap:round;stroke-linejoin:round;stroke:rgb(0%,0%,0%);stroke-opacity:0.2;stroke-miterlimit:10;\" d=\"M 46.65625 21.082031 C 46.65625 23.6875 42.746094 23.6875 42.746094 21.082031 C 42.746094 18.476562 46.65625 18.476562 46.65625 21.082031 \"/>\n",
       "<path style=\"fill-rule:nonzero;fill:rgb(0%,0%,0%);fill-opacity:0.2;stroke-width:0.708661;stroke-linecap:round;stroke-linejoin:round;stroke:rgb(0%,0%,0%);stroke-opacity:0.2;stroke-miterlimit:10;\" d=\"M 57.992188 93.738281 C 57.992188 96.34375 54.082031 96.34375 54.082031 93.738281 C 54.082031 91.128906 57.992188 91.128906 57.992188 93.738281 \"/>\n",
       "<path style=\"fill-rule:nonzero;fill:rgb(0%,0%,0%);fill-opacity:0.2;stroke-width:0.708661;stroke-linecap:round;stroke-linejoin:round;stroke:rgb(0%,0%,0%);stroke-opacity:0.2;stroke-miterlimit:10;\" d=\"M 55.449219 106.0625 C 55.449219 108.667969 51.542969 108.667969 51.542969 106.0625 C 51.542969 103.453125 55.449219 103.453125 55.449219 106.0625 \"/>\n",
       "<path style=\"fill-rule:nonzero;fill:rgb(0%,0%,0%);fill-opacity:0.2;stroke-width:0.708661;stroke-linecap:round;stroke-linejoin:round;stroke:rgb(0%,0%,0%);stroke-opacity:0.2;stroke-miterlimit:10;\" d=\"M 128.304688 19.066406 C 128.304688 21.671875 124.394531 21.671875 124.394531 19.066406 C 124.394531 16.460938 128.304688 16.460938 128.304688 19.066406 \"/>\n",
       "<path style=\"fill-rule:nonzero;fill:rgb(0%,0%,0%);fill-opacity:0.2;stroke-width:0.708661;stroke-linecap:round;stroke-linejoin:round;stroke:rgb(0%,0%,0%);stroke-opacity:0.2;stroke-miterlimit:10;\" d=\"M 52.167969 106.441406 C 52.167969 109.046875 48.257812 109.046875 48.257812 106.441406 C 48.257812 103.832031 52.167969 103.832031 52.167969 106.441406 \"/>\n",
       "<path style=\"fill-rule:nonzero;fill:rgb(0%,0%,0%);fill-opacity:0.2;stroke-width:0.708661;stroke-linecap:round;stroke-linejoin:round;stroke:rgb(0%,0%,0%);stroke-opacity:0.2;stroke-miterlimit:10;\" d=\"M 122.367188 98.632812 C 122.367188 101.242188 118.457031 101.242188 118.457031 98.632812 C 118.457031 96.027344 122.367188 96.027344 122.367188 98.632812 \"/>\n",
       "<path style=\"fill-rule:nonzero;fill:rgb(0%,0%,0%);fill-opacity:0.2;stroke-width:0.708661;stroke-linecap:round;stroke-linejoin:round;stroke:rgb(0%,0%,0%);stroke-opacity:0.2;stroke-miterlimit:10;\" d=\"M 134.671875 21.503906 C 134.671875 24.109375 130.761719 24.109375 130.761719 21.503906 C 130.761719 18.898438 134.671875 18.898438 134.671875 21.503906 \"/>\n",
       "<path style=\"fill-rule:nonzero;fill:rgb(0%,0%,0%);fill-opacity:0.2;stroke-width:0.708661;stroke-linecap:round;stroke-linejoin:round;stroke:rgb(0%,0%,0%);stroke-opacity:0.2;stroke-miterlimit:10;\" d=\"M 125.34375 14.148438 C 125.34375 16.753906 121.4375 16.753906 121.4375 14.148438 C 121.4375 11.542969 125.34375 11.542969 125.34375 14.148438 \"/>\n",
       "<path style=\"fill-rule:nonzero;fill:rgb(0%,0%,0%);fill-opacity:0.2;stroke-width:0.708661;stroke-linecap:round;stroke-linejoin:round;stroke:rgb(0%,0%,0%);stroke-opacity:0.2;stroke-miterlimit:10;\" d=\"M 52.371094 24.628906 C 52.371094 27.234375 48.464844 27.234375 48.464844 24.628906 C 48.464844 22.023438 52.371094 22.023438 52.371094 24.628906 \"/>\n",
       "<path style=\"fill-rule:nonzero;fill:rgb(0%,0%,0%);fill-opacity:0.2;stroke-width:0.708661;stroke-linecap:round;stroke-linejoin:round;stroke:rgb(0%,0%,0%);stroke-opacity:0.2;stroke-miterlimit:10;\" d=\"M 52.046875 22.160156 C 52.046875 24.765625 48.136719 24.765625 48.136719 22.160156 C 48.136719 19.554688 52.046875 19.554688 52.046875 22.160156 \"/>\n",
       "<path style=\"fill-rule:nonzero;fill:rgb(0%,0%,0%);fill-opacity:0.2;stroke-width:0.708661;stroke-linecap:round;stroke-linejoin:round;stroke:rgb(0%,0%,0%);stroke-opacity:0.2;stroke-miterlimit:10;\" d=\"M 43.378906 14.144531 C 43.378906 16.75 39.46875 16.75 39.46875 14.144531 C 39.46875 11.539062 43.378906 11.539062 43.378906 14.144531 \"/>\n",
       "<path style=\"fill-rule:nonzero;fill:rgb(0%,0%,0%);fill-opacity:0.2;stroke-width:0.708661;stroke-linecap:round;stroke-linejoin:round;stroke:rgb(0%,0%,0%);stroke-opacity:0.2;stroke-miterlimit:10;\" d=\"M 125.117188 102.609375 C 125.117188 105.21875 121.207031 105.21875 121.207031 102.609375 C 121.207031 100.003906 125.117188 100.003906 125.117188 102.609375 \"/>\n",
       "<path style=\"fill-rule:nonzero;fill:rgb(0%,0%,0%);fill-opacity:0.2;stroke-width:0.708661;stroke-linecap:round;stroke-linejoin:round;stroke:rgb(0%,0%,0%);stroke-opacity:0.2;stroke-miterlimit:10;\" d=\"M 54.085938 99.21875 C 54.085938 101.824219 50.175781 101.824219 50.175781 99.21875 C 50.175781 96.609375 54.085938 96.609375 54.085938 99.21875 \"/>\n",
       "<path style=\"fill-rule:nonzero;fill:rgb(0%,0%,0%);fill-opacity:0.2;stroke-width:0.708661;stroke-linecap:round;stroke-linejoin:round;stroke:rgb(0%,0%,0%);stroke-opacity:0.2;stroke-miterlimit:10;\" d=\"M 135.21875 25.101562 C 135.21875 27.710938 131.308594 27.710938 131.308594 25.101562 C 131.308594 22.496094 135.21875 22.496094 135.21875 25.101562 \"/>\n",
       "<path style=\"fill-rule:nonzero;fill:rgb(0%,0%,0%);fill-opacity:0.2;stroke-width:0.708661;stroke-linecap:round;stroke-linejoin:round;stroke:rgb(0%,0%,0%);stroke-opacity:0.2;stroke-miterlimit:10;\" d=\"M 56.066406 97.257812 C 56.066406 99.867188 52.15625 99.867188 52.15625 97.257812 C 52.15625 94.652344 56.066406 94.652344 56.066406 97.257812 \"/>\n",
       "<path style=\"fill-rule:nonzero;fill:rgb(0%,0%,0%);fill-opacity:0.2;stroke-width:0.708661;stroke-linecap:round;stroke-linejoin:round;stroke:rgb(0%,0%,0%);stroke-opacity:0.2;stroke-miterlimit:10;\" d=\"M 47.691406 19.164062 C 47.691406 21.769531 43.78125 21.769531 43.78125 19.164062 C 43.78125 16.558594 47.691406 16.558594 47.691406 19.164062 \"/>\n",
       "<path style=\"fill-rule:nonzero;fill:rgb(0%,0%,0%);fill-opacity:0.2;stroke-width:0.708661;stroke-linecap:round;stroke-linejoin:round;stroke:rgb(0%,0%,0%);stroke-opacity:0.2;stroke-miterlimit:10;\" d=\"M 133.519531 19.429688 C 133.519531 22.039062 129.609375 22.039062 129.609375 19.429688 C 129.609375 16.824219 133.519531 16.824219 133.519531 19.429688 \"/>\n",
       "<path style=\"fill-rule:nonzero;fill:rgb(0%,0%,0%);fill-opacity:0.2;stroke-width:0.708661;stroke-linecap:round;stroke-linejoin:round;stroke:rgb(0%,0%,0%);stroke-opacity:0.2;stroke-miterlimit:10;\" d=\"M 52.714844 97.265625 C 52.714844 99.875 48.804688 99.875 48.804688 97.265625 C 48.804688 94.660156 52.714844 94.660156 52.714844 97.265625 \"/>\n",
       "<path style=\"fill-rule:nonzero;fill:rgb(0%,0%,0%);fill-opacity:0.2;stroke-width:0.708661;stroke-linecap:round;stroke-linejoin:round;stroke:rgb(0%,0%,0%);stroke-opacity:0.2;stroke-miterlimit:10;\" d=\"M 55.894531 17.3125 C 55.894531 19.917969 51.984375 19.917969 51.984375 17.3125 C 51.984375 14.707031 55.894531 14.707031 55.894531 17.3125 \"/>\n",
       "<path style=\"fill-rule:nonzero;fill:rgb(0%,0%,0%);fill-opacity:0.2;stroke-width:0.708661;stroke-linecap:round;stroke-linejoin:round;stroke:rgb(0%,0%,0%);stroke-opacity:0.2;stroke-miterlimit:10;\" d=\"M 123.828125 21.546875 C 123.828125 24.15625 119.917969 24.15625 119.917969 21.546875 C 119.917969 18.941406 123.828125 18.941406 123.828125 21.546875 \"/>\n",
       "<path style=\"fill-rule:nonzero;fill:rgb(0%,0%,0%);fill-opacity:0.2;stroke-width:0.708661;stroke-linecap:round;stroke-linejoin:round;stroke:rgb(0%,0%,0%);stroke-opacity:0.2;stroke-miterlimit:10;\" d=\"M 53.96875 18.28125 C 53.96875 20.886719 50.0625 20.886719 50.0625 18.28125 C 50.0625 15.675781 53.96875 15.675781 53.96875 18.28125 \"/>\n",
       "<path style=\"fill-rule:nonzero;fill:rgb(0%,0%,0%);fill-opacity:0.2;stroke-width:0.708661;stroke-linecap:round;stroke-linejoin:round;stroke:rgb(0%,0%,0%);stroke-opacity:0.2;stroke-miterlimit:10;\" d=\"M 131.589844 25.453125 C 131.589844 28.058594 127.679688 28.058594 127.679688 25.453125 C 127.679688 22.847656 131.589844 22.847656 131.589844 25.453125 \"/>\n",
       "<path style=\"fill-rule:nonzero;fill:rgb(0%,0%,0%);fill-opacity:0.2;stroke-width:0.708661;stroke-linecap:round;stroke-linejoin:round;stroke:rgb(0%,0%,0%);stroke-opacity:0.2;stroke-miterlimit:10;\" d=\"M 122.886719 97.441406 C 122.886719 100.046875 118.976562 100.046875 118.976562 97.441406 C 118.976562 94.835938 122.886719 94.835938 122.886719 97.441406 \"/>\n",
       "<path style=\"fill-rule:nonzero;fill:rgb(0%,0%,0%);fill-opacity:0.2;stroke-width:0.708661;stroke-linecap:round;stroke-linejoin:round;stroke:rgb(0%,0%,0%);stroke-opacity:0.2;stroke-miterlimit:10;\" d=\"M 132.730469 97.46875 C 132.730469 100.074219 128.820312 100.074219 128.820312 97.46875 C 128.820312 94.863281 132.730469 94.863281 132.730469 97.46875 \"/>\n",
       "<path style=\"fill-rule:nonzero;fill:rgb(0%,0%,0%);fill-opacity:0.2;stroke-width:0.708661;stroke-linecap:round;stroke-linejoin:round;stroke:rgb(0%,0%,0%);stroke-opacity:0.2;stroke-miterlimit:10;\" d=\"M 50.59375 100.582031 C 50.59375 103.1875 46.683594 103.1875 46.683594 100.582031 C 46.683594 97.972656 50.59375 97.972656 50.59375 100.582031 \"/>\n",
       "<path style=\"fill-rule:nonzero;fill:rgb(0%,0%,0%);fill-opacity:0.2;stroke-width:0.708661;stroke-linecap:round;stroke-linejoin:round;stroke:rgb(0%,0%,0%);stroke-opacity:0.2;stroke-miterlimit:10;\" d=\"M 45.601562 13.40625 C 45.601562 16.011719 41.691406 16.011719 41.691406 13.40625 C 41.691406 10.800781 45.601562 10.800781 45.601562 13.40625 \"/>\n",
       "<path style=\"fill-rule:nonzero;fill:rgb(0%,0%,0%);fill-opacity:0.2;stroke-width:0.708661;stroke-linecap:round;stroke-linejoin:round;stroke:rgb(0%,0%,0%);stroke-opacity:0.2;stroke-miterlimit:10;\" d=\"M 54.449219 12.007812 C 54.449219 14.613281 50.539062 14.613281 50.539062 12.007812 C 50.539062 9.402344 54.449219 9.402344 54.449219 12.007812 \"/>\n",
       "<path style=\"fill-rule:nonzero;fill:rgb(0%,0%,0%);fill-opacity:0.2;stroke-width:0.708661;stroke-linecap:round;stroke-linejoin:round;stroke:rgb(0%,0%,0%);stroke-opacity:0.2;stroke-miterlimit:10;\" d=\"M 120.835938 17.804688 C 120.835938 20.410156 116.925781 20.410156 116.925781 17.804688 C 116.925781 15.195312 120.835938 15.195312 120.835938 17.804688 \"/>\n",
       "<path style=\"fill-rule:nonzero;fill:rgb(0%,0%,0%);fill-opacity:0.2;stroke-width:0.708661;stroke-linecap:round;stroke-linejoin:round;stroke:rgb(0%,0%,0%);stroke-opacity:0.2;stroke-miterlimit:10;\" d=\"M 48.59375 25.167969 C 48.59375 27.773438 44.683594 27.773438 44.683594 25.167969 C 44.683594 22.5625 48.59375 22.5625 48.59375 25.167969 \"/>\n",
       "<path style=\"fill-rule:nonzero;fill:rgb(0%,0%,0%);fill-opacity:0.2;stroke-width:0.708661;stroke-linecap:round;stroke-linejoin:round;stroke:rgb(0%,0%,0%);stroke-opacity:0.2;stroke-miterlimit:10;\" d=\"M 44.792969 11.699219 C 44.792969 14.304688 40.882812 14.304688 40.882812 11.699219 C 40.882812 9.09375 44.792969 9.09375 44.792969 11.699219 \"/>\n",
       "<path style=\"fill-rule:nonzero;fill:rgb(0%,0%,0%);fill-opacity:0.2;stroke-width:0.708661;stroke-linecap:round;stroke-linejoin:round;stroke:rgb(0%,0%,0%);stroke-opacity:0.2;stroke-miterlimit:10;\" d=\"M 47.457031 107.320312 C 47.457031 109.925781 43.546875 109.925781 43.546875 107.320312 C 43.546875 104.710938 47.457031 104.710938 47.457031 107.320312 \"/>\n",
       "<path style=\"fill-rule:nonzero;fill:rgb(0%,0%,0%);fill-opacity:0.2;stroke-width:0.708661;stroke-linecap:round;stroke-linejoin:round;stroke:rgb(0%,0%,0%);stroke-opacity:0.2;stroke-miterlimit:10;\" d=\"M 125.683594 25.304688 C 125.683594 27.910156 121.773438 27.910156 121.773438 25.304688 C 121.773438 22.695312 125.683594 22.695312 125.683594 25.304688 \"/>\n",
       "<path style=\"fill-rule:nonzero;fill:rgb(0%,0%,0%);fill-opacity:0.2;stroke-width:0.708661;stroke-linecap:round;stroke-linejoin:round;stroke:rgb(0%,0%,0%);stroke-opacity:0.2;stroke-miterlimit:10;\" d=\"M 55.269531 95.851562 C 55.269531 98.457031 51.359375 98.457031 51.359375 95.851562 C 51.359375 93.242188 55.269531 93.242188 55.269531 95.851562 \"/>\n",
       "<path style=\"fill-rule:nonzero;fill:rgb(0%,0%,0%);fill-opacity:0.2;stroke-width:0.708661;stroke-linecap:round;stroke-linejoin:round;stroke:rgb(0%,0%,0%);stroke-opacity:0.2;stroke-miterlimit:10;\" d=\"M 124.269531 24.335938 C 124.269531 26.941406 120.359375 26.941406 120.359375 24.335938 C 120.359375 21.730469 124.269531 21.730469 124.269531 24.335938 \"/>\n",
       "<path style=\"fill-rule:nonzero;fill:rgb(0%,0%,0%);fill-opacity:0.2;stroke-width:0.708661;stroke-linecap:round;stroke-linejoin:round;stroke:rgb(0%,0%,0%);stroke-opacity:0.2;stroke-miterlimit:10;\" d=\"M 55.707031 96.640625 C 55.707031 99.246094 51.800781 99.246094 51.800781 96.640625 C 51.800781 94.035156 55.707031 94.035156 55.707031 96.640625 \"/>\n",
       "<path style=\"fill-rule:nonzero;fill:rgb(0%,0%,0%);fill-opacity:0.2;stroke-width:0.708661;stroke-linecap:round;stroke-linejoin:round;stroke:rgb(0%,0%,0%);stroke-opacity:0.2;stroke-miterlimit:10;\" d=\"M 57.539062 96.089844 C 57.539062 98.695312 53.632812 98.695312 53.632812 96.089844 C 53.632812 93.484375 57.539062 93.484375 57.539062 96.089844 \"/>\n",
       "<path style=\"fill-rule:nonzero;fill:rgb(0%,0%,0%);fill-opacity:0.2;stroke-width:0.708661;stroke-linecap:round;stroke-linejoin:round;stroke:rgb(0%,0%,0%);stroke-opacity:0.2;stroke-miterlimit:10;\" d=\"M 133.5625 17.746094 C 133.5625 20.351562 129.652344 20.351562 129.652344 17.746094 C 129.652344 15.140625 133.5625 15.140625 133.5625 17.746094 \"/>\n",
       "<path style=\"fill-rule:nonzero;fill:rgb(0%,0%,0%);fill-opacity:0.2;stroke-width:0.708661;stroke-linecap:round;stroke-linejoin:round;stroke:rgb(0%,0%,0%);stroke-opacity:0.2;stroke-miterlimit:10;\" d=\"M 42.898438 26.4375 C 42.898438 29.042969 38.988281 29.042969 38.988281 26.4375 C 38.988281 23.832031 42.898438 23.832031 42.898438 26.4375 \"/>\n",
       "<path style=\"fill-rule:nonzero;fill:rgb(0%,0%,0%);fill-opacity:0.2;stroke-width:0.708661;stroke-linecap:round;stroke-linejoin:round;stroke:rgb(0%,0%,0%);stroke-opacity:0.2;stroke-miterlimit:10;\" d=\"M 56.054688 21.199219 C 56.054688 23.804688 52.148438 23.804688 52.148438 21.199219 C 52.148438 18.59375 56.054688 18.59375 56.054688 21.199219 \"/>\n",
       "<path style=\"fill-rule:nonzero;fill:rgb(0%,0%,0%);fill-opacity:0.2;stroke-width:0.708661;stroke-linecap:round;stroke-linejoin:round;stroke:rgb(0%,0%,0%);stroke-opacity:0.2;stroke-miterlimit:10;\" d=\"M 46.75 95.652344 C 46.75 98.261719 42.839844 98.261719 42.839844 95.652344 C 42.839844 93.046875 46.75 93.046875 46.75 95.652344 \"/>\n",
       "<path style=\"fill-rule:nonzero;fill:rgb(0%,0%,0%);fill-opacity:0.2;stroke-width:0.708661;stroke-linecap:round;stroke-linejoin:round;stroke:rgb(0%,0%,0%);stroke-opacity:0.2;stroke-miterlimit:10;\" d=\"M 49.027344 95.640625 C 49.027344 98.25 45.117188 98.25 45.117188 95.640625 C 45.117188 93.035156 49.027344 93.035156 49.027344 95.640625 \"/>\n",
       "<path style=\"fill-rule:nonzero;fill:rgb(0%,0%,0%);fill-opacity:0.2;stroke-width:0.708661;stroke-linecap:round;stroke-linejoin:round;stroke:rgb(0%,0%,0%);stroke-opacity:0.2;stroke-miterlimit:10;\" d=\"M 132.164062 12.660156 C 132.164062 15.265625 128.253906 15.265625 128.253906 12.660156 C 128.253906 10.050781 132.164062 10.050781 132.164062 12.660156 \"/>\n",
       "<path style=\"fill-rule:nonzero;fill:rgb(0%,0%,0%);fill-opacity:0.2;stroke-width:0.708661;stroke-linecap:round;stroke-linejoin:round;stroke:rgb(0%,0%,0%);stroke-opacity:0.2;stroke-miterlimit:10;\" d=\"M 51.28125 97.304688 C 51.28125 99.910156 47.371094 99.910156 47.371094 97.304688 C 47.371094 94.699219 51.28125 94.699219 51.28125 97.304688 \"/>\n",
       "<path style=\"fill-rule:nonzero;fill:rgb(0%,0%,0%);fill-opacity:0.2;stroke-width:0.708661;stroke-linecap:round;stroke-linejoin:round;stroke:rgb(0%,0%,0%);stroke-opacity:0.2;stroke-miterlimit:10;\" d=\"M 53.308594 22.472656 C 53.308594 25.078125 49.398438 25.078125 49.398438 22.472656 C 49.398438 19.867188 53.308594 19.867188 53.308594 22.472656 \"/>\n",
       "<path style=\"fill-rule:nonzero;fill:rgb(0%,0%,0%);fill-opacity:0.2;stroke-width:0.708661;stroke-linecap:round;stroke-linejoin:round;stroke:rgb(0%,0%,0%);stroke-opacity:0.2;stroke-miterlimit:10;\" d=\"M 47.667969 97.636719 C 47.667969 100.242188 43.757812 100.242188 43.757812 97.636719 C 43.757812 95.03125 47.667969 95.03125 47.667969 97.636719 \"/>\n",
       "<path style=\"fill-rule:nonzero;fill:rgb(0%,0%,0%);fill-opacity:0.2;stroke-width:0.708661;stroke-linecap:round;stroke-linejoin:round;stroke:rgb(0%,0%,0%);stroke-opacity:0.2;stroke-miterlimit:10;\" d=\"M 49.332031 99.101562 C 49.332031 101.707031 45.421875 101.707031 45.421875 99.101562 C 45.421875 96.496094 49.332031 96.496094 49.332031 99.101562 \"/>\n",
       "<path style=\"fill-rule:nonzero;fill:rgb(0%,0%,0%);fill-opacity:0.2;stroke-width:0.708661;stroke-linecap:round;stroke-linejoin:round;stroke:rgb(0%,0%,0%);stroke-opacity:0.2;stroke-miterlimit:10;\" d=\"M 51.113281 99.695312 C 51.113281 102.300781 47.203125 102.300781 47.203125 99.695312 C 47.203125 97.089844 51.113281 97.089844 51.113281 99.695312 \"/>\n",
       "<path style=\"fill-rule:nonzero;fill:rgb(0%,0%,0%);fill-opacity:0.2;stroke-width:0.708661;stroke-linecap:round;stroke-linejoin:round;stroke:rgb(0%,0%,0%);stroke-opacity:0.2;stroke-miterlimit:10;\" d=\"M 132.59375 19.40625 C 132.59375 22.011719 128.6875 22.011719 128.6875 19.40625 C 128.6875 16.800781 132.59375 16.800781 132.59375 19.40625 \"/>\n",
       "<path style=\"fill-rule:nonzero;fill:rgb(0%,0%,0%);fill-opacity:0.2;stroke-width:0.708661;stroke-linecap:round;stroke-linejoin:round;stroke:rgb(0%,0%,0%);stroke-opacity:0.2;stroke-miterlimit:10;\" d=\"M 54.136719 108.816406 C 54.136719 111.421875 50.230469 111.421875 50.230469 108.816406 C 50.230469 106.210938 54.136719 106.210938 54.136719 108.816406 \"/>\n",
       "<path style=\"fill-rule:nonzero;fill:rgb(0%,0%,0%);fill-opacity:0.2;stroke-width:0.708661;stroke-linecap:round;stroke-linejoin:round;stroke:rgb(0%,0%,0%);stroke-opacity:0.2;stroke-miterlimit:10;\" d=\"M 57.546875 105.910156 C 57.546875 108.515625 53.636719 108.515625 53.636719 105.910156 C 53.636719 103.300781 57.546875 103.300781 57.546875 105.910156 \"/>\n",
       "<path style=\"fill-rule:nonzero;fill:rgb(0%,0%,0%);fill-opacity:0.2;stroke-width:0.708661;stroke-linecap:round;stroke-linejoin:round;stroke:rgb(0%,0%,0%);stroke-opacity:0.2;stroke-miterlimit:10;\" d=\"M 134.175781 105.382812 C 134.175781 107.992188 130.269531 107.992188 130.269531 105.382812 C 130.269531 102.777344 134.175781 102.777344 134.175781 105.382812 \"/>\n",
       "<path style=\"fill-rule:nonzero;fill:rgb(0%,0%,0%);fill-opacity:0.2;stroke-width:0.708661;stroke-linecap:round;stroke-linejoin:round;stroke:rgb(0%,0%,0%);stroke-opacity:0.2;stroke-miterlimit:10;\" d=\"M 43.035156 98.789062 C 43.035156 101.398438 39.125 101.398438 39.125 98.789062 C 39.125 96.183594 43.035156 96.183594 43.035156 98.789062 \"/>\n",
       "<path style=\"fill-rule:nonzero;fill:rgb(0%,0%,0%);fill-opacity:0.2;stroke-width:0.708661;stroke-linecap:round;stroke-linejoin:round;stroke:rgb(0%,0%,0%);stroke-opacity:0.2;stroke-miterlimit:10;\" d=\"M 128.921875 12.320312 C 128.921875 14.925781 125.011719 14.925781 125.011719 12.320312 C 125.011719 9.714844 128.921875 9.714844 128.921875 12.320312 \"/>\n",
       "<path style=\"fill-rule:nonzero;fill:rgb(0%,0%,0%);fill-opacity:0.2;stroke-width:0.708661;stroke-linecap:round;stroke-linejoin:round;stroke:rgb(0%,0%,0%);stroke-opacity:0.2;stroke-miterlimit:10;\" d=\"M 46.8125 25.515625 C 46.8125 28.121094 42.90625 28.121094 42.90625 25.515625 C 42.90625 22.910156 46.8125 22.910156 46.8125 25.515625 \"/>\n",
       "<path style=\"fill-rule:nonzero;fill:rgb(0%,0%,0%);fill-opacity:0.2;stroke-width:0.708661;stroke-linecap:round;stroke-linejoin:round;stroke:rgb(0%,0%,0%);stroke-opacity:0.2;stroke-miterlimit:10;\" d=\"M 133.09375 21.347656 C 133.09375 23.953125 129.1875 23.953125 129.1875 21.347656 C 129.1875 18.738281 133.09375 18.738281 133.09375 21.347656 \"/>\n",
       "<path style=\"fill-rule:nonzero;fill:rgb(0%,0%,0%);fill-opacity:0.2;stroke-width:0.708661;stroke-linecap:round;stroke-linejoin:round;stroke:rgb(0%,0%,0%);stroke-opacity:0.2;stroke-miterlimit:10;\" d=\"M 50.839844 11.183594 C 50.839844 13.789062 46.929688 13.789062 46.929688 11.183594 C 46.929688 8.578125 50.839844 8.578125 50.839844 11.183594 \"/>\n",
       "<path style=\"fill-rule:nonzero;fill:rgb(0%,0%,0%);fill-opacity:0.2;stroke-width:0.708661;stroke-linecap:round;stroke-linejoin:round;stroke:rgb(0%,0%,0%);stroke-opacity:0.2;stroke-miterlimit:10;\" d=\"M 45.960938 26.476562 C 45.960938 29.082031 42.050781 29.082031 42.050781 26.476562 C 42.050781 23.867188 45.960938 23.867188 45.960938 26.476562 \"/>\n",
       "<path style=\"fill-rule:nonzero;fill:rgb(0%,0%,0%);fill-opacity:0.2;stroke-width:0.708661;stroke-linecap:round;stroke-linejoin:round;stroke:rgb(0%,0%,0%);stroke-opacity:0.2;stroke-miterlimit:10;\" d=\"M 44.933594 100.636719 C 44.933594 103.242188 41.023438 103.242188 41.023438 100.636719 C 41.023438 98.027344 44.933594 98.027344 44.933594 100.636719 \"/>\n",
       "<path style=\"fill-rule:nonzero;fill:rgb(0%,0%,0%);fill-opacity:0.2;stroke-width:0.708661;stroke-linecap:round;stroke-linejoin:round;stroke:rgb(0%,0%,0%);stroke-opacity:0.2;stroke-miterlimit:10;\" d=\"M 125.515625 97.078125 C 125.515625 99.683594 121.605469 99.683594 121.605469 97.078125 C 121.605469 94.472656 125.515625 94.472656 125.515625 97.078125 \"/>\n",
       "<path style=\"fill-rule:nonzero;fill:rgb(0%,0%,0%);fill-opacity:0.2;stroke-width:0.708661;stroke-linecap:round;stroke-linejoin:round;stroke:rgb(0%,0%,0%);stroke-opacity:0.2;stroke-miterlimit:10;\" d=\"M 53.050781 107.988281 C 53.050781 110.59375 49.140625 110.59375 49.140625 107.988281 C 49.140625 105.382812 53.050781 105.382812 53.050781 107.988281 \"/>\n",
       "<path style=\"fill-rule:nonzero;fill:rgb(0%,0%,0%);fill-opacity:0.2;stroke-width:0.708661;stroke-linecap:round;stroke-linejoin:round;stroke:rgb(0%,0%,0%);stroke-opacity:0.2;stroke-miterlimit:10;\" d=\"M 55.488281 108.859375 C 55.488281 111.46875 51.578125 111.46875 51.578125 108.859375 C 51.578125 106.253906 55.488281 106.253906 55.488281 108.859375 \"/>\n",
       "<path style=\"fill-rule:nonzero;fill:rgb(0%,0%,0%);fill-opacity:0.2;stroke-width:0.708661;stroke-linecap:round;stroke-linejoin:round;stroke:rgb(0%,0%,0%);stroke-opacity:0.2;stroke-miterlimit:10;\" d=\"M 123.058594 101.804688 C 123.058594 104.414062 119.148438 104.414062 119.148438 101.804688 C 119.148438 99.199219 123.058594 99.199219 123.058594 101.804688 \"/>\n",
       "<path style=\"fill-rule:nonzero;fill:rgb(0%,0%,0%);fill-opacity:0.2;stroke-width:0.708661;stroke-linecap:round;stroke-linejoin:round;stroke:rgb(0%,0%,0%);stroke-opacity:0.2;stroke-miterlimit:10;\" d=\"M 134.027344 10.40625 C 134.027344 13.015625 130.117188 13.015625 130.117188 10.40625 C 130.117188 7.800781 134.027344 7.800781 134.027344 10.40625 \"/>\n",
       "<path style=\"fill-rule:nonzero;fill:rgb(0%,0%,0%);fill-opacity:0.2;stroke-width:0.708661;stroke-linecap:round;stroke-linejoin:round;stroke:rgb(0%,0%,0%);stroke-opacity:0.2;stroke-miterlimit:10;\" d=\"M 48.121094 19.386719 C 48.121094 21.992188 44.210938 21.992188 44.210938 19.386719 C 44.210938 16.777344 48.121094 16.777344 48.121094 19.386719 \"/>\n",
       "<path style=\"fill-rule:nonzero;fill:rgb(0%,0%,0%);fill-opacity:0.2;stroke-width:0.708661;stroke-linecap:round;stroke-linejoin:round;stroke:rgb(0%,0%,0%);stroke-opacity:0.2;stroke-miterlimit:10;\" d=\"M 134.902344 18.640625 C 134.902344 21.25 130.992188 21.25 130.992188 18.640625 C 130.992188 16.035156 134.902344 16.035156 134.902344 18.640625 \"/>\n",
       "<path style=\"fill-rule:nonzero;fill:rgb(0%,0%,0%);fill-opacity:0.2;stroke-width:0.708661;stroke-linecap:round;stroke-linejoin:round;stroke:rgb(0%,0%,0%);stroke-opacity:0.2;stroke-miterlimit:10;\" d=\"M 134.304688 19.609375 C 134.304688 22.214844 130.398438 22.214844 130.398438 19.609375 C 130.398438 17.003906 134.304688 17.003906 134.304688 19.609375 \"/>\n",
       "<path style=\"fill-rule:nonzero;fill:rgb(0%,0%,0%);fill-opacity:0.2;stroke-width:0.708661;stroke-linecap:round;stroke-linejoin:round;stroke:rgb(0%,0%,0%);stroke-opacity:0.2;stroke-miterlimit:10;\" d=\"M 57.492188 96.691406 C 57.492188 99.296875 53.582031 99.296875 53.582031 96.691406 C 53.582031 94.082031 57.492188 94.082031 57.492188 96.691406 \"/>\n",
       "<path style=\"fill-rule:nonzero;fill:rgb(0%,0%,0%);fill-opacity:0.2;stroke-width:0.708661;stroke-linecap:round;stroke-linejoin:round;stroke:rgb(0%,0%,0%);stroke-opacity:0.2;stroke-miterlimit:10;\" d=\"M 53.253906 102.21875 C 53.253906 104.824219 49.34375 104.824219 49.34375 102.21875 C 49.34375 99.613281 53.253906 99.613281 53.253906 102.21875 \"/>\n",
       "<path style=\"fill-rule:nonzero;fill:rgb(0%,0%,0%);fill-opacity:0.2;stroke-width:0.708661;stroke-linecap:round;stroke-linejoin:round;stroke:rgb(0%,0%,0%);stroke-opacity:0.2;stroke-miterlimit:10;\" d=\"M 51.613281 107.644531 C 51.613281 110.25 47.707031 110.25 47.707031 107.644531 C 47.707031 105.035156 51.613281 105.035156 51.613281 107.644531 \"/>\n",
       "<path style=\"fill-rule:nonzero;fill:rgb(0%,0%,0%);fill-opacity:0.2;stroke-width:0.708661;stroke-linecap:round;stroke-linejoin:round;stroke:rgb(0%,0%,0%);stroke-opacity:0.2;stroke-miterlimit:10;\" d=\"M 131.582031 12.222656 C 131.582031 14.828125 127.671875 14.828125 127.671875 12.222656 C 127.671875 9.613281 131.582031 9.613281 131.582031 12.222656 \"/>\n",
       "<path style=\"fill-rule:nonzero;fill:rgb(0%,0%,0%);fill-opacity:0.2;stroke-width:0.708661;stroke-linecap:round;stroke-linejoin:round;stroke:rgb(0%,0%,0%);stroke-opacity:0.2;stroke-miterlimit:10;\" d=\"M 57.003906 103.207031 C 57.003906 105.8125 53.09375 105.8125 53.09375 103.207031 C 53.09375 100.601562 57.003906 100.601562 57.003906 103.207031 \"/>\n",
       "<path style=\"fill-rule:nonzero;fill:rgb(0%,0%,0%);fill-opacity:0.2;stroke-width:0.708661;stroke-linecap:round;stroke-linejoin:round;stroke:rgb(0%,0%,0%);stroke-opacity:0.2;stroke-miterlimit:10;\" d=\"M 125.042969 22.5625 C 125.042969 25.167969 121.132812 25.167969 121.132812 22.5625 C 121.132812 19.957031 125.042969 19.957031 125.042969 22.5625 \"/>\n",
       "<path style=\"fill-rule:nonzero;fill:rgb(0%,0%,0%);fill-opacity:0.2;stroke-width:0.708661;stroke-linecap:round;stroke-linejoin:round;stroke:rgb(0%,0%,0%);stroke-opacity:0.2;stroke-miterlimit:10;\" d=\"M 46.039062 95.636719 C 46.039062 98.242188 42.132812 98.242188 42.132812 95.636719 C 42.132812 93.03125 46.039062 93.03125 46.039062 95.636719 \"/>\n",
       "<path style=\"fill-rule:nonzero;fill:rgb(0%,0%,0%);fill-opacity:0.2;stroke-width:0.708661;stroke-linecap:round;stroke-linejoin:round;stroke:rgb(0%,0%,0%);stroke-opacity:0.2;stroke-miterlimit:10;\" d=\"M 56.527344 14.117188 C 56.527344 16.722656 52.621094 16.722656 52.621094 14.117188 C 52.621094 11.511719 56.527344 11.511719 56.527344 14.117188 \"/>\n",
       "<path style=\"fill-rule:nonzero;fill:rgb(0%,0%,0%);fill-opacity:0.2;stroke-width:0.708661;stroke-linecap:round;stroke-linejoin:round;stroke:rgb(0%,0%,0%);stroke-opacity:0.2;stroke-miterlimit:10;\" d=\"M 56.539062 107.214844 C 56.539062 109.820312 52.628906 109.820312 52.628906 107.214844 C 52.628906 104.605469 56.539062 104.605469 56.539062 107.214844 \"/>\n",
       "<path style=\"fill-rule:nonzero;fill:rgb(0%,0%,0%);fill-opacity:0.2;stroke-width:0.708661;stroke-linecap:round;stroke-linejoin:round;stroke:rgb(0%,0%,0%);stroke-opacity:0.2;stroke-miterlimit:10;\" d=\"M 42.625 18.308594 C 42.625 20.914062 38.714844 20.914062 38.714844 18.308594 C 38.714844 15.699219 42.625 15.699219 42.625 18.308594 \"/>\n",
       "<path style=\"fill-rule:nonzero;fill:rgb(0%,0%,0%);fill-opacity:0.2;stroke-width:0.708661;stroke-linecap:round;stroke-linejoin:round;stroke:rgb(0%,0%,0%);stroke-opacity:0.2;stroke-miterlimit:10;\" d=\"M 47.355469 95.074219 C 47.355469 97.679688 43.445312 97.679688 43.445312 95.074219 C 43.445312 92.46875 47.355469 92.46875 47.355469 95.074219 \"/>\n",
       "<path style=\"fill-rule:nonzero;fill:rgb(0%,0%,0%);fill-opacity:0.2;stroke-width:0.708661;stroke-linecap:round;stroke-linejoin:round;stroke:rgb(0%,0%,0%);stroke-opacity:0.2;stroke-miterlimit:10;\" d=\"M 49.308594 11.257812 C 49.308594 13.863281 45.398438 13.863281 45.398438 11.257812 C 45.398438 8.648438 49.308594 8.648438 49.308594 11.257812 \"/>\n",
       "<path style=\"fill-rule:nonzero;fill:rgb(0%,0%,0%);fill-opacity:0.2;stroke-width:0.708661;stroke-linecap:round;stroke-linejoin:round;stroke:rgb(0%,0%,0%);stroke-opacity:0.2;stroke-miterlimit:10;\" d=\"M 53.117188 17.746094 C 53.117188 20.351562 49.210938 20.351562 49.210938 17.746094 C 49.210938 15.136719 53.117188 15.136719 53.117188 17.746094 \"/>\n",
       "<path style=\"fill-rule:nonzero;fill:rgb(0%,0%,0%);fill-opacity:0.2;stroke-width:0.708661;stroke-linecap:round;stroke-linejoin:round;stroke:rgb(0%,0%,0%);stroke-opacity:0.2;stroke-miterlimit:10;\" d=\"M 131.226562 19.792969 C 131.226562 22.398438 127.316406 22.398438 127.316406 19.792969 C 127.316406 17.1875 131.226562 17.1875 131.226562 19.792969 \"/>\n",
       "<path style=\"fill-rule:nonzero;fill:rgb(0%,0%,0%);fill-opacity:0.2;stroke-width:0.708661;stroke-linecap:round;stroke-linejoin:round;stroke:rgb(0%,0%,0%);stroke-opacity:0.2;stroke-miterlimit:10;\" d=\"M 122.144531 108.976562 C 122.144531 111.585938 118.234375 111.585938 118.234375 108.976562 C 118.234375 106.371094 122.144531 106.371094 122.144531 108.976562 \"/>\n",
       "<path style=\"fill-rule:nonzero;fill:rgb(0%,0%,0%);fill-opacity:0.2;stroke-width:0.708661;stroke-linecap:round;stroke-linejoin:round;stroke:rgb(0%,0%,0%);stroke-opacity:0.2;stroke-miterlimit:10;\" d=\"M 135.816406 22.664062 C 135.816406 25.269531 131.90625 25.269531 131.90625 22.664062 C 131.90625 20.058594 135.816406 20.058594 135.816406 22.664062 \"/>\n",
       "<path style=\"fill-rule:nonzero;fill:rgb(0%,0%,0%);fill-opacity:0.2;stroke-width:0.708661;stroke-linecap:round;stroke-linejoin:round;stroke:rgb(0%,0%,0%);stroke-opacity:0.2;stroke-miterlimit:10;\" d=\"M 56.121094 14.382812 C 56.121094 16.988281 52.210938 16.988281 52.210938 14.382812 C 52.210938 11.777344 56.121094 11.777344 56.121094 14.382812 \"/>\n",
       "<path style=\"fill-rule:nonzero;fill:rgb(0%,0%,0%);fill-opacity:0.2;stroke-width:0.708661;stroke-linecap:round;stroke-linejoin:round;stroke:rgb(0%,0%,0%);stroke-opacity:0.2;stroke-miterlimit:10;\" d=\"M 43.417969 16.441406 C 43.417969 19.046875 39.507812 19.046875 39.507812 16.441406 C 39.507812 13.835938 43.417969 13.835938 43.417969 16.441406 \"/>\n",
       "<path style=\"fill-rule:nonzero;fill:rgb(0%,0%,0%);fill-opacity:0.2;stroke-width:0.708661;stroke-linecap:round;stroke-linejoin:round;stroke:rgb(0%,0%,0%);stroke-opacity:0.2;stroke-miterlimit:10;\" d=\"M 120.8125 21.320312 C 120.8125 23.925781 116.902344 23.925781 116.902344 21.320312 C 116.902344 18.714844 120.8125 18.714844 120.8125 21.320312 \"/>\n",
       "<path style=\"fill-rule:nonzero;fill:rgb(0%,0%,0%);fill-opacity:0.2;stroke-width:0.708661;stroke-linecap:round;stroke-linejoin:round;stroke:rgb(0%,0%,0%);stroke-opacity:0.2;stroke-miterlimit:10;\" d=\"M 45.566406 21.609375 C 45.566406 24.214844 41.65625 24.214844 41.65625 21.609375 C 41.65625 19.003906 45.566406 19.003906 45.566406 21.609375 \"/>\n",
       "<path style=\"fill-rule:nonzero;fill:rgb(0%,0%,0%);fill-opacity:0.2;stroke-width:0.708661;stroke-linecap:round;stroke-linejoin:round;stroke:rgb(0%,0%,0%);stroke-opacity:0.2;stroke-miterlimit:10;\" d=\"M 46.207031 16.941406 C 46.207031 19.550781 42.296875 19.550781 42.296875 16.941406 C 42.296875 14.335938 46.207031 14.335938 46.207031 16.941406 \"/>\n",
       "<path style=\"fill-rule:nonzero;fill:rgb(0%,0%,0%);fill-opacity:0.2;stroke-width:0.708661;stroke-linecap:round;stroke-linejoin:round;stroke:rgb(0%,0%,0%);stroke-opacity:0.2;stroke-miterlimit:10;\" d=\"M 55.523438 96.628906 C 55.523438 99.238281 51.613281 99.238281 51.613281 96.628906 C 51.613281 94.023438 55.523438 94.023438 55.523438 96.628906 \"/>\n",
       "<path style=\"fill-rule:nonzero;fill:rgb(0%,0%,0%);fill-opacity:0.2;stroke-width:0.708661;stroke-linecap:round;stroke-linejoin:round;stroke:rgb(0%,0%,0%);stroke-opacity:0.2;stroke-miterlimit:10;\" d=\"M 50.742188 95.050781 C 50.742188 97.65625 46.835938 97.65625 46.835938 95.050781 C 46.835938 92.441406 50.742188 92.441406 50.742188 95.050781 \"/>\n",
       "<path style=\"fill-rule:nonzero;fill:rgb(0%,0%,0%);fill-opacity:0.2;stroke-width:0.708661;stroke-linecap:round;stroke-linejoin:round;stroke:rgb(0%,0%,0%);stroke-opacity:0.2;stroke-miterlimit:10;\" d=\"M 134.097656 22.558594 C 134.097656 25.167969 130.191406 25.167969 130.191406 22.558594 C 130.191406 19.953125 134.097656 19.953125 134.097656 22.558594 \"/>\n",
       "<path style=\"fill-rule:nonzero;fill:rgb(0%,0%,0%);fill-opacity:0.2;stroke-width:0.708661;stroke-linecap:round;stroke-linejoin:round;stroke:rgb(0%,0%,0%);stroke-opacity:0.2;stroke-miterlimit:10;\" d=\"M 120.507812 16.082031 C 120.507812 18.6875 116.601562 18.6875 116.601562 16.082031 C 116.601562 13.476562 120.507812 13.476562 120.507812 16.082031 \"/>\n",
       "<path style=\"fill-rule:nonzero;fill:rgb(0%,0%,0%);fill-opacity:0.2;stroke-width:0.708661;stroke-linecap:round;stroke-linejoin:round;stroke:rgb(0%,0%,0%);stroke-opacity:0.2;stroke-miterlimit:10;\" d=\"M 46.882812 12.824219 C 46.882812 15.433594 42.972656 15.433594 42.972656 12.824219 C 42.972656 10.21875 46.882812 10.21875 46.882812 12.824219 \"/>\n",
       "<g style=\"fill:rgb(30.196078%,30.196078%,30.196078%);fill-opacity:1;\">\n",
       "  <use xlink:href=\"#glyph0-1\" x=\"18.847656\" y=\"104.136719\"/>\n",
       "  <use xlink:href=\"#glyph0-2\" x=\"23.740067\" y=\"104.136719\"/>\n",
       "  <use xlink:href=\"#glyph0-1\" x=\"26.184128\" y=\"104.136719\"/>\n",
       "</g>\n",
       "<g style=\"fill:rgb(30.196078%,30.196078%,30.196078%);fill-opacity:1;\">\n",
       "  <use xlink:href=\"#glyph0-1\" x=\"18.847656\" y=\"71.191406\"/>\n",
       "  <use xlink:href=\"#glyph0-2\" x=\"23.740067\" y=\"71.191406\"/>\n",
       "  <use xlink:href=\"#glyph0-3\" x=\"26.184128\" y=\"71.191406\"/>\n",
       "</g>\n",
       "<g style=\"fill:rgb(30.196078%,30.196078%,30.196078%);fill-opacity:1;\">\n",
       "  <use xlink:href=\"#glyph0-1\" x=\"18.847656\" y=\"38.246094\"/>\n",
       "  <use xlink:href=\"#glyph0-2\" x=\"23.740067\" y=\"38.246094\"/>\n",
       "  <use xlink:href=\"#glyph0-4\" x=\"26.184128\" y=\"38.246094\"/>\n",
       "</g>\n",
       "<path style=\"fill:none;stroke-width:1.066978;stroke-linecap:butt;stroke-linejoin:round;stroke:rgb(20%,20%,20%);stroke-opacity:1;stroke-miterlimit:10;\" d=\"M 33.269531 100.980469 L 36.011719 100.980469 \"/>\n",
       "<path style=\"fill:none;stroke-width:1.066978;stroke-linecap:butt;stroke-linejoin:round;stroke:rgb(20%,20%,20%);stroke-opacity:1;stroke-miterlimit:10;\" d=\"M 33.269531 68.035156 L 36.011719 68.035156 \"/>\n",
       "<path style=\"fill:none;stroke-width:1.066978;stroke-linecap:butt;stroke-linejoin:round;stroke:rgb(20%,20%,20%);stroke-opacity:1;stroke-miterlimit:10;\" d=\"M 33.269531 35.089844 L 36.011719 35.089844 \"/>\n",
       "<path style=\"fill:none;stroke-width:1.066978;stroke-linecap:butt;stroke-linejoin:round;stroke:rgb(20%,20%,20%);stroke-opacity:1;stroke-miterlimit:10;\" d=\"M 48.375 116.644531 L 48.375 113.90625 \"/>\n",
       "<path style=\"fill:none;stroke-width:1.066978;stroke-linecap:butt;stroke-linejoin:round;stroke:rgb(20%,20%,20%);stroke-opacity:1;stroke-miterlimit:10;\" d=\"M 79.476562 116.644531 L 79.476562 113.90625 \"/>\n",
       "<path style=\"fill:none;stroke-width:1.066978;stroke-linecap:butt;stroke-linejoin:round;stroke:rgb(20%,20%,20%);stroke-opacity:1;stroke-miterlimit:10;\" d=\"M 110.582031 116.644531 L 110.582031 113.90625 \"/>\n",
       "<g style=\"fill:rgb(30.196078%,30.196078%,30.196078%);fill-opacity:1;\">\n",
       "  <use xlink:href=\"#glyph0-1\" x=\"42.261719\" y=\"125.152344\"/>\n",
       "  <use xlink:href=\"#glyph0-2\" x=\"47.154129\" y=\"125.152344\"/>\n",
       "  <use xlink:href=\"#glyph0-1\" x=\"49.59819\" y=\"125.152344\"/>\n",
       "</g>\n",
       "<g style=\"fill:rgb(30.196078%,30.196078%,30.196078%);fill-opacity:1;\">\n",
       "  <use xlink:href=\"#glyph0-1\" x=\"73.363281\" y=\"125.152344\"/>\n",
       "  <use xlink:href=\"#glyph0-2\" x=\"78.255692\" y=\"125.152344\"/>\n",
       "  <use xlink:href=\"#glyph0-3\" x=\"80.699753\" y=\"125.152344\"/>\n",
       "</g>\n",
       "<g style=\"fill:rgb(30.196078%,30.196078%,30.196078%);fill-opacity:1;\">\n",
       "  <use xlink:href=\"#glyph0-1\" x=\"104.46875\" y=\"125.152344\"/>\n",
       "  <use xlink:href=\"#glyph0-2\" x=\"109.36116\" y=\"125.152344\"/>\n",
       "  <use xlink:href=\"#glyph0-4\" x=\"111.805222\" y=\"125.152344\"/>\n",
       "</g>\n",
       "<g style=\"fill:rgb(0%,0%,0%);fill-opacity:1;\">\n",
       "  <use xlink:href=\"#glyph1-1\" x=\"83.597656\" y=\"138.519531\"/>\n",
       "</g>\n",
       "<g style=\"fill:rgb(0%,0%,0%);fill-opacity:1;\">\n",
       "  <use xlink:href=\"#glyph2-1\" x=\"13.371094\" y=\"63.359375\"/>\n",
       "</g>\n",
       "</g>\n",
       "</svg>\n"
      ],
      "text/plain": [
       "plot without title"
      ]
     },
     "metadata": {
      "image/svg+xml": {
       "isolated": true
      }
     },
     "output_type": "display_data"
    }
   ],
   "source": [
    "plotsize(2,2)\n",
    "DATA %>% head\n",
    "DATA %>% ggplot(aes(x=X,y=Y)) + geom_jitter(width=0.1,height=0.1, alpha=0.2)\n",
    "DATA %>% table\n",
    "DATA %>% group_by(Y,X) %>% \n",
    "    summarize(count=n()) %>% \n",
    "    spread(Y,count) %>% \n",
    "    data.frame"
   ]
  },
  {
   "cell_type": "code",
   "execution_count": 16,
   "metadata": {
    "ExecuteTime": {
     "end_time": "2017-10-31T21:06:54.366472Z",
     "start_time": "2017-10-31T21:06:54.279Z"
    }
   },
   "outputs": [
    {
     "data": {
      "text/plain": [
       "\n",
       "Call:\n",
       "glm(formula = Y ~ ., family = binomial(link = \"logit\"), data = DATA)\n",
       "\n",
       "Deviance Residuals: \n",
       "    Min       1Q   Median       3Q      Max  \n",
       "-1.7011  -1.1263   0.7325   1.2294   1.2294  \n",
       "\n",
       "Coefficients:\n",
       "            Estimate Std. Error z value Pr(>|z|)   \n",
       "(Intercept)  -0.1214     0.2466  -0.492  0.62267   \n",
       "X             1.3000     0.4736   2.745  0.00605 **\n",
       "---\n",
       "Signif. codes:  0 ‘***’ 0.001 ‘**’ 0.01 ‘*’ 0.05 ‘.’ 0.1 ‘ ’ 1\n",
       "\n",
       "(Dispersion parameter for binomial family taken to be 1)\n",
       "\n",
       "    Null deviance: 136.66  on 99  degrees of freedom\n",
       "Residual deviance: 128.35  on 98  degrees of freedom\n",
       "AIC: 132.35\n",
       "\n",
       "Number of Fisher Scoring iterations: 4\n"
      ]
     },
     "execution_count": 16,
     "metadata": {},
     "output_type": "execute_result"
    },
    {
     "name": "stderr",
     "output_type": "stream",
     "text": [
      "Waiting for profiling to be done...\n"
     ]
    },
    {
     "data": {
      "text/html": [
       "<table>\n",
       "<thead><tr><th></th><th scope=col>2.5 %</th><th scope=col>97.5 %</th></tr></thead>\n",
       "<tbody>\n",
       "\t<tr><th scope=row>(Intercept)</th><td>0.5436185</td><td>1.4362425</td></tr>\n",
       "\t<tr><th scope=row>X</th><td>1.499441</td><td>9.766383</td></tr>\n",
       "</tbody>\n",
       "</table>\n"
      ],
      "text/latex": [
       "\\begin{tabular}{r|ll}\n",
       "  & 2.5 % & 97.5 %\\\\\n",
       "\\hline\n",
       "\t(Intercept) & 0.5436185 & 1.4362425\\\\\n",
       "\tX & 1.499441 & 9.766383\\\\\n",
       "\\end{tabular}\n"
      ],
      "text/markdown": [
       "1. 0.543618543039066\n",
       "2. 1.49944082101583\n",
       "3. 1.4362425398471\n",
       "4. 9.76638301027792\n",
       "\n",
       "\n"
      ],
      "text/plain": [
       "                2.5 %   97.5 %\n",
       "(Intercept) 0.5436185 1.436243\n",
       "X           1.4994408 9.766383"
      ]
     },
     "execution_count": 16,
     "metadata": {},
     "output_type": "execute_result"
    },
    {
     "data": {
      "text/plain": [
       "\n",
       "\tFisher's Exact Test for Count Data\n",
       "\n",
       "data:  X and Y\n",
       "p-value = 0.005673\n",
       "alternative hypothesis: true odds ratio is not equal to 1\n",
       "95 percent confidence interval:\n",
       "  1.346274 10.676492\n",
       "sample estimates:\n",
       "odds ratio \n",
       "  3.621697 \n"
      ]
     },
     "execution_count": 16,
     "metadata": {},
     "output_type": "execute_result"
    },
    {
     "data": {
      "text/plain": [
       "\n",
       "\tPearson's Chi-squared test with Yates' continuity correction\n",
       "\n",
       "data:  X and Y\n",
       "X-squared = 6.8098, df = 1, p-value = 0.009066\n"
      ]
     },
     "execution_count": 16,
     "metadata": {},
     "output_type": "execute_result"
    }
   ],
   "source": [
    "fit = glm(Y~., data=DATA, family=binomial(link='logit')) \n",
    "fit %>% summary\n",
    "fit %>% confint %>% exp\n",
    "DATA %$% fisher.test(X,Y)\n",
    "DATA %$% chisq.test(X,Y)"
   ]
  },
  {
   "cell_type": "code",
   "execution_count": null,
   "metadata": {
    "collapsed": true
   },
   "outputs": [],
   "source": []
  }
 ],
 "metadata": {
  "anaconda-cloud": {},
  "kernelspec": {
   "display_name": "R",
   "language": "R",
   "name": "ir"
  },
  "language_info": {
   "codemirror_mode": "r",
   "file_extension": ".r",
   "mimetype": "text/x-r-source",
   "name": "R",
   "pygments_lexer": "r",
   "version": "3.2.2"
  }
 },
 "nbformat": 4,
 "nbformat_minor": 2
}
