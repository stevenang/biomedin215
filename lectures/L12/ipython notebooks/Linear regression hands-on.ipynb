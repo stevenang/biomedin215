{
 "cells": [
  {
   "cell_type": "code",
   "execution_count": 1,
   "metadata": {
    "ExecuteTime": {
     "end_time": "2017-10-31T20:46:31.944471Z",
     "start_time": "2017-10-31T20:46:28.858Z"
    }
   },
   "outputs": [
    {
     "name": "stderr",
     "output_type": "stream",
     "text": [
      "Warning message:\n",
      ": package ‘tidyverse’ was built under R version 3.2.5Loading tidyverse: ggplot2\n",
      "Loading tidyverse: tibble\n",
      "Loading tidyverse: tidyr\n",
      "Loading tidyverse: readr\n",
      "Loading tidyverse: purrr\n",
      "Loading tidyverse: dplyr\n",
      "Warning message:\n",
      ": package ‘ggplot2’ was built under R version 3.2.5Warning message:\n",
      ": package ‘tibble’ was built under R version 3.2.5Warning message:\n",
      ": package ‘tidyr’ was built under R version 3.2.5Warning message:\n",
      ": package ‘readr’ was built under R version 3.2.5Warning message:\n",
      ": package ‘purrr’ was built under R version 3.2.5Warning message:\n",
      ": package ‘dplyr’ was built under R version 3.2.5Conflicts with tidy packages ---------------------------------------------------\n",
      "filter(): dplyr, stats\n",
      "lag():    dplyr, stats\n",
      "\n",
      "Attaching package: ‘magrittr’\n",
      "\n",
      "The following object is masked from ‘package:purrr’:\n",
      "\n",
      "    set_names\n",
      "\n",
      "The following object is masked from ‘package:tidyr’:\n",
      "\n",
      "    extract\n",
      "\n",
      "\n",
      "Attaching package: ‘MASS’\n",
      "\n",
      "The following object is masked from ‘package:dplyr’:\n",
      "\n",
      "    select\n",
      "\n"
     ]
    }
   ],
   "source": [
    "library(tidyverse)\n",
    "library(magrittr)\n",
    "library(MASS)"
   ]
  },
  {
   "cell_type": "code",
   "execution_count": 2,
   "metadata": {
    "ExecuteTime": {
     "end_time": "2017-10-31T20:46:31.985640Z",
     "start_time": "2017-10-31T20:46:29.251Z"
    }
   },
   "outputs": [],
   "source": [
    "rand_sigma <- function (n, ev = runif(n, 0, 10)) {\n",
    "    Z <- matrix(ncol=n, rnorm(n^2))\n",
    "    decomp <- qr(Z)\n",
    "    Q <- qr.Q(decomp) \n",
    "    R <- qr.R(decomp)\n",
    "    d <- diag(R)\n",
    "    ph <- d / abs(d)\n",
    "    O <- Q %*% diag(ph)\n",
    "    Z <- t(O) %*% diag(ev) %*% O\n",
    "    return(Z)\n",
    "}"
   ]
  },
  {
   "cell_type": "markdown",
   "metadata": {},
   "source": [
    "## Linear Regression Example"
   ]
  },
  {
   "cell_type": "code",
   "execution_count": 3,
   "metadata": {
    "ExecuteTime": {
     "end_time": "2017-10-31T20:46:41.507951Z",
     "start_time": "2017-10-31T20:46:41.420Z"
    }
   },
   "outputs": [
    {
     "name": "stderr",
     "output_type": "stream",
     "text": [
      "Warning message:\n",
      ": package ‘bindrcpp’ was built under R version 3.2.5"
     ]
    }
   ],
   "source": [
    "n = 100\n",
    "p = 5\n",
    "DATA = mvrnorm(n, runif(p,-10,10), rand_sigma(p)) %>% \n",
    "    data.frame %>%\n",
    "    mutate(Y = 2.5*X3 + X4 - X1 + 0.1*X5 + rnorm(n,0,3))"
   ]
  },
  {
   "cell_type": "code",
   "execution_count": 4,
   "metadata": {
    "ExecuteTime": {
     "end_time": "2017-10-31T20:46:59.233629Z",
     "start_time": "2017-10-31T20:46:59.176Z"
    }
   },
   "outputs": [
    {
     "data": {
      "text/html": [
       "<table>\n",
       "<thead><tr><th></th><th scope=col>X1</th><th scope=col>X2</th><th scope=col>X3</th><th scope=col>X4</th><th scope=col>X5</th><th scope=col>Y</th></tr></thead>\n",
       "<tbody>\n",
       "\t<tr><th scope=row>1</th><td>1.220874</td><td>-1.121744</td><td>3.858059</td><td>8.180506</td><td>-6.569736</td><td>18.47876</td></tr>\n",
       "\t<tr><th scope=row>2</th><td>3.996197</td><td>-0.2941845</td><td>6.72148</td><td>9.96679</td><td>-3.359848</td><td>25.39923</td></tr>\n",
       "\t<tr><th scope=row>3</th><td>6.215506</td><td>-1.317304</td><td>10.19279</td><td>6.515485</td><td>-5.222488</td><td>26.10953</td></tr>\n",
       "\t<tr><th scope=row>4</th><td>3.608541</td><td>-2.42475</td><td>6.095022</td><td>8.508152</td><td>-4.311251</td><td>23.46784</td></tr>\n",
       "\t<tr><th scope=row>5</th><td>2.245398</td><td>-4.083587</td><td>2.379648</td><td>10.1442</td><td>-5.179835</td><td>11.20529</td></tr>\n",
       "\t<tr><th scope=row>6</th><td>6.378578</td><td>-0.2439299</td><td>7.962728</td><td>9.821972</td><td>-6.964493</td><td>22.97009</td></tr>\n",
       "</tbody>\n",
       "</table>\n"
      ],
      "text/latex": [
       "\\begin{tabular}{r|llllll}\n",
       "  & X1 & X2 & X3 & X4 & X5 & Y\\\\\n",
       "\\hline\n",
       "\t1 & 1.220874 & -1.121744 & 3.858059 & 8.180506 & -6.569736 & 18.47876\\\\\n",
       "\t2 & 3.996197 & -0.2941845 & 6.72148 & 9.96679 & -3.359848 & 25.39923\\\\\n",
       "\t3 & 6.215506 & -1.317304 & 10.19279 & 6.515485 & -5.222488 & 26.10953\\\\\n",
       "\t4 & 3.608541 & -2.42475 & 6.095022 & 8.508152 & -4.311251 & 23.46784\\\\\n",
       "\t5 & 2.245398 & -4.083587 & 2.379648 & 10.1442 & -5.179835 & 11.20529\\\\\n",
       "\t6 & 6.378578 & -0.2439299 & 7.962728 & 9.821972 & -6.964493 & 22.97009\\\\\n",
       "\\end{tabular}\n"
      ],
      "text/plain": [
       "        X1         X2        X3        X4        X5        Y\n",
       "1 1.220874 -1.1217438  3.858059  8.180506 -6.569736 18.47876\n",
       "2 3.996197 -0.2941845  6.721480  9.966790 -3.359848 25.39923\n",
       "3 6.215506 -1.3173036 10.192787  6.515485 -5.222488 26.10953\n",
       "4 3.608541 -2.4247505  6.095022  8.508152 -4.311251 23.46784\n",
       "5 2.245398 -4.0835865  2.379648 10.144202 -5.179835 11.20529\n",
       "6 6.378578 -0.2439299  7.962728  9.821972 -6.964493 22.97009"
      ]
     },
     "execution_count": 4,
     "metadata": {},
     "output_type": "execute_result"
    }
   ],
   "source": [
    "head(DATA)"
   ]
  },
  {
   "cell_type": "code",
   "execution_count": 110,
   "metadata": {
    "ExecuteTime": {
     "end_time": "2017-10-20T19:07:58.777038Z",
     "start_time": "2017-10-20T19:07:58.720Z"
    }
   },
   "outputs": [
    {
     "data": {
      "text/plain": [
       "\n",
       "Call:\n",
       "lm(formula = Y ~ ., data = DATA)\n",
       "\n",
       "Residuals:\n",
       "    Min      1Q  Median      3Q     Max \n",
       "-6.3052 -2.2370 -0.1271  2.1376  6.9012 \n",
       "\n",
       "Coefficients:\n",
       "            Estimate Std. Error t value Pr(>|t|)    \n",
       "(Intercept)  -1.4882     2.3747  -0.627   0.5324    \n",
       "X1           -0.8719     0.1729  -5.044 2.21e-06 ***\n",
       "X2           -0.2687     0.1602  -1.677   0.0968 .  \n",
       "X3            2.3889     0.1476  16.189  < 2e-16 ***\n",
       "X4            1.0223     0.1455   7.028 3.29e-10 ***\n",
       "X5            0.2502     0.1425   1.756   0.0824 .  \n",
       "---\n",
       "Signif. codes:  0 ‘***’ 0.001 ‘**’ 0.01 ‘*’ 0.05 ‘.’ 0.1 ‘ ’ 1\n",
       "\n",
       "Residual standard error: 3.049 on 94 degrees of freedom\n",
       "Multiple R-squared:  0.8554,\tAdjusted R-squared:  0.8477 \n",
       "F-statistic: 111.2 on 5 and 94 DF,  p-value: < 2.2e-16\n"
      ]
     },
     "execution_count": 110,
     "metadata": {},
     "output_type": "execute_result"
    },
    {
     "data": {
      "text/html": [
       "<table>\n",
       "<thead><tr><th></th><th scope=col>2.5 %</th><th scope=col>97.5 %</th></tr></thead>\n",
       "<tbody>\n",
       "\t<tr><th scope=row>(Intercept)</th><td>-6.203210</td><td> 3.226786</td></tr>\n",
       "\t<tr><th scope=row>X1</th><td>-1.2151098</td><td>-0.5286919</td></tr>\n",
       "\t<tr><th scope=row>X2</th><td>-0.58676628</td><td> 0.04940582</td></tr>\n",
       "\t<tr><th scope=row>X3</th><td>2.095923</td><td>2.681904</td></tr>\n",
       "\t<tr><th scope=row>X4</th><td>0.7335041</td><td>1.3111441</td></tr>\n",
       "\t<tr><th scope=row>X5</th><td>-0.03276934</td><td> 0.53315007</td></tr>\n",
       "</tbody>\n",
       "</table>\n"
      ],
      "text/latex": [
       "\\begin{tabular}{r|ll}\n",
       "  & 2.5 % & 97.5 %\\\\\n",
       "\\hline\n",
       "\t(Intercept) & -6.203210 &  3.226786\\\\\n",
       "\tX1 & -1.2151098 & -0.5286919\\\\\n",
       "\tX2 & -0.58676628 &  0.04940582\\\\\n",
       "\tX3 & 2.095923 & 2.681904\\\\\n",
       "\tX4 & 0.7335041 & 1.3111441\\\\\n",
       "\tX5 & -0.03276934 &  0.53315007\\\\\n",
       "\\end{tabular}\n"
      ],
      "text/markdown": [
       "1. -6.20321010507248\n",
       "2. -1.21510976750856\n",
       "3. -0.586766283867113\n",
       "4. 2.09592251689097\n",
       "5. 0.733504060969142\n",
       "6. -0.0327693408670937\n",
       "7. 3.22678578225335\n",
       "8. -0.528691920840739\n",
       "9. 0.0494058248641736\n",
       "10. 2.68190408561103\n",
       "11. 1.31114411380482\n",
       "12. 0.533150070345596\n",
       "\n",
       "\n"
      ],
      "text/plain": [
       "                  2.5 %      97.5 %\n",
       "(Intercept) -6.20321011  3.22678578\n",
       "X1          -1.21510977 -0.52869192\n",
       "X2          -0.58676628  0.04940582\n",
       "X3           2.09592252  2.68190409\n",
       "X4           0.73350406  1.31114411\n",
       "X5          -0.03276934  0.53315007"
      ]
     },
     "execution_count": 110,
     "metadata": {},
     "output_type": "execute_result"
    }
   ],
   "source": [
    "fit = lm(Y~., data=DATA)\n",
    "fit %>% summary\n",
    "fit %>% confint"
   ]
  },
  {
   "cell_type": "markdown",
   "metadata": {},
   "source": [
    "## Example with correlated predictors"
   ]
  },
  {
   "cell_type": "code",
   "execution_count": 20,
   "metadata": {
    "ExecuteTime": {
     "end_time": "2017-10-31T20:51:37.057971Z",
     "start_time": "2017-10-31T20:51:37.027Z"
    }
   },
   "outputs": [],
   "source": [
    "n = 100\n",
    "p = 3\n",
    "sigma = matrix(c(1,0,0,\n",
    "               0, 1, 0.95,\n",
    "               0, 0.95, 1), nrow=3)\n",
    "DATA = mvrnorm(n, c(0,0,0), sigma) %>% \n",
    "    data.frame %>%\n",
    "    mutate(Y = X3 -0.5*X1 + rnorm(n,0,1))"
   ]
  },
  {
   "cell_type": "code",
   "execution_count": 21,
   "metadata": {
    "ExecuteTime": {
     "end_time": "2017-10-31T20:51:37.361995Z",
     "start_time": "2017-10-31T20:51:37.318Z"
    }
   },
   "outputs": [
    {
     "data": {
      "text/plain": [
       "\n",
       "Call:\n",
       "lm(formula = Y ~ ., data = DATA)\n",
       "\n",
       "Residuals:\n",
       "    Min      1Q  Median      3Q     Max \n",
       "-2.7462 -0.5790 -0.1097  0.7041  2.5282 \n",
       "\n",
       "Coefficients:\n",
       "            Estimate Std. Error t value Pr(>|t|)    \n",
       "(Intercept)  0.19433    0.09744   1.994   0.0489 *  \n",
       "X1          -0.56322    0.11380  -4.949 3.18e-06 ***\n",
       "X2           0.13058    0.27233   0.480   0.6327    \n",
       "X3           0.68827    0.28044   2.454   0.0159 *  \n",
       "---\n",
       "Signif. codes:  0 ‘***’ 0.001 ‘**’ 0.01 ‘*’ 0.05 ‘.’ 0.1 ‘ ’ 1\n",
       "\n",
       "Residual standard error: 0.9611 on 96 degrees of freedom\n",
       "Multiple R-squared:  0.5324,\tAdjusted R-squared:  0.5178 \n",
       "F-statistic: 36.44 on 3 and 96 DF,  p-value: 8.23e-16\n"
      ]
     },
     "execution_count": 21,
     "metadata": {},
     "output_type": "execute_result"
    },
    {
     "data": {
      "text/html": [
       "<table>\n",
       "<thead><tr><th></th><th scope=col>2.5 %</th><th scope=col>97.5 %</th></tr></thead>\n",
       "<tbody>\n",
       "\t<tr><th scope=row>(Intercept)</th><td>0.0009228448</td><td>0.3877370409</td></tr>\n",
       "\t<tr><th scope=row>X1</th><td>-0.789111</td><td>-0.337325</td></tr>\n",
       "\t<tr><th scope=row>X2</th><td>-0.4099816</td><td> 0.6711448</td></tr>\n",
       "\t<tr><th scope=row>X3</th><td>0.131587</td><td>1.244944</td></tr>\n",
       "</tbody>\n",
       "</table>\n"
      ],
      "text/latex": [
       "\\begin{tabular}{r|ll}\n",
       "  & 2.5 % & 97.5 %\\\\\n",
       "\\hline\n",
       "\t(Intercept) & 0.0009228448 & 0.3877370409\\\\\n",
       "\tX1 & -0.789111 & -0.337325\\\\\n",
       "\tX2 & -0.4099816 &  0.6711448\\\\\n",
       "\tX3 & 0.131587 & 1.244944\\\\\n",
       "\\end{tabular}\n"
      ],
      "text/markdown": [
       "1. 0.000922844839838649\n",
       "2. -0.789110952252826\n",
       "3. -0.40998158801032\n",
       "4. 0.13158702795094\n",
       "5. 0.387737040948887\n",
       "6. -0.337325015229494\n",
       "7. 0.671144761388572\n",
       "8. 1.24494371471283\n",
       "\n",
       "\n"
      ],
      "text/plain": [
       "                    2.5 %     97.5 %\n",
       "(Intercept)  0.0009228448  0.3877370\n",
       "X1          -0.7891109523 -0.3373250\n",
       "X2          -0.4099815880  0.6711448\n",
       "X3           0.1315870280  1.2449437"
      ]
     },
     "execution_count": 21,
     "metadata": {},
     "output_type": "execute_result"
    }
   ],
   "source": [
    "fit = lm(Y~., data=DATA)\n",
    "fit %>% summary\n",
    "fit %>% confint"
   ]
  },
  {
   "cell_type": "markdown",
   "metadata": {},
   "source": [
    "## An example with categorical predictors"
   ]
  },
  {
   "cell_type": "code",
   "execution_count": 22,
   "metadata": {
    "ExecuteTime": {
     "end_time": "2017-10-31T20:56:54.006412Z",
     "start_time": "2017-10-31T20:56:53.965Z"
    }
   },
   "outputs": [],
   "source": [
    "n = 100\n",
    "p = 5\n",
    "DATA = mvrnorm(n, runif(p,-10,10), rand_sigma(p)) %>% \n",
    "    data.frame %>%\n",
    "    mutate(X1 = X1>mean(X1)) %>%\n",
    "    mutate(X2 = cut(X2,  breaks=c(-Inf,median(X2),(median(X2)+max(X2))/2,Inf), labels=c(\"a\",\"b\",\"c\"))) %>%\n",
    "    mutate(X6 = abs(floor((X3 + X4)/2))) %>%\n",
    "    mutate(Y = 2.5*X3 + atan(X4) - X1 + 0.1*X6*X5 + rnorm(n,0,3))"
   ]
  },
  {
   "cell_type": "code",
   "execution_count": 24,
   "metadata": {
    "ExecuteTime": {
     "end_time": "2017-10-31T20:57:03.024825Z",
     "start_time": "2017-10-31T20:57:02.964Z"
    }
   },
   "outputs": [
    {
     "data": {
      "text/html": [
       "<table>\n",
       "<thead><tr><th></th><th scope=col>X1</th><th scope=col>X2</th><th scope=col>X3</th><th scope=col>X4</th><th scope=col>X5</th><th scope=col>X6</th><th scope=col>Y</th></tr></thead>\n",
       "<tbody>\n",
       "\t<tr><th scope=row>1</th><td>FALSE</td><td>b</td><td>-7.998869</td><td>8.619012</td><td>4.037756</td><td>0</td><td>-26.27909</td></tr>\n",
       "\t<tr><th scope=row>2</th><td>FALSE</td><td>a</td><td>-3.392433</td><td>2.380612</td><td>10.44228</td><td>1</td><td>-9.630368</td></tr>\n",
       "\t<tr><th scope=row>3</th><td>FALSE</td><td>a</td><td>-7.422925</td><td>6.00726</td><td>6.300037</td><td>1</td><td>-14.66895</td></tr>\n",
       "\t<tr><th scope=row>4</th><td>FALSE</td><td>a</td><td>-7.475973</td><td>3.625836</td><td>6.044227</td><td>2</td><td>-11.16351</td></tr>\n",
       "\t<tr><th scope=row>5</th><td>FALSE</td><td>b</td><td>-3.61817</td><td>3.789759</td><td>8.789973</td><td>0</td><td>-13.27221</td></tr>\n",
       "\t<tr><th scope=row>6</th><td>TRUE</td><td>c</td><td>-4.208922</td><td>6.901857</td><td>5.686138</td><td>1</td><td>-4.80732</td></tr>\n",
       "</tbody>\n",
       "</table>\n"
      ],
      "text/latex": [
       "\\begin{tabular}{r|lllllll}\n",
       "  & X1 & X2 & X3 & X4 & X5 & X6 & Y\\\\\n",
       "\\hline\n",
       "\t1 & FALSE & b & -7.998869 & 8.619012 & 4.037756 & 0 & -26.27909\\\\\n",
       "\t2 & FALSE & a & -3.392433 & 2.380612 & 10.44228 & 1 & -9.630368\\\\\n",
       "\t3 & FALSE & a & -7.422925 & 6.00726 & 6.300037 & 1 & -14.66895\\\\\n",
       "\t4 & FALSE & a & -7.475973 & 3.625836 & 6.044227 & 2 & -11.16351\\\\\n",
       "\t5 & FALSE & b & -3.61817 & 3.789759 & 8.789973 & 0 & -13.27221\\\\\n",
       "\t6 & TRUE & c & -4.208922 & 6.901857 & 5.686138 & 1 & -4.80732\\\\\n",
       "\\end{tabular}\n"
      ],
      "text/plain": [
       "     X1 X2        X3       X4        X5 X6          Y\n",
       "1 FALSE  b -7.998869 8.619012  4.037756  0 -26.279086\n",
       "2 FALSE  a -3.392433 2.380612 10.442280  1  -9.630368\n",
       "3 FALSE  a -7.422925 6.007260  6.300037  1 -14.668947\n",
       "4 FALSE  a -7.475973 3.625836  6.044227  2 -11.163509\n",
       "5 FALSE  b -3.618170 3.789759  8.789973  0 -13.272208\n",
       "6  TRUE  c -4.208922 6.901857  5.686138  1  -4.807320"
      ]
     },
     "execution_count": 24,
     "metadata": {},
     "output_type": "execute_result"
    }
   ],
   "source": [
    "head(DATA)"
   ]
  },
  {
   "cell_type": "code",
   "execution_count": 23,
   "metadata": {
    "ExecuteTime": {
     "end_time": "2017-10-31T20:56:55.309257Z",
     "start_time": "2017-10-31T20:56:55.208Z"
    }
   },
   "outputs": [
    {
     "data": {
      "text/plain": [
       "\n",
       "Call:\n",
       "lm(formula = Y ~ ., data = DATA)\n",
       "\n",
       "Residuals:\n",
       "    Min      1Q  Median      3Q     Max \n",
       "-7.7755 -2.5308 -0.0203  2.4149  7.7341 \n",
       "\n",
       "Coefficients:\n",
       "            Estimate Std. Error t value Pr(>|t|)    \n",
       "(Intercept)  1.03504    4.10494   0.252   0.8015    \n",
       "X1TRUE      -1.76749    0.84277  -2.097   0.0387 *  \n",
       "X2b         -1.05475    0.75612  -1.395   0.1664    \n",
       "X2c          2.15249    1.62679   1.323   0.1891    \n",
       "X3           2.53357    0.25629   9.886 3.97e-16 ***\n",
       "X4           0.16914    0.10697   1.581   0.1173    \n",
       "X5           0.08024    0.34707   0.231   0.8177    \n",
       "X6           0.48739    0.30048   1.622   0.1082    \n",
       "---\n",
       "Signif. codes:  0 ‘***’ 0.001 ‘**’ 0.01 ‘*’ 0.05 ‘.’ 0.1 ‘ ’ 1\n",
       "\n",
       "Residual standard error: 3.309 on 92 degrees of freedom\n",
       "Multiple R-squared:  0.8181,\tAdjusted R-squared:  0.8043 \n",
       "F-statistic: 59.12 on 7 and 92 DF,  p-value: < 2.2e-16\n"
      ]
     },
     "execution_count": 23,
     "metadata": {},
     "output_type": "execute_result"
    },
    {
     "data": {
      "text/html": [
       "<table>\n",
       "<thead><tr><th></th><th scope=col>2.5 %</th><th scope=col>97.5 %</th></tr></thead>\n",
       "<tbody>\n",
       "\t<tr><th scope=row>(Intercept)</th><td>-7.117735</td><td> 9.187809</td></tr>\n",
       "\t<tr><th scope=row>X1TRUE</th><td>-3.44130973</td><td>-0.09367377</td></tr>\n",
       "\t<tr><th scope=row>X2b</th><td>-2.556463</td><td> 0.446969</td></tr>\n",
       "\t<tr><th scope=row>X2c</th><td>-1.078450</td><td> 5.383434</td></tr>\n",
       "\t<tr><th scope=row>X3</th><td>2.024561</td><td>3.042580</td></tr>\n",
       "\t<tr><th scope=row>X4</th><td>-0.04330571</td><td> 0.38158599</td></tr>\n",
       "\t<tr><th scope=row>X5</th><td>-0.6090761</td><td> 0.7695548</td></tr>\n",
       "\t<tr><th scope=row>X6</th><td>-0.1093892</td><td> 1.0841657</td></tr>\n",
       "</tbody>\n",
       "</table>\n"
      ],
      "text/latex": [
       "\\begin{tabular}{r|ll}\n",
       "  & 2.5 % & 97.5 %\\\\\n",
       "\\hline\n",
       "\t(Intercept) & -7.117735 &  9.187809\\\\\n",
       "\tX1TRUE & -3.44130973 & -0.09367377\\\\\n",
       "\tX2b & -2.556463 &  0.446969\\\\\n",
       "\tX2c & -1.078450 &  5.383434\\\\\n",
       "\tX3 & 2.024561 & 3.042580\\\\\n",
       "\tX4 & -0.04330571 &  0.38158599\\\\\n",
       "\tX5 & -0.6090761 &  0.7695548\\\\\n",
       "\tX6 & -0.1093892 &  1.0841657\\\\\n",
       "\\end{tabular}\n"
      ],
      "text/markdown": [
       "1. -7.11773514281469\n",
       "2. -3.44130972814549\n",
       "3. -2.55646279702376\n",
       "4. -1.07844990155793\n",
       "5. 2.02456089210899\n",
       "6. -0.0433057061868714\n",
       "7. -0.6090761214332\n",
       "8. -0.10938924600776\n",
       "9. 9.1878087321544\n",
       "10. -0.0936737712433242\n",
       "11. 0.446968962973039\n",
       "12. 5.38343445024572\n",
       "13. 3.04258048742384\n",
       "14. 0.381585993893536\n",
       "15. 0.769554771297754\n",
       "16. 1.08416572142279\n",
       "\n",
       "\n"
      ],
      "text/plain": [
       "                  2.5 %      97.5 %\n",
       "(Intercept) -7.11773514  9.18780873\n",
       "X1TRUE      -3.44130973 -0.09367377\n",
       "X2b         -2.55646280  0.44696896\n",
       "X2c         -1.07844990  5.38343445\n",
       "X3           2.02456089  3.04258049\n",
       "X4          -0.04330571  0.38158599\n",
       "X5          -0.60907612  0.76955477\n",
       "X6          -0.10938925  1.08416572"
      ]
     },
     "execution_count": 23,
     "metadata": {},
     "output_type": "execute_result"
    }
   ],
   "source": [
    "fit = lm(Y~., data=DATA)\n",
    "fit %>% summary\n",
    "fit %>% confint"
   ]
  },
  {
   "cell_type": "markdown",
   "metadata": {},
   "source": [
    "## Analysis of variance = unpaired t-test = linear model with one categorical predictor"
   ]
  },
  {
   "cell_type": "code",
   "execution_count": 25,
   "metadata": {
    "ExecuteTime": {
     "end_time": "2017-10-31T20:58:11.847963Z",
     "start_time": "2017-10-31T20:58:11.802Z"
    }
   },
   "outputs": [],
   "source": [
    "n = 100\n",
    "p = 3\n",
    "\n",
    "DATA = data.frame(X = rbinom(n,1,0.4)) %>%\n",
    "    mutate(Y = 0.5*X + rnorm(n,0,1)) %>%\n",
    "    mutate(X = factor(X))"
   ]
  },
  {
   "cell_type": "code",
   "execution_count": 26,
   "metadata": {
    "ExecuteTime": {
     "end_time": "2017-10-31T20:58:17.466965Z",
     "start_time": "2017-10-31T20:58:17.419Z"
    }
   },
   "outputs": [
    {
     "data": {
      "text/html": [
       "<table>\n",
       "<thead><tr><th></th><th scope=col>X</th><th scope=col>Y</th></tr></thead>\n",
       "<tbody>\n",
       "\t<tr><th scope=row>1</th><td>0</td><td>0.6782103</td></tr>\n",
       "\t<tr><th scope=row>2</th><td>0</td><td>0.7117005</td></tr>\n",
       "\t<tr><th scope=row>3</th><td>0</td><td>1.828789</td></tr>\n",
       "\t<tr><th scope=row>4</th><td>1</td><td>0.9732076</td></tr>\n",
       "\t<tr><th scope=row>5</th><td>1</td><td>2.028365</td></tr>\n",
       "\t<tr><th scope=row>6</th><td>0</td><td>0.6123052</td></tr>\n",
       "</tbody>\n",
       "</table>\n"
      ],
      "text/latex": [
       "\\begin{tabular}{r|ll}\n",
       "  & X & Y\\\\\n",
       "\\hline\n",
       "\t1 & 0 & 0.6782103\\\\\n",
       "\t2 & 0 & 0.7117005\\\\\n",
       "\t3 & 0 & 1.828789\\\\\n",
       "\t4 & 1 & 0.9732076\\\\\n",
       "\t5 & 1 & 2.028365\\\\\n",
       "\t6 & 0 & 0.6123052\\\\\n",
       "\\end{tabular}\n"
      ],
      "text/plain": [
       "  X         Y\n",
       "1 0 0.6782103\n",
       "2 0 0.7117005\n",
       "3 0 1.8287887\n",
       "4 1 0.9732076\n",
       "5 1 2.0283654\n",
       "6 0 0.6123052"
      ]
     },
     "execution_count": 26,
     "metadata": {},
     "output_type": "execute_result"
    }
   ],
   "source": [
    "head(DATA)"
   ]
  },
  {
   "cell_type": "code",
   "execution_count": 184,
   "metadata": {
    "ExecuteTime": {
     "end_time": "2017-10-20T19:24:21.184465Z",
     "start_time": "2017-10-20T19:24:20.761Z"
    }
   },
   "outputs": [
    {
     "data": {
      "image/png": "[encoded data removed]",
      "image/svg+xml": [
       "<?xml version=\"1.0\" encoding=\"UTF-8\"?>\n",
       "<svg xmlns=\"http://www.w3.org/2000/svg\" xmlns:xlink=\"http://www.w3.org/1999/xlink\" width=\"504pt\" height=\"504pt\" viewBox=\"0 0 504 504\" version=\"1.1\">\n",
       "<defs>\n",
       "<g>\n",
       "<symbol overflow=\"visible\" id=\"glyph0-0\">\n",
       "<path style=\"stroke:none;\" d=\"M 0.28125 0 L 0.28125 -6.3125 L 5.296875 -6.3125 L 5.296875 0 Z M 4.5 -0.796875 L 4.5 -5.515625 L 1.078125 -5.515625 L 1.078125 -0.796875 Z \"/>\n",
       "</symbol>\n",
       "<symbol overflow=\"visible\" id=\"glyph0-1\">\n",
       "<path style=\"stroke:none;\" d=\"M 0.359375 -2.84375 L 2.515625 -2.84375 L 2.515625 -2.046875 L 0.359375 -2.046875 Z \"/>\n",
       "</symbol>\n",
       "<symbol overflow=\"visible\" id=\"glyph0-2\">\n",
       "<path style=\"stroke:none;\" d=\"M 0.28125 0 C 0.300781 -0.53125 0.40625 -0.988281 0.59375 -1.375 C 0.789062 -1.769531 1.164062 -2.128906 1.71875 -2.453125 L 2.546875 -2.921875 C 2.910156 -3.140625 3.164062 -3.328125 3.3125 -3.484375 C 3.550781 -3.710938 3.671875 -3.984375 3.671875 -4.296875 C 3.671875 -4.648438 3.5625 -4.929688 3.34375 -5.140625 C 3.132812 -5.359375 2.847656 -5.46875 2.484375 -5.46875 C 1.960938 -5.46875 1.597656 -5.265625 1.390625 -4.859375 C 1.285156 -4.648438 1.226562 -4.351562 1.21875 -3.96875 L 0.421875 -3.96875 C 0.429688 -4.5 0.53125 -4.9375 0.71875 -5.28125 C 1.050781 -5.875 1.644531 -6.171875 2.5 -6.171875 C 3.195312 -6.171875 3.707031 -5.976562 4.03125 -5.59375 C 4.363281 -5.21875 4.53125 -4.796875 4.53125 -4.328125 C 4.53125 -3.835938 4.351562 -3.414062 4 -3.0625 C 3.800781 -2.863281 3.441406 -2.617188 2.921875 -2.328125 L 2.34375 -2 C 2.0625 -1.84375 1.835938 -1.695312 1.671875 -1.5625 C 1.390625 -1.3125 1.210938 -1.035156 1.140625 -0.734375 L 4.5 -0.734375 L 4.5 0 Z \"/>\n",
       "</symbol>\n",
       "<symbol overflow=\"visible\" id=\"glyph0-3\">\n",
       "<path style=\"stroke:none;\" d=\"M 0.84375 -4.359375 L 0.84375 -4.953125 C 1.394531 -5.003906 1.78125 -5.09375 2 -5.21875 C 2.226562 -5.34375 2.394531 -5.644531 2.5 -6.125 L 3.109375 -6.125 L 3.109375 0 L 2.296875 0 L 2.296875 -4.359375 Z \"/>\n",
       "</symbol>\n",
       "<symbol overflow=\"visible\" id=\"glyph0-4\">\n",
       "<path style=\"stroke:none;\" d=\"M 2.375 -6.15625 C 3.175781 -6.15625 3.753906 -5.828125 4.109375 -5.171875 C 4.378906 -4.660156 4.515625 -3.960938 4.515625 -3.078125 C 4.515625 -2.242188 4.390625 -1.554688 4.140625 -1.015625 C 3.785156 -0.222656 3.195312 0.171875 2.375 0.171875 C 1.632812 0.171875 1.082031 -0.148438 0.71875 -0.796875 C 0.425781 -1.328125 0.28125 -2.046875 0.28125 -2.953125 C 0.28125 -3.648438 0.367188 -4.25 0.546875 -4.75 C 0.878906 -5.6875 1.488281 -6.15625 2.375 -6.15625 Z M 2.375 -0.53125 C 2.769531 -0.53125 3.085938 -0.707031 3.328125 -1.0625 C 3.566406 -1.425781 3.6875 -2.085938 3.6875 -3.046875 C 3.6875 -3.753906 3.597656 -4.332031 3.421875 -4.78125 C 3.253906 -5.226562 2.921875 -5.453125 2.421875 -5.453125 C 1.972656 -5.453125 1.640625 -5.238281 1.421875 -4.8125 C 1.210938 -4.382812 1.109375 -3.753906 1.109375 -2.921875 C 1.109375 -2.296875 1.175781 -1.789062 1.3125 -1.40625 C 1.519531 -0.820312 1.875 -0.53125 2.375 -0.53125 Z \"/>\n",
       "</symbol>\n",
       "<symbol overflow=\"visible\" id=\"glyph0-5\">\n",
       "<path style=\"stroke:none;\" d=\"M 2.28125 0.171875 C 1.550781 0.171875 1.019531 -0.0234375 0.6875 -0.421875 C 0.363281 -0.828125 0.203125 -1.316406 0.203125 -1.890625 L 1.015625 -1.890625 C 1.046875 -1.492188 1.117188 -1.203125 1.234375 -1.015625 C 1.441406 -0.691406 1.804688 -0.53125 2.328125 -0.53125 C 2.734375 -0.53125 3.054688 -0.640625 3.296875 -0.859375 C 3.546875 -1.078125 3.671875 -1.359375 3.671875 -1.703125 C 3.671875 -2.128906 3.539062 -2.425781 3.28125 -2.59375 C 3.03125 -2.757812 2.671875 -2.84375 2.203125 -2.84375 C 2.148438 -2.84375 2.097656 -2.84375 2.046875 -2.84375 C 1.992188 -2.84375 1.941406 -2.84375 1.890625 -2.84375 L 1.890625 -3.515625 C 1.972656 -3.515625 2.039062 -3.507812 2.09375 -3.5 C 2.144531 -3.5 2.203125 -3.5 2.265625 -3.5 C 2.554688 -3.5 2.796875 -3.546875 2.984375 -3.640625 C 3.304688 -3.796875 3.46875 -4.082031 3.46875 -4.5 C 3.46875 -4.800781 3.359375 -5.035156 3.140625 -5.203125 C 2.921875 -5.367188 2.671875 -5.453125 2.390625 -5.453125 C 1.867188 -5.453125 1.507812 -5.28125 1.3125 -4.9375 C 1.207031 -4.75 1.144531 -4.476562 1.125 -4.125 L 0.359375 -4.125 C 0.359375 -4.582031 0.453125 -4.972656 0.640625 -5.296875 C 0.953125 -5.867188 1.503906 -6.15625 2.296875 -6.15625 C 2.929688 -6.15625 3.421875 -6.015625 3.765625 -5.734375 C 4.109375 -5.460938 4.28125 -5.0625 4.28125 -4.53125 C 4.28125 -4.144531 4.175781 -3.835938 3.96875 -3.609375 C 3.84375 -3.460938 3.679688 -3.347656 3.484375 -3.265625 C 3.804688 -3.171875 4.054688 -3 4.234375 -2.75 C 4.421875 -2.5 4.515625 -2.191406 4.515625 -1.828125 C 4.515625 -1.234375 4.316406 -0.75 3.921875 -0.375 C 3.535156 -0.0078125 2.988281 0.171875 2.28125 0.171875 Z \"/>\n",
       "</symbol>\n",
       "<symbol overflow=\"visible\" id=\"glyph1-0\">\n",
       "<path style=\"stroke:none;\" d=\"M 0.359375 0 L 0.359375 -7.890625 L 6.625 -7.890625 L 6.625 0 Z M 5.625 -0.984375 L 5.625 -6.90625 L 1.34375 -6.90625 L 1.34375 -0.984375 Z \"/>\n",
       "</symbol>\n",
       "<symbol overflow=\"visible\" id=\"glyph1-1\">\n",
       "<path style=\"stroke:none;\" d=\"M 1.515625 0 L 0.21875 0 L 3.046875 -4.046875 L 0.40625 -7.890625 L 1.734375 -7.890625 L 3.75 -4.875 L 5.75 -7.890625 L 7.03125 -7.890625 L 4.375 -4.046875 L 7.15625 0 L 5.828125 0 L 3.703125 -3.25 Z \"/>\n",
       "</symbol>\n",
       "<symbol overflow=\"visible\" id=\"glyph2-0\">\n",
       "<path style=\"stroke:none;\" d=\"M 0 -0.359375 L -7.890625 -0.359375 L -7.890625 -6.625 L 0 -6.625 Z M -0.984375 -5.625 L -6.90625 -5.625 L -6.90625 -1.34375 L -0.984375 -1.34375 Z \"/>\n",
       "</symbol>\n",
       "<symbol overflow=\"visible\" id=\"glyph2-1\">\n",
       "<path style=\"stroke:none;\" d=\"M -7.890625 -0.21875 L -7.890625 -1.46875 L -4.09375 -3.734375 L -7.890625 -6 L -7.890625 -7.25 L -3.1875 -4.28125 L 0 -4.28125 L 0 -3.203125 L -3.1875 -3.203125 Z M -7.890625 -3.75 Z \"/>\n",
       "</symbol>\n",
       "</g>\n",
       "<clipPath id=\"clip1\">\n",
       "  <path d=\"M 31.601562 5.480469 L 452 5.480469 L 452 474 L 31.601562 474 Z \"/>\n",
       "</clipPath>\n",
       "<clipPath id=\"clip2\">\n",
       "  <path d=\"M 31.601562 453 L 452 453 L 452 455 L 31.601562 455 Z \"/>\n",
       "</clipPath>\n",
       "<clipPath id=\"clip3\">\n",
       "  <path d=\"M 31.601562 377 L 452 377 L 452 378 L 31.601562 378 Z \"/>\n",
       "</clipPath>\n",
       "<clipPath id=\"clip4\">\n",
       "  <path d=\"M 31.601562 300 L 452 300 L 452 302 L 31.601562 302 Z \"/>\n",
       "</clipPath>\n",
       "<clipPath id=\"clip5\">\n",
       "  <path d=\"M 31.601562 223 L 452 223 L 452 225 L 31.601562 225 Z \"/>\n",
       "</clipPath>\n",
       "<clipPath id=\"clip6\">\n",
       "  <path d=\"M 31.601562 147 L 452 147 L 452 148 L 31.601562 148 Z \"/>\n",
       "</clipPath>\n",
       "<clipPath id=\"clip7\">\n",
       "  <path d=\"M 31.601562 70 L 452 70 L 452 72 L 31.601562 72 Z \"/>\n",
       "</clipPath>\n",
       "<clipPath id=\"clip8\">\n",
       "  <path d=\"M 31.601562 415 L 452 415 L 452 417 L 31.601562 417 Z \"/>\n",
       "</clipPath>\n",
       "<clipPath id=\"clip9\">\n",
       "  <path d=\"M 31.601562 338 L 452 338 L 452 340 L 31.601562 340 Z \"/>\n",
       "</clipPath>\n",
       "<clipPath id=\"clip10\">\n",
       "  <path d=\"M 31.601562 262 L 452 262 L 452 264 L 31.601562 264 Z \"/>\n",
       "</clipPath>\n",
       "<clipPath id=\"clip11\">\n",
       "  <path d=\"M 31.601562 185 L 452 185 L 452 187 L 31.601562 187 Z \"/>\n",
       "</clipPath>\n",
       "<clipPath id=\"clip12\">\n",
       "  <path d=\"M 31.601562 108 L 452 108 L 452 110 L 31.601562 110 Z \"/>\n",
       "</clipPath>\n",
       "<clipPath id=\"clip13\">\n",
       "  <path d=\"M 31.601562 32 L 452 32 L 452 34 L 31.601562 34 Z \"/>\n",
       "</clipPath>\n",
       "<clipPath id=\"clip14\">\n",
       "  <path d=\"M 145 5.480469 L 147 5.480469 L 147 474.90625 L 145 474.90625 Z \"/>\n",
       "</clipPath>\n",
       "<clipPath id=\"clip15\">\n",
       "  <path d=\"M 336 5.480469 L 338 5.480469 L 338 474.90625 L 336 474.90625 Z \"/>\n",
       "</clipPath>\n",
       "</defs>\n",
       "<g id=\"surface86\">\n",
       "<rect x=\"0\" y=\"0\" width=\"504\" height=\"504\" style=\"fill:rgb(100%,100%,100%);fill-opacity:1;stroke:none;\"/>\n",
       "<rect x=\"0\" y=\"0\" width=\"504\" height=\"504\" style=\"fill:rgb(100%,100%,100%);fill-opacity:1;stroke:none;\"/>\n",
       "<path style=\"fill:none;stroke-width:1.066978;stroke-linecap:round;stroke-linejoin:round;stroke:rgb(100%,100%,100%);stroke-opacity:1;stroke-miterlimit:10;\" d=\"M 0 504 L 504 504 L 504 0 L 0 0 Z \"/>\n",
       "<g clip-path=\"url(#clip1)\" clip-rule=\"nonzero\">\n",
       "<path style=\" stroke:none;fill-rule:nonzero;fill:rgb(92.156863%,92.156863%,92.156863%);fill-opacity:1;\" d=\"M 31.601562 473.90625 L 451.398438 473.90625 L 451.398438 5.480469 L 31.601562 5.480469 Z \"/>\n",
       "</g>\n",
       "<g clip-path=\"url(#clip2)\" clip-rule=\"nonzero\">\n",
       "<path style=\"fill:none;stroke-width:0.533489;stroke-linecap:butt;stroke-linejoin:round;stroke:rgb(100%,100%,100%);stroke-opacity:1;stroke-miterlimit:10;\" d=\"M 31.601562 454.054688 L 451.398438 454.054688 \"/>\n",
       "</g>\n",
       "<g clip-path=\"url(#clip3)\" clip-rule=\"nonzero\">\n",
       "<path style=\"fill:none;stroke-width:0.533489;stroke-linecap:butt;stroke-linejoin:round;stroke:rgb(100%,100%,100%);stroke-opacity:1;stroke-miterlimit:10;\" d=\"M 31.601562 377.449219 L 451.398438 377.449219 \"/>\n",
       "</g>\n",
       "<g clip-path=\"url(#clip4)\" clip-rule=\"nonzero\">\n",
       "<path style=\"fill:none;stroke-width:0.533489;stroke-linecap:butt;stroke-linejoin:round;stroke:rgb(100%,100%,100%);stroke-opacity:1;stroke-miterlimit:10;\" d=\"M 31.601562 300.84375 L 451.398438 300.84375 \"/>\n",
       "</g>\n",
       "<g clip-path=\"url(#clip5)\" clip-rule=\"nonzero\">\n",
       "<path style=\"fill:none;stroke-width:0.533489;stroke-linecap:butt;stroke-linejoin:round;stroke:rgb(100%,100%,100%);stroke-opacity:1;stroke-miterlimit:10;\" d=\"M 31.601562 224.238281 L 451.398438 224.238281 \"/>\n",
       "</g>\n",
       "<g clip-path=\"url(#clip6)\" clip-rule=\"nonzero\">\n",
       "<path style=\"fill:none;stroke-width:0.533489;stroke-linecap:butt;stroke-linejoin:round;stroke:rgb(100%,100%,100%);stroke-opacity:1;stroke-miterlimit:10;\" d=\"M 31.601562 147.632812 L 451.398438 147.632812 \"/>\n",
       "</g>\n",
       "<g clip-path=\"url(#clip7)\" clip-rule=\"nonzero\">\n",
       "<path style=\"fill:none;stroke-width:0.533489;stroke-linecap:butt;stroke-linejoin:round;stroke:rgb(100%,100%,100%);stroke-opacity:1;stroke-miterlimit:10;\" d=\"M 31.601562 71.027344 L 451.398438 71.027344 \"/>\n",
       "</g>\n",
       "<g clip-path=\"url(#clip8)\" clip-rule=\"nonzero\">\n",
       "<path style=\"fill:none;stroke-width:1.066978;stroke-linecap:butt;stroke-linejoin:round;stroke:rgb(100%,100%,100%);stroke-opacity:1;stroke-miterlimit:10;\" d=\"M 31.601562 415.75 L 451.398438 415.75 \"/>\n",
       "</g>\n",
       "<g clip-path=\"url(#clip9)\" clip-rule=\"nonzero\">\n",
       "<path style=\"fill:none;stroke-width:1.066978;stroke-linecap:butt;stroke-linejoin:round;stroke:rgb(100%,100%,100%);stroke-opacity:1;stroke-miterlimit:10;\" d=\"M 31.601562 339.144531 L 451.398438 339.144531 \"/>\n",
       "</g>\n",
       "<g clip-path=\"url(#clip10)\" clip-rule=\"nonzero\">\n",
       "<path style=\"fill:none;stroke-width:1.066978;stroke-linecap:butt;stroke-linejoin:round;stroke:rgb(100%,100%,100%);stroke-opacity:1;stroke-miterlimit:10;\" d=\"M 31.601562 262.539062 L 451.398438 262.539062 \"/>\n",
       "</g>\n",
       "<g clip-path=\"url(#clip11)\" clip-rule=\"nonzero\">\n",
       "<path style=\"fill:none;stroke-width:1.066978;stroke-linecap:butt;stroke-linejoin:round;stroke:rgb(100%,100%,100%);stroke-opacity:1;stroke-miterlimit:10;\" d=\"M 31.601562 185.933594 L 451.398438 185.933594 \"/>\n",
       "</g>\n",
       "<g clip-path=\"url(#clip12)\" clip-rule=\"nonzero\">\n",
       "<path style=\"fill:none;stroke-width:1.066978;stroke-linecap:butt;stroke-linejoin:round;stroke:rgb(100%,100%,100%);stroke-opacity:1;stroke-miterlimit:10;\" d=\"M 31.601562 109.328125 L 451.398438 109.328125 \"/>\n",
       "</g>\n",
       "<g clip-path=\"url(#clip13)\" clip-rule=\"nonzero\">\n",
       "<path style=\"fill:none;stroke-width:1.066978;stroke-linecap:butt;stroke-linejoin:round;stroke:rgb(100%,100%,100%);stroke-opacity:1;stroke-miterlimit:10;\" d=\"M 31.601562 32.722656 L 451.398438 32.722656 \"/>\n",
       "</g>\n",
       "<g clip-path=\"url(#clip14)\" clip-rule=\"nonzero\">\n",
       "<path style=\"fill:none;stroke-width:1.066978;stroke-linecap:butt;stroke-linejoin:round;stroke:rgb(100%,100%,100%);stroke-opacity:1;stroke-miterlimit:10;\" d=\"M 146.09375 473.90625 L 146.09375 5.480469 \"/>\n",
       "</g>\n",
       "<g clip-path=\"url(#clip15)\" clip-rule=\"nonzero\">\n",
       "<path style=\"fill:none;stroke-width:1.066978;stroke-linecap:butt;stroke-linejoin:round;stroke:rgb(100%,100%,100%);stroke-opacity:1;stroke-miterlimit:10;\" d=\"M 336.910156 473.90625 L 336.910156 5.480469 \"/>\n",
       "</g>\n",
       "<path style=\"fill-rule:nonzero;fill:rgb(97.254902%,46.27451%,42.745098%);fill-opacity:1;stroke-width:1.066978;stroke-linecap:round;stroke-linejoin:round;stroke:rgb(20%,20%,20%);stroke-opacity:1;stroke-miterlimit:10;\" d=\"M 133.863281 452.613281 L 133.597656 450.949219 L 133.472656 450.113281 L 133.355469 449.28125 L 133.242188 448.449219 L 133.132812 447.613281 L 133.03125 446.78125 L 132.933594 445.949219 L 132.84375 445.113281 L 132.679688 443.449219 L 132.609375 442.613281 L 132.539062 441.78125 L 132.476562 440.949219 L 132.421875 440.113281 L 132.371094 439.28125 L 132.324219 438.449219 L 132.285156 437.613281 L 132.25 436.78125 L 132.21875 435.949219 L 132.195312 435.113281 L 132.175781 434.28125 L 132.160156 433.445312 L 132.148438 432.613281 L 132.140625 431.78125 L 132.136719 430.945312 L 132.136719 430.113281 L 132.140625 429.28125 L 132.148438 428.445312 L 132.171875 426.78125 L 132.1875 425.945312 L 132.203125 425.113281 L 132.226562 424.28125 L 132.246094 423.445312 L 132.292969 421.78125 L 132.316406 420.945312 L 132.339844 420.113281 L 132.367188 419.28125 L 132.390625 418.445312 L 132.414062 417.613281 L 132.441406 416.78125 L 132.460938 415.945312 L 132.484375 415.113281 L 132.503906 414.28125 L 132.523438 413.445312 L 132.539062 412.613281 L 132.550781 411.78125 L 132.5625 410.945312 L 132.570312 410.113281 L 132.574219 409.28125 L 132.574219 407.613281 L 132.566406 406.78125 L 132.554688 405.945312 L 132.542969 405.113281 L 132.519531 404.28125 L 132.496094 403.445312 L 132.46875 402.613281 L 132.433594 401.78125 L 132.394531 400.945312 L 132.347656 400.113281 L 132.296875 399.28125 L 132.238281 398.445312 L 132.175781 397.613281 L 132.105469 396.78125 L 132.035156 395.945312 L 131.863281 394.28125 L 131.769531 393.445312 L 131.667969 392.613281 L 131.5625 391.78125 L 131.445312 390.945312 L 131.324219 390.113281 L 131.199219 389.28125 L 131.0625 388.445312 L 130.921875 387.613281 L 130.773438 386.78125 L 130.617188 385.945312 L 130.453125 385.113281 L 130.285156 384.28125 L 130.105469 383.445312 L 129.925781 382.613281 L 129.730469 381.78125 L 129.53125 380.945312 L 129.328125 380.113281 L 129.113281 379.28125 L 128.894531 378.445312 L 128.667969 377.613281 L 128.433594 376.78125 L 128.191406 375.945312 L 127.945312 375.113281 L 127.6875 374.277344 L 127.425781 373.445312 L 127.15625 372.613281 L 126.878906 371.777344 L 126.59375 370.945312 L 126.300781 370.113281 L 126 369.277344 L 125.695312 368.445312 L 125.378906 367.613281 L 125.0625 366.777344 L 124.730469 365.945312 L 124.394531 365.113281 L 124.054688 364.277344 L 123.703125 363.445312 L 123.34375 362.613281 L 122.980469 361.777344 L 122.605469 360.945312 L 122.226562 360.113281 L 121.835938 359.277344 L 121.441406 358.445312 L 121.039062 357.613281 L 120.628906 356.777344 L 120.210938 355.945312 L 119.785156 355.113281 L 119.347656 354.277344 L 118.90625 353.445312 L 118.457031 352.613281 L 118 351.777344 L 117.535156 350.945312 L 117.0625 350.113281 L 116.582031 349.277344 L 116.09375 348.445312 L 115.59375 347.613281 L 115.089844 346.777344 L 114.578125 345.945312 L 114.054688 345.113281 L 113.527344 344.277344 L 112.992188 343.445312 L 112.445312 342.613281 L 111.898438 341.777344 L 111.335938 340.945312 L 110.769531 340.113281 L 110.195312 339.277344 L 109.609375 338.445312 L 109.019531 337.613281 L 108.421875 336.777344 L 107.816406 335.945312 L 107.207031 335.113281 L 106.585938 334.277344 L 105.960938 333.445312 L 105.332031 332.613281 L 104.691406 331.777344 L 103.394531 330.113281 L 102.738281 329.277344 L 102.074219 328.445312 L 101.40625 327.613281 L 100.734375 326.777344 L 99.375 325.113281 L 98.6875 324.277344 L 97.304688 322.613281 L 96.605469 321.777344 L 95.90625 320.945312 L 95.203125 320.113281 L 94.5 319.277344 L 93.796875 318.445312 L 93.089844 317.613281 L 92.382812 316.777344 L 91.675781 315.945312 L 90.964844 315.109375 L 90.257812 314.277344 L 89.554688 313.445312 L 88.851562 312.609375 L 88.148438 311.777344 L 87.449219 310.945312 L 86.753906 310.109375 L 86.058594 309.277344 L 85.371094 308.445312 L 84.6875 307.609375 L 84.007812 306.777344 L 83.335938 305.945312 L 82.667969 305.109375 L 81.355469 303.445312 L 80.710938 302.609375 L 80.074219 301.777344 L 79.445312 300.945312 L 78.828125 300.109375 L 78.222656 299.277344 L 77.621094 298.445312 L 77.035156 297.609375 L 76.460938 296.777344 L 75.894531 295.945312 L 75.34375 295.109375 L 74.804688 294.277344 L 74.28125 293.445312 L 73.769531 292.609375 L 73.265625 291.777344 L 72.789062 290.945312 L 72.320312 290.109375 L 71.863281 289.277344 L 71.429688 288.445312 L 71.007812 287.609375 L 70.605469 286.777344 L 70.21875 285.945312 L 69.84375 285.109375 L 69.496094 284.277344 L 69.160156 283.445312 L 68.835938 282.609375 L 68.542969 281.777344 L 68.261719 280.945312 L 67.996094 280.109375 L 67.757812 279.277344 L 67.53125 278.445312 L 67.328125 277.609375 L 67.140625 276.777344 L 66.972656 275.945312 L 66.828125 275.109375 L 66.703125 274.277344 L 66.59375 273.445312 L 66.507812 272.609375 L 66.4375 271.777344 L 66.390625 270.945312 L 66.363281 270.109375 L 66.351562 269.277344 L 66.367188 268.445312 L 66.398438 267.609375 L 66.445312 266.777344 L 66.519531 265.945312 L 66.605469 265.109375 L 66.710938 264.277344 L 66.84375 263.445312 L 66.984375 262.609375 L 67.152344 261.777344 L 67.332031 260.945312 L 67.53125 260.109375 L 67.753906 259.277344 L 67.988281 258.445312 L 68.238281 257.609375 L 68.511719 256.777344 L 68.796875 255.941406 L 69.097656 255.109375 L 69.417969 254.277344 L 69.75 253.441406 L 70.101562 252.609375 L 70.464844 251.777344 L 70.839844 250.941406 L 71.238281 250.109375 L 71.640625 249.277344 L 72.058594 248.441406 L 72.492188 247.609375 L 72.933594 246.777344 L 73.386719 245.941406 L 73.855469 245.109375 L 74.328125 244.277344 L 74.816406 243.441406 L 75.3125 242.609375 L 75.816406 241.777344 L 76.332031 240.941406 L 76.851562 240.109375 L 77.378906 239.277344 L 77.914062 238.441406 L 78.457031 237.609375 L 79.003906 236.777344 L 79.558594 235.941406 L 80.113281 235.109375 L 80.675781 234.277344 L 81.242188 233.441406 L 81.808594 232.609375 L 82.378906 231.777344 L 82.953125 230.941406 L 84.101562 229.277344 L 84.679688 228.441406 L 85.253906 227.609375 L 85.832031 226.777344 L 86.40625 225.941406 L 86.976562 225.109375 L 87.550781 224.277344 L 88.117188 223.441406 L 89.25 221.777344 L 89.808594 220.941406 L 90.363281 220.109375 L 90.914062 219.277344 L 91.460938 218.441406 L 92.003906 217.609375 L 92.539062 216.777344 L 93.070312 215.941406 L 93.59375 215.109375 L 94.113281 214.277344 L 94.625 213.441406 L 95.128906 212.609375 L 95.628906 211.777344 L 96.117188 210.941406 L 96.601562 210.109375 L 97.078125 209.277344 L 97.546875 208.441406 L 98.007812 207.609375 L 98.460938 206.777344 L 98.90625 205.941406 L 99.34375 205.109375 L 99.769531 204.277344 L 100.195312 203.441406 L 101.007812 201.777344 L 101.402344 200.941406 L 101.789062 200.109375 L 102.167969 199.277344 L 102.539062 198.441406 L 102.898438 197.609375 L 103.253906 196.773438 L 103.597656 195.941406 L 103.933594 195.109375 L 104.265625 194.273438 L 104.585938 193.441406 L 104.898438 192.609375 L 105.203125 191.773438 L 105.5 190.941406 L 105.789062 190.109375 L 106.070312 189.273438 L 106.34375 188.441406 L 106.613281 187.609375 L 106.867188 186.773438 L 107.121094 185.941406 L 107.367188 185.109375 L 107.601562 184.273438 L 107.832031 183.441406 L 108.054688 182.609375 L 108.269531 181.773438 L 108.480469 180.941406 L 108.683594 180.109375 L 108.878906 179.273438 L 109.074219 178.441406 L 109.253906 177.609375 L 109.433594 176.773438 L 109.605469 175.941406 L 109.769531 175.109375 L 109.929688 174.273438 L 110.085938 173.441406 L 110.234375 172.609375 L 110.378906 171.773438 L 110.644531 170.109375 L 110.773438 169.273438 L 110.894531 168.441406 L 111.011719 167.609375 L 111.125 166.773438 L 111.230469 165.941406 L 111.332031 165.109375 L 111.429688 164.273438 L 111.523438 163.441406 L 111.613281 162.609375 L 111.699219 161.773438 L 111.78125 160.941406 L 111.859375 160.109375 L 111.933594 159.273438 L 112.003906 158.441406 L 112.070312 157.609375 L 112.136719 156.773438 L 112.199219 155.941406 L 112.257812 155.109375 L 112.3125 154.273438 L 112.421875 152.609375 L 112.472656 151.773438 L 112.523438 150.941406 L 112.570312 150.109375 L 112.617188 149.273438 L 112.710938 147.609375 L 112.757812 146.773438 L 112.851562 145.109375 L 112.898438 144.273438 L 113 142.609375 L 113.054688 141.773438 L 113.109375 140.941406 L 113.167969 140.109375 L 113.226562 139.273438 L 113.289062 138.441406 L 113.359375 137.605469 L 113.429688 136.773438 L 113.503906 135.941406 L 113.582031 135.105469 L 113.667969 134.273438 L 113.757812 133.441406 L 113.855469 132.605469 L 113.957031 131.773438 L 114.0625 130.941406 L 114.175781 130.105469 L 114.296875 129.273438 L 114.421875 128.441406 L 114.558594 127.605469 L 114.695312 126.773438 L 114.847656 125.941406 L 115.003906 125.105469 L 115.167969 124.273438 L 115.339844 123.441406 L 115.523438 122.605469 L 115.710938 121.773438 L 115.910156 120.941406 L 116.117188 120.105469 L 116.332031 119.273438 L 116.554688 118.441406 L 116.785156 117.605469 L 117.027344 116.773438 L 117.277344 115.941406 L 117.535156 115.105469 L 117.804688 114.273438 L 118.082031 113.441406 L 118.363281 112.605469 L 118.65625 111.773438 L 118.957031 110.941406 L 119.265625 110.105469 L 119.582031 109.273438 L 119.902344 108.441406 L 120.234375 107.605469 L 120.574219 106.773438 L 120.917969 105.941406 L 121.269531 105.105469 L 121.625 104.273438 L 121.988281 103.441406 L 122.355469 102.605469 L 122.726562 101.773438 L 123.105469 100.941406 L 123.488281 100.105469 L 123.875 99.273438 L 124.265625 98.441406 L 124.65625 97.605469 L 125.050781 96.773438 L 125.449219 95.941406 L 125.847656 95.105469 L 126.246094 94.273438 L 126.648438 93.441406 L 127.050781 92.605469 L 127.855469 90.941406 L 128.253906 90.105469 L 129.050781 88.441406 L 129.449219 87.605469 L 130.230469 85.941406 L 130.617188 85.105469 L 131.382812 83.441406 L 131.753906 82.605469 L 132.125 81.773438 L 132.492188 80.9375 L 133.203125 79.273438 L 133.550781 78.4375 L 134.230469 76.773438 L 134.554688 75.9375 L 134.878906 75.105469 L 135.195312 74.273438 L 135.5 73.4375 L 135.800781 72.605469 L 136.09375 71.773438 L 136.375 70.9375 L 136.652344 70.105469 L 136.921875 69.273438 L 137.179688 68.4375 L 137.4375 67.605469 L 137.679688 66.773438 L 137.914062 65.9375 L 138.144531 65.105469 L 138.363281 64.273438 L 138.578125 63.4375 L 138.78125 62.605469 L 138.980469 61.773438 L 139.167969 60.9375 L 139.351562 60.105469 L 139.523438 59.273438 L 139.691406 58.4375 L 140.003906 56.773438 L 140.148438 55.9375 L 140.285156 55.105469 L 140.417969 54.273438 L 140.542969 53.4375 L 140.777344 51.773438 L 140.882812 50.9375 L 140.984375 50.105469 L 141.082031 49.273438 L 141.171875 48.4375 L 141.257812 47.605469 L 141.339844 46.773438 L 141.417969 45.9375 L 141.492188 45.105469 L 141.558594 44.273438 L 141.625 43.4375 L 141.6875 42.605469 L 141.746094 41.773438 L 141.800781 40.9375 L 141.902344 39.273438 L 141.949219 38.4375 L 141.996094 37.605469 L 142.039062 36.773438 L 142.082031 35.9375 L 142.160156 34.273438 L 142.199219 33.4375 L 142.269531 31.773438 L 142.304688 30.9375 L 142.375 29.273438 L 142.410156 28.4375 L 142.445312 27.605469 L 142.476562 26.773438 L 149.707031 26.773438 L 149.777344 28.4375 L 149.808594 29.273438 L 149.878906 30.9375 L 149.914062 31.773438 L 149.949219 32.605469 L 149.988281 33.4375 L 150.023438 34.273438 L 150.0625 35.105469 L 150.105469 35.9375 L 150.144531 36.773438 L 150.1875 37.605469 L 150.234375 38.4375 L 150.28125 39.273438 L 150.332031 40.105469 L 150.386719 40.9375 L 150.441406 41.773438 L 150.5 42.605469 L 150.5625 43.4375 L 150.625 44.273438 L 150.695312 45.105469 L 150.769531 45.9375 L 150.84375 46.773438 L 150.925781 47.605469 L 151.015625 48.4375 L 151.105469 49.273438 L 151.203125 50.105469 L 151.304688 50.9375 L 151.410156 51.773438 L 151.523438 52.605469 L 151.644531 53.4375 L 151.769531 54.273438 L 151.902344 55.105469 L 152.039062 55.9375 L 152.183594 56.773438 L 152.335938 57.605469 L 152.492188 58.4375 L 152.660156 59.273438 L 152.835938 60.105469 L 153.015625 60.9375 L 153.207031 61.773438 L 153.402344 62.605469 L 153.609375 63.4375 L 153.820312 64.273438 L 154.039062 65.105469 L 154.269531 65.9375 L 154.507812 66.773438 L 154.75 67.605469 L 155.003906 68.4375 L 155.265625 69.273438 L 155.53125 70.105469 L 155.8125 70.9375 L 156.09375 71.773438 L 156.386719 72.605469 L 156.6875 73.4375 L 156.992188 74.273438 L 157.308594 75.105469 L 157.628906 75.9375 L 157.957031 76.773438 L 158.292969 77.605469 L 158.632812 78.4375 L 158.980469 79.273438 L 159.335938 80.105469 L 159.695312 80.9375 L 160.0625 81.773438 L 160.429688 82.605469 L 160.804688 83.441406 L 161.183594 84.273438 L 161.566406 85.105469 L 161.953125 85.941406 L 162.34375 86.773438 L 162.738281 87.605469 L 163.132812 88.441406 L 163.929688 90.105469 L 164.332031 90.941406 L 164.734375 91.773438 L 165.132812 92.605469 L 165.535156 93.441406 L 166.339844 95.105469 L 166.738281 95.941406 L 167.136719 96.773438 L 167.53125 97.605469 L 167.921875 98.441406 L 168.3125 99.273438 L 168.695312 100.105469 L 169.078125 100.941406 L 169.457031 101.773438 L 169.828125 102.605469 L 170.199219 103.441406 L 170.5625 104.273438 L 170.917969 105.105469 L 171.269531 105.941406 L 171.613281 106.773438 L 171.949219 107.605469 L 172.28125 108.441406 L 172.605469 109.273438 L 172.921875 110.105469 L 173.230469 110.941406 L 173.824219 112.605469 L 174.105469 113.441406 L 174.378906 114.273438 L 174.648438 115.105469 L 174.90625 115.941406 L 175.15625 116.773438 L 175.398438 117.605469 L 175.628906 118.441406 L 175.855469 119.273438 L 176.070312 120.105469 L 176.277344 120.941406 L 176.476562 121.773438 L 176.664062 122.605469 L 176.84375 123.441406 L 177.019531 124.273438 L 177.183594 125.105469 L 177.339844 125.941406 L 177.488281 126.773438 L 177.628906 127.605469 L 177.765625 128.441406 L 177.890625 129.273438 L 178.011719 130.105469 L 178.125 130.941406 L 178.230469 131.773438 L 178.332031 132.605469 L 178.429688 133.441406 L 178.601562 135.105469 L 178.679688 135.941406 L 178.757812 136.773438 L 178.828125 137.605469 L 178.894531 138.441406 L 178.957031 139.273438 L 179.019531 140.109375 L 179.078125 140.941406 L 179.132812 141.773438 L 179.183594 142.609375 L 179.285156 144.273438 L 179.332031 145.109375 L 179.382812 145.941406 L 179.429688 146.773438 L 179.472656 147.609375 L 179.566406 149.273438 L 179.617188 150.109375 L 179.664062 150.941406 L 179.714844 151.773438 L 179.765625 152.609375 L 179.816406 153.441406 L 179.871094 154.273438 L 179.929688 155.109375 L 179.988281 155.941406 L 180.050781 156.773438 L 180.113281 157.609375 L 180.179688 158.441406 L 180.253906 159.273438 L 180.328125 160.109375 L 180.40625 160.941406 L 180.488281 161.773438 L 180.570312 162.609375 L 180.660156 163.441406 L 180.753906 164.273438 L 180.851562 165.109375 L 181.0625 166.773438 L 181.175781 167.609375 L 181.292969 168.441406 L 181.414062 169.273438 L 181.539062 170.109375 L 181.671875 170.941406 L 181.808594 171.773438 L 181.953125 172.609375 L 182.101562 173.441406 L 182.253906 174.273438 L 182.414062 175.109375 L 182.582031 175.941406 L 182.753906 176.773438 L 182.929688 177.609375 L 183.113281 178.441406 L 183.304688 179.273438 L 183.5 180.109375 L 183.703125 180.941406 L 183.914062 181.773438 L 184.128906 182.609375 L 184.351562 183.441406 L 184.585938 184.273438 L 184.820312 185.109375 L 185.066406 185.941406 L 185.316406 186.773438 L 185.574219 187.609375 L 185.84375 188.441406 L 186.117188 189.273438 L 186.394531 190.109375 L 186.6875 190.941406 L 186.984375 191.773438 L 187.289062 192.609375 L 187.601562 193.441406 L 187.917969 194.273438 L 188.25 195.109375 L 188.585938 195.941406 L 188.929688 196.773438 L 189.285156 197.609375 L 189.648438 198.441406 L 190.015625 199.277344 L 190.78125 200.941406 L 191.179688 201.777344 L 191.582031 202.609375 L 191.992188 203.441406 L 192.414062 204.277344 L 192.84375 205.109375 L 193.277344 205.941406 L 193.726562 206.777344 L 194.175781 207.609375 L 194.636719 208.441406 L 195.109375 209.277344 L 195.582031 210.109375 L 196.066406 210.941406 L 196.558594 211.777344 L 197.054688 212.609375 L 197.5625 213.441406 L 198.074219 214.277344 L 198.589844 215.109375 L 199.117188 215.941406 L 199.648438 216.777344 L 200.183594 217.609375 L 200.726562 218.441406 L 201.269531 219.277344 L 202.378906 220.941406 L 202.9375 221.777344 L 203.5 222.609375 L 204.066406 223.441406 L 204.636719 224.277344 L 205.207031 225.109375 L 205.78125 225.941406 L 206.355469 226.777344 L 206.929688 227.609375 L 207.507812 228.441406 L 208.082031 229.277344 L 209.230469 230.941406 L 209.804688 231.777344 L 210.945312 233.441406 L 211.507812 234.277344 L 212.070312 235.109375 L 212.628906 235.941406 L 213.179688 236.777344 L 213.730469 237.609375 L 214.269531 238.441406 L 214.808594 239.277344 L 215.335938 240.109375 L 215.855469 240.941406 L 216.371094 241.777344 L 216.875 242.609375 L 217.371094 243.441406 L 217.859375 244.277344 L 218.332031 245.109375 L 218.796875 245.941406 L 219.253906 246.777344 L 219.695312 247.609375 L 220.128906 248.441406 L 220.542969 249.277344 L 220.949219 250.109375 L 221.34375 250.941406 L 221.71875 251.777344 L 222.082031 252.609375 L 222.4375 253.441406 L 222.765625 254.277344 L 223.085938 255.109375 L 223.390625 255.941406 L 223.675781 256.777344 L 223.949219 257.609375 L 224.199219 258.445312 L 224.433594 259.277344 L 224.65625 260.109375 L 224.851562 260.945312 L 225.035156 261.777344 L 225.203125 262.609375 L 225.34375 263.445312 L 225.472656 264.277344 L 225.582031 265.109375 L 225.667969 265.945312 L 225.742188 266.777344 L 225.789062 267.609375 L 225.820312 268.445312 L 225.832031 269.277344 L 225.820312 270.109375 L 225.792969 270.945312 L 225.746094 271.777344 L 225.675781 272.609375 L 225.59375 273.445312 L 225.484375 274.277344 L 225.355469 275.109375 L 225.214844 275.945312 L 225.042969 276.777344 L 224.859375 277.609375 L 224.65625 278.445312 L 224.429688 279.277344 L 224.1875 280.109375 L 223.925781 280.945312 L 223.640625 281.777344 L 223.347656 282.609375 L 223.027344 283.445312 L 222.691406 284.277344 L 222.34375 285.109375 L 221.96875 285.945312 L 221.582031 286.777344 L 221.175781 287.609375 L 220.753906 288.445312 L 220.320312 289.277344 L 219.867188 290.109375 L 219.398438 290.945312 L 218.917969 291.777344 L 218.417969 292.609375 L 217.90625 293.445312 L 217.382812 294.277344 L 216.839844 295.109375 L 216.289062 295.945312 L 215.726562 296.777344 L 215.148438 297.609375 L 214.566406 298.445312 L 213.964844 299.277344 L 213.355469 300.109375 L 212.738281 300.945312 L 212.109375 301.777344 L 211.472656 302.609375 L 210.828125 303.445312 L 210.175781 304.277344 L 209.515625 305.109375 L 208.851562 305.945312 L 207.5 307.609375 L 206.8125 308.445312 L 206.125 309.277344 L 205.433594 310.109375 L 204.738281 310.945312 L 204.039062 311.777344 L 203.335938 312.609375 L 202.632812 313.445312 L 201.21875 315.109375 L 200.511719 315.945312 L 199.804688 316.777344 L 199.097656 317.613281 L 197.683594 319.277344 L 196.980469 320.113281 L 196.277344 320.945312 L 195.578125 321.777344 L 194.882812 322.613281 L 194.1875 323.445312 L 193.5 324.277344 L 192.8125 325.113281 L 192.128906 325.945312 L 191.453125 326.777344 L 190.777344 327.613281 L 190.109375 328.445312 L 189.449219 329.277344 L 188.789062 330.113281 L 188.140625 330.945312 L 187.496094 331.777344 L 186.855469 332.613281 L 185.597656 334.277344 L 184.980469 335.113281 L 184.367188 335.945312 L 183.761719 336.777344 L 183.164062 337.613281 L 182.574219 338.445312 L 181.992188 339.277344 L 181.417969 340.113281 L 180.851562 340.945312 L 180.289062 341.777344 L 179.738281 342.613281 L 179.191406 343.445312 L 178.65625 344.277344 L 178.128906 345.113281 L 177.605469 345.945312 L 177.09375 346.777344 L 176.589844 347.613281 L 176.089844 348.445312 L 175.605469 349.277344 L 175.125 350.113281 L 174.648438 350.945312 L 174.1875 351.777344 L 173.726562 352.613281 L 173.277344 353.445312 L 172.835938 354.277344 L 172.402344 355.113281 L 171.976562 355.945312 L 171.558594 356.777344 L 171.144531 357.613281 L 170.347656 359.277344 L 169.960938 360.113281 L 169.582031 360.945312 L 169.207031 361.777344 L 168.839844 362.613281 L 168.484375 363.445312 L 168.132812 364.277344 L 167.789062 365.113281 L 167.453125 365.945312 L 167.125 366.777344 L 166.804688 367.613281 L 166.488281 368.445312 L 166.183594 369.277344 L 165.886719 370.113281 L 165.589844 370.945312 L 165.308594 371.777344 L 165.03125 372.613281 L 164.757812 373.445312 L 164.496094 374.277344 L 164.242188 375.113281 L 163.992188 375.945312 L 163.753906 376.78125 L 163.515625 377.613281 L 163.289062 378.445312 L 163.070312 379.28125 L 162.855469 380.113281 L 162.652344 380.945312 L 162.453125 381.78125 L 162.261719 382.613281 L 162.078125 383.445312 L 161.902344 384.28125 L 161.730469 385.113281 L 161.570312 385.945312 L 161.410156 386.78125 L 161.121094 388.445312 L 160.988281 389.28125 L 160.859375 390.113281 L 160.738281 390.945312 L 160.625 391.78125 L 160.414062 393.445312 L 160.324219 394.28125 L 160.234375 395.113281 L 160.152344 395.945312 L 160.078125 396.78125 L 160.007812 397.613281 L 159.945312 398.445312 L 159.890625 399.28125 L 159.839844 400.113281 L 159.792969 400.945312 L 159.753906 401.78125 L 159.71875 402.613281 L 159.6875 403.445312 L 159.664062 404.28125 L 159.644531 405.113281 L 159.628906 405.945312 L 159.621094 406.78125 L 159.613281 407.613281 L 159.609375 408.445312 L 159.609375 409.28125 L 159.625 410.945312 L 159.632812 411.78125 L 159.664062 413.445312 L 159.683594 414.28125 L 159.722656 415.945312 L 159.746094 416.78125 L 159.792969 418.445312 L 159.820312 419.28125 L 159.84375 420.113281 L 159.871094 420.945312 L 159.894531 421.78125 L 159.941406 423.445312 L 159.960938 424.28125 L 160 425.945312 L 160.011719 426.78125 L 160.027344 427.613281 L 160.035156 428.445312 L 160.042969 429.28125 L 160.046875 430.113281 L 160.046875 431.78125 L 160.039062 432.613281 L 160.027344 433.445312 L 160.011719 434.28125 L 159.992188 435.113281 L 159.964844 435.949219 L 159.9375 436.78125 L 159.898438 437.613281 L 159.859375 438.449219 L 159.816406 439.28125 L 159.761719 440.113281 L 159.707031 440.949219 L 159.644531 441.78125 L 159.578125 442.613281 L 159.503906 443.449219 L 159.425781 444.28125 L 159.339844 445.113281 L 159.25 445.949219 L 159.152344 446.78125 L 159.050781 447.613281 L 158.945312 448.449219 L 158.710938 450.113281 L 158.585938 450.949219 L 158.457031 451.78125 L 158.324219 452.613281 Z \"/>\n",
       "<path style=\"fill-rule:nonzero;fill:rgb(0%,74.901961%,76.862745%);fill-opacity:1;stroke-width:1.066978;stroke-linecap:round;stroke-linejoin:round;stroke:rgb(20%,20%,20%);stroke-opacity:1;stroke-miterlimit:10;\" d=\"M 323.085938 391.269531 L 322.507812 388.582031 L 322.359375 387.910156 L 322.070312 386.566406 L 321.921875 385.894531 L 321.777344 385.222656 L 321.183594 382.535156 L 321.03125 381.859375 L 320.882812 381.1875 L 320.730469 380.515625 L 320.574219 379.84375 L 320.421875 379.171875 L 320.265625 378.5 L 320.105469 377.828125 L 319.949219 377.15625 L 319.789062 376.484375 L 319.296875 374.46875 L 319.128906 373.796875 L 318.957031 373.125 L 318.785156 372.449219 L 318.613281 371.777344 L 318.433594 371.105469 L 318.257812 370.433594 L 317.890625 369.089844 L 317.515625 367.746094 L 317.324219 367.074219 L 317.128906 366.402344 L 316.730469 365.058594 L 316.527344 364.386719 L 316.320312 363.714844 L 316.109375 363.039062 L 315.898438 362.367188 L 315.683594 361.695312 L 315.464844 361.023438 L 315.242188 360.351562 L 314.789062 359.007812 L 314.320312 357.664062 L 313.84375 356.320312 L 313.351562 354.976562 L 313.101562 354.304688 L 312.847656 353.628906 L 312.332031 352.285156 L 312.070312 351.613281 L 311.804688 350.941406 L 311.265625 349.597656 L 310.71875 348.253906 L 310.441406 347.582031 L 309.878906 346.238281 L 309.308594 344.894531 L 309.019531 344.21875 L 308.730469 343.546875 L 307.851562 341.53125 L 306.664062 338.84375 L 306.363281 338.171875 L 306.066406 337.5 L 305.464844 336.15625 L 305.167969 335.484375 L 304.867188 334.808594 L 304.570312 334.136719 L 304.269531 333.464844 L 303.378906 331.449219 L 302.5 329.433594 L 301.921875 328.089844 L 301.351562 326.746094 L 300.789062 325.402344 L 300.511719 324.726562 L 299.964844 323.382812 L 299.433594 322.039062 L 298.910156 320.695312 L 298.65625 320.023438 L 298.15625 318.679688 L 297.671875 317.335938 L 297.433594 316.664062 L 297.203125 315.992188 L 296.972656 315.316406 L 296.746094 314.644531 L 296.527344 313.972656 L 296.097656 312.628906 L 295.890625 311.957031 L 295.6875 311.285156 L 295.289062 309.941406 L 294.914062 308.597656 L 294.730469 307.925781 L 294.550781 307.253906 L 294.375 306.582031 L 294.207031 305.90625 L 294.039062 305.234375 L 293.875 304.5625 L 293.714844 303.890625 L 293.5625 303.21875 L 293.40625 302.546875 L 293.257812 301.875 L 293.113281 301.203125 L 292.832031 299.859375 L 292.695312 299.1875 L 292.5625 298.515625 L 292.304688 297.171875 L 292.179688 296.496094 L 292.054688 295.824219 L 291.8125 294.480469 L 291.578125 293.136719 L 291.464844 292.464844 L 291.347656 291.792969 L 290.667969 287.761719 L 290.554688 287.085938 L 290.4375 286.414062 L 290.324219 285.742188 L 290.207031 285.070312 L 289.84375 283.054688 L 289.71875 282.382812 L 289.460938 281.039062 L 289.050781 279.023438 L 288.90625 278.351562 L 288.757812 277.675781 L 288.605469 277.003906 L 288.449219 276.332031 L 288.289062 275.660156 L 288.125 274.988281 L 287.953125 274.316406 L 287.777344 273.644531 L 287.597656 272.972656 L 287.410156 272.300781 L 287.21875 271.628906 L 287.015625 270.957031 L 286.816406 270.285156 L 286.386719 268.941406 L 286.164062 268.265625 L 285.933594 267.59375 L 285.695312 266.921875 L 285.203125 265.578125 L 284.679688 264.234375 L 284.40625 263.5625 L 284.125 262.890625 L 283.839844 262.21875 L 283.546875 261.546875 L 283.246094 260.875 L 282.621094 259.53125 L 282.296875 258.855469 L 281.964844 258.183594 L 281.628906 257.511719 L 281.28125 256.839844 L 280.929688 256.167969 L 280.203125 254.824219 L 279.828125 254.152344 L 279.449219 253.480469 L 279.058594 252.808594 L 278.664062 252.136719 L 278.265625 251.464844 L 277.445312 250.121094 L 277.023438 249.445312 L 276.597656 248.773438 L 276.167969 248.101562 L 275.730469 247.429688 L 275.289062 246.757812 L 274.84375 246.085938 L 274.390625 245.414062 L 273.476562 244.070312 L 273.011719 243.398438 L 272.542969 242.726562 L 271.597656 241.382812 L 271.121094 240.710938 L 270.640625 240.035156 L 270.160156 239.363281 L 269.191406 238.019531 L 268.703125 237.347656 L 268.21875 236.675781 L 266.753906 234.660156 L 266.269531 233.988281 L 265.78125 233.316406 L 265.300781 232.644531 L 264.816406 231.972656 L 264.335938 231.300781 L 263.859375 230.625 L 262.914062 229.28125 L 262.445312 228.609375 L 261.523438 227.265625 L 260.625 225.921875 L 260.183594 225.25 L 259.746094 224.578125 L 259.316406 223.90625 L 258.894531 223.234375 L 258.476562 222.5625 L 258.070312 221.890625 L 257.667969 221.214844 L 257.28125 220.542969 L 256.898438 219.871094 L 256.523438 219.199219 L 256.160156 218.527344 L 255.804688 217.855469 L 255.464844 217.183594 L 255.128906 216.511719 L 254.8125 215.839844 L 254.5 215.167969 L 254.203125 214.496094 L 253.914062 213.824219 L 253.636719 213.152344 L 253.378906 212.480469 L 253.125 211.804688 L 252.890625 211.132812 L 252.664062 210.460938 L 252.457031 209.789062 L 252.261719 209.117188 L 252.078125 208.445312 L 251.910156 207.773438 L 251.753906 207.101562 L 251.617188 206.429688 L 251.488281 205.757812 L 251.285156 204.414062 L 251.210938 203.742188 L 251.144531 203.070312 L 251.09375 202.394531 L 251.0625 201.722656 L 251.042969 201.050781 L 251.042969 200.378906 L 251.054688 199.707031 L 251.085938 199.035156 L 251.128906 198.363281 L 251.191406 197.691406 L 251.269531 197.019531 L 251.359375 196.347656 L 251.46875 195.675781 L 251.589844 195.003906 L 251.734375 194.332031 L 251.886719 193.660156 L 252.058594 192.984375 L 252.246094 192.3125 L 252.445312 191.640625 L 252.664062 190.96875 L 252.890625 190.296875 L 253.144531 189.625 L 253.402344 188.953125 L 253.679688 188.28125 L 253.96875 187.609375 L 254.277344 186.9375 L 254.597656 186.265625 L 254.929688 185.59375 L 255.277344 184.921875 L 255.632812 184.25 L 256.011719 183.574219 L 256.398438 182.902344 L 256.800781 182.230469 L 257.210938 181.558594 L 257.636719 180.886719 L 258.074219 180.214844 L 258.523438 179.542969 L 258.984375 178.871094 L 259.453125 178.199219 L 259.941406 177.527344 L 260.433594 176.855469 L 260.9375 176.183594 L 261.453125 175.511719 L 261.976562 174.839844 L 262.511719 174.164062 L 263.050781 173.492188 L 263.605469 172.820312 L 264.164062 172.148438 L 264.734375 171.476562 L 265.3125 170.804688 L 265.898438 170.132812 L 266.488281 169.460938 L 267.085938 168.789062 L 268.304688 167.445312 L 269.546875 166.101562 L 270.175781 165.429688 L 270.8125 164.753906 L 271.449219 164.082031 L 272.09375 163.410156 L 272.742188 162.738281 L 273.394531 162.066406 L 274.050781 161.394531 L 275.371094 160.050781 L 276.035156 159.378906 L 277.371094 158.035156 L 278.714844 156.691406 L 279.390625 156.019531 L 280.0625 155.34375 L 284.792969 150.640625 L 286.808594 148.625 L 288.144531 147.28125 L 288.808594 146.609375 L 289.472656 145.933594 L 290.785156 144.589844 L 292.089844 143.246094 L 292.738281 142.574219 L 294.019531 141.230469 L 295.285156 139.886719 L 296.535156 138.542969 L 297.152344 137.871094 L 297.765625 137.199219 L 298.371094 136.523438 L 299.574219 135.179688 L 300.164062 134.507812 L 300.75 133.835938 L 301.90625 132.492188 L 302.472656 131.820312 L 303.035156 131.148438 L 303.59375 130.476562 L 304.6875 129.132812 L 305.222656 128.460938 L 305.753906 127.789062 L 306.273438 127.113281 L 306.792969 126.441406 L 307.300781 125.769531 L 308.300781 124.425781 L 309.269531 123.082031 L 309.742188 122.410156 L 310.207031 121.738281 L 310.664062 121.066406 L 311.117188 120.394531 L 311.5625 119.722656 L 311.996094 119.050781 L 312.425781 118.378906 L 312.84375 117.703125 L 313.257812 117.03125 L 313.660156 116.359375 L 314.058594 115.6875 L 314.449219 115.015625 L 314.828125 114.34375 L 315.203125 113.671875 L 315.570312 113 L 315.929688 112.328125 L 316.277344 111.65625 L 316.621094 110.984375 L 316.953125 110.3125 L 317.28125 109.640625 L 317.601562 108.96875 L 317.910156 108.292969 L 318.21875 107.621094 L 318.511719 106.949219 L 318.800781 106.277344 L 319.078125 105.605469 L 319.351562 104.933594 L 319.621094 104.261719 L 319.878906 103.589844 L 320.128906 102.917969 L 320.613281 101.574219 L 320.839844 100.902344 L 321.0625 100.230469 L 321.277344 99.558594 L 321.488281 98.882812 L 321.691406 98.210938 L 321.886719 97.539062 L 322.078125 96.867188 L 322.4375 95.523438 L 322.773438 94.179688 L 322.933594 93.507812 L 323.085938 92.835938 L 323.234375 92.164062 L 323.515625 90.820312 L 323.644531 90.148438 L 323.773438 89.472656 L 323.894531 88.800781 L 324.011719 88.128906 L 324.125 87.457031 L 324.234375 86.785156 L 324.339844 86.113281 L 324.535156 84.769531 L 324.714844 83.425781 L 324.800781 82.753906 L 324.882812 82.082031 L 325.039062 80.738281 L 325.113281 80.066406 L 325.179688 79.390625 L 325.25 78.71875 L 325.316406 78.046875 L 325.441406 76.703125 L 325.558594 75.359375 L 325.613281 74.6875 L 325.671875 74.015625 L 325.722656 73.34375 L 325.777344 72.671875 L 325.929688 70.65625 L 325.976562 69.980469 L 326.027344 69.308594 L 326.074219 68.636719 L 326.125 67.964844 L 326.21875 66.621094 L 326.269531 65.949219 L 326.316406 65.277344 L 326.367188 64.605469 L 326.414062 63.933594 L 326.617188 61.246094 L 326.671875 60.570312 L 326.890625 57.882812 L 326.949219 57.210938 L 327.011719 56.539062 L 327.070312 55.867188 L 327.195312 54.523438 L 327.460938 51.835938 L 327.53125 51.160156 L 327.828125 48.472656 L 327.90625 47.800781 L 345.910156 47.800781 L 346.066406 49.144531 L 346.214844 50.488281 L 346.285156 51.160156 L 346.355469 51.835938 L 346.425781 52.507812 L 346.625 54.523438 L 346.75 55.867188 L 346.984375 58.554688 L 347.148438 60.570312 L 347.199219 61.246094 L 347.253906 61.917969 L 347.355469 63.261719 L 347.402344 63.933594 L 347.503906 65.277344 L 347.597656 66.621094 L 347.648438 67.292969 L 347.742188 68.636719 L 347.792969 69.308594 L 347.839844 69.980469 L 347.890625 70.65625 L 348.09375 73.34375 L 348.203125 74.6875 L 348.378906 76.703125 L 348.503906 78.046875 L 348.636719 79.390625 L 348.707031 80.066406 L 348.855469 81.410156 L 349.019531 82.753906 L 349.191406 84.097656 L 349.285156 84.769531 L 349.480469 86.113281 L 349.585938 86.785156 L 349.695312 87.457031 L 349.808594 88.128906 L 349.925781 88.800781 L 350.046875 89.472656 L 350.175781 90.148438 L 350.304688 90.820312 L 350.585938 92.164062 L 350.734375 92.835938 L 350.886719 93.507812 L 351.046875 94.179688 L 351.210938 94.851562 L 351.382812 95.523438 L 351.558594 96.195312 L 351.742188 96.867188 L 351.933594 97.539062 L 352.128906 98.210938 L 352.332031 98.882812 L 352.539062 99.558594 L 352.753906 100.230469 L 353.207031 101.574219 L 353.445312 102.246094 L 353.6875 102.917969 L 353.941406 103.589844 L 354.199219 104.261719 L 354.464844 104.933594 L 354.738281 105.605469 L 355.019531 106.277344 L 355.308594 106.949219 L 355.601562 107.621094 L 355.910156 108.292969 L 356.21875 108.96875 L 356.539062 109.640625 L 356.863281 110.3125 L 357.199219 110.984375 L 357.542969 111.65625 L 357.890625 112.328125 L 358.25 113 L 358.613281 113.671875 L 358.988281 114.34375 L 359.371094 115.015625 L 359.761719 115.6875 L 360.15625 116.359375 L 360.5625 117.03125 L 360.976562 117.703125 L 361.394531 118.378906 L 361.824219 119.050781 L 362.257812 119.722656 L 362.703125 120.394531 L 363.152344 121.066406 L 363.613281 121.738281 L 364.078125 122.410156 L 364.550781 123.082031 L 365.03125 123.753906 L 365.519531 124.425781 L 366.015625 125.097656 L 366.519531 125.769531 L 367.027344 126.441406 L 367.542969 127.113281 L 368.066406 127.789062 L 368.597656 128.460938 L 369.132812 129.132812 L 370.226562 130.476562 L 370.785156 131.148438 L 371.347656 131.820312 L 371.914062 132.492188 L 372.488281 133.164062 L 373.066406 133.835938 L 374.246094 135.179688 L 374.84375 135.851562 L 375.445312 136.523438 L 376.054688 137.199219 L 376.667969 137.871094 L 377.285156 138.542969 L 377.90625 139.214844 L 378.53125 139.886719 L 379.164062 140.558594 L 379.800781 141.230469 L 381.082031 142.574219 L 382.378906 143.917969 L 383.03125 144.589844 L 383.691406 145.261719 L 384.347656 145.933594 L 385.011719 146.609375 L 385.675781 147.28125 L 387.679688 149.296875 L 388.351562 149.96875 L 389.027344 150.640625 L 389.699219 151.3125 L 393.753906 155.34375 L 394.429688 156.019531 L 395.105469 156.691406 L 395.777344 157.363281 L 396.445312 158.035156 L 397.117188 158.707031 L 397.78125 159.378906 L 398.449219 160.050781 L 399.769531 161.394531 L 400.421875 162.066406 L 401.078125 162.738281 L 402.367188 164.082031 L 403.007812 164.753906 L 403.640625 165.429688 L 404.273438 166.101562 L 405.515625 167.445312 L 406.125 168.117188 L 406.730469 168.789062 L 407.328125 169.460938 L 407.921875 170.132812 L 408.507812 170.804688 L 409.082031 171.476562 L 409.652344 172.148438 L 410.210938 172.820312 L 410.765625 173.492188 L 411.308594 174.164062 L 411.84375 174.839844 L 412.367188 175.511719 L 412.878906 176.183594 L 413.386719 176.855469 L 413.878906 177.527344 L 414.363281 178.199219 L 414.832031 178.871094 L 415.296875 179.542969 L 415.742188 180.214844 L 416.179688 180.886719 L 416.605469 181.558594 L 417.019531 182.230469 L 417.421875 182.902344 L 417.804688 183.574219 L 418.183594 184.25 L 418.539062 184.921875 L 418.890625 185.59375 L 419.222656 186.265625 L 419.542969 186.9375 L 419.847656 187.609375 L 420.136719 188.28125 L 420.417969 188.953125 L 420.675781 189.625 L 420.925781 190.296875 L 421.15625 190.96875 L 421.375 191.640625 L 421.574219 192.3125 L 421.757812 192.984375 L 421.933594 193.660156 L 422.085938 194.332031 L 422.230469 195.003906 L 422.347656 195.675781 L 422.460938 196.347656 L 422.550781 197.019531 L 422.625 197.691406 L 422.6875 198.363281 L 422.730469 199.035156 L 422.765625 199.707031 L 422.773438 200.378906 L 422.777344 201.050781 L 422.753906 201.722656 L 422.722656 202.394531 L 422.671875 203.070312 L 422.609375 203.742188 L 422.53125 204.414062 L 422.433594 205.085938 L 422.328125 205.757812 L 422.199219 206.429688 L 422.0625 207.101562 L 421.90625 207.773438 L 421.742188 208.445312 L 421.558594 209.117188 L 421.359375 209.789062 L 421.152344 210.460938 L 420.925781 211.132812 L 420.695312 211.804688 L 420.441406 212.480469 L 420.179688 213.152344 L 419.90625 213.824219 L 419.617188 214.496094 L 419.320312 215.167969 L 419.007812 215.839844 L 418.6875 216.511719 L 418.351562 217.183594 L 418.011719 217.855469 L 417.65625 218.527344 L 417.292969 219.199219 L 416.921875 219.871094 L 416.539062 220.542969 L 416.148438 221.214844 L 415.746094 221.890625 L 415.34375 222.5625 L 414.925781 223.234375 L 414.503906 223.90625 L 414.074219 224.578125 L 413.636719 225.25 L 413.195312 225.921875 L 412.746094 226.59375 L 412.292969 227.265625 L 411.835938 227.9375 L 410.90625 229.28125 L 409.960938 230.625 L 409.480469 231.300781 L 409.003906 231.972656 L 407.550781 233.988281 L 407.0625 234.660156 L 406.578125 235.332031 L 405.113281 237.347656 L 403.660156 239.363281 L 403.179688 240.035156 L 402.699219 240.710938 L 401.746094 242.054688 L 400.808594 243.398438 L 400.34375 244.070312 L 399.882812 244.742188 L 399.425781 245.414062 L 398.976562 246.085938 L 398.53125 246.757812 L 398.089844 247.429688 L 397.652344 248.101562 L 397.21875 248.773438 L 396.796875 249.445312 L 396.375 250.121094 L 395.554688 251.464844 L 395.15625 252.136719 L 394.761719 252.808594 L 394.371094 253.480469 L 393.992188 254.152344 L 393.617188 254.824219 L 393.25 255.496094 L 392.890625 256.167969 L 392.539062 256.839844 L 392.191406 257.511719 L 391.851562 258.183594 L 391.523438 258.855469 L 391.199219 259.53125 L 390.882812 260.203125 L 390.570312 260.875 L 389.976562 262.21875 L 389.691406 262.890625 L 389.414062 263.5625 L 389.140625 264.234375 L 388.875 264.90625 L 388.617188 265.578125 L 388.367188 266.25 L 388.121094 266.921875 L 387.886719 267.59375 L 387.65625 268.265625 L 387.433594 268.941406 L 387.214844 269.613281 L 387.003906 270.285156 L 386.800781 270.957031 L 386.601562 271.628906 L 386.410156 272.300781 L 386.222656 272.972656 L 386.042969 273.644531 L 385.867188 274.316406 L 385.695312 274.988281 L 385.367188 276.332031 L 385.214844 277.003906 L 385.058594 277.675781 L 384.914062 278.351562 L 384.769531 279.023438 L 384.628906 279.695312 L 384.492188 280.367188 L 384.359375 281.039062 L 384.101562 282.382812 L 383.851562 283.726562 L 383.730469 284.398438 L 383.378906 286.414062 L 383.265625 287.085938 L 383.152344 287.761719 L 383.035156 288.433594 L 382.808594 289.777344 L 382.699219 290.449219 L 382.582031 291.121094 L 382.355469 292.464844 L 382.003906 294.480469 L 381.640625 296.496094 L 381.511719 297.171875 L 381.386719 297.84375 L 381.121094 299.1875 L 380.847656 300.53125 L 380.558594 301.875 L 380.410156 302.546875 L 380.105469 303.890625 L 379.941406 304.5625 L 379.78125 305.234375 L 379.613281 305.90625 L 379.441406 306.582031 L 379.269531 307.253906 L 379.089844 307.925781 L 378.90625 308.597656 L 378.71875 309.269531 L 378.527344 309.941406 L 378.332031 310.613281 L 378.132812 311.285156 L 377.71875 312.628906 L 377.507812 313.300781 L 377.070312 314.644531 L 376.84375 315.316406 L 376.617188 315.992188 L 376.148438 317.335938 L 375.90625 318.007812 L 375.414062 319.351562 L 374.90625 320.695312 L 374.648438 321.367188 L 374.386719 322.039062 L 374.121094 322.710938 L 373.582031 324.054688 L 373.304688 324.726562 L 373.03125 325.402344 L 372.46875 326.746094 L 371.898438 328.089844 L 371.320312 329.433594 L 370.441406 331.449219 L 369.847656 332.792969 L 369.546875 333.464844 L 368.953125 334.808594 L 368.652344 335.484375 L 368.351562 336.15625 L 368.054688 336.828125 L 367.453125 338.171875 L 367.15625 338.84375 L 366.855469 339.515625 L 366.261719 340.859375 L 365.96875 341.53125 L 365.671875 342.203125 L 365.378906 342.875 L 364.800781 344.21875 L 364.511719 344.894531 L 363.65625 346.910156 L 363.378906 347.582031 L 363.097656 348.253906 L 362.550781 349.597656 L 362.28125 350.269531 L 361.75 351.613281 L 361.226562 352.957031 L 360.972656 353.628906 L 360.71875 354.304688 L 360.21875 355.648438 L 359.734375 356.992188 L 359.496094 357.664062 L 359.261719 358.335938 L 359.03125 359.007812 L 358.578125 360.351562 L 358.355469 361.023438 L 358.136719 361.695312 L 357.707031 363.039062 L 357.5 363.714844 L 357.292969 364.386719 L 356.886719 365.730469 L 356.496094 367.074219 L 356.113281 368.417969 L 355.929688 369.089844 L 355.742188 369.761719 L 355.382812 371.105469 L 355.03125 372.449219 L 354.859375 373.125 L 354.355469 375.140625 L 354.191406 375.8125 L 353.710938 377.828125 L 353.242188 379.84375 L 352.785156 381.859375 L 352.636719 382.535156 L 351.894531 385.894531 L 351.605469 387.238281 L 351.457031 387.910156 L 350.734375 391.269531 Z \"/>\n",
       "<g style=\"fill:rgb(30.196078%,30.196078%,30.196078%);fill-opacity:1;\">\n",
       "  <use xlink:href=\"#glyph0-1\" x=\"18.851562\" y=\"418.90625\"/>\n",
       "  <use xlink:href=\"#glyph0-2\" x=\"21.780991\" y=\"418.90625\"/>\n",
       "</g>\n",
       "<g style=\"fill:rgb(30.196078%,30.196078%,30.196078%);fill-opacity:1;\">\n",
       "  <use xlink:href=\"#glyph0-1\" x=\"18.851562\" y=\"342.300781\"/>\n",
       "  <use xlink:href=\"#glyph0-3\" x=\"21.780991\" y=\"342.300781\"/>\n",
       "</g>\n",
       "<g style=\"fill:rgb(30.196078%,30.196078%,30.196078%);fill-opacity:1;\">\n",
       "  <use xlink:href=\"#glyph0-4\" x=\"21.78125\" y=\"265.695312\"/>\n",
       "</g>\n",
       "<g style=\"fill:rgb(30.196078%,30.196078%,30.196078%);fill-opacity:1;\">\n",
       "  <use xlink:href=\"#glyph0-3\" x=\"21.78125\" y=\"189.089844\"/>\n",
       "</g>\n",
       "<g style=\"fill:rgb(30.196078%,30.196078%,30.196078%);fill-opacity:1;\">\n",
       "  <use xlink:href=\"#glyph0-2\" x=\"21.78125\" y=\"112.484375\"/>\n",
       "</g>\n",
       "<g style=\"fill:rgb(30.196078%,30.196078%,30.196078%);fill-opacity:1;\">\n",
       "  <use xlink:href=\"#glyph0-5\" x=\"21.78125\" y=\"35.878906\"/>\n",
       "</g>\n",
       "<path style=\"fill:none;stroke-width:1.066978;stroke-linecap:butt;stroke-linejoin:round;stroke:rgb(20%,20%,20%);stroke-opacity:1;stroke-miterlimit:10;\" d=\"M 28.863281 415.75 L 31.601562 415.75 \"/>\n",
       "<path style=\"fill:none;stroke-width:1.066978;stroke-linecap:butt;stroke-linejoin:round;stroke:rgb(20%,20%,20%);stroke-opacity:1;stroke-miterlimit:10;\" d=\"M 28.863281 339.144531 L 31.601562 339.144531 \"/>\n",
       "<path style=\"fill:none;stroke-width:1.066978;stroke-linecap:butt;stroke-linejoin:round;stroke:rgb(20%,20%,20%);stroke-opacity:1;stroke-miterlimit:10;\" d=\"M 28.863281 262.539062 L 31.601562 262.539062 \"/>\n",
       "<path style=\"fill:none;stroke-width:1.066978;stroke-linecap:butt;stroke-linejoin:round;stroke:rgb(20%,20%,20%);stroke-opacity:1;stroke-miterlimit:10;\" d=\"M 28.863281 185.933594 L 31.601562 185.933594 \"/>\n",
       "<path style=\"fill:none;stroke-width:1.066978;stroke-linecap:butt;stroke-linejoin:round;stroke:rgb(20%,20%,20%);stroke-opacity:1;stroke-miterlimit:10;\" d=\"M 28.863281 109.328125 L 31.601562 109.328125 \"/>\n",
       "<path style=\"fill:none;stroke-width:1.066978;stroke-linecap:butt;stroke-linejoin:round;stroke:rgb(20%,20%,20%);stroke-opacity:1;stroke-miterlimit:10;\" d=\"M 28.863281 32.722656 L 31.601562 32.722656 \"/>\n",
       "<path style=\"fill:none;stroke-width:1.066978;stroke-linecap:butt;stroke-linejoin:round;stroke:rgb(20%,20%,20%);stroke-opacity:1;stroke-miterlimit:10;\" d=\"M 146.09375 476.644531 L 146.09375 473.90625 \"/>\n",
       "<path style=\"fill:none;stroke-width:1.066978;stroke-linecap:butt;stroke-linejoin:round;stroke:rgb(20%,20%,20%);stroke-opacity:1;stroke-miterlimit:10;\" d=\"M 336.910156 476.644531 L 336.910156 473.90625 \"/>\n",
       "<g style=\"fill:rgb(30.196078%,30.196078%,30.196078%);fill-opacity:1;\">\n",
       "  <use xlink:href=\"#glyph0-4\" x=\"143.648438\" y=\"485.152344\"/>\n",
       "</g>\n",
       "<g style=\"fill:rgb(30.196078%,30.196078%,30.196078%);fill-opacity:1;\">\n",
       "  <use xlink:href=\"#glyph0-3\" x=\"334.464844\" y=\"485.152344\"/>\n",
       "</g>\n",
       "<g style=\"fill:rgb(0%,0%,0%);fill-opacity:1;\">\n",
       "  <use xlink:href=\"#glyph1-1\" x=\"237.832031\" y=\"498.519531\"/>\n",
       "</g>\n",
       "<g style=\"fill:rgb(0%,0%,0%);fill-opacity:1;\">\n",
       "  <use xlink:href=\"#glyph2-1\" x=\"13.371094\" y=\"243.359375\"/>\n",
       "</g>\n",
       "<path style=\" stroke:none;fill-rule:nonzero;fill:rgb(100%,100%,100%);fill-opacity:1;\" d=\"M 462.738281 268.75 L 498.519531 268.75 L 498.519531 210.632812 L 462.738281 210.632812 Z \"/>\n",
       "<g style=\"fill:rgb(0%,0%,0%);fill-opacity:1;\">\n",
       "  <use xlink:href=\"#glyph1-1\" x=\"468.40625\" y=\"224.199219\"/>\n",
       "</g>\n",
       "<path style=\"fill-rule:nonzero;fill:rgb(94.901961%,94.901961%,94.901961%);fill-opacity:1;stroke-width:1.066978;stroke-linecap:round;stroke-linejoin:round;stroke:rgb(100%,100%,100%);stroke-opacity:1;stroke-miterlimit:10;\" d=\"M 468.40625 245.800781 L 485.6875 245.800781 L 485.6875 228.519531 L 468.40625 228.519531 Z \"/>\n",
       "<path style=\"fill-rule:nonzero;fill:rgb(97.254902%,46.27451%,42.745098%);fill-opacity:1;stroke-width:1.066978;stroke-linecap:round;stroke-linejoin:miter;stroke:rgb(20%,20%,20%);stroke-opacity:1;stroke-miterlimit:10;\" d=\"M 469.117188 245.09375 L 484.980469 245.09375 L 484.980469 229.230469 L 469.117188 229.230469 Z \"/>\n",
       "<path style=\"fill-rule:nonzero;fill:rgb(94.901961%,94.901961%,94.901961%);fill-opacity:1;stroke-width:1.066978;stroke-linecap:round;stroke-linejoin:round;stroke:rgb(100%,100%,100%);stroke-opacity:1;stroke-miterlimit:10;\" d=\"M 468.40625 263.082031 L 485.6875 263.082031 L 485.6875 245.800781 L 468.40625 245.800781 Z \"/>\n",
       "<path style=\"fill-rule:nonzero;fill:rgb(0%,74.901961%,76.862745%);fill-opacity:1;stroke-width:1.066978;stroke-linecap:round;stroke-linejoin:miter;stroke:rgb(20%,20%,20%);stroke-opacity:1;stroke-miterlimit:10;\" d=\"M 469.117188 262.375 L 484.980469 262.375 L 484.980469 246.511719 L 469.117188 246.511719 Z \"/>\n",
       "<g style=\"fill:rgb(0%,0%,0%);fill-opacity:1;\">\n",
       "  <use xlink:href=\"#glyph0-4\" x=\"487.847656\" y=\"240.316406\"/>\n",
       "</g>\n",
       "<g style=\"fill:rgb(0%,0%,0%);fill-opacity:1;\">\n",
       "  <use xlink:href=\"#glyph0-3\" x=\"487.847656\" y=\"257.597656\"/>\n",
       "</g>\n",
       "</g>\n",
       "</svg>\n"
      ],
      "text/plain": [
       "plot without title"
      ]
     },
     "metadata": {
      "image/svg+xml": {
       "isolated": true
      }
     },
     "output_type": "display_data"
    }
   ],
   "source": [
    "DATA %>% ggplot(aes(y=Y, x=X, fill=X)) + geom_violin()"
   ]
  },
  {
   "cell_type": "code",
   "execution_count": 27,
   "metadata": {
    "ExecuteTime": {
     "end_time": "2017-10-31T20:59:08.192236Z",
     "start_time": "2017-10-31T20:59:08.138Z"
    }
   },
   "outputs": [
    {
     "data": {
      "text/html": [
       "<table>\n",
       "<thead><tr><th></th><th scope=col>2.5 %</th><th scope=col>97.5 %</th></tr></thead>\n",
       "<tbody>\n",
       "\t<tr><th scope=row>(Intercept)</th><td>-0.2923891</td><td> 0.2340293</td></tr>\n",
       "\t<tr><th scope=row>X1</th><td>0.2542758</td><td>1.0764032</td></tr>\n",
       "</tbody>\n",
       "</table>\n"
      ],
      "text/latex": [
       "\\begin{tabular}{r|ll}\n",
       "  & 2.5 % & 97.5 %\\\\\n",
       "\\hline\n",
       "\t(Intercept) & -0.2923891 &  0.2340293\\\\\n",
       "\tX1 & 0.2542758 & 1.0764032\\\\\n",
       "\\end{tabular}\n"
      ],
      "text/markdown": [
       "1. -0.292389117980501\n",
       "2. 0.254275835837542\n",
       "3. 0.234029262656104\n",
       "4. 1.07640322415081\n",
       "\n",
       "\n"
      ],
      "text/plain": [
       "                 2.5 %    97.5 %\n",
       "(Intercept) -0.2923891 0.2340293\n",
       "X1           0.2542758 1.0764032"
      ]
     },
     "execution_count": 27,
     "metadata": {},
     "output_type": "execute_result"
    },
    {
     "data": {
      "text/html": [
       "<table>\n",
       "<thead><tr><th></th><th scope=col>2.5 %</th><th scope=col>97.5 %</th></tr></thead>\n",
       "<tbody>\n",
       "\t<tr><th scope=row>(Intercept)</th><td>-0.2923891</td><td> 0.2340293</td></tr>\n",
       "\t<tr><th scope=row>X1</th><td>0.2542758</td><td>1.0764032</td></tr>\n",
       "</tbody>\n",
       "</table>\n"
      ],
      "text/latex": [
       "\\begin{tabular}{r|ll}\n",
       "  & 2.5 % & 97.5 %\\\\\n",
       "\\hline\n",
       "\t(Intercept) & -0.2923891 &  0.2340293\\\\\n",
       "\tX1 & 0.2542758 & 1.0764032\\\\\n",
       "\\end{tabular}\n"
      ],
      "text/markdown": [
       "1. -0.292389117980501\n",
       "2. 0.254275835837542\n",
       "3. 0.234029262656104\n",
       "4. 1.07640322415081\n",
       "\n",
       "\n"
      ],
      "text/plain": [
       "                 2.5 %    97.5 %\n",
       "(Intercept) -0.2923891 0.2340293\n",
       "X1           0.2542758 1.0764032"
      ]
     },
     "execution_count": 27,
     "metadata": {},
     "output_type": "execute_result"
    },
    {
     "data": {
      "text/plain": [
       "\n",
       "\tTwo Sample t-test\n",
       "\n",
       "data:  Y by X\n",
       "t = -3.212, df = 98, p-value = 0.001784\n",
       "alternative hypothesis: true difference in means is not equal to 0\n",
       "95 percent confidence interval:\n",
       " -1.0764032 -0.2542758\n",
       "sample estimates:\n",
       "mean in group 0 mean in group 1 \n",
       "    -0.02917993      0.63615960 \n"
      ]
     },
     "execution_count": 27,
     "metadata": {},
     "output_type": "execute_result"
    }
   ],
   "source": [
    "aov(Y~X, data=DATA) %>% confint\n",
    "lm(Y~X, data=DATA) %>% confint\n",
    "t.test(Y~X, data=DATA, var.equal=T)"
   ]
  },
  {
   "cell_type": "code",
   "execution_count": null,
   "metadata": {
    "collapsed": true
   },
   "outputs": [],
   "source": []
  }
 ],
 "metadata": {
  "kernelspec": {
   "display_name": "R",
   "language": "R",
   "name": "ir"
  },
  "language_info": {
   "codemirror_mode": "r",
   "file_extension": ".r",
   "mimetype": "text/x-r-source",
   "name": "R",
   "pygments_lexer": "r",
   "version": "3.2.2"
  }
 },
 "nbformat": 4,
 "nbformat_minor": 2
}
